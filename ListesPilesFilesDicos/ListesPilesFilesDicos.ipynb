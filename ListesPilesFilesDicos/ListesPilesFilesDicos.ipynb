{
  "cells": [
    {
      "cell_type": "markdown",
      "metadata": {
        "id": "lCP1BnEBAkNO"
      },
      "source": [
        "# **1. Listes**"
      ]
    },
    {
      "cell_type": "markdown",
      "metadata": {
        "id": "EDek0UBRAyiu"
      },
      "source": [
        "##  **1. Introduction**"
      ]
    },
    {
      "cell_type": "markdown",
      "metadata": {
        "id": "EgXuS-dhA4c-"
      },
      "source": [
        "Le langage de programmation Lisp (inventé par John McCarthy en 1958) a été un des premiers langages de programmation à introduire cette notion de liste (Lisp signifie \"list processing\").\n",
        "\n",
        "\n",
        "On trouve différentes définitions du type abstrait liste.\n",
        "\n",
        "Dans ce cours, nous définirons une liste comme une structure de donnée permettant de regrouper des données. C'est une structure linéaire qu'on ne peut parcourir qu'en partant du début. Elle est définie par son interface, c'est à dire l'ensemble des fonctions (méthodes), appelées des primitives qui vont permettre de creer et gérer la liste.\n",
        "\n",
        "Il y a de nombreuses possibilités pour implémenter ce type abstrait, et vous n'avez pas besoin de connaître cette implémentation. Il vous suffit de connaître les spécifications des fonctions primitives, pour pouvoir les utiliser et éventuellement écrire d'autres fonctions.\n",
        "\n",
        "\n",
        "**Attention : ce que nous appelons listes dans ce chapitre n'est pas la même chose que les listes que vous connaissez en python. Il s'agit ici de types abstraits qui n'existent pas nécessairement de façon native dans tous les langages, mais peuvent être implémentés.**\n",
        "\n",
        "\n",
        "**Le type abstrait liste est différent du type list**. Nous le noterons dans ce cours, pour bien le différencier, en majuscules : LISTE.\n",
        "\n",
        "Pour résumé, une LISTE est composée de :\n",
        "\n",
        "    sa tête (souvent noté car), qui correspond au dernier élément ajouté à la liste (en tête de liste)\n",
        "    et sa queue (souvent noté cdr) qui correspond au reste de la liste.\n",
        "\n",
        "**Écriture d'une liste**\n",
        "\n",
        "La manière dont sont affichées les listes dépend de leur implémentation. Dans ce qui suit nous avons choisi un affichage qui ressemble à celui du type list de python :\n",
        "\n",
        "    Une liste vide s'écrit []\n",
        "    Exemple de liste : [1, 2, 3]"
      ]
    },
    {
      "cell_type": "markdown",
      "metadata": {
        "id": "XC0GgkwcU4ir"
      },
      "source": [
        "##  **2. Comprendre le fonctionnement des primitives**"
      ]
    },
    {
      "cell_type": "markdown",
      "metadata": {
        "id": "046Kj9ocVDUy"
      },
      "source": [
        "Vous disposez des fonctions \"primitives\" suivantes :\n",
        "\n",
        "    Vide() :\n",
        "    Liste(x,liste) :\n",
        "    est_vide(liste) :\n",
        "    tete(liste) :\n",
        "    queue(liste) :\n",
        "\n",
        "Exécutez le code suivant qui va définir les primitives (sans regarder son implémentation). "
      ]
    },
    {
      "cell_type": "code",
      "execution_count": 1,
      "metadata": {
        "id": "D3MOS1-qVEdD"
      },
      "outputs": [],
      "source": [
        "\"\"\"\n",
        "Implémentation du type abstrait de structure de donnée : liste\n",
        "\"\"\"\n",
        "\n",
        "def Vide():\n",
        "    \"\"\"\n",
        "    Création d'une liste vide\n",
        "    Exemple :\n",
        "\n",
        "    >>> liste = Vide()\n",
        "    >>> liste\n",
        "    []\n",
        "\n",
        "    \"\"\"\n",
        "    return []\n",
        "\n",
        "def Liste(x,liste):\n",
        "    \"\"\"\n",
        "    Cette fonction est un constructeur. Elle ajoute x en tête de liste\n",
        "    Précondition : x est de n'importe quel type\n",
        "    Postcondition : la fonction renvoie un type abstrait liste\n",
        "\n",
        "    Exemples :\n",
        "\n",
        "    >>> liste_1 = Vide()\n",
        "    >>> liste_2 = Liste(1,liste_1)\n",
        "    >>> liste_3 = Liste(2,liste_2)\n",
        "    >>> liste_3\n",
        "    [2, 1]\n",
        "\n",
        "    \"\"\"\n",
        "    return [x]+liste\n",
        "\n",
        "def est_vide(liste):\n",
        "    \"\"\"\n",
        "    Cette fonction renvoie True si la liste est vide, et False sinon\n",
        "    Précondition : liste est de typr abstrait liste\n",
        "    Postcondition : cette fonction renvoie un type booléen.\n",
        "    Exemples :\n",
        "\n",
        "    >>> liste_1 = Vide()\n",
        "    >>> est_vide(liste_1)\n",
        "    True\n",
        "    >>> liste_2 = Liste(1,liste_1)\n",
        "    >>> est_vide(liste_2)\n",
        "    False\n",
        "\n",
        "    \"\"\"\n",
        "    return liste == []\n",
        "\n",
        "def tete(liste):\n",
        "\n",
        "    \"\"\"\n",
        "    Cette fonction sélectionne la tête de la liste\n",
        "    Précondition : liste est du type abstrait liste\n",
        "    Postcondition : Cette fonction renvoie une variable du type de celle qui est\n",
        "    en tête de liste\n",
        "    Exemple :\n",
        "\n",
        "    >>> liste_1 = Vide()\n",
        "    >>> liste_2 = Liste(1,liste_1)\n",
        "    >>> liste_3 = Liste(2,liste_2)\n",
        "    >>> tete(liste_3)\n",
        "    2\n",
        "\n",
        "    \"\"\"\n",
        "    assert not est_vide(liste), \"une liste vide n'a pas de tete\"\n",
        "    return liste[0]\n",
        "\n",
        "def queue(liste):\n",
        "    \"\"\"\n",
        "    Cette fonction sélectionne la queue de la liste\n",
        "    Précondition : liste est du type abstrait liste\n",
        "    Postcondition : Cette fonction renvoie un type abstrait liste\n",
        "    Exemple :\n",
        "\n",
        "    >>> liste_1 = Vide()\n",
        "    >>> liste_1 = Liste(1,liste_1)\n",
        "    >>> liste_1 = Liste(2,liste_1)\n",
        "    >>> liste_1 = Liste(3,liste_1)\n",
        "    >>> queue(liste_1)\n",
        "    [2, 1]\n",
        "\n",
        "    \"\"\"\n",
        "    return liste[1:]"
      ]
    },
    {
      "cell_type": "markdown",
      "metadata": {
        "id": "W13DZm2OcOe_"
      },
      "source": [
        "Pour connaître les spécifications, vous pouvez utiliser la fonction help(). Regardez les toutes et notez bien ces spécifications, vous allez les utiliser ensuite.\n"
      ]
    },
    {
      "cell_type": "code",
      "execution_count": 3,
      "metadata": {
        "id": "sZcM__DkcR49"
      },
      "outputs": [
        {
          "name": "stdout",
          "output_type": "stream",
          "text": [
            "Help on function queue in module __main__:\n",
            "\n",
            "queue(liste)\n",
            "    Cette fonction sélectionne la queue de la liste\n",
            "    Précondition : liste est du type abstrait liste\n",
            "    Postcondition : Cette fonction renvoie un type abstrait liste\n",
            "    Exemple :\n",
            "    \n",
            "    >>> liste_1 = Vide()\n",
            "    >>> liste_1 = Liste(1,liste_1)\n",
            "    >>> liste_1 = Liste(2,liste_1)\n",
            "    >>> liste_1 = Liste(3,liste_1)\n",
            "    >>> queue(liste_1)\n",
            "    [2, 1]\n",
            "\n"
          ]
        }
      ],
      "source": [
        "#tapez help(primitives) et explorez les docstrings des primitives fournies\n",
        "\n",
        "help(queue)"
      ]
    },
    {
      "cell_type": "markdown",
      "metadata": {
        "id": "ZZxOFoEJcWtX"
      },
      "source": [
        "## **3.  A vous d'utiliser les primitives** \n",
        "\n"
      ]
    },
    {
      "cell_type": "markdown",
      "metadata": {
        "id": "gH7fHIBpelEd"
      },
      "source": [
        "En utilisant les primitives, complétez le code suivant en répondant aux différentes questions :"
      ]
    },
    {
      "cell_type": "code",
      "execution_count": 2,
      "metadata": {
        "id": "OQzWeiOxeuUU"
      },
      "outputs": [
        {
          "name": "stdout",
          "output_type": "stream",
          "text": [
            "[]\n",
            "True\n",
            "False\n",
            "[3, 2]\n",
            "[2]\n"
          ]
        }
      ],
      "source": [
        "lst1=Vide()\n",
        "\n",
        "print(lst1)\n",
        "\n",
        "# afficher True ou False pour lis1 vide ou pas\n",
        "print(est_vide(lst1))\n",
        "\n",
        "# créer une LISTE lst2 en ajoutant 2 en tête de lst1 \n",
        "lst2 = Vide()\n",
        "lst2 =  Liste(2, lst2)\n",
        "\n",
        "# et afficher si lst2 est vide ou non\n",
        "print(est_vide(lst2))\n",
        "\n",
        "# ajouter 3 en tête de list2 et afficher list2\n",
        "lst2 =  Liste(3, lst2)\n",
        "print(lst2)\n",
        "\n",
        "# retirer 3 en tête de list2 et afficher list2\n",
        "lst2 =  queue(lst2)\n",
        "print(lst2)\n"
      ]
    },
    {
      "cell_type": "markdown",
      "metadata": {
        "id": "_vVxriW4e1h9"
      },
      "source": [
        "## **Exercices** \n",
        "\n",
        "Pour la realisations des differentes fonctions, vous n'avez pas le droit d'utiliser le type *list* de Python, notamment pour accéder à un élément (ma_liste[0]), ni append ou [] par exemple. Vous devrez uniquement utiliser les primitives fournies.\n",
        "\n"
      ]
    },
    {
      "cell_type": "markdown",
      "metadata": {
        "id": "iI7Pb0EEfAfl"
      },
      "source": [
        "## **Exercice 1** \n",
        "\n",
        "En utilisant les primitives, créez la liste `['a','b','c']` et affichez la (attention à l'ordre des commandes)"
      ]
    },
    {
      "cell_type": "code",
      "execution_count": 3,
      "metadata": {
        "id": "biQWkkTPfLuL"
      },
      "outputs": [
        {
          "name": "stdout",
          "output_type": "stream",
          "text": [
            "['a', 'b', 'c']\n"
          ]
        }
      ],
      "source": [
        "lst = Vide()\n",
        "lst = Liste('c', lst)\n",
        "lst = Liste('b', lst)\n",
        "lst = Liste('a', lst)\n",
        "\n",
        "print(lst)"
      ]
    },
    {
      "cell_type": "markdown",
      "metadata": {
        "id": "8P-xWCGHfUGL"
      },
      "source": [
        "## **Exercice 2** \n",
        "\n",
        "On peut également imbriquer ces fonctions, comme dans l'exemple suivant :\n",
        "\n",
        "```\n",
        "lst1=Vide()\n",
        "lst1=Liste(1,Liste(2,lst1))\n",
        "print(lst1)\n",
        "```\n",
        "créez la liste `['a','b','c']` en utilisant l'imbrication :\n",
        "\n"
      ]
    },
    {
      "cell_type": "code",
      "execution_count": 5,
      "metadata": {
        "id": "9bKpIeRbfoPc"
      },
      "outputs": [
        {
          "name": "stdout",
          "output_type": "stream",
          "text": [
            "['a', 'b', 'c']\n"
          ]
        }
      ],
      "source": [
        "lst = Liste('a', Liste('b', Liste('c', Vide())))\n",
        "\n",
        "print(lst)"
      ]
    },
    {
      "cell_type": "markdown",
      "metadata": {
        "id": "YDO4oku8gWnT"
      },
      "source": [
        "## **Exercice 3** \n",
        "\n",
        "Compléter cette fonction qui doit renvoyer la longueur de la liste, sans utiliser de fonction récursive."
      ]
    },
    {
      "cell_type": "code",
      "execution_count": 1,
      "metadata": {
        "id": "SlP9l8t-hA4j"
      },
      "outputs": [],
      "source": [
        "def longueur(liste):\n",
        "    '''\n",
        "    Cette fonction renvoie la longueur de la liste\n",
        "    Précondition : liste est du type abstrait LISTE\n",
        "    Postcondition : Cette fonction renvoie un entier\n",
        "    Exemple : \n",
        "    >>> liste_1 = Vide()\n",
        "    >>> liste_1 = Liste(1,liste_1)\n",
        "    >>> liste_1 = Liste(2,liste_1)\n",
        "    >>> longueur(liste_1)\n",
        "    2\n",
        "    >>> liste_2 = Vide()\n",
        "    >>> longueur(liste_2)\n",
        "    0\n",
        "    '''\n",
        "    len = 0\n",
        "    for i in liste:\n",
        "        len  += 1\n",
        "    return len\n",
        "\n",
        "# compléter ici\n",
        "\n",
        "\n"
      ]
    },
    {
      "cell_type": "markdown",
      "metadata": {
        "id": "xUEefwb3hMh7"
      },
      "source": [
        "## **Exercice 4** \n",
        "\n",
        "Compléter cette fonction qui doit renvoyer la longueur de la liste, en utilisant une fonction récursive.\n"
      ]
    },
    {
      "cell_type": "code",
      "execution_count": null,
      "metadata": {
        "id": "w6Bj73xfhSWr"
      },
      "outputs": [
        {
          "ename": "",
          "evalue": "",
          "output_type": "error",
          "traceback": [
            "\u001b[1;31mThe Kernel crashed while executing code in the the current cell or a previous cell. Please review the code in the cell(s) to identify a possible cause of the failure. Click <a href='https://aka.ms/vscodeJupyterKernelCrash'>here</a> for more info. View Jupyter <a href='command:jupyter.viewOutput'>log</a> for further details."
          ]
        }
      ],
      "source": [
        "def longueur(liste):\n",
        "    '''\n",
        "    Cette fonction renvoie la longueur de la liste\n",
        "    Précondition : liste est du type abstrait LISTE\n",
        "    Postcondition : Cette fonction renvoie un entier\n",
        "    Exemple : \n",
        "    >>> liste_1 = Vide()\n",
        "    >>> liste_1 = Liste(1,liste_1)\n",
        "    >>> liste_1 = Liste(2,liste_1)\n",
        "    >>> longueur(liste_1)\n",
        "    2\n",
        "    >>> liste_2 = Vide()\n",
        "    >>> longueur(liste_2)\n",
        "    0\n",
        "    '''\n",
        "    if est_vide(liste):\n",
        "        return 0\n",
        "    else:\n",
        "        return longueur(queue(liste)) + 1"
      ]
    },
    {
      "cell_type": "markdown",
      "metadata": {
        "id": "tekUPtBDhcYa"
      },
      "source": [
        "## **Exercice 5** \n",
        "\n",
        "Compléter cette fonction qui enlève la tête de la liste"
      ]
    },
    {
      "cell_type": "code",
      "execution_count": 8,
      "metadata": {
        "id": "63bzRodwhgG6"
      },
      "outputs": [],
      "source": [
        "\n",
        "def enleve_tete(liste):\n",
        "    '''\n",
        "    Cette fonction enlève la tête de la liste\n",
        "    Précondition : liste est du type abstrait LISTE et non vide.\n",
        "    Postcondition : Cette fonction renvoie un type abstrait liste\n",
        "    '''\n",
        "# compléter ici\n",
        "    return queue(liste)\n"
      ]
    },
    {
      "cell_type": "markdown",
      "metadata": {
        "id": "Udx7RKeXhwHj"
      },
      "source": [
        "## **Exercice 6** \n",
        "\n",
        " Compléter cette fonction qui doit permettre de savoir si un element x est dans la liste"
      ]
    },
    {
      "cell_type": "code",
      "execution_count": 4,
      "metadata": {
        "id": "O86bl6RbhpVL"
      },
      "outputs": [],
      "source": [
        "def appartient(x, liste):\n",
        "    '''\n",
        "    Cette fonction retourne True si x appartient à liste, et False sinon\n",
        "    Précondition : x est de n'importe quel type, liste est du type abstrait LISTE\n",
        "    Postcondition : Cette fonction renvoie un booléen\n",
        "    Exemples : \n",
        "    >>> liste_1 = Vide()\n",
        "    >>> liste_1 = Liste(1,liste_1)\n",
        "    >>> liste_1 = Liste(2,liste_1)\n",
        "    >>> liste_1 = Liste(3,liste_1)\n",
        "    >>> appartient(4,liste_1)\n",
        "    False\n",
        "    >>> appartient(3,liste_1)\n",
        "    True\n",
        "    >>> liste_vide = Vide()\n",
        "    >>> appartient(2,liste_vide)\n",
        "    False\n",
        "    '''\n",
        "# compléter ici\n",
        "    if est_vide(liste):\n",
        "        return False\n",
        "    elif tete(liste) == x:\n",
        "        return True\n",
        "    else:\n",
        "        return est_vide(queue(liste))\n"
      ]
    },
    {
      "cell_type": "markdown",
      "metadata": {
        "id": "y662Wl9fhxa6"
      },
      "source": [
        "## **Exercice 7** \n",
        "\n",
        " Compléter cette fonction qui doit retourner élément de rang n"
      ]
    },
    {
      "cell_type": "code",
      "execution_count": 8,
      "metadata": {
        "id": "uac2CPNRh4b0"
      },
      "outputs": [
        {
          "name": "stdout",
          "output_type": "stream",
          "text": [
            "2\n"
          ]
        }
      ],
      "source": [
        "def lire_index(n, liste):\n",
        "    '''\n",
        "    Cette fonction retourne élément de rang n de liste. \n",
        "    On utilise les conventions habituelles : le plus a gauche est de rang \n",
        "    0, le suivant de rang 1...\n",
        "    Si n est plus grand que longueur(liste)-1, ou negatif, la fonction \n",
        "    affiche le message :n hors limite et retourne None.\n",
        "    Precond.  : n est de type entier, liste est de type abstrait LISTE\n",
        "    Postcond. : le type retourne est celui de l element de rang n. La \n",
        "                fonction retourne None si n est hors limite ou si \n",
        "                la liste est vide.Elle affiche alors un message \n",
        "                explicatif.\n",
        "    Exemples :\n",
        "    >>> liste_1 = Vide()\n",
        "    >>> liste_1 = Liste(1,liste_1)\n",
        "    >>> liste_1 = Liste(2,liste_1)\n",
        "    >>> liste_1 = Liste(3,liste_1)\n",
        "    >>> lire_index(1,liste_1)\n",
        "    2\n",
        "    '''\n",
        "# compléter ici\n",
        "    if est_vide(liste):\n",
        "        print(\"n hors limite\")\n",
        "        return None\n",
        "    elif n == 0:\n",
        "        return tete(liste)\n",
        "    else:\n",
        "        return lire_index(n - 1, queue(liste))\n",
        "    \n",
        "liste_1 = Vide()\n",
        "liste_1 = Liste(1,liste_1)\n",
        "liste_1 = Liste(2,liste_1)\n",
        "liste_1 = Liste(3,liste_1)\n",
        "print(lire_index(1,liste_1))"
      ]
    },
    {
      "cell_type": "markdown",
      "metadata": {
        "id": "BUfW_plmh-qS"
      },
      "source": []
    },
    {
      "cell_type": "markdown",
      "metadata": {
        "id": "s_cZfLCxiBj5"
      },
      "source": [
        "## **Important** \n",
        "\n",
        "Il existe plein de manière différentes de nommer les primitives, celà n'a pas d'importance. l'important est ce que fait la primitive. Pour résumé l'action des différentes primitives, oici une série d'instructions à partir de primitives de LISTES (les instructions ci-dessous s'enchaînent):\n",
        "\n",
        "    L=vide() => on a créé une liste vide\n",
        "    estVide(L) => renvoie vrai\n",
        "    cons(x,lst ) : => ajoute x en tête et renvoi lst\n",
        "    ajoutEnTete(3,L) => La liste L contient maintenant l'élément 3\n",
        "    estVide(L) => renvoie faux\n",
        "    ajoutEnTete(5,L) => la tête de la liste L correspond à 5, la queue contient l'élément 3\n",
        "    ajoutEnTete(8,L) => la tête de la liste L correspond à 8, la queue contient les éléments 3 et 5\n",
        "    t = supprEnTete(L) => la variable t vaut 8, la tête de L correspond à 5 et la queue contient l'élément 3\n",
        "    L1 = vide()\n",
        "    L2 = cons(8, cons(5, cons(3, L1))) => La tête de L2 correspond à 8 et la queue contient les éléments 3 et 5\n"
      ]
    },
    {
      "cell_type": "markdown",
      "metadata": {
        "id": "BV6ikfm6iG_K"
      },
      "source": [
        "Voici une série d'instructions (les instructions ci-dessous s'enchaînent), expliquez ce qui se passe à chacune des étapes (inspirez vous de l'exemple ci-dessus) :\n",
        "\n",
        "    L = vide()\n",
        "    ajoutEnTete(10,L)\n",
        "    ajoutEnTete(9,L)\n",
        "    ajoutEnTete(7,L)\n",
        "    L1 = vide()\n",
        "    L2 = cons(5, cons(4, cons(3, cons (2, cons(1, cons(0,L1))))))\n"
      ]
    },
    {
      "cell_type": "markdown",
      "metadata": {
        "id": "BtSlfz80ic85"
      },
      "source": [
        "# **2. Piles**"
      ]
    },
    {
      "cell_type": "markdown",
      "metadata": {
        "id": "RbBVAYWFsOxk"
      },
      "source": [
        "En informatique, une pile (en anglais stack) est une structure de données fondée sur le principe \"dernier arrivé, premier sorti\" (ou **LIFO** pour Last In, First Out), ce qui veut dire que les derniers éléments ajoutés à la pile seront les premiers à être récupérés.\n",
        "\n",
        "![texte du lien](https://upload.wikimedia.org/wikipedia/commons/9/93/PrimitivesPile.png)"
      ]
    },
    {
      "cell_type": "markdown",
      "metadata": {
        "id": "H_pW1gbXtLS5"
      },
      "source": [
        "Le fonctionnement est donc celui d'une pile d'assiettes :\n",
        "\n",
        "On ajoute des assiettes sur la pile, et on les récupère dans l'ordre inverse, en commençant par la dernière ajoutée."
      ]
    },
    {
      "cell_type": "markdown",
      "metadata": {
        "id": "A4e33vFbuP7n"
      },
      "source": [
        "## **1. Usage courant d'une pile**\n",
        "\n",
        "Voici quelques exemples d'usage courant d'une pile:\n",
        "\n",
        " - Dans un navigateur web, une pile sert à mémoriser les pages Web visitées. L'adresse de chaque nouvelle page visitée est empilée et l'utilisateur dépile l'adresse de la page précédente en cliquant le bouton «Afficher la page précédente».\n",
        "\n",
        " - La fonction «Annuler la frappe» (en anglais «Undo») d'un traitement de texte mémorise les modifications apportées au texte dans une pile.\n",
        "\n"
      ]
    },
    {
      "cell_type": "markdown",
      "metadata": {
        "id": "vowjKFnnxg5-"
      },
      "source": [
        "## **2. Les fonctions \"primitives\" pour les piles**"
      ]
    },
    {
      "cell_type": "markdown",
      "metadata": {
        "id": "ynVHJ-5Qxkmk"
      },
      "source": [
        "Ces fonctions \"primitives\" sont les suivantes : **création** d'une pile vide, **tester** si une pile est vide, **empiler**, **dépiler**. Et rien de plus ...\n",
        "Pour comprendre le principe, vous pouvez jouer à ce jeu :\n",
        "\n",
        "[Octaves Flush](https://alainbusser.frama.io/NSI-IREMI-974/stacksortable)\n",
        "\n",
        "Pour gagner, il faut ranger les nombres dans l'ordre croissant (les cartes snt tirées aléatoirement à chaque partie)\n"
      ]
    },
    {
      "cell_type": "markdown",
      "metadata": {
        "id": "1GYC_Pdrzz66"
      },
      "source": [
        "## **3. Exemple de primitive**"
      ]
    },
    {
      "cell_type": "markdown",
      "metadata": {
        "id": "QxNSCXzwz376"
      },
      "source": [
        "On donne ci-dessous une possible implémentation de ces fonctions primaire, en utilisant le vocabulaire de la programmation orientée objet que nous avons déjà abordée.\n",
        "\n",
        "Il existe bien d'autres possibilités pour implémenter ces fonctions primaires.\n",
        "Dans toute la suite les piles seront affichées entre crochets, comme des list python. Le sommet de la pile est l'élément écrit le plus à droite. \n",
        "\n",
        "Ainsi, si l'on part d'une pile vide, et que l'on empile successivement les entiers 1, puis 2, puis 3, on obtiendra une pile qui s'affichera de la façon suivante : [1, 2, 3]. Le sommet de cette pile est l'entier 3."
      ]
    },
    {
      "cell_type": "code",
      "execution_count": 2,
      "metadata": {
        "id": "eo6EeQXoz_oa"
      },
      "outputs": [
        {
          "name": "stdout",
          "output_type": "stream",
          "text": [
            "['a']\n",
            "['a', 'b']\n"
          ]
        }
      ],
      "source": [
        "class Pile :\n",
        "    def __init__(self):\n",
        "        self.contenu=[]\n",
        "        \n",
        "    def est_vide_pile(self) :\n",
        "        return self.contenu==[]\n",
        "    \n",
        "    def empiler(self,x):\n",
        "        self.contenu.append(x)\n",
        "        \n",
        "    def depiler(self):\n",
        "        assert not self.est_vide_pile(), 'la pile est vide'\n",
        "        return self.contenu.pop()\n",
        "#test des différentes primitives\n",
        "pile_1=Pile()\n",
        "pile_1.empiler('a')\n",
        "print(pile_1.contenu)\n",
        "pile1=pile_1.empiler('b')\n",
        "print(pile_1.contenu)"
      ]
    },
    {
      "cell_type": "markdown",
      "metadata": {
        "id": "7yb2ARUD1DH7"
      },
      "source": [
        "##Exercice 1 :"
      ]
    },
    {
      "cell_type": "markdown",
      "metadata": {
        "id": "eW4WNVty1Ggx"
      },
      "source": [
        "Ecrire ci dessous les instructions qui permettent d'obtenir successivement les affichages suivants :\n",
        "\n",
        "[12]\n",
        "\n",
        "[12, 14]\n",
        "\n",
        "[12, 14, 8]\n",
        "\n",
        "[12,14]\n",
        "\n",
        "[12]\n",
        "\n",
        "[]"
      ]
    },
    {
      "cell_type": "code",
      "execution_count": 10,
      "metadata": {
        "id": "lfvlobgB1JVB"
      },
      "outputs": [
        {
          "name": "stdout",
          "output_type": "stream",
          "text": [
            "[12]\n",
            "[12, 14]\n",
            "[12, 14, 8]\n",
            "[12, 14]\n",
            "[12]\n",
            "[]\n"
          ]
        }
      ],
      "source": [
        "# Instructions\n",
        "pile_1=Pile()\n",
        "pile_1.empiler(12)\n",
        "print(pile_1.contenu)\n",
        "pile1=pile_1.empiler(14)\n",
        "print(pile_1.contenu)\n",
        "pile1=pile_1.empiler(8)\n",
        "print(pile_1.contenu)\n",
        "pile1=pile_1.depiler()\n",
        "print(pile_1.contenu)\n",
        "pile1=pile_1.depiler()\n",
        "print(pile_1.contenu)\n",
        "pile1=pile_1.depiler()\n",
        "print(pile_1.contenu)"
      ]
    },
    {
      "cell_type": "markdown",
      "metadata": {
        "id": "hlWPH75T1U1C"
      },
      "source": [
        "##Exercice 2 :"
      ]
    },
    {
      "cell_type": "markdown",
      "metadata": {
        "id": "-WoG1htC1XDZ"
      },
      "source": [
        "Alice désire écrire une fonction, qui doit retourner la taille de la pile. Attention, une fois que sa taille a été déterminée, la pile ne doit pas avoir été modifiée...\n",
        "\n",
        "Elle propose le code suivant :"
      ]
    },
    {
      "cell_type": "code",
      "execution_count": 3,
      "metadata": {
        "id": "mdUe9Zr11amg"
      },
      "outputs": [
        {
          "name": "stdout",
          "output_type": "stream",
          "text": [
            "['a', 'b']\n",
            "2\n",
            "[]\n"
          ]
        }
      ],
      "source": [
        "def taille_essai(pile):\n",
        "    res=0\n",
        "    while not pile.est_vide_pile():\n",
        "        pile.depiler()\n",
        "        res = res + 1\n",
        "    return res\n",
        "    \n",
        "pile_1=Pile()\n",
        "pile_1.empiler('a')\n",
        "pile_1.empiler('b')\n",
        "print(pile_1.contenu)\n",
        "print(taille_essai(pile_1))\n",
        "print(pile_1.contenu)"
      ]
    },
    {
      "cell_type": "markdown",
      "metadata": {
        "id": "KhAeVxwP1eAC"
      },
      "source": [
        "Quel est le problème ici ?\n",
        "\n",
        "Ecrire ci-dessous une fonction taille qui remédie à ce problème"
      ]
    },
    {
      "cell_type": "code",
      "execution_count": 4,
      "metadata": {
        "id": "xo63cs3w1lBM"
      },
      "outputs": [
        {
          "name": "stdout",
          "output_type": "stream",
          "text": [
            "['a', 'b']\n",
            "2\n",
            "['a', 'b']\n"
          ]
        }
      ],
      "source": [
        "def taille(pile):\n",
        "    newPile = Pile()\n",
        "    lenPile = len(pile.contenu) - 1\n",
        "    currentId = 0\n",
        "\n",
        "    while currentId <= lenPile:\n",
        "        newPile.empiler(pile.contenu[currentId])\n",
        "        currentId += 1\n",
        "\n",
        "    res=0\n",
        "    while not newPile.est_vide_pile():\n",
        "        newPile.depiler()\n",
        "        res = res + 1\n",
        "    return res\n",
        "\n",
        "\n",
        "\n",
        "pile_1=Pile()\n",
        "pile_1.empiler('a')\n",
        "pile_1.empiler('b')\n",
        "print(pile_1.contenu)\n",
        "print(taille(pile_1))\n",
        "print(pile_1.contenu)"
      ]
    },
    {
      "cell_type": "markdown",
      "metadata": {
        "id": "iLjBf7f91sIx"
      },
      "source": [
        "## Exercice 3 : Vérifier les parenthèses d'une expression mathématiques\n",
        "\n",
        "Le but de cet exercice est d'écrire une fonction qui contrôle si une expression mathématique, donnée sous forme d'une chaîne de caractères, est bien parenthésée, c'est-à-dire s'il y a autant de parenthèses ouvrantes que de fermantes. On s'interdit d'utiliser des variables qui \"comptent\" les parenthèses ouvrantes ou fermantes.\n",
        "\n",
        "Par exemple :\n",
        "\n",
        "    (..(..)..) est bien parenthésée.\n",
        "    (...(..(..)...) ne l'est pas .\n",
        "\n",
        "L'algorithme :\n",
        "\n",
        "On crée une pile. On parcourt l'expression de gauche à droite.\n",
        "Si on rencontre une parenthèse fermante \")\", alors :\n",
        "\n",
        "    Si la pile n'est pas vide, on dépile\n",
        "    Sinon on renvoie Faux\"\n",
        "\n",
        "À la fin la pile doit être vide...\n",
        "\n",
        "Source : Stéphan Van Zuijlen\n",
        "\n",
        "Compléter la fonction suivante :"
      ]
    },
    {
      "cell_type": "code",
      "execution_count": 7,
      "metadata": {
        "id": "B7G8FPG916MJ"
      },
      "outputs": [
        {
          "name": "stdout",
          "output_type": "stream",
          "text": [
            "True\n"
          ]
        }
      ],
      "source": [
        "def verification(expr_math):\n",
        "    '''\n",
        "    Cette fonction retourne True si une expression mathématique \n",
        "    a autant de parenthèses ouvrantes que de parenthèses fermantes.\n",
        "    Précondition : expr_math est de type chaîne de caractères.\n",
        "    Postcondition : la valeur retournée est de type booléen.\n",
        "    exemples :\n",
        "\n",
        "    >>> verification('(3*(2-5x)+3)')\n",
        "    True\n",
        "    >>> verification('(3*(2-5x)+3')\n",
        "    False\n",
        "    >>> verification('')\n",
        "    True\n",
        "    '''\n",
        "    #completer le code ci-dessous\n",
        "\n",
        "    pile = Pile()\n",
        "\n",
        "    for ch in expr_math:\n",
        "        if ch == \"(\":\n",
        "            pile.empiler(None)\n",
        "        if ch == \")\":\n",
        "            if pile.est_vide_pile():\n",
        "                return False\n",
        "            else: \n",
        "                pile.depiler()\n",
        "\n",
        "    if pile.est_vide_pile():\n",
        "        return True\n",
        "    else:\n",
        "        return False\n",
        "\n",
        "print(verification('(3*(2-5x)+3)'))   "
      ]
    },
    {
      "cell_type": "markdown",
      "metadata": {
        "id": "EJfYr-KG2Gno"
      },
      "source": [
        "# **3. Files**"
      ]
    },
    {
      "cell_type": "markdown",
      "metadata": {
        "id": "NHGmGejL2L1x"
      },
      "source": [
        "En informatique, une file (queue en anglais ) est une structure de données basée sur le principe \"Premier entré,premier sorti\", en anglais **FIFO** (First In, First Out), ce qui veut dire que les premiers éléments ajoutés à la file seront les premiers à être récupérés.\n",
        "Le fonctionnement ressemble à une file d'attente : les premières personnes à arriver sont les premières personnes à sortir de la file.\n",
        "\n",
        "![texte du lien](https://axiomcafe.fr/sites/axiomcafe.fr/files/enqueue.jpg)\n",
        "\n"
      ]
    },
    {
      "cell_type": "markdown",
      "metadata": {
        "id": "qyB5grb62pif"
      },
      "source": [
        "## **1. Usage courant d'une file**"
      ]
    },
    {
      "cell_type": "markdown",
      "metadata": {
        "id": "F6AC9ivQ2r-v"
      },
      "source": [
        "  - En général, on utilise des files pour mémoriser temporairement des transactions qui doivent attendre pour être traitées\n",
        "  - Les serveurs d'impression, qui doivent traiter les requêtes dans l'ordre dans lequel elles arrivent, et les insèrent dans une file d'attente (ou une queue en anglais).\n",
        "  - Certains moteurs multitâches, dans un système d'exploitation, qui doivent accorder du temps-machine à chaque tâche, sans en privilégier aucune."
      ]
    },
    {
      "cell_type": "markdown",
      "metadata": {
        "id": "mo_hWelNN_SE"
      },
      "source": [
        "## **2. Les fonctions \"primitives\" pour les files**"
      ]
    },
    {
      "cell_type": "markdown",
      "metadata": {
        "id": "19UaQg7yOCfZ"
      },
      "source": [
        "Ces fonctions \"primitives\" sont les suivantes : **création** d'une file vide, **tester** si une file est vide, **enfiler**, **défiler**. Et rien de plus ...\n",
        "**enfiler** : ajouter un élément en fin de file.\n",
        "**défiler** : supprimer un élément en début de file\n",
        "\n",
        "Vous allez vous-même compléter ci-dessous une possible implémentation de ces fonctions primaire, en utilisant le vocabulaire de la programmation orientée objet que nous avons déjà abordée. Dans toute la suite les files seront affichées entre crochets, comme des list python. Le sommet de la pile est l'élément écrit le plus à droite. Ainsi, si l'on part d'une file vide, et que l'on enfile successivement les entiers 1, puis 2, puis 3, on obtiendra une file qui s'affichera de la façon suivante : [3, 2, 1]. Le sommet de cette file est l'entier 1."
      ]
    },
    {
      "cell_type": "markdown",
      "metadata": {
        "id": "hLN_lSwHOZgg"
      },
      "source": [
        "## Exercice 1 :\n",
        "\n"
      ]
    },
    {
      "cell_type": "code",
      "execution_count": 27,
      "metadata": {
        "id": "uqPgANU2Ogep"
      },
      "outputs": [],
      "source": [
        "class File :\n",
        "    def __init__(self):\n",
        "        self.contenu = []\n",
        "\n",
        "    def est_vide_file(self) :\n",
        "        return self.contenu==[]\n",
        "\n",
        "    def enfiler(self,x):\n",
        "        self.contenu = [x] + self.contenu\n",
        "\n",
        "    def defiler(self):\n",
        "        assert not self.est_vide_file(), 'la pile est vide'\n",
        "        self.contenu = self.contenu[:-1]\n",
        "\n"
      ]
    },
    {
      "cell_type": "markdown",
      "metadata": {
        "id": "yyWrXThHO6WQ"
      },
      "source": [
        "Maintenant que vos primitives sont définies vous allez pouvoir les tester :"
      ]
    },
    {
      "cell_type": "code",
      "execution_count": 15,
      "metadata": {
        "id": "rXWxQXnLO8wg"
      },
      "outputs": [
        {
          "name": "stdout",
          "output_type": "stream",
          "text": [
            "['a']\n",
            "['b', 'a']\n"
          ]
        }
      ],
      "source": [
        "file_1=File()\n",
        "file_1.enfiler('a')\n",
        "print(file_1.contenu)\n",
        "pile1=file_1.enfiler('b')\n",
        "print(file_1.contenu)"
      ]
    },
    {
      "cell_type": "markdown",
      "metadata": {
        "id": "r05OdO2XPACw"
      },
      "source": [
        "## Exercice 2 :"
      ]
    },
    {
      "cell_type": "markdown",
      "metadata": {
        "id": "HPEzXn2lPCAy"
      },
      "source": [
        "Écrire ci dessous les instructions qui permettent d'obtenir successivement les affichages suivants :\n",
        "\n",
        "[8]\n",
        "\n",
        "[14, 8]\n",
        "\n",
        "[12, 14, 8]\n",
        "\n",
        "[12,14]\n",
        "\n",
        "[12]\n",
        "\n",
        "[]\n",
        "\n"
      ]
    },
    {
      "cell_type": "code",
      "execution_count": 29,
      "metadata": {
        "id": "QCw5VjLLPGyY"
      },
      "outputs": [
        {
          "name": "stdout",
          "output_type": "stream",
          "text": [
            "[8]\n",
            "[14, 8]\n",
            "[12, 14, 8]\n",
            "[12, 14]\n",
            "[12]\n",
            "[]\n"
          ]
        }
      ],
      "source": [
        " # Code à écrire\n",
        "file_2=File()\n",
        "file_2.enfiler(8)\n",
        "print(file_2.contenu)\n",
        "file_2.enfiler(14)\n",
        "print(file_2.contenu)\n",
        "file_2.enfiler(12)\n",
        "print(file_2.contenu)\n",
        "file_2.defiler()\n",
        "print(file_2.contenu)\n",
        "file_2.defiler()\n",
        "print(file_2.contenu)\n",
        "file_2.defiler()\n",
        "print(file_2.contenu)"
      ]
    },
    {
      "cell_type": "markdown",
      "metadata": {
        "id": "wQmOCJFQWcnm"
      },
      "source": [
        "# **4. Dictionnaires Versus Listes**"
      ]
    },
    {
      "cell_type": "markdown",
      "metadata": {
        "id": "g1oV9rkiWpML"
      },
      "source": [
        "Dans une bibliothèque, nous avons 10000 livres. Pour chacun un certain nombre de caractéristiques : auteur, date de parution, nombre de pages etc...\n",
        "\n",
        "Nous allons nous limiter à une seule caractéristique, par exemple le nombre de pages. Chaque livre à donc un nombre de page (remarquons qu'inversement, plusieurs livres peuvent avoir le même nombre de pages).\n",
        "\n",
        "Nous aimerions trouver le plus rapidement possible le nombre de pages d'un livre. Nous devons décider comment représenter la situation. Nous pouvons utiliser des tuples (livre,nbDePages), on construira alors une liste de tuples, ou nous pouvons utiliser un dictionnaire : {livre1:nbDePages1 , livre2:nbDePages2 etc...}\n",
        "\n",
        "A première vue, laquelle des deux représentations vous semble la plus adaptée (laquelle vous semble plus naturelle) ?\n",
        "\n",
        "Par ailleurs, ce choix aura-t-il un impact en terme d'efficacité dans la recherche ?\n",
        "\n",
        "C'est ce que nous allons explorer dans ce TP."
      ]
    },
    {
      "cell_type": "markdown",
      "metadata": {
        "id": "6l9dL6DxWr--"
      },
      "source": [
        "Dans une bibliothèque, nous avons 10000 livres. Pour chacun un certain nombre de caractéristiques : auteur, date de parution, nombre de pages etc...\n",
        "\n",
        "Nous allons nous limiter à une seule caractéristique, par exemple le nombre de pages. Chaque livre à donc un nombre de page (remarquons qu'inversement, plusieurs livres peuvent avoir le même nombre de pages).\n",
        "\n",
        "Nous aimerions trouver le plus rapidement possible le nombre de pages d'un livre. Nous devons décider comment représenter la situation. Nous pouvons utiliser des tuples (livre,nbDePages), on construira alors une liste de tuples, ou nous pouvons utiliser un dictionnaire : {livre1:nbDePages1 , livre2:nbDePages2 etc...}\n",
        "\n",
        "A première vue, laquelle des deux représentations vous semble la plus adaptée (laquelle vous semble plus naturelle) ?\n",
        "\n",
        "Par ailleurs, ce choix aura-t-il un impact en terme d'efficacité dans la recherche ?\n",
        "\n",
        "C'est ce que nous allons explorer dans ce TP."
      ]
    },
    {
      "cell_type": "markdown",
      "metadata": {
        "id": "edSy44xvWwCd"
      },
      "source": [
        "**Implémentation avec liste ou dictionnaire**"
      ]
    },
    {
      "cell_type": "markdown",
      "metadata": {
        "id": "aCk4zDo2W5sz"
      },
      "source": [
        "Vous disposez de 2 listes : une liste de livres, et une liste de nombre de pages. Les deux listes sont en correspondance : nbPages[i] est le nombre de pages de livre[i].\n",
        "\n",
        "En utilisant ces deux listes vous devez en construire une nouvelle, avec des tuples (livre,nombre de pages).\n",
        "\n",
        "Ensuite, en repartant de cette liste, construire un dictionnaire comme décrit plus haut. "
      ]
    },
    {
      "cell_type": "code",
      "execution_count": null,
      "metadata": {
        "id": "wGhQ4Fy4W951"
      },
      "outputs": [],
      "source": [
        "livre=[];nbPages=[]\n",
        "livre.append('Un soir au club')\n",
        "nbPages.append(231)\n",
        "livre.append('Ada ou l\\'Ardeur')\n",
        "nbPages.append(452)\n",
        "livre.append('Le père Goriot')\n",
        "nbPages.append(320)\n",
        "livre.append('Les misérables')\n",
        "nbPages.append(603)\n",
        "livre.append('L\\'étranger')\n",
        "nbPages.append(257)\n",
        "# votre code ici : former une liste de tuples à partir des 2 listes crées ci-dessus\n",
        "\n",
        "print(liste)\n",
        "\n",
        "# former de même un dictionnaire en réutilisant la liste crée :\n",
        "\n",
        "print(dico)"
      ]
    },
    {
      "cell_type": "markdown",
      "metadata": {
        "id": "erHaf8-aYHGC"
      },
      "source": [
        "**Fonctions de recherche de l'information**\n",
        "\n",
        "Bravo ! Vous avez bien implémenté les deux modèles. Maintenant, créez deux fonctions pour trouver le nombre de pages d'un livre.\n",
        "\n",
        "Vous devez coder deux fonctions de recherche, l'une dans la liste, l'autre dans le dictionnaire, renvoyant toute deux le nombre de page d'un livre. "
      ]
    },
    {
      "cell_type": "code",
      "execution_count": null,
      "metadata": {
        "id": "qThA-6Q2ZUhb"
      },
      "outputs": [],
      "source": [
        "def findInList(livre : str,liste : list) -> int:\n",
        "    '''\n",
        "    cherche le livre dans liste et renvoi le nombre de page\n",
        "    '''\n",
        "    pass\n",
        "\n",
        "def findInDico(livre : str,dico : dict) -> int:\n",
        "    '''\n",
        "    cherche le livre dans le dictionnaire et renvoi le nombre de page\n",
        "    '''\n",
        "    pass\n",
        "\n",
        "# Testez avec les listes et dicos définis plus haut\n",
        "# print(findInList('Un soir au club',liste)) doit rendre 241\n",
        "# print(findInDico('Les misérables',dico)) doit rendre 603"
      ]
    },
    {
      "cell_type": "markdown",
      "metadata": {
        "id": "OgbVQgxEZ6iC"
      },
      "source": [
        "**Mesure de l'efficacité**\n",
        "\n",
        "La liste et le dictionnaire générés sont de taille très limitée, aussi la mesure de l'efficacité de l'un et l'autre n'est pas aussi probante que si nous travaillions avec des listes de 10000 livres.\n",
        "\n",
        "Néanmoins nous pouvons comparer la recherche dans la liste et la recherche dans le dictionnaire. \n",
        "\n",
        "Complétez le code suivant en faisant 1000 appels à findInListe et à finInDico, et voyez lequel est le plus efficace"
      ]
    },
    {
      "cell_type": "code",
      "execution_count": null,
      "metadata": {
        "id": "cJkvb7XcaK_Y"
      },
      "outputs": [],
      "source": [
        "from time import time\n",
        "t=time()\n",
        "# faire 10000 appels à findInListe\n",
        "\n",
        "dt1=time()-t,3\n",
        "print('temps total avec la liste :',dt1)\n",
        "\n",
        "t=time()\n",
        "# idem pour find in dico\n",
        "\n",
        "dt2=time()-t,3\n",
        "print('temps total avec le dico :',dt2)\n",
        "# cette dernière ligne sert pour le test : on détermine quelle implémentation est plus efficace\n",
        "winner='dico' if dt1>dt2 else 'liste'"
      ]
    }
  ],
  "metadata": {
    "colab": {
      "collapsed_sections": [],
      "name": "Listes-Piles-Files.ipynb",
      "provenance": [],
      "toc_visible": true
    },
    "kernelspec": {
      "display_name": "Python 3",
      "name": "python3"
    },
    "language_info": {
      "codemirror_mode": {
        "name": "ipython",
        "version": 3
      },
      "file_extension": ".py",
      "mimetype": "text/x-python",
      "name": "python",
      "nbconvert_exporter": "python",
      "pygments_lexer": "ipython3",
      "version": "3.9.5"
    }
  },
  "nbformat": 4,
  "nbformat_minor": 0
}
