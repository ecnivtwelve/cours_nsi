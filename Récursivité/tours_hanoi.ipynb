{
  "cells": [
    {
      "cell_type": "markdown",
      "metadata": {
        "id": "nIN-bMRTyJTi"
      },
      "source": [
        "# **Tour de Hanoi**"
      ]
    },
    {
      "cell_type": "markdown",
      "metadata": {
        "id": "YJYYdiPJyjPQ"
      },
      "source": [
        "« Les tours de Hanoï » est un jeu de réflexion imaginé par le mathématicien français Édouard Lucas, et consistant à déplacer des disques de diamètres différents d’une tour de « départ » à une tour d’« arrivée » en passant par une tour « intermédiaire », et ceci en un minimum de coups, tout en respectant les règles suivantes :\n",
        "\n",
        "    on ne peut déplacer qu’un seul disque à la fois ;\n",
        "    on ne peut pas placer un disque au dessus d’un disque plus petit.\n",
        "\n",
        "    On suppose que cette dernière règle est également respectée dans la configuration de départ.\n",
        "\n",
        "\n"
      ]
    },
    {
      "cell_type": "markdown",
      "metadata": {
        "id": "GfCWtIAOPoL6"
      },
      "source": [
        "![image.png](data:image/png;base64,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)"
      ]
    },
    {
      "cell_type": "markdown",
      "metadata": {
        "id": "Orlgnzw2PrJG"
      },
      "source": [
        "**Classe principale du jeu**\n",
        "\n",
        "Le jeu des tours de Hanoï est défini par la classe Jeu_Hanoi\n",
        "suivante (on utilise un système de piles). :"
      ]
    },
    {
      "cell_type": "code",
      "execution_count": 14,
      "metadata": {
        "id": "9hVJDfp9y0tN"
      },
      "outputs": [],
      "source": [
        "class Jeu_Hanoi:\n",
        "    def __init__(self, nbr_disq = 6):        \n",
        "        self.n = nbr_disq\n",
        "        self.A = Pile()\n",
        "        self.B = Pile()\n",
        "        self.C = Pile()\n",
        "        # Remplissage initial de la première pile\n",
        "        for d in range(self.n):\n",
        "            self.A.push(self.n-d)\n",
        "\n",
        "    def get_tour(self, nom):\n",
        "        \"\"\" Renvoie la Pile nommée nom (type str)\n",
        "                exemple : 'A' --> self.A\n",
        "        \"\"\"\n",
        "        if nom == 'A':\n",
        "            return self.A\n",
        "        elif nom == 'B':\n",
        "            return self.B\n",
        "        elif nom == 'C':\n",
        "            return self.C\n",
        "    \n",
        "    def deplacer(self, depart, arrivee):\n",
        "        depls = self.get_tour(depart)\n",
        "        arrls = self.get_tour(arrivee)\n",
        "        \n",
        "        el = depls.pop()\n",
        "        arrls.push(el)\n",
        "\n",
        "class Pile:\n",
        "    def __init__(self):\n",
        "        self.l = []\n",
        "    def est_vide(self):\n",
        "        return len(self.l) == 0\n",
        "    def pop(self):\n",
        "        return self.l.pop(0)\n",
        "    def push(self, n):\n",
        "        self.l = [n] + self.l"
      ]
    },
    {
      "cell_type": "markdown",
      "metadata": {
        "id": "kBvnH-qCP2gV"
      },
      "source": [
        "**Affichage d’un disque**"
      ]
    },
    {
      "cell_type": "markdown",
      "metadata": {
        "id": "UVmXD_rGzntu"
      },
      "source": [
        "La fonction ch_dsq(n)\n",
        "doit permettre de générer une chaîne de caractères représentant un disque de taille n\n",
        "(1 < n < nombre de disques dans le jeu). La longueur de cette chaîne ne dépend que du nombre de disques du jeu."
      ]
    },
    {
      "cell_type": "markdown",
      "metadata": {
        "id": "acIDBGq4P9Ix"
      },
      "source": [
        "ch_dsq(4)→ \n",
        "```\n",
        "\"  ****|****  \"\n",
        "```\n",
        "\n",
        "ch_dsq(0)→ \n",
        "```\n",
        "\"     |     \"\n",
        "```\n",
        "\n"
      ]
    },
    {
      "cell_type": "markdown",
      "metadata": {
        "id": "GJf3puISQb3Z"
      },
      "source": [
        "**Compléter la fonction ch_dsq(n)** (testez les exemples ci-dessus)"
      ]
    },
    {
      "cell_type": "code",
      "execution_count": 15,
      "metadata": {
        "id": "Uo32sY7vzpoG"
      },
      "outputs": [],
      "source": [
        "def ch_dsq(n):\n",
        "  fill_list = [\"*\" for i in range(0 + n)]\n",
        "  empty_list = [\" \" for i in range(6 - n)]\n",
        "  \n",
        "  left = ''.join(empty_list) + ''.join(fill_list)\n",
        "  right = ''.join(fill_list) + ''.join(empty_list)\n",
        "  \n",
        "  return left + '|' + right\n",
        "\n",
        "assert ch_dsq(4)==\"  ****|****  \"\n",
        "assert ch_dsq(0)==\"      |      \""
      ]
    },
    {
      "cell_type": "markdown",
      "metadata": {
        "id": "6lPqWt3bRj_h"
      },
      "source": [
        "**Affichage d’une tour**"
      ]
    },
    {
      "cell_type": "markdown",
      "metadata": {
        "id": "roOa-3YCRj_j"
      },
      "source": [
        "La fonction ch_tour(t)\n",
        "permet de générer une liste de chaînes de caractères représentant l’ensemble des disques présents sur la tour t\n",
        ". \n",
        "La taille de de cette liste doit être toujours égale au nombre de disques du jeu.\n",
        "\n",
        "Cette fonction prend une pile en argument."
      ]
    },
    {
      "cell_type": "markdown",
      "metadata": {
        "id": "qbQfyL6lRtml"
      },
      "source": [
        "Exemple pour une tour de 4 disques dans un jeu à 6 disques :"
      ]
    },
    {
      "cell_type": "markdown",
      "metadata": {},
      "source": []
    },
    {
      "cell_type": "markdown",
      "metadata": {
        "id": "WPGvHQDnRx4B"
      },
      "source": [
        "```\n",
        "[\"      |      \", \"      |      \", \"     *|*     \", \"   ***|***   \", \"  ****|****  \", \"******|******\"]\n",
        "```\n",
        "\n"
      ]
    },
    {
      "cell_type": "markdown",
      "metadata": {
        "id": "KwTVtqItR3nO"
      },
      "source": [
        "**Compléter la fonction ch_tour(t)**\n",
        "permettant de générer une liste de lignes de texte représentant l’ensemble des disques fichés sur la tour t\n",
        "."
      ]
    },
    {
      "cell_type": "code",
      "execution_count": 16,
      "metadata": {
        "id": "HqDsinPZR8DW"
      },
      "outputs": [],
      "source": [
        "def ch_tour(t):\n",
        "\tflist = []\n",
        "    \n",
        "\tttmp = Pile()\n",
        "\twhile not t.est_vide():\n",
        "\t\tnv = t.pop()\n",
        "\t\tttmp.push(nv)\n",
        "  \n",
        "\t\tnlist = ch_dsq(nv)\n",
        "\t\tflist.append(nlist)\n",
        "  \n",
        "\t# ajout des manquants\n",
        "\tmq = 6 - len(flist)\n",
        "\tap = [ch_dsq(0) for i in range(mq)]\n",
        " \n",
        "\tflist = ap + flist\n",
        "\t\n",
        "\t# reremplissage\n",
        "\twhile not ttmp.est_vide():\n",
        "\t\tt.push(ttmp.pop())\n",
        "\n",
        "\treturn flist\n",
        "\n",
        "p=Pile()\n",
        "p.push(4)\n",
        "p.push(3)\n",
        "p.push(2)\n",
        "p.push(1)\n",
        "\n",
        "assert ch_tour(p)==['      |      ', '      |      ', '     *|*     ', '    **|**    ', '   ***|***   ', '  ****|****  ']\n",
        "\n",
        "p=Pile()\n",
        "p.push(4)\n",
        "p.push(2)\n",
        "assert ch_tour(p)==['      |      ', '      |      ', '      |      ', '      |      ', '    **|**    ', '  ****|****  ']"
      ]
    },
    {
      "cell_type": "markdown",
      "metadata": {
        "id": "wgEciuKj0ih_"
      },
      "source": [
        "La méthode **get_tour**\n",
        "attend un seul argument (de type str\n",
        ", valant 'A'\n",
        ", 'B'\n",
        "ou 'C'\n",
        ") désignant une des tours du jeu et renvoie l’attribut A\n",
        ", B\n",
        "ou C\n",
        "de l’objet de type Jeu_Hanoi\n",
        "(de type Pile\n",
        ")."
      ]
    },
    {
      "cell_type": "markdown",
      "metadata": {
        "id": "nEsrW7lKhx3Z"
      },
      "source": [
        "Écrire, pour la classe Jeu_Hanoi\n",
        ", une méthode **deplacer**\n",
        ", qui attend deux arguments de type str\n",
        "désignant deux des tours du jeu, et déplace le disque depuis la tour de « départ » (1er argument de la méthode) jusqu’à la tour d' »arrivée » (2ème argument de la méthode)."
      ]
    },
    {
      "cell_type": "code",
      "execution_count": null,
      "metadata": {},
      "outputs": [],
      "source": []
    },
    {
      "cell_type": "code",
      "execution_count": 17,
      "metadata": {
        "id": "bCLt6Nfxhw6W"
      },
      "outputs": [],
      "source": [
        "monjeu = Jeu_Hanoi()    #Je crée mon jeu avec les 6 disques sur la tour A\n",
        "monjeu.deplacer('A','B')  # je déplace un disque de A vers B\n",
        "monjeu.deplacer('A','C')  # je déplace un disque de A vers C\n",
        "pileA=monjeu.get_tour('A')\n",
        "pileB=monjeu.get_tour('B')\n",
        "pileC=monjeu.get_tour('C')\n",
        "assert ch_tour(pileA) == ['      |      ', '      |      ', '   ***|***   ', '  ****|****  ', ' *****|***** ', '******|******']\n",
        "assert ch_tour(pileB) == ['      |      ', '      |      ', '      |      ', '      |      ', '      |      ', '     *|*     ']\n",
        "assert ch_tour(pileC) == ['      |      ', '      |      ', '      |      ', '      |      ', '      |      ', '    **|**    ']"
      ]
    },
    {
      "cell_type": "markdown",
      "metadata": {
        "id": "Ww9pf4bvpIyf"
      },
      "source": [
        "**Résolution du jeu**\n",
        "\n",
        "La résolution du jeu peut se faire de façon extrêmement simple … si l’on parvient à identifier la récursivité de la méthode :\n",
        "\n",
        "Déplacer une pile de n disques depuis une tour de départ vers une tour d’arrivée en utilisant une tour libre (opération que l’on n’a pas le droit de faire en une seule étape) :\n",
        "\n"
      ]
    },
    {
      "cell_type": "markdown",
      "metadata": {
        "id": "e2Ppn2ippQj5"
      },
      "source": [
        "![image.png](data:image/png;base64,iVBORw0KGgoAAAANSUhEUgAAAjEAAAEmCAYAAACTVMFKAAAgAElEQVR4Xu2dC7Ak1XmYz33M894Fdlm07AqZu5hghCwwtcSvsPIlOGiVOBG4EqeUh6v8KCxXuRyqUkkR22WWjXDFxgLbSYwMkgJCeYAJViwWSavXXRBrvPZK8kPWa7FRUHaRwEJw77LoYW/+v6d7bs/cnsed09Onz+mvt852T/fp8/jOme7vnuk5M2OMOSOBBQIQqCCBs6XOWyQsDgh12T8/IowTJyuNZh/vb8jrbw8I34r3/03G8eTYoHN1v8Y5JWFVwloc0q//uoJtT5UhEAKBGSQmhGakDlUjoG/chZR4nJXa1v36Ojmu60RU0sLSqhq0EfV9JSU4iei81Cc9+lrlJ71fxUj36TksEIBAsQSQmGJ5kxsEBhLQEY3tErbFYWtqfa5sJ691+xwJ+uZlKQ8BHfH5uoTnJXwtDjrCo9u674V4rfteLE+xKQkEvCaAxHjdfBS+7AR0RESlJBEPlZRERnS/bieCoiMmLNUgoMKjUqNCkwSVnazXOurDAgEIZBNAYugZELAgoFLyagnnS9gpYVcc9LWG/uc+LLLi1IoS0GeFTkr4f6n1ifi1rpGcinYMqh0RQGLoCBAYQEDfHK+KZURFRSUlCSorKik16EHAMQF9FictOLqtcpOIjkoQCwRCJYDEhNqy1GssAioi6ZEUlZTk9QVjpeBvpORhVH2gVbdfjtenU6/1mH6zR78V1P8toP5vDCXxkm8D9b9Ovj2UfMNIj2v6yaIfp81JUDFMf5tJX+t+3Zdsp9dJ3P7z9Jzkm1O6rd/A0jzaqbVu6359yFk/+gtx0ed0VGz65UYl55kQK0ydKkUAialUc1ezsn9Hqn2hhCUJKibJRz8qKz4uyYOi+nBoIh8qHvoXua5VRhIh0eOJpOh2IihpefCRwbTKrB//qdCo7GjQ7UR6EgFKS1B6nz7bpME3GXpWypweuXlKXj8t4S+nBZl0IZAjASQmR5gk5Y6AfnX4IgmJrCzFr3VkRf8KL/vyTSmgfoMl+WbLc7KtD3nqa13ra93Wv6p1RIOlvASSb5npR5EqNeel1rqtz1Fp0Dl6yrxoP9ORGpUaFZqnU2v6YJlbrlplQ2Kq1d7e11ZHURJZ2S3bKi36Wr/lU8ZF5xDRkZNEQnSdjKSk9/NwZhlbb/pl0merErFJRnJ2pPaVVXYSoVG50fCFWHKmT4wcINBLAImhR5SSgHbM75BwqYTXxuG7ZK3PL5RpUUlJHqDUYfkvS0i+SaLPIPBQZZlay8+y6LM++jGoCo9+BKrbGnRb95Vl0kLt638l4bgElRodwfm8BB09ZIHAtAggMdMiS7pjEyizsOgzJMnzArpWQUl/vVUlhgUCLgkkX/NXoXlNSnZUcvQjLdeLzoejUqNyo2Kj2yo7CL7rlgkjfyQmjHb0qhY6mvI6CZdLuELCd0twNcKi35BRMdGgoyg6mpL+JodegFkg4CsBfT4nGb1JRm6SURxdNxxVTJ+pUaH5jIQ/l/AX8Wt+yM9Rg3icLRLjceP5UvSlWFhUVlRcLnZQ8OThRP0LMP1NjK84KAtZQqAsBHQUJy01+nzZd0rQ92zRi456qsz8Wbz+E1nzw5xFt4J/+SEx/rVZ6UusD9v+XQlXSdgjoaiHbvUbPiopGvRhw2StIyt8m6L03YYCloiAzr2j72MVmiToHx86mlPkb3bpyOinJajQaNCPpP62RJwoinsCSIz7NvC+BPqNoe+PpUXFRf+6m/aiIyt6QdOQyMr/nXampA+BihPQeXRUanTEZile63ZRcy7pXEc6UqNik6x5tqbanRKJqXb7T1R7lZTvlaCjLCot07yA6cc9iax8UbaTj4V01lcWCECgHAT02ZtkjqZk6gNdq+josWktOsKqz9X8URxUbHRElqU6BJCY6rS1VU31a857JfyQBP2qc96L/oWlsvI5CV+Kt/VbDDoLLQsEIOAvAX3mRkdvLpOgz8VpmNYvtuuojI7SqNT8sQR9aJglbAJITNjtO3HtdJZbHWVRaXmDBP3IKM/laUks+Zxb1youLBCAQDUI6KhNIjW61j+MpjFio1MgHJHwRLxmzprw+hcSE16bTlwj/evo6lha/p6s8/ras36N+bMpafmUbOvv/rBAAAIQUAL6ILGKjH57UUdqXi9B573Jc9Gvb+vHTZ+IhUZHfVn8J4DE+N+GVjXQi4eKyz+UoB8X6eygtot+Tq3DuMfi8Key5gcHbalyPgSqRUB/hiGRGl3riE2e89rob5Gp0Gg4KkF/NJXFPwJIjH9tlkuJdZI5FZcflmD7Q3QqLTrSop9Bq7joZ9JISy7NRCIQgEBMQD/i1tGaZL4pXevzNnksOlqsHzkdknBYAt94yoNqMWkgMcVwLkUu+ob/EQn7cnjz6yRUybDsk7KtD+ayQAACECiSgI7W6Dclk6A/nmm76B9gK7HQ6LWNbzvZEp3u+UjMdPk6T31WSrAs4cck6IO6ky46wZR+nqx/rWjQH3ZjgQAEIFAmAvqHmgqNTrap4RzLwumDwB+U8LAEnUCTpXwEkJjytUkuJdoiqfyohH8qYeeEKeobWJ/s1xEX/YvkpQnT4TQIQAACRRPQP+AulfCDEvSLCvrxk81swzofzf+RoB85MfVD0a05OD8kpjxtkUtJliSVfyFBn3fR2TU3u+i3hj4m4UMS9FtETCq3WYLEhwAEykhAn/1LhOYHZHvSZwH146aPSvh9CfoMIItbAkiMW/655a5/cdwoQed02eyiT+U/JkH/wtCRF35naLMEiQ8BCPhEQB8S/h4J+sWGvy9Bn62ZZNEJOt8jQf/o4w++SQjan4PE2DN0msKk8pI8ja9vvscl8G0ip81I5hCAgCMC+rGTfoX72lhoJnk4+KSc+14J75PAN5uKbUgkpljeueU2qbzojyTqQ2o6FMozLrk1BwlBAAIBEEiE5o1Sl38gYbMPBuvcM++U8HsSGJkppkMgMcVwzi2XSeRFPx7Sj4v+t4Q/zK0kJAQBCEAgXAI6Eah+w+lNEpYltDdR1S9L3N+W8GEJOlMwy/QIIDHTY5tryvoQ2s9LePMmUtW5XFRcNOg2CwQgAAEIbJ6AfklCnzfUERr9Pblxly9KxP8iQaelYJkOASRmOlxzTVXFRQVm3Kfp9SOj/ybhAxJ4SDfXpiAxCECg4gR0Lpp/KeEfSRh3dEanqbhVwgsVZzeN6iMx06CaU5r6S6+/LEF/ImCc5SmJ9G4JH5HA57HjECMOBCAAgckI6A/m6h+Y/1zCq8dIQn9R+04J+jwiS34EkJj8WOaa0r+S1H5Ogn4uO2rR2XPfJWFFgs6sywIBCEAAAsUQ0Gu0Pjfz02PKjP7G3C0SvlJM8YLPBYkpWRPrfAU67Pj9Y5RL3wS/KUHnd2GBAAQgAAF3BFRm/omEn5Iw6mvaOuPvv5XAZHn27YXE2DPMLYXvk5RukzDqa306D4FOsHSfBOZ3yQ0/CUEAAhCwJqAPAf+EhB+XUBuSmj6v+HYJv2udY7UTQGJK0P5q8Prgrv5cwKhFJ6f7LQkMRY4ixXEIQAAC7gjob9b9ooRRo+r6jMzbJPAowGRthcRMxi23s/ThsP8sQWeMHLboV6R/QQLDj7mhJyEIQAACUyegHzH9OwmtITnplzFunnpJwswAiXHYrtsl7/8q4TtHlEF/Cv7XJDDDrsPGImsIQAACExLQr2XrNfySIec/GMeZMIvKnobEOGp67dS/I2HYA2AqLfqQ72FHZSRbCEAAAhDIh8A4jw3oFzXuzye7yqSCxDho6tdKnjqL47DJ6/TXpPVreEyO5KCByBICEIBADgS2SBo/I+F/SDgRp6cfL+n8X4OWn5QDfzpm3rsknj5LqX8Q6zw0VVyQmIJbXb+BdIeExpB874k7ZcFFIzsIQAACEMiZwI2SnoZHJNwdy8wwkXla4ugEesMmLFV50TR/JE5T063qgsQU2PKvk7x0UrpBE9hpp9XRF30GhgUCEIAABPwnoKMx75ewGFclkZl/Jq//9YDq6Y9H6uzr/UtaXvSYzjfzjyVUdRRGGSAxBb1H9CHe/yVh0BwwOt+LTn7Er0wX1CBkAwEIQKAgAsloTDo7lRl90DfrYd/Tsv+HJeicYLr0y0uSjo7AVHkUBokpqAPXJR/9QcbvGpDfN2X/z0r4k4LKQzYQgAAEIFAcgf7RmHTO35IXWZPi6aj8pyQkHxv1l5ZRmA4RRmIK6Mf/SfJQq85a9COkfyPhyQLKQRYQgAAEIOCGQNZozLCS6Nxg+jM0gxZGYZCYQnqy/ly7fk160KIT2PHbR4U0BZlAAAIQcEZg2GjMZgvFKMw6MUZiNtt7NhFfH+R6n4RBz8H8ihx7eBPpERUCEIAABPwlsNnRGEZhRrc1EjOa0cQxfknOvH7A2fpQ1/6JU+ZECEAAAhDwjUAeozGMwvS2OhIzpXfBFZKufp06a9Efb9R5ALQzskAAAhCAQHUI2I7G8CwMElPIu+Wdksv3DMjpp2Q/30QqpBnIBAIQgECpCNiMxjAKs7EpGYmZQve+WNLUOWGyFp1+WmfsZYEABCAAgWoSmHQ0hlEYJKaQd8zbJJd9GTnprIpvkqAT27FAAAIQgEA1CUwyGsMoTHZfYSQm5/fQqyS935eQ9dMC/CZSzrBJDgIQgICnBDY7GsMoDBJTSFf/ecnlxzNy0umjdXSmyr9xUUgDkAkEIAABDwhsZjSGUZjBDcpITM6d/cOS3taMNP+77Lsz57xIDgIQgAAE/CUw7mgMozBITCG9/DWSy+9l5PRt2fdGCS8WUgoygQAEIAABHwiMMxrDKMzwlmQkJsee/qOSlv6MQP9yRHbox0wsEIAABCAAgTSBUaMxjMIgMYW9Y26LR1z6M/xt2fHuwkpBRhCAAAQg4AuBYaMxjMKMbkVGYkYzGjvGisTU30vqX35adnx67FSICAEIQAACVSIwaDSGUZjRvQCJGc1orBj6I48fyYj5Tdn3Bgn6XAwLBCAAAQhAoJ9A1mgMozDj9RMkZjxOI2NdJDEezIj1lOzT30ligQAEIAABCAwi0D8awyjMeH0FiRmP08hYeyTG72TE+mPZ99aRZxMBAhCAAASqTCA9GsMozPg9AYkZn9XQmNfJ0V/JiKHzxvyHnPIgGQhAAAIQCJdAMhrDKMz4bYzEjM9qaMwfk6P/PiPGA7Lv9pzyIBkIQAACEAiXgI7G/E8Jb5HA7O7jtTMSMx6nkbH04yQNuijUZDkmG/qREgsEIAABCEBgFIFdEuHEqEgc7xJAYugMEIAABCAAAQh4SQCJ8bLZKDQEIAABCEAAAkgMfQACEIAABCAAAS8JIDFeNhuFhgAEIAABCEAAiaEPQAACEIAABCDgJQEkxrLZLj1v0bx+11YzX6+bWk2CrOd1LSFa12vR9hN/8ZQ5/OnPWubG6RDwi0Dm+2M+9T7h/eFXg1LaXAlcd/G55gd37zD1Vss0JDQbLVNvy7aum/Ja98v2B4591vzWQx/INe9QEkNiLFvy+st2mLfsuci0FhZNW4Kuo9Be6Nl3+0OHzIF7H7bMjdMh4BeBzPdH/N5Iv2d4f/jVrpQ2HwI3791trlw6f+T94+jxZ8y1N92WT6aBpYLEWDYoEmMJkNODJoDEBN28VM6SABJjCVBOR2IsGSIxlgA5PWgCSEzQzUvlLAkgMZYAkRh7gEiMPUNSCJcAEhNu21IzewJIjD1DRmIsGSIxlgA5PWgCSEzQzUvlLAkgMZYAGYmxB4jE2DMkhXAJIDHhti01syeAxNgzZCTGkiESYwmQ04MmgMQE3bxUzpIAEmMJkJEYe4BIjD1DUgiXABITbttSM3sCSIw9Q0ZiLBkiMZYAOT1oAkhM0M1L5SwJIDGWABmJGQxwYcEYmSwxQjSjqhd9G12X2eh/2Rvt2nfJueaGy5dMs92Z4K6pE3nJdrPV7uyThHTfOw4+bu588GAqHU2vk9Z62sasrn7DrK29Yt+ypACBEhBAYkrQCBShcAJ79hhz1VVzcu/QMCu3ijm5zMs6er2+7+qlbWbX1rNkVvemqcvMvLV6U4LM1pusG53XJ7+2Zt5z6EjPuZquSdLStdxPDj923Kwc/kLh9XWZISMxA+hv327MeecpHpWYeB2JS+/28u5tZt9rX2MaKjAqLs2FznY0ZXRHYBqy/70fOWruOfjxWH86aUSdOpKjTrr678TJF81JCSwQCIEAEhNCK1KHzRK48UZj3vrWmlzWa2Z2VoKsZ3Q9W4+2dV/3WHp7E/GiNPrS+49v+5DZf+D9my2u1/GRGCTG6w5M4ctNAIkpd/tQuukQQGKmwzUrVSQGiSmut5FT5QggMZVrciosBJCY4roBEoPEFNfbyKlyBJCYyjU5FUZiCu0DSAwSU2iHI7NqEUBiqtXe1LZDgJGY4noCEoPEFNfbyKlyBJCYyjU5FUZiCu0DSAwSU2iHI7NqEUBiqtXe1JaRmKL7ABKDxBTd58ivQgSQmAo1NlXtEuDjpOI6AxKDxBTX28ipcgSQmMo1ORXm46RC+wASg8QU2uHIrFoEkJhqtTe15eOkovsAEoPEFN3nyK9CBJCYCjU2VeXjJAd9AIlBYhx0O7KsCgEkpiotTT3TBHgmprj+gMQgMcX1NnKqHAEkpnJNToV5JqbQPoDEIDGFdjgyqxYBJKZa7U1teSam6D6AxCAxRfc58qsQASSmQo1NVXkmxkEfQGKQGAfdjiyrQgCJqUpLU0+eiXHTB5AYJMZNzyPXShBAYirRzFSyjwAP9hbXJZAYJKa43kZOlSOAxFSuyamwEEBiiusGSAwSU1xvI6fKEUBiKtfkVBiJKbQPIDEDcC8sGNNq6cEZM6OUZN1ZZqP/ZW+0a98l55obLl8yzfaiabUXZL0g60XTbLU7+yQh3feOg4+bOx88mEpH0+uktZ62Maur3zBra68U2gnIDALTIoDETIss6ZaZwJ49xlx11ZzcOzTMyq1iTi7zso5er++7emmb2bX1LFOrNU290TK1elNCy9STdaPz+uTX1sx7Dh3pOVfTNUlaupb7yeHHjpuVw18oM5rcy4bEWCLNvEgvdISmJeu2bku4/aFD5sC9D1vmxukQ8IsAEuNXe1HaYgncvHe3uXLp/J57hd4v+u8fR48/Y6696bZiC+dJbkiMZUMhMZYAOT1oAkhM0M1L5SwJIDGWAOPPMc7YJ1PdFJCY6rY9NR9NAIkZzYgY1SWAxNi3PSMxlgyRGEuAnB40ASQm6OalcpYEkBhLgIzE2ANEYuwZkkK4BJCYcNuWmtkTQGLsGTISY8kQibEEyOlBE0Bigm5eKmdJAImxBMhIjD1AJMaeISmESwCJCbdtqZk9ASTGniEjMZYMkRhLgJweNAEkJujmpXKWBJAYS4CMxNgDRGLsGZJCuASQmHDblprZE0Bi7BlWbiRm0SyaLfKvOwGvMuydjLdDNdmXZpzsS8Xfd/F2c8MVOmNvuzs7r87Qq6+j2XujGXvb5q5HDps7Hnw0a5Le9RzSefaXqa88q6dXzdqpNfseQAoQmCIBJGaKcEm6cALLRv7NLXeu47ZBJvHde+FWs2Pbgplv1E2tKUHW88m6UevuO/HiS+a+Dz9un2dc5pVPrZiVYyuF85tGhpWTmJ1mp9k1s2tdUpRAf0gkJr0/a58cv2Zpq7nudReYRiQtLdOQnxvQ0Gw1433yWvbf/9EnzT2PfNwqr65cSb4nnj9hTj5/chp9gjQhkBsBJCY3lCRUAgL7zX5zy/wtxsxLYfpDLWNfVrxk32bj63mbPWdA/FvffavZf/f+EhC1LwISg8TY9yJSgMAAAkgMXSMkAkhM+VoTiUFiytcrKVEwBJCYYJqSiggBJKZ83QCJQWLK1yspUTAEkJhgmpKKIDGl7ANIDBJTyo5JocIggMSE0Y7UokOAkZjy9QQkBokpX6+kRMEQQGKCaUoqgsSUsg8gMUhMKTsmhQqDABITRjtSC0ZiytoHkBgkpqx9k3IFQACJCaARqUKXAB8nla8zIDFITPl6JSUKhgASE0xTUhE+TiplH0BikJhSdkwKFQYBJCaMdqQWfJxU1j6AxCAxZe2blCsAAkhMAI1IFfg4qcR9AIlBYkrcPSma7wSQGN9bkPKnCfBMTPn6AxKDxJSvV1KiYAggMcE0JRXhmZhS9gEkBokpZcekUGEQQGLCaEdqwTMxZe0DSAwSU9a+SbkCIIDEBNCIVIFnYkrcB5AYJKbE3ZOi+U4AifG9BSk/z8SUuw8gMUhMuXsopfOaABLjdfNR+D4CPNhbvi6BxCAx5euVlCgYAkhMME1JRYQAElO+boDEIDHl65WUKBgCSEwwTUlFkJhS9oHKScyiWTRb5J/RmidLsj2bsS/dbEm8VPx9F283N1yxZJrttmktLMg6Ce1ou7Ovbe565LC548FHjUnySOffXw593V+mvvirp1fN2qm1UnYqCgWBhAASQ18IicCykX9zy53ruG2YM2bvhVvNjm0LZr5RN7WmBFnPJ+tGrbvvxIsvmfs+/Lh9nnGZVz61YlaOrQTRNJWTmLxbLfMivbBoWpHALJq2bku4/aFD5sC9D+edPelBoNQEkJhSNw+Fc0zg5r27zZVL5/fcK/R+0X//OHr8GXPtTbc5Lm05s0diLNsFibEEyOlBE0Bigm5eKmdJAImxBBh/aHHGPpnqpoDEVLftqfloAkjMaEbEqC4BJMa+7RmJsWSIxFgC5PSgCSAxQTcvlbMkgMRYAmQkxh4gEmPPkBTCJYDEhNu21MyeABJjz5CRGEuGSIwlQE4PmgASE3TzUjlLAkiMJUBGYuwBIjH2DEkhXAJITLhtS83sCSAx9gwZibFkiMRYAuT0oAkgMUE3L5WzJIDEWAJkJMYeIBJjz5AUwiWAxITbttTMngASY88wnJGYBYHR6gCZSaa7ldp1Jrrt/N+ZLLfzf3p/GmO0P/4vPUnubGqK35nutLvG7Ltku7n+8gs7kxPFs/VG263OzL3J/rsefczc+cCjqVTiqXvjTLpl7pZtvVS9efeWKomVrk86xsurp83a2in7nkIKEJiAABIzATROKZ7AHrkzXDUrV3b9J1fjmc66Z1v26XU6OjLTWffGTfbLsVTcWYkbn5VKtxP3DUvbzM6zF0291jT1esM06p11vSYh9frkC6vmvR98YsP53RLF5Ylyiss+vIzxmd24GfWV2j15+JPmyMqx4ttjEzmGIzHbxT3OS27lsRJEnSeRmvS27IuO9cVP9sTH1o+m0ojEaP3INdIJ33jZBaYp0tJqt0yjKfLSkp8gaMq27pNtff2ej/6hedcjH+/JseNKw8uYSNmGsg4sY2/dnjvxvHn25POb6BJEhUB+BJCY/FiS0hQJ3GjM/M/MmXkzJxIwZ+biMC838u627tN/3WOp7e6xTvz5VNz09sZjcfpxulHc+Nz0due89bjdYxlx149JfPmXjqv1S8q/8dh6XaP8JO5vHHiXefv+u6cI3j5pJCaWnLSwdMQirQ1IjH1XI4UqEkBiqtjqHtYZiRFpQWLc9lxGYta1KzXKxEiM225Z9dyRmKr3AE/qj8QgMc67KhKDxDjvhBSgnwASQ5/wggASg8Q476hIDBLjvBNSACSGPuAlASQGiXHecZEYJMZ5J6QASAx9wEsCSAwS47zjIjFIjPNOSAGQGPqAlwSQGCTGecdFYpAY552QAiAx9AEvCSAxSIzzjovEIDHOOyEFQGLoA14SQGKQGOcdF4lBYpx3QgqAxNAHvCSAxCAxzjsuEoPEOO+EFACJoQ94SQCJQWKcd1wkBolx3gkpABJDH/CSABKDxDjvuEgMEuO8E1IAJIY+4CUBJAaJcd5xkRgkxnknpABIDH3ASwJIDBLjvOMiMUiM805IAZAY+oCXBJAYJMZ5x0VikBjnnZACIDH0AS8JIDFIjPOOi8QgMc47IQVAYugDXhJAYpAY5x0XiUFinHdCCoDE0Ae8JIDEIDHOOy4Sg8Q474QUAImhD3hJAIlBYpx33AUpQatTihn5F2/EW53Xs6n/O3vieKnCR3vi/9JHZ1NxZ+KUNOq+S7ab6y+/0LTaC1FoxutWK7Ut++569DFz5wOPplLplGa9qOu59ZeqN+/eUiVFT9cnHePl1dNmbe2U8+ahANUkcP1lO8xb9lxkWguLpi1B19F7Jd5O9t3+0CFz4N6HqwmJWrsnsEfuD1fNypVd/8kdZKaz7tmWfXpviY7MdNa9cZP9ciwVd1bixmel0u3EfcPSNrPz7EVTrzVNvd4wjXpnXa9JSL0++cKqee8Hn9hwfrdEcXminOKyDy9jfGY3bkZ9pXZPHv6kObJyzH37DCmB3u/OlLqEJS9c5kU6daHmIl3yBqR4UyWAxEwVL4l7TuDmvbvNlUvn90p+xv3j6PFnzLU33eZ5badTfCTGkisSYwmQ04MmgMQE3bxUzpIAEmMJMP4wg5EYC45IjAU8Tg2eABITfBNTQQsCSIwFvPhURmIsGSIxlgA5PWgCSEzQzUvlLAkgMZYAGYmxB4jE2DMkhXAJIDHhti01syeAxNgzZCTGkiESYwmQ04MmgMQE3bxUzpIAEmMJkJEYe4BIjD1DUgiXABITbttSM3sCSIw9Q0ZiLBkiMZYAOT1oAkhM0M1L5SwJIDGWABmJsQeIxNgzJIVwCSAx4bYtNbMngMTYMyz9SMxiw5gtEtaX/vls5fWGiXfj2XC7J22cmXcjuv50Ms6R2Q17lxmZsfdcc8PlSzJTb7s7Y6/O2ttMzdjbXJAZew8+Zu544GDHGx2Wd0O94yqtrjGzr/3biRT6CSAx9AmXBJZ3G7O8pBc5ve7GIdpO7UuO9cSR4xp/08cGpN1NqzffvTJj7w6ZsXe+0TA1maFXw7yua3VZNzv75NgJmbH3Ppmxd3CZ0nXTcsflz6pDf/03xMnilWaxMe2VP/ikWTniZmbf0kvMzrOM2bWob4P4zh8BT73uSkHKDEbGSYtEKr1oc9BrPbQx72su2leSJ08AABCqSURBVGque+1rTKPVFnFpyXqhs93Ubd0nr9stc/9Hjpp7HvlYn8RMuU4jOazX6cRXnzcnn33e5fWGvAMkgMQE2KgeVWn/Ncbcsqw33bmOuMzqdup1tD3qOOd2GA1mdesd7zT73363k56BxAyUlkR0hssREuOk35KpJwSQGE8aKtBiIjHFSBsSM+QNxEhMMvA0agQqY3SJkZhAL83+VAuJ8aetQiwpEoPEOO/XSAwS47wTUoCJCSAxE6PjxBwIIDFITA7dyC4JJAaJsetBnO2SABLjkj55IzFIjPN3ARKDxDjvhBRgYgJIzMToODEHAkgMEpNDN7JLAolBYux6EGe7JIDEuKRP3kgMEuP8XYDEIDHOOyEFmJgAEjMxOk7MgQASg8Tk0I3skkBikBi7HsTZLgkgMS7pkzcSg8Q4fxcgMUiM805IASYmgMRMjI4TcyCAxCAxOXQjuySQGCTGrgdxtksCSIxL+uSNxCAxzt8FSAwS47wTUoCJCSAxE6PjxBwIIDFITA7dyC4JJAaJsetBnO2SABLjkj55IzFIjPN3ARKDxDjvhBRgYgJIzMToODEHAkgMEpNDN7JLAolBYux6EGe7JIDEuKRP3kgMEuP8XYDEIDHOOyEFmJgAEjMxOk7MgQASg8Tk0I3skkBikBi7HsTZLgkgMS7pkzcSg8Q4fxcgMUiM805IASYmgMRMjI4TcyCAxCAxOXQjuySQGCTGrgdxtksCSIxL+uSNxCAxzt8Fiw1jtkhYX2b6yiSv+3cZabieZUOEjHr1p5NxzszGdPddcq654fIl02y3Tau9IOs4tDrraN/Cgrnr4GPmjgcOSr5uy7uh4nGVVtdOm7W1U87bmwKERQCJCas9favN8m5jlpf0IqfX3ThE26l9ybGeOHrz13tA+pxke9ixAWl30+rNd+/SNrPj7EUz32iYWr0T5nVdq8u62dknx068sGru++ATQ8rUV069B/bUt78uWUySOMOOaZyNaa/8wSfNypFjTrqHluiMk5wDyTTzIr2wGMlLS9Zt3ZZw+0OHzIF7Hw6k1lQDAuMRQGLG40SsahK4ee9uc+XS+T33Cr1f9N8/jh5/xlx7023VhDSi1kiMZbdAYiwBcnrQBJCYoJuXylkSQGIsAXbGyhiJscGIxNjQ49zQCSAxobcw9bMhgMTY0Ouci8RYMkRiLAFyetAEkJigm5fKWRJAYiwBIjH2AJEYe4akEC4BJCbctqVm9gSQGHuGjMRYMkRiLAFyetAEkJigm5fKWRJAYiwBMhJjDxCJsWdICuESQGLCbVtqZk8AibFnyEiMJUMkxhIgpwdNAIkJunmpnCUBJMYSICMx9gCRGHuGpBAuASQm3LalZvYEkBh7hs5GYubmFs3s7JaeGkSTGmYtWZPcarzUBLo9c+n2pTNyvt4BEaLdg47FGb7p4u3mzVcsyeREvTP2tlrtaKbeziy+bfOOg4dlxt5Ho9r1JDmkzv0oulH7Jw5O0hyQVkb0TtJx/A2nDQF2+uVVc2ptzb7nkUIlCCAxlWjmwiu5ZcuyOeus5fVJdfVylpqUtjtZbby/51h87euZ0HbcePG9qD+vKMn+yX378knub+myXb201ew8Z0Fm5q2beqMerddDzdTj1ye+/pK5/0OP9+aRUed0ObplHBEvPVFxcs/LYjNJvGSC+iS9Y0+umGNHVnLtL84kplbbKY21q+eG3iMxaXHp2+7ef1M32/S5Vun039xH5HHN7q3mussuME2VllbLNKK1hGbTNERekv33f+xJc8/7P95xhwFp9vwiQb+4jWDQL1zj5tHPcmg6Evm5506Y5589mWsnJLFwCSAx4baty5rt2rXf7Hr1LWZWr4vyV1qyTm/PJrPjb+J41jk9++I0s/YNzHvIOVE6fcez9kVpp+ONOiddZ2E0Vj4DzumyTaWTxVvvOUk+me0hx+/5jVvN3W/fn2vXQWJS0rKpG3osIkhMrv2RxAIjgMQE1qAlqQ4S0/ljeKDYIDHT76mMxHQYjzVqFNtVdwAn/TFQxvZmRns2JW6MxEz/jRFYDkhMYA1akuogMUhM0hUZiWEkpvOR3jgyhMSU5BLuTzGQGH/ayqeSIjFIDBIz6KY97g2dj5N8uuZRVkcEkBhH4APPFolBYpAYJCZz9IUHewO/+hdcPSSmYOAVyQ6JQWKQGCQGianIBd9lNZEYl/TDzRuJQWKQGCQGiQn3Gl+amiExpWmKoAqCxCAxSAwSg8QEdVkvZ2WQmHK2i++lQmKQGCQGiUFifL+Se1B+JMaDRvKwiEgMEoPEIDFIjIcXb9+KjMT41mJ+lBeJQWKQGCQGifHjeu11KZEYr5uvtIVHYpAYJAaJQWJKe4kOp2BITDhtWaaaIDFIDBKDxCAxZboqB1oWJCbQhnVcLSQGiUFikBgkxvGFuArZIzFVaOXi64jEIDFIDBKDxBR/7a1cjkhM5Zq8kAojMUgMEoPEIDGFXG6rnQkSU+32n1btkRgkBolBYpCYaV1hSbdLAImhM0yDABKDxCAxSAwSM42rK2n2EEBi6BDTIIDEIDHOJWZubtHMzm7p6d8zsVhs6PSyP/PQ7HrM1OaGyIOS7Z49IEL/LzqnyzUTZ/imi7ebN1+xZFrttoQF04xDq9U2zYWFeF/bvOPgYXPHA49GSfRkN6TO/Ry6UXsq24k1rKwZ0VMnZbAdAuz0y6vm1NraNK5LpBkgASQmwEYtQZW2bFk2Z521bKJ7Rnx/6G7r6zhE18ZkO9kfXzB79o8bb0Be4+ST3N/SZbt6aavZec6CqdXrpt6oR+v1UDP1+PWJr79k7v/Q4711icsc1T+jvsPYZJY3uc+m0xvEdgjDnvKkztfyHHtyxRw7spJrD9IucCbXFCuWWOZFemExkpeWrNu6LeH2hw6ZA/c+XDE6VLfqBJCYqvcA6j+MwM17d5srl87vuVfo/aL//nH0+DPm2ptuA2YGASTGslsgMZYAOT1oAkhM0M1L5SwJIDGWADsDcYzE2GBEYmzocW7oBJCY0FuY+tkQQGJs6HXORWIsGSIxlgA5PWgCSEzQzUvlLAkgMZYAkRh7gEiMPUNSCJcAEhNu21IzewJIjD1DRmIsGSIxlgA5PWgCSEzQzUvlLAkgMZYAGYmxB4jE2DMkhXAJIDHhti01syeAxNgzZCTGkiESYwmQ04MmgMQE3bxUzpIAEmMJkJEYe4BIjD1DUgiXABITbttSM3sCSIw9w9xHYhalTL3z8KoqZUwBO2h63tms6WhHzrm7TmJQuln7c8hr3yXnmhsuX4pm6k3P2NvUGXujCe86s/je9chj5o7f/cDGFhs4TXFG43rEcVVm9V1jZl/7d6jnKSAxnjdgwcVflvyW9brcP71tMiXtsLWWdcDxM/37h8TdkMZm4m6y3Hu/4xyzY+sWmaW3YWqNhpnXtczSq+t5na1X9umxEy+smfsOPZ5dv82Ubwpxu2xzTPvwkSPm8Cc+MVbvy11idkq2u5LKJEVIN2z/vrLFTYvCqG05fo1MG33dZReYhv7cQKtlGs12Z7vZNI1YZBqy//6PHjX3PPKxTu3HSLfbegXEjTphzm118itfMSeffXasTkikcAkgMeG27TRqtl8SvUUlJhGZZDu91uvVuPvjuGf640+QxoY8p5WGpLuhvJvlsZmyDUp7zDS6Zc2KP2YaXbZx/AO//uvmwK/+6lhdDImxvHkjMdlShsSM9f4LPhISE3wT51pBJKYzCoXEIDGDRzxyHtlAYpCYXK/igSWGxATWoFOuDhKDxOioDCMxwz6yQmI2CB4fJ035ylzh5JGYCjf+BFVHYpAYJMZWUkadr2/M1DM+jMQwEjPBtboypyAxlWnqXCqKxCAxSMwoCbE9jsSsX6yGPLDNMzG5XNO9TwSJ8b4JC60AEoPEIDG2kjLqfCQGiSn0su53ZkiM3+1XdOmRGCQGiRklIbbHkRgkpugru8f5ITEeN56DoiMxSAwSYyspo85HYpAYBxd3X7NEYnxtOTflRmKQGCRmlITYHkdikBg313cvc0VivGw2Z4VGYpAYJMZWUkadj8QgMc4u8f5ljMT412YuS4zEIDFIzCgJsT2OxCAxLq/ynuWNxHjWYI6Li8QgMUiMraSMOh+JQWIcX+h9yh6J8am13JcViUFikJhREmJ7HIlBYtxf670pARLjTVOVoqBIDBKDxNhKyqjzkRgkphSXez8KgcT40U5lKSUSg8QgMaMkxPY4EoPElOWK70E5kBgPGqlERURikBgkxlZSRp2PxCAxJbrol70oSEzZW6hc5UNikBgkZpSE2B5HYpCYcl33S10aJKbUzVO6wiExSAwSYyspo85HYpCY0l36y1sgJKa8bVPGkiExSMymJebS8xbPXHreQm79ufntvzGtvz1jzOxM6maXbEoDJUvqsDE9L+IYWef3FbOb3KC4I8rQk1wcN6sokbikI8cvJP9zW3Vz3pa2qdcbZm5+3szX62a+Vjf1Wk1ey3ajZuZl/dSXT5rP/+VfjVe3QWxS+LoF6onbEyFV4KRuAyqXtTvdfj1Vz8gjLX5x3NOnTplXXnk5t35FQn4S2N6aNzvPWey8J+S9MSehLu+HWvw+idYSPv+lZ8xnvvCUn5Wk1LkReP2pb5rXvfyt+PImF6bZ+Hqj15jutmQXXZ86N/zu/uQPzMxz+tPSyHp+Oq34Qj8yz9Q5mXlmpD2gbFtbNXP2QlPeAw25T8ybWXmfRPcQ2Z6bl3tHo2FmZfurX/u6+eLTX0rVe8wyKKeZmGFyTU+/1u3ocMwy2kxv671PIyi/1HYqntzt43MSftnxok4yZtp//uk/Mp+RMGr53HOnzIz8pXTm+ktfNSouxyEAAQhAAAIQgEBpCLzvc19FYkrTGhQEAhCAAAQgAIGxCSAxY6MiIgQgAAEIQAACZSKAxJSpNSgLBCAAAQhAAAJjE0BixkZFRAhAAAIQgAAEykQAiSlTa1AWCEAAAhCAAATGJoDEjI2KiBCAAAQgAAEIlIkAElOm1qAsEIAABCAAAQiMTQCJGRsVESEAAQhAAAIQKBOBSGLynrG3TBWkLBCAAAQgAAEIhEkgmrFXqhbNGswCAQhAAAIQgAAEfCKAxPjUWpQVAhCAAAQgAIEuASSGzgABCEAAAhCAgJcEkBgvm41CQwACEIAABCCAxNAHIAABCEAAAhDwkgAS42WzUWgIQAACEIAABJAY+gAEIAABCEAAAl4SQGK8bDYKDQEIQAACEIAAEkMfgAAEIAABCEDASwJIjJfNRqEhAAEIQAACEEBi6AMQgAAEIAABCHhJAInxstkoNAQgAAEIQAACSAx9AAIQgAAEIAABLwkgMV42G4WGAAQgAAEIQACJoQ9AAAIQgAAEIOAlASTGy2aj0BCAAAQgAAEIIDH0AQhAAAIQgAAEvCSAxHjZbBQaAhCAAAQgAAEkhj4AAQhAAAIQgICXBJAYL5uNQkMAAhCAAAQggMTQByAAAQhAAAIQ8JIAEuNls1FoCEAAAhCAAASQGPoABCAAAQhAAAJeEkBivGw2Cg0BCEAAAhCAABJDH4AABCAAAQhAwEsCSIyXzUahIQABCEAAAhBAYugDEIAABCAAAQh4SQCJ8bLZKDQEIAABCEAAAkgMfQACEIAABCAAAS8JIDFeNhuFhgAEIAABCEAAiaEPQAACEIAABCDgJQEkxstmo9AQgAAEIAABCPx/1IcP2Gy8xwQAAAAASUVORK5CYII=)"
      ]
    },
    {
      "cell_type": "markdown",
      "metadata": {
        "id": "myMFe8nSpSh7"
      },
      "source": [
        "Revient à :\n",
        "\n",
        "déplacer une pile de n-1 disques depuis une tour de départ vers une tour libre (opération que l’on n’a pas le droit de faire en une seule étape) :\n"
      ]
    },
    {
      "cell_type": "markdown",
      "metadata": {
        "id": "GdOS2UULpatv"
      },
      "source": [
        "![image.png](data:image/png;base64,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)"
      ]
    },
    {
      "cell_type": "markdown",
      "metadata": {
        "id": "pLr7sH8ipcDk"
      },
      "source": [
        "déplacer le disque restant (depuis la tour de départ) vers la tour d’arrivée (opération autorisée !) :"
      ]
    },
    {
      "cell_type": "markdown",
      "metadata": {
        "id": "E8QR8yIMpn_T"
      },
      "source": [
        "![image.png](data:image/png;base64,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)"
      ]
    },
    {
      "cell_type": "markdown",
      "metadata": {
        "id": "mH4OAGD0povE"
      },
      "source": [
        "et enfin re-déplacer la pile de n-1 disques depuis la tour initialement libre (et qui le redevient !) vers la tour d’arrivée (opération que l’on n’a pas le droit de faire en une seule étape) :"
      ]
    },
    {
      "cell_type": "markdown",
      "metadata": {
        "id": "YDps_nKLpr5p"
      },
      "source": [
        "![image.png](data:image/png;base64,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)"
      ]
    },
    {
      "cell_type": "markdown",
      "metadata": {
        "id": "rrUoZahWpsk_"
      },
      "source": [
        "**Écrire** une fonction **hanoi(j, n, d, a, l)**\n",
        ", sous forme récursive qui résout le jeu j\n",
        "(type Jeu_Hanoi\n",
        ") , ce qui revient à déplacer n\n",
        "disques (de type int) depuis une tour de départ d\n",
        "(type str\n",
        ") vers une tour d’arrivée a\n",
        "(type str\n",
        ") en utilisant une tour libre l\n",
        "(type str\n",
        ")."
      ]
    },
    {
      "cell_type": "code",
      "execution_count": 18,
      "metadata": {
        "id": "eY9F_LT8p0ZS"
      },
      "outputs": [],
      "source": [
        "def hanoi(j, n, d, a, l):\n",
        "  dep =  j.get_tour(d)\n",
        "  vide = j.get_tour(l)\n",
        "  arr = j.get_tour(a)\n",
        "\n",
        "  if n == 1:\n",
        "    # déplacer disque restant (le seul disque)\n",
        "    j.deplacer(d, a)\n",
        "  else:\n",
        "    # déplacer n-1 disques du départ à une tour libre\n",
        "    hanoi(j, n-1, d, l, a)\n",
        "    \n",
        "    # déplacer le disque restant\n",
        "    j.deplacer(d, a)\n",
        "    \n",
        "    # deplacer n-1 disques de la tour libre à l'arrivée   \n",
        "    hanoi(j, n-1, l, a, d)"
      ]
    },
    {
      "cell_type": "code",
      "execution_count": 19,
      "metadata": {
        "id": "i2w8Rkwnp8w3"
      },
      "outputs": [
        {
          "name": "stdout",
          "output_type": "stream",
          "text": [
            "début du jeu\n",
            "['     *|*     ', '    **|**    ', '   ***|***   ', '  ****|****  ', ' *****|***** ', '******|******']\n",
            "['      |      ', '      |      ', '      |      ', '      |      ', '      |      ', '      |      ']\n",
            "['      |      ', '      |      ', '      |      ', '      |      ', '      |      ', '      |      ']\n",
            "après résolution du jeu\n"
          ]
        }
      ],
      "source": [
        "j = Jeu_Hanoi()\n",
        "pileA=j.get_tour('A')\n",
        "pileB=j.get_tour('B')\n",
        "pileC=j.get_tour('C')\n",
        "print('début du jeu')\n",
        "print(ch_tour(pileA))\n",
        "print(ch_tour(pileB))\n",
        "print(ch_tour(pileC))\n",
        "hanoi(j, j.n, 'A', 'C', 'B')\n",
        "print('après résolution du jeu')\n",
        "assert ch_tour(pileA) == ['      |      ', '      |      ', '      |      ', '      |      ', '      |      ', '      |      ']\n",
        "assert ch_tour(pileB) == ['      |      ', '      |      ', '      |      ', '      |      ', '      |      ', '      |      ']\n",
        "assert ch_tour(pileC) == ['     *|*     ', '    **|**    ', '   ***|***   ', '  ****|****  ', ' *****|***** ', '******|******']"
      ]
    },
    {
      "cell_type": "markdown",
      "metadata": {
        "id": "glKesRHVvpCr"
      },
      "source": [
        "Dernière chose à faire, nous allons compter le nombre de déplacements nécessaires à la résolution du jeu.\n",
        "\n",
        "Pour cela nous allons ajouter un attribut à la classe Hanoi (nbdeplacements) que nous allons initialiser à 0.\n",
        "Puis à chaque déplacement, nous allons incrémenter cette valeur de 1.\n",
        "\n",
        "Rééxécutez le jeu, puis affichez le nombre de coups"
      ]
    },
    {
      "cell_type": "code",
      "execution_count": 22,
      "metadata": {
        "id": "62PywJnqv_EX"
      },
      "outputs": [
        {
          "name": "stdout",
          "output_type": "stream",
          "text": [
            "début du jeu\n",
            "['     *|*     ', '    **|**    ', '   ***|***   ', '  ****|****  ', ' *****|***** ', '******|******']\n",
            "['      |      ', '      |      ', '      |      ', '      |      ', '      |      ', '      |      ']\n",
            "['      |      ', '      |      ', '      |      ', '      |      ', '      |      ', '      |      ']\n",
            "Coups nécéssaires : 5 coups\n"
          ]
        }
      ],
      "source": [
        "# Affichez le nombre de coups nécessaires pour résoudre le jeu\n",
        "\n",
        "def hanoi(j, n, d, a, l, nbdep = 0):\n",
        "  dep =  j.get_tour(d)\n",
        "  vide = j.get_tour(l)\n",
        "  arr = j.get_tour(a)\n",
        "\n",
        "  if n == 1:\n",
        "    # déplacer disque restant (le seul disque)\n",
        "    j.deplacer(d, a)\n",
        "    \n",
        "    # affichage des coups\n",
        "    if dep.est_vide() and vide.est_vide():\n",
        "      print(\"Coups nécéssaires : \" + str(nbdep) + \" coups\")\n",
        "  else:\n",
        "    # déplacer n-1 disques du départ à une tour libre\n",
        "    hanoi(j, n-1, d, l, a, nbdep+1)\n",
        "    \n",
        "    # déplacer le disque restant\n",
        "    j.deplacer(d, a)\n",
        "    \n",
        "    # deplacer n-1 disques de la tour libre à l'arrivée   \n",
        "    hanoi(j, n-1, l, a, d, nbdep+1)\n",
        "    \n",
        "j = Jeu_Hanoi()\n",
        "pileA=j.get_tour('A')\n",
        "pileB=j.get_tour('B')\n",
        "pileC=j.get_tour('C')\n",
        "print('début du jeu')\n",
        "print(ch_tour(pileA))\n",
        "print(ch_tour(pileB))\n",
        "print(ch_tour(pileC))\n",
        "hanoi(j, j.n, 'A', 'C', 'B')"
      ]
    }
  ],
  "metadata": {
    "colab": {
      "provenance": []
    },
    "kernelspec": {
      "display_name": "Python 3",
      "name": "python3"
    },
    "language_info": {
      "codemirror_mode": {
        "name": "ipython",
        "version": 3
      },
      "file_extension": ".py",
      "mimetype": "text/x-python",
      "name": "python",
      "nbconvert_exporter": "python",
      "pygments_lexer": "ipython3",
      "version": "3.9.5"
    }
  },
  "nbformat": 4,
  "nbformat_minor": 0
}
