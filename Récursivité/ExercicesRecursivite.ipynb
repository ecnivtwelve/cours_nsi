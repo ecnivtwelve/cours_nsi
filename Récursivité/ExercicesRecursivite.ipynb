{
  "cells": [
    {
      "cell_type": "markdown",
      "metadata": {
        "id": "qiFwXS1Ou3aJ"
      },
      "source": [
        "**1. Génération de liste**\n",
        "\n",
        "Ecrire une fonction récursive **genliste** d’argument n (int) qui génére la liste [n,n-1, . . .,1,0]"
      ]
    },
    {
      "cell_type": "code",
      "execution_count": 42,
      "metadata": {
        "id": "NcUIqQqVvASF"
      },
      "outputs": [
        {
          "name": "stdout",
          "output_type": "stream",
          "text": [
            "[5, 4, 3, 2, 1, 0]\n"
          ]
        }
      ],
      "source": [
        "def genliste(n: int):\n",
        "  if n == 0:\n",
        "    return [0]\n",
        "  else:\n",
        "    return [n] + genliste(n - 1)\n",
        "\n",
        "print(genliste(5))\n",
        "assert(genliste(5))==[5,4,3,2,1,0]"
      ]
    },
    {
      "cell_type": "markdown",
      "metadata": {
        "id": "ySUQkuVjwTB7"
      },
      "source": [
        "**2. Fonction mystère**\n",
        "\n",
        "On considère le programme suivant :\n",
        "\n",
        "```py\n",
        "1 def mystere(a : int, b : int):\n",
        "2    if b == 1:\n",
        "3       return a\n",
        "4    else:\n",
        "5       return a + mystere(a, b - 1)\n",
        "```\n",
        "\n",
        "1. Déterminer, à la main, le résultat renvoyé par mystere(7, 9) ?\n",
        "\n",
        "   > | Appel | -- | a | b | -- | return |\n",
        "   > |--|--|--|--|--|--|\n",
        "   > | **0** | -- | 7 | 9 | -- | `7` |\n",
        "   > | **1** | -- | 7 | 8 | -- | `7 + 7` |\n",
        "   > | **2** | -- | 7 | 7 | -- | `7 + 7 + 7` |\n",
        "   > | **3** | -- | 7 | 6 | -- | `7 + 7 + 7 + 7` |\n",
        "   > | **4** | -- | 7 | 5 | -- | `7 + 7 + 7 + 7 + 7` |\n",
        "   > | **5** | -- | 7 | 4 | -- | `7 + 7 + 7 + 7 + 7 + 7` |\n",
        "   > | **6** | -- | 7 | 3 | -- | `7 + 7 + 7 + 7 + 7 + 7 + 7 ` |\n",
        "   > | **7** | -- | 7 | 2 | -- | `7 + 7 + 7 + 7 + 7 + 7 + 7 + 7` |\n",
        "   > | **8** | -- | 7 | 1 | -- | `7 + 7 + 7 + 7 + 7 + 7 + 7 + 7 + 7` = **`63`** |\n",
        "\n",
        "2. Quel semble être le rôle de la fonction mystere ? \n",
        "\n",
        "   > Multiplier 2 valeurs\n",
        "\n",
        "3. a. Quel est le cas de base de cette fonction récursive ? \n",
        "   > Qu'on ait fini de multiplier la valeur (b == 1)\n",
        "   \n",
        "   b. Justifier la terminaison de cet algorithme. \n",
        "   > On arrive à 1 et b est réduit de 1 à chaque éxecution"
      ]
    },
    {
      "cell_type": "markdown",
      "metadata": {
        "id": "eHMnmFLIXXzk"
      },
      "source": [
        "**3. Impair et pair**\n",
        "\n",
        "Ecrire 2 fonctions récursives **est_pair** et **est_impair**, qui s'appeleront mutuellement pour arriver à la solution. \n",
        "\n",
        "La fonction **est_pair** renvoie True si le nombre n est pair, False sinon, et inversement la fonction **est_impair** renvoie True si n est impair, False sinon. \n",
        "\n",
        "On ne peut pas utiliser %,/ ou //.A vous de jouer.\n"
      ]
    },
    {
      "cell_type": "code",
      "execution_count": 49,
      "metadata": {
        "id": "V4vrBNtGXTdS"
      },
      "outputs": [],
      "source": [
        "# Fonctions qui testent si un nombre n est pair:\n",
        "def est_pair(n):\n",
        "  if n == 0:\n",
        "    return True\n",
        "  \n",
        "  if n < 0:\n",
        "    return False\n",
        "  \n",
        "  return est_impair(n-1)\n",
        "\n",
        "def est_impair(n):\n",
        "  if n == 0:\n",
        "    return False\n",
        "  \n",
        "  if n < 0:\n",
        "    return True\n",
        "  \n",
        "  return est_pair(n-1)\n",
        "\n",
        "assert(est_pair(6)) == True\n",
        "assert(est_pair(11)) == False\n",
        "assert(est_impair(5)) == True\n",
        "assert(est_impair(8)) == False"
      ]
    },
    {
      "cell_type": "markdown",
      "metadata": {
        "id": "T9UMny7AY_UP"
      },
      "source": [
        "**4. Somme des n premiers entiers**\n",
        "\n",
        "Ecrire une fonction récursives **somme** qui prendra en argument un nombre n, et qui renvoie la somme des n premiers entiers jusqu'à n\n",
        "\n",
        "Exemple: somme(5) renvoie 15 (1+2+3+4+5=15)\n"
      ]
    },
    {
      "cell_type": "code",
      "execution_count": 4,
      "metadata": {
        "id": "wnrGbGBtZcf3"
      },
      "outputs": [],
      "source": [
        "# Fonction qui calcule la somme des n premiers entiers:\n",
        "def somme(n):\n",
        "  if n == 0:\n",
        "    return 0\n",
        "  else:\n",
        "    return n + somme(n - 1)\n",
        "\n",
        "assert(somme(10))==55  "
      ]
    },
    {
      "cell_type": "markdown",
      "metadata": {
        "id": "VyDcharrZrsT"
      },
      "source": [
        "**5. Répétition d'une chaine de caractères**\n",
        "\n",
        "Ecrire une fonction récursive **Repete** qui prendra en argument un nombre **n** et une chaine de caractère **chaine**, et qui renvoie une chaine de caractère qui contient **n** fois la chaine de caractères **chaine**\n",
        "\n",
        "Exemple: Repete(5,\"bla\") renvoie blablablablabla\n"
      ]
    },
    {
      "cell_type": "code",
      "execution_count": 7,
      "metadata": {
        "id": "9zMc96Hracm8"
      },
      "outputs": [],
      "source": [
        "# Fonction qui calcule la somme des n premiers entiers:\n",
        "def Repete(n,chaine):\n",
        "  if n == 0:\n",
        "    return \"\"\n",
        "  else:\n",
        "    return \"bla\" + Repete(n-1, chaine)\n",
        "\n",
        "assert(Repete(5,\"bla\"))=='blablablablabla'"
      ]
    },
    {
      "cell_type": "markdown",
      "metadata": {
        "id": "8CumPAw1ap0J"
      },
      "source": [
        "**6. Affichage d'une suite d'entiers**\n",
        "\n",
        "Ecrire une fonction récursive **Affichage** qui prend 2 arguments **i** et **k**, et affiche les entiers entre **i** et **k**. \n",
        "\n",
        "Par exemple, affiche(2, 5) doit afficher : 2 3 4 5 (séparés par des espaces)\n",
        "\n",
        "\n"
      ]
    },
    {
      "cell_type": "code",
      "execution_count": 69,
      "metadata": {
        "colab": {
          "base_uri": "https://localhost:8080/"
        },
        "id": "hyF8aypza-7e",
        "outputId": "6e0fd39b-7ba0-4e5f-a147-28c95c29828c"
      },
      "outputs": [
        {
          "name": "stdout",
          "output_type": "stream",
          "text": [
            "2 3 4 5 "
          ]
        }
      ],
      "source": [
        "# Fonction qui affiche les entiers entre i et k compris\n",
        "def Affichage(i,k):\n",
        "  if k < i:\n",
        "    return k\n",
        "  else:\n",
        "    print(i, end=' ')\n",
        "    Affichage(i + 1, k)\n",
        "  \n",
        "Affichage(2,5)"
      ]
    },
    {
      "cell_type": "markdown",
      "metadata": {
        "id": "Ykf_lCMs1sSj"
      },
      "source": [
        "**7. Tableau trié ?**\n",
        "\n",
        "Ecrire une fonction récursive **EstTrié** qui prend un argument **L**, et qui renvoie True si le tableau est trié par ordre croissant, False sinon\n",
        "\n",
        "Par exemple, Si T1 = [1, 2, 3, 4, 5, 7, 8] et  T2 = [1, 3, 2, 4, 5, 7, 8]\n",
        "\n",
        "print(EstTrié(T1)) affichera True\n",
        "\n",
        "print(EstTrié(T2)) affichera False\n",
        "\n",
        "\n"
      ]
    },
    {
      "cell_type": "code",
      "execution_count": 70,
      "metadata": {
        "id": "sSjYnSU82NsR",
        "tags": [
          "Erreur"
        ]
      },
      "outputs": [
        {
          "name": "stdout",
          "output_type": "stream",
          "text": [
            "False\n"
          ]
        },
        {
          "ename": "AssertionError",
          "evalue": "",
          "output_type": "error",
          "traceback": [
            "\u001b[1;31m---------------------------------------------------------------------------\u001b[0m",
            "\u001b[1;31mAssertionError\u001b[0m                            Traceback (most recent call last)",
            "\u001b[1;32mecnivtwelve\\cours_nsi\\Récursivité\\ExercicesRecursivite.ipynb Cell 13\u001b[0m line \u001b[0;36m1\n\u001b[0;32m      <a href='vscode-notebook-cell://github/ecnivtwelve/cours_nsi/R%C3%A9cursivit%C3%A9/ExercicesRecursivite.ipynb#X60sdnNjb2RlLXZmcw%3D%3D?line=8'>9</a>\u001b[0m       \u001b[39mreturn\u001b[39;00m \u001b[39mFalse\u001b[39;00m\n\u001b[0;32m     <a href='vscode-notebook-cell://github/ecnivtwelve/cours_nsi/R%C3%A9cursivit%C3%A9/ExercicesRecursivite.ipynb#X60sdnNjb2RlLXZmcw%3D%3D?line=10'>11</a>\u001b[0m \u001b[39mprint\u001b[39m(EstTrié([\u001b[39m1\u001b[39m, \u001b[39m2\u001b[39m, \u001b[39m3\u001b[39m, \u001b[39m4\u001b[39m, \u001b[39m5\u001b[39m, \u001b[39m7\u001b[39m, \u001b[39m8\u001b[39m]))\n\u001b[1;32m---> <a href='vscode-notebook-cell://github/ecnivtwelve/cours_nsi/R%C3%A9cursivit%C3%A9/ExercicesRecursivite.ipynb#X60sdnNjb2RlLXZmcw%3D%3D?line=12'>13</a>\u001b[0m \u001b[39massert\u001b[39;00m(EstTrié([\u001b[39m1\u001b[39m, \u001b[39m2\u001b[39m, \u001b[39m3\u001b[39m, \u001b[39m4\u001b[39m, \u001b[39m5\u001b[39m, \u001b[39m7\u001b[39m, \u001b[39m8\u001b[39m]))\u001b[39m==\u001b[39m\u001b[39mTrue\u001b[39;00m\n\u001b[0;32m     <a href='vscode-notebook-cell://github/ecnivtwelve/cours_nsi/R%C3%A9cursivit%C3%A9/ExercicesRecursivite.ipynb#X60sdnNjb2RlLXZmcw%3D%3D?line=13'>14</a>\u001b[0m \u001b[39massert\u001b[39;00m(EstTrié([\u001b[39m1\u001b[39m, \u001b[39m3\u001b[39m, \u001b[39m5\u001b[39m, \u001b[39m4\u001b[39m, \u001b[39m5\u001b[39m, \u001b[39m7\u001b[39m, \u001b[39m8\u001b[39m]))\u001b[39m==\u001b[39m\u001b[39mFalse\u001b[39;00m\n",
            "\u001b[1;31mAssertionError\u001b[0m: "
          ]
        }
      ],
      "source": [
        "# Fonction EstTrié(L) qui renvoie True si la liste L est triée par ordre croissant\n",
        "def EstTrié(L):\n",
        "  if len(L) == 1:\n",
        "    return L[0]\n",
        "  else:\n",
        "    if EstTrié(L[1:]):\n",
        "      return L[0] < EstTrié(L[1:])\n",
        "    else:\n",
        "      return False\n",
        "\n",
        "print(EstTrié([1, 2, 3, 4, 5, 7, 8]))\n",
        "\n",
        "assert(EstTrié([1, 2, 3, 4, 5, 7, 8]))==True\n",
        "assert(EstTrié([1, 3, 5, 4, 5, 7, 8]))==False"
      ]
    },
    {
      "cell_type": "markdown",
      "metadata": {
        "id": "x8dB5HfncYk0"
      },
      "source": [
        "**8. Conversion binaire**\n",
        "\n",
        "Ecrire une fonction récursive **Binaire** qui prend un argument **nombre**, et qui affiche la représentation binaire de ce nombre (en chaine de caractères). (avec la méthode des divisions successives par 2)\n",
        "\n",
        "Par exemple, Binaire(127) doit afficher 1111111 \n",
        "\n",
        "\n"
      ]
    },
    {
      "cell_type": "code",
      "execution_count": null,
      "metadata": {
        "id": "URqSKTj2ctS0"
      },
      "outputs": [],
      "source": [
        "# Fonction Binaire qui convertit un nombre en binaire\n",
        "def Binaire(nombre):\n",
        "  pass\n",
        "\n",
        "assert(Binaire(127))=='1111111'"
      ]
    }
  ],
  "metadata": {
    "colab": {
      "collapsed_sections": [],
      "name": "Recursivite Exercices Entrainement.ipynb",
      "provenance": []
    },
    "kernelspec": {
      "display_name": "Python 3",
      "name": "python3"
    },
    "language_info": {
      "codemirror_mode": {
        "name": "ipython",
        "version": 3
      },
      "file_extension": ".py",
      "mimetype": "text/x-python",
      "name": "python",
      "nbconvert_exporter": "python",
      "pygments_lexer": "ipython3",
      "version": "3.9.5"
    }
  },
  "nbformat": 4,
  "nbformat_minor": 0
}
