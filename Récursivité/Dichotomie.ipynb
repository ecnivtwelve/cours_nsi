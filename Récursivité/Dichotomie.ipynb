{
  "cells": [
    {
      "cell_type": "markdown",
      "metadata": {
        "id": "FsTLXUJWkeXM"
      },
      "source": [
        "\n",
        "<h2>Dichotomie récursive</h2>\n",
        "<p>La recherche dichotomique est assez simple : on part d'une liste triée <i>T</i>\n",
        "et on cherche l'élément <i>v</i> (on suppose qu'il s'y trouve). \n",
        "On procède comme suit :\n",
        "<ul>\n",
        "<li>On compare <i>v</i> à l'élément du milieu de la liste.</li>\n",
        "<li>S'il est égal à <i>v</i>, on a fini.</li>\n",
        "<li>Sinon, s'il est inférieur, il faut chercher dans la première moitié de la liste.\n",
        "    On retourne à l'étape 1 avec la liste réduite.</li>\n",
        "<li>S'il est supérieur, on fait de même avec la seconde moitié de la liste.</li>\n",
        "</ul>\n",
        "C'est ce qu'illustre la figure suivante où <i>a</i> désigne le début de la liste,\n",
        "<i>b</i> la fin, <i>m</i> le milieu. A chaque itération, on déplace ces trois \n",
        "positions.\n",
        "</p>\n",
        "\n",
        "\n"
      ]
    },
    {
      "cell_type": "markdown",
      "metadata": {
        "id": "uLSz52wHrWA4"
      },
      "source": [
        "![image.png](data:image/png;base64,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)"
      ]
    },
    {
      "cell_type": "markdown",
      "metadata": {
        "id": "6N_r4ULxsrzb"
      },
      "source": [
        "Avant de coder la version récursive, un petit rappel est nécessaire.\n",
        "\n",
        "A vous de jouer, codez cet algorithme en version itérative :"
      ]
    },
    {
      "cell_type": "code",
      "execution_count": 17,
      "metadata": {
        "id": "NVBQSaXTschL"
      },
      "outputs": [
        {
          "name": "stdout",
          "output_type": "stream",
          "text": [
            "5\n"
          ]
        }
      ],
      "source": [
        "def recherche_dichotomique( element, liste_triee ):\n",
        "  a = 0\n",
        "  b = len(liste_triee) - 1\n",
        "\n",
        "  m = (a + b) // 2\n",
        "\n",
        "  while a < b:\n",
        "    if liste_triee[m] == element:\n",
        "      return m\n",
        "    elif liste_triee[m] > element:\n",
        "      b = m - 1\n",
        "    else:\n",
        "      a = m + 1\n",
        "\n",
        "    m = (a + b) // 2\n",
        "  \n",
        "  if liste_triee[m] == element:\n",
        "    return m\n",
        "\n",
        "  return None\n",
        "\n",
        "print(recherche_dichotomique(17, [1, 2, 4, 5, 10, 17, 21]))"
      ]
    },
    {
      "cell_type": "code",
      "execution_count": 18,
      "metadata": {
        "id": "FH4Ojuybs9aT"
      },
      "outputs": [],
      "source": [
        "assert recherche_dichotomique(1,[1,2,3]) == 0\n",
        "assert recherche_dichotomique(5,[1,2,3]) == None\n",
        "assert recherche_dichotomique(5,[1,2,3,5,6,7,8]) == 3"
      ]
    },
    {
      "cell_type": "markdown",
      "metadata": {
        "id": "ykywB_heriQl"
      },
      "source": [
        "\n",
        "\n",
        "# A vous de jouer : écrire une version récursive de cet algorithme.\n",
        "\n",
        "\n",
        "Dans un premier temps, nous utiliserons 2 paramètres, a et b, qui donnent les bornes de la partie de la liste dans laquelle on recherche. A chaque appel, soit a, soit b, sera modifié, de sorte que b diminue ou a augmente.\n",
        "\n",
        "Au premier appel, a=0 et b=len(lst) : on considère toute la liste. Ces valeurs seront codées avec des paramètre par défaut. Dans les appels suivants on passera a et b correctement recalculées."
      ]
    },
    {
      "cell_type": "code",
      "execution_count": 61,
      "metadata": {
        "id": "Q84zJ8AAklkM"
      },
      "outputs": [],
      "source": [
        "# votre code ici\n",
        "def dichotomie_recursive(x , lst, a=None,b=None) :\n",
        "  # au premier appel, a=0 et b=len(lst) car on considère toute la liste :\n",
        "  if a==None :\n",
        "    a=0\n",
        "  if b==None :\n",
        "    b=len(lst)\n",
        "  # cas de base : défini le cas trivial et renvoyer la valeur True ou False\n",
        "  if a == b:\n",
        "    if (lst[a] == x):\n",
        "      return a\n",
        "    else:\n",
        "      return None\n",
        "\n",
        "  # cas général : calculer le milieu m, et traiter les 3 cas (lst[m]=x; lst[m]>x; lst[m]<x)\n",
        "  m = (a+b) // 2\n",
        "\n",
        "  if lst[m] == x:\n",
        "    return m\n",
        "  elif lst[m] > x:\n",
        "    return dichotomie_recursive(x, lst, a, m-1)\n",
        "  else:\n",
        "    return dichotomie_recursive(x, lst, m+1, b)"
      ]
    },
    {
      "cell_type": "code",
      "execution_count": 58,
      "metadata": {
        "id": "e60bs-aJkx8z"
      },
      "outputs": [
        {
          "ename": "IndexError",
          "evalue": "list index out of range",
          "output_type": "error",
          "traceback": [
            "\u001b[1;31m---------------------------------------------------------------------------\u001b[0m",
            "\u001b[1;31mIndexError\u001b[0m                                Traceback (most recent call last)",
            "\u001b[1;32mecnivtwelve\\cours_nsi\\Récursivité\\Dichotomie.ipynb Cell 8\u001b[0m line \u001b[0;36m2\n\u001b[0;32m      <a href='vscode-notebook-cell://github/ecnivtwelve/cours_nsi/R%C3%A9cursivit%C3%A9/Dichotomie.ipynb#X10sdnNjb2RlLXZmcw%3D%3D?line=0'>1</a>\u001b[0m \u001b[39massert\u001b[39;00m dichotomie_recursive(\u001b[39m1\u001b[39m,[\u001b[39m1\u001b[39m,\u001b[39m2\u001b[39m,\u001b[39m3\u001b[39m]) \u001b[39m==\u001b[39m \u001b[39m0\u001b[39m\n\u001b[1;32m----> <a href='vscode-notebook-cell://github/ecnivtwelve/cours_nsi/R%C3%A9cursivit%C3%A9/Dichotomie.ipynb#X10sdnNjb2RlLXZmcw%3D%3D?line=1'>2</a>\u001b[0m \u001b[39massert\u001b[39;00m dichotomie_recursive(\u001b[39m5\u001b[39;49m,[\u001b[39m1\u001b[39;49m,\u001b[39m2\u001b[39;49m,\u001b[39m3\u001b[39;49m]) \u001b[39m==\u001b[39m \u001b[39mNone\u001b[39;00m\n\u001b[0;32m      <a href='vscode-notebook-cell://github/ecnivtwelve/cours_nsi/R%C3%A9cursivit%C3%A9/Dichotomie.ipynb#X10sdnNjb2RlLXZmcw%3D%3D?line=2'>3</a>\u001b[0m \u001b[39massert\u001b[39;00m dichotomie_recursive(\u001b[39m5\u001b[39m,[\u001b[39m1\u001b[39m,\u001b[39m2\u001b[39m,\u001b[39m3\u001b[39m,\u001b[39m5\u001b[39m,\u001b[39m6\u001b[39m,\u001b[39m7\u001b[39m,\u001b[39m8\u001b[39m]) \u001b[39m==\u001b[39m \u001b[39m3\u001b[39m\n",
            "\u001b[1;32mecnivtwelve\\cours_nsi\\Récursivité\\Dichotomie.ipynb Cell 8\u001b[0m line \u001b[0;36m2\n\u001b[0;32m     <a href='vscode-notebook-cell://github/ecnivtwelve/cours_nsi/R%C3%A9cursivit%C3%A9/Dichotomie.ipynb#X10sdnNjb2RlLXZmcw%3D%3D?line=20'>21</a>\u001b[0m   \u001b[39mreturn\u001b[39;00m dichotomie_recursive(x, lst, a, m\u001b[39m-\u001b[39m\u001b[39m1\u001b[39m)\n\u001b[0;32m     <a href='vscode-notebook-cell://github/ecnivtwelve/cours_nsi/R%C3%A9cursivit%C3%A9/Dichotomie.ipynb#X10sdnNjb2RlLXZmcw%3D%3D?line=21'>22</a>\u001b[0m \u001b[39melse\u001b[39;00m:\n\u001b[1;32m---> <a href='vscode-notebook-cell://github/ecnivtwelve/cours_nsi/R%C3%A9cursivit%C3%A9/Dichotomie.ipynb#X10sdnNjb2RlLXZmcw%3D%3D?line=22'>23</a>\u001b[0m   \u001b[39mreturn\u001b[39;00m dichotomie_recursive(x, lst, m\u001b[39m+\u001b[39;49m\u001b[39m1\u001b[39;49m, b)\n",
            "\u001b[1;32mecnivtwelve\\cours_nsi\\Récursivité\\Dichotomie.ipynb Cell 8\u001b[0m line \u001b[0;36m2\n\u001b[0;32m     <a href='vscode-notebook-cell://github/ecnivtwelve/cours_nsi/R%C3%A9cursivit%C3%A9/Dichotomie.ipynb#X10sdnNjb2RlLXZmcw%3D%3D?line=20'>21</a>\u001b[0m   \u001b[39mreturn\u001b[39;00m dichotomie_recursive(x, lst, a, m\u001b[39m-\u001b[39m\u001b[39m1\u001b[39m)\n\u001b[0;32m     <a href='vscode-notebook-cell://github/ecnivtwelve/cours_nsi/R%C3%A9cursivit%C3%A9/Dichotomie.ipynb#X10sdnNjb2RlLXZmcw%3D%3D?line=21'>22</a>\u001b[0m \u001b[39melse\u001b[39;00m:\n\u001b[1;32m---> <a href='vscode-notebook-cell://github/ecnivtwelve/cours_nsi/R%C3%A9cursivit%C3%A9/Dichotomie.ipynb#X10sdnNjb2RlLXZmcw%3D%3D?line=22'>23</a>\u001b[0m   \u001b[39mreturn\u001b[39;00m dichotomie_recursive(x, lst, m\u001b[39m+\u001b[39;49m\u001b[39m1\u001b[39;49m, b)\n",
            "\u001b[1;32mecnivtwelve\\cours_nsi\\Récursivité\\Dichotomie.ipynb Cell 8\u001b[0m line \u001b[0;36m1\n\u001b[0;32m      <a href='vscode-notebook-cell://github/ecnivtwelve/cours_nsi/R%C3%A9cursivit%C3%A9/Dichotomie.ipynb#X10sdnNjb2RlLXZmcw%3D%3D?line=7'>8</a>\u001b[0m \u001b[39m# cas de base : défini le cas trivial et renvoyer la valeur True ou False\u001b[39;00m\n\u001b[0;32m      <a href='vscode-notebook-cell://github/ecnivtwelve/cours_nsi/R%C3%A9cursivit%C3%A9/Dichotomie.ipynb#X10sdnNjb2RlLXZmcw%3D%3D?line=8'>9</a>\u001b[0m \u001b[39mif\u001b[39;00m a \u001b[39m==\u001b[39m b:\n\u001b[1;32m---> <a href='vscode-notebook-cell://github/ecnivtwelve/cours_nsi/R%C3%A9cursivit%C3%A9/Dichotomie.ipynb#X10sdnNjb2RlLXZmcw%3D%3D?line=9'>10</a>\u001b[0m   \u001b[39mif\u001b[39;00m (lst[a] \u001b[39m==\u001b[39m x):\n\u001b[0;32m     <a href='vscode-notebook-cell://github/ecnivtwelve/cours_nsi/R%C3%A9cursivit%C3%A9/Dichotomie.ipynb#X10sdnNjb2RlLXZmcw%3D%3D?line=10'>11</a>\u001b[0m     \u001b[39mreturn\u001b[39;00m a\n\u001b[0;32m     <a href='vscode-notebook-cell://github/ecnivtwelve/cours_nsi/R%C3%A9cursivit%C3%A9/Dichotomie.ipynb#X10sdnNjb2RlLXZmcw%3D%3D?line=11'>12</a>\u001b[0m   \u001b[39melse\u001b[39;00m:\n",
            "\u001b[1;31mIndexError\u001b[0m: list index out of range"
          ]
        }
      ],
      "source": [
        "assert dichotomie_recursive(1,[1,2,3]) == 0\n",
        "assert dichotomie_recursive(5,[1,2,3]) == None\n",
        "assert dichotomie_recursive(5,[1,2,3,5,6,7,8]) == 3"
      ]
    },
    {
      "cell_type": "markdown",
      "metadata": {
        "id": "43Ka-GgaS8_D"
      },
      "source": [
        "\n",
        "\n",
        "```\n",
        "# Ce texte est au format code\n",
        "```\n",
        "\n",
        "Version alternative à compléter :"
      ]
    },
    {
      "cell_type": "code",
      "execution_count": 64,
      "metadata": {
        "id": "Lp_k3lXMSbDZ"
      },
      "outputs": [],
      "source": [
        "# si vous n'aimez pas les arguments par défaut, vous pouvez procéder ainsi :\n",
        "def dichotomie_recursive2(x, l) :\n",
        " return dicho_rec(x,l,0,len(l) - 1)\n",
        "\n",
        "def dicho_rec(x , lst, a , b) :\n",
        "  # cas de base : défini le cas trivial et renvoyer la valeur True ou False\n",
        "  if a == b:\n",
        "    if (lst[a] == x):\n",
        "      return a\n",
        "    else:\n",
        "      return None\n",
        "\n",
        "  # cas général : calculer le milieu m, et traiter les 3 cas (lst[m]=x; lst[m]>x; lst[m]<x)\n",
        "  m = (a+b) // 2\n",
        "\n",
        "  if lst[m] == x:\n",
        "    return m\n",
        "  elif lst[m] > x:\n",
        "    return dicho_rec(x, lst, a, m-1)\n",
        "  else:\n",
        "    return dicho_rec(x, lst, m+1, b)\n",
        " "
      ]
    },
    {
      "cell_type": "markdown",
      "metadata": {
        "id": "vAEazZbvV0XZ"
      },
      "source": [
        "# Il est possible aussi de procéder d'une autre manière, sans les paramètres a et b, avec le slicing :\n",
        " Voyons cela sur un exemple :\n",
        "\n",
        " l = [ 1 , 2 , 3 , 4 , 5 ]\n",
        "\n",
        " <hr>premier exemple :\n",
        " on cherche 4 dans la liste.\n",
        "<hr>\n",
        "<pre>\n",
        " premier appel : cherche 4 dans [ 1 , 2 , 3 , 4 , 5 ]\n",
        " rang de l'élment au milieu : m =  len(lst) // 2 = 2\n",
        " la valeur d'indice 2 est 3, qui est inférieure à la valeur cherchée.\n",
        " on peut dans ce cas écrire que le rang de la valeur cherché est :<br>\n",
        "<b> 3 (rang de m + 1)  + position de 4 dans l[m+1:] =[4 , 5]</b>\n",
        "</pre>\n",
        "\n",
        " <hr>Deuxième exemple :  cette fois ci la valeur cherché est 2 :<hr>\n",
        " <pre>\n",
        " premier appel : cherche 2 dans [ 1 , 2 , 3 , 4 , 5 ]\n",
        " rang de l'élment au milieu : m =  len(lst) // 2 = 2\n",
        " la valeur d'indice 2 est 3, qui est supérieure à la valeur cherchée.\n",
        " on peut écrire que le rang de la valeur cherché est :<br>\n",
        " <b>position de 2 dans l[:m]= [1 , 2]</b><hr>\n",
        "</pre>\n",
        "\n",
        " Analysez bien la situation et proposez une seconde implémentation de l'algorithme.<br>\n",
        " **Attention** le cas de base renvoie None, donc on ne peux pas additionner m+1+resultat de la fonction, il faut vérifier si ce résultat est None..."
      ]
    },
    {
      "cell_type": "code",
      "execution_count": 69,
      "metadata": {
        "id": "xzFKAPK-YBLU"
      },
      "outputs": [
        {
          "name": "stdout",
          "output_type": "stream",
          "text": [
            "1\n"
          ]
        }
      ],
      "source": [
        "#votre code ici\n",
        "#votre code ici\n",
        "def dicho(x,L):\n",
        "    n = len(L)\n",
        "\n",
        "    if n == 1:\n",
        "        if L[0] == x:\n",
        "            return L[0]\n",
        "        else:\n",
        "            return None\n",
        "    else:\n",
        "        m = n // 2\n",
        "        if L[m] == x:\n",
        "            return m\n",
        "        elif L[m]>x:\n",
        "            result = dicho(x,L[:m])\n",
        "            if result == None:\n",
        "                return None\n",
        "            else:\n",
        "                return result\n",
        "        else:\n",
        "            result = m+1+dicho(x, L[m+1:])\n",
        "            if result == None:\n",
        "                return None\n",
        "            else:\n",
        "                return result\n",
        "    \n",
        "print(dicho(1,[1,2,3]) )"
      ]
    },
    {
      "cell_type": "code",
      "execution_count": null,
      "metadata": {
        "id": "deJjrfpPYMG8"
      },
      "outputs": [],
      "source": [
        "assert dicho(1,[1,2,3]) == 0\n",
        "assert dicho(5,[1,2,3]) == None\n",
        "assert dicho(5,[1,2,3,5,6,7,8]) == 3"
      ]
    }
  ],
  "metadata": {
    "colab": {
      "collapsed_sections": [],
      "name": "Dichotomie recursive",
      "provenance": []
    },
    "kernelspec": {
      "display_name": "Python 3",
      "name": "python3"
    },
    "language_info": {
      "codemirror_mode": {
        "name": "ipython",
        "version": 3
      },
      "file_extension": ".py",
      "mimetype": "text/x-python",
      "name": "python",
      "nbconvert_exporter": "python",
      "pygments_lexer": "ipython3",
      "version": "3.9.5"
    }
  },
  "nbformat": 4,
  "nbformat_minor": 0
}
