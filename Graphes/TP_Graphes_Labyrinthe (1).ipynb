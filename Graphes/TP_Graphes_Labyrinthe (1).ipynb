{
  "cells": [
    {
      "cell_type": "markdown",
      "metadata": {
        "id": "TPMZ4mWVa0BS"
      },
      "source": [
        "   # TP Graphes : modéliser un labyrinthe\n",
        "   adaptation d'un TP publié sur : https://www.di.ens.fr/~mauborgn/td-99/programmation/tp8.html\n",
        "   "
      ]
    },
    {
      "cell_type": "markdown",
      "metadata": {
        "id": "PutF-7c2a0BV"
      },
      "source": [
        "Considérons le problème suivant :\n",
        "\n",
        "rechercher le chemin le plus long entre deux stations dans le métro. Indépendamment de l'aspect ludique, c'est en fait un problème difficile qu'on aurait bien du mal à résoudre de façon raisonnable sur un gros graphe comme celui du métro. \n",
        "Pour simplifier, nous allons donc considérer des labyrinthes.\n",
        "\n",
        "## Les labyrinthes\n",
        "\n",
        "Voici l'image d'un labyrinthe :\n",
        "<img src=\"https://www.di.ens.fr/~mauborgn/td-99/programmation/petitlab.gif\">"
      ]
    },
    {
      "cell_type": "markdown",
      "metadata": {
        "id": "-rY5IDK0a0BX"
      },
      "source": [
        "Ce labyrinthe correspond au graphe suivant :\n",
        "<img src=\"https://www.di.ens.fr/~mauborgn/td-99/programmation/petit.gif\">\n",
        "\n",
        "- **Chaque somment du graphe correspond à une case du labyrinthe**\n",
        "\n",
        "- **une arête relie 2 cases voisines quand le passage est possible.**\n",
        "\n",
        "- **Si une paroie empêche de passer on ne met pas l'arête.**\n",
        "\n",
        "Par exemple il n'y a pas d'arête entre les sommets (1,1) et (1,2) mais il y en a une entre (1,1) et (2,1).  \n",
        "\n",
        "## I. Implémentation du graphe et une première représentation\n",
        "\n",
        "### 1. Commençons à implémenter ce graphe  \n",
        "Vous utiliserez l'implémentation de graphe fournie ci-dessous, vous nommerez les sommets (1,1) (1,2)  etc ...  \n",
        "A quoi correspond l'attribut `lstAdj`? De quel type est-il?\n",
        " \n"
      ]
    },
    {
      "cell_type": "code",
      "execution_count": 16,
      "metadata": {
        "id": "CqK4qaaBa0Ba",
        "trusted": false
      },
      "outputs": [],
      "source": [
        "class graph() :\n",
        "    def __init__(self) :\n",
        "        self.lstAdj={}\n",
        "    def __str__(self):\n",
        "        return str(self.lstAdj)\n",
        "    def addSommet(self,sommet):\n",
        "        self.lstAdj[sommet]=[]\n",
        "    def addArrete(self,sa,sb) :\n",
        "        self.lstAdj[sa].append(sb)\n",
        "        self.lstAdj[sb].append(sa)\n",
        "\n",
        "# 1) créez un graphe labyrinthe\n",
        "# 2) ajoutez les sommets (1,1) et (1,2 puis l'arrête (1,1)--(1,2)\n",
        "labyrinthe = graph()\n",
        "labyrinthe.addSommet((1,1))\n",
        "labyrinthe.addSommet((1,2))\n",
        "labyrinthe.addArrete((1,1), (1,2))"
      ]
    },
    {
      "cell_type": "code",
      "execution_count": 2,
      "metadata": {
        "id": "bwEN9E3ha0Br",
        "trusted": false
      },
      "outputs": [],
      "source": [
        "assert labyrinthe.lstAdj[(1,1)] == [(1,2)],\"vous avez fait une erreur...\""
      ]
    },
    {
      "cell_type": "markdown",
      "metadata": {
        "id": "NNrqWszda0B5"
      },
      "source": [
        "### 2.  Ajoutons tous les sommets dans le graphe représentant ce labyrinthe\n"
      ]
    },
    {
      "cell_type": "code",
      "execution_count": 17,
      "metadata": {
        "id": "tL7o3VnAa0B7",
        "trusted": false
      },
      "outputs": [
        {
          "name": "stdout",
          "output_type": "stream",
          "text": [
            "{(1, 1): [], (1, 2): [], (1, 3): [], (1, 4): [], (1, 5): [], (1, 6): [], (1, 7): [], (1, 8): [], (2, 1): [], (2, 2): [], (2, 3): [], (2, 4): [], (2, 5): [], (2, 6): [], (2, 7): [], (2, 8): [], (3, 1): [], (3, 2): [], (3, 3): [], (3, 4): [], (3, 5): [], (3, 6): [], (3, 7): [], (3, 8): [], (4, 1): [], (4, 2): [], (4, 3): [], (4, 4): [], (4, 5): [], (4, 6): [], (4, 7): [], (4, 8): []}\n"
          ]
        }
      ],
      "source": [
        "# Entrez tous les sommets. Vous ne devez pas les entrer un par un, utilisez deux boucles imbriquées...\n",
        "for i in range(4):\n",
        "    for y in range (8):\n",
        "        labyrinthe.addSommet((i+1,y+1))\n",
        "        \n",
        "print(labyrinthe.lstAdj)"
      ]
    },
    {
      "cell_type": "markdown",
      "metadata": {
        "id": "hBrCGIaZa0CB"
      },
      "source": [
        "### 3.  Ajoutons les arêtes.\n",
        "C'est un peu fastidieux, alors nous vous fournissons une version avec la plupart des arêtes déjà ajoutées, mais il en manque quelques unes...."
      ]
    },
    {
      "cell_type": "code",
      "execution_count": 18,
      "metadata": {
        "id": "BJUV7kWAa0CE",
        "trusted": false
      },
      "outputs": [],
      "source": [
        "labyrinthe.addArrete((1,1),(2,1))\n",
        "labyrinthe.addArrete((2,1),(2,2))\n",
        "labyrinthe.addArrete((2,2),(2,3))\n",
        "labyrinthe.addArrete((2,2),(3,2))\n",
        "labyrinthe.addArrete((2,3),(1,3))\n",
        "labyrinthe.addArrete((1,3),(1,4))\n",
        "labyrinthe.addArrete((1,4),(1,5))\n",
        "labyrinthe.addArrete((1,4),(2,4))\n",
        "labyrinthe.addArrete((1,5),(2,5))\n",
        "labyrinthe.addArrete((2,7),(3,7))\n",
        "labyrinthe.addArrete((1,6),(1,7))\n",
        "labyrinthe.addArrete((2,4),(3,4))\n",
        "labyrinthe.addArrete((1,7),(1,8))\n",
        "labyrinthe.addArrete((1,8),(2,8))\n",
        "labyrinthe.addArrete((1,2),(3,2))"
      ]
    },
    {
      "cell_type": "markdown",
      "metadata": {
        "id": "YuzKYEt1a0CK"
      },
      "source": [
        "### 4.  Dessin de votre labyrinthe\n",
        "En créant votre graphe vous avez créé votre labyrinthe.\n",
        "Pour visualiser ce labyrinthe nous vous fournissons le script ci-dessous.  \n",
        "Nous allons utiliser `Turtle` de la bibliothèque `mobilechelonian`, qui fonctionne mieux sur jupyter que la bibliothèque Turtle que nous avons déjà utilisée. les commandes ressemblent beaucoup à celles que vous connaissez.  \n",
        "Vous n'avez pas besoin d'étudier en détail ce script, vous devrez juste dessiner ce labyrinthe en executant dans la cellule suivante la commande:  \n",
        "`showLabyrinthe(cote,nli,ncol)` où:\n",
        "- `cote` est un entier qui code la longueur des coté des cases (ici on va prendre 50)\n",
        "- `nli` et `ncol` sont les nombres de lignes et de colones de votre labyrinthe, donc ici 4 et 8."
      ]
    },
    {
      "cell_type": "code",
      "execution_count": 19,
      "metadata": {
        "id": "_lla0v-O3da9"
      },
      "outputs": [
        {
          "name": "stdout",
          "output_type": "stream",
          "text": [
            "Defaulting to user installation because normal site-packages is not writeable\n",
            "Requirement already satisfied: ColabTurtle in c:\\users\\vlinise\\appdata\\roaming\\python\\python39\\site-packages (2.1.0)\n"
          ]
        },
        {
          "name": "stderr",
          "output_type": "stream",
          "text": [
            "WARNING: You are using pip version 21.1.1; however, version 23.3.1 is available.\n",
            "You should consider upgrading via the 'c:\\program files\\python39\\python.exe -m pip install --upgrade pip' command.\n"
          ]
        }
      ],
      "source": [
        "# Exécutez cette cellule\n",
        "!pip3 install ColabTurtle"
      ]
    },
    {
      "cell_type": "code",
      "execution_count": 20,
      "metadata": {
        "id": "1RCI8Cqwa0CM",
        "trusted": false
      },
      "outputs": [],
      "source": [
        "from ColabTurtle.Turtle import *\n",
        "import ColabTurtle\n",
        "t = ColabTurtle.Turtle\n",
        "\n",
        "\n",
        "def showLabyrinthe(labyrinthe,cote,nli,ncol):\n",
        "    t.initializeTurtle()\n",
        "    t.bgcolor(\"black\")\n",
        "    #lab=t.Turtle()\n",
        "    t.speed(10)\n",
        "\n",
        "    cadre(nli,ncol,cote)\n",
        "    paroiesVerticales(nli,ncol,cote)\n",
        "    paroiesHorizontales(nli,ncol,cote)\n",
        "\n",
        "\n",
        "def cadre(nli,ncol,cote):\n",
        "    t.penup()\n",
        "    t.goto(10,10)\n",
        "    t.right(90)\n",
        "    t.pendown()\n",
        "    #dessin parois extérieures\n",
        "\n",
        "    for _ in range(2):\n",
        "        for i in range(ncol):\n",
        "            t.forward(cote)\n",
        "        t.right(90)\n",
        "        for i in range(nli):\n",
        "            t.forward(cote)\n",
        "        t.right(90)\n",
        "\n",
        "def paroiesVerticales(nli,ncol,dist):\n",
        "    # dessin des parois internes verticales\n",
        "\n",
        "    for i in range(1,nli+1):\n",
        "        for j in range(1,ncol) :\n",
        "            dess=(i,j+1) not in labyrinthe.lstAdj[(i,j)]\n",
        "            if dess :\n",
        "                t.penup()\n",
        "                t.forward(dist)\n",
        "                t.pendown()\n",
        "                t.right(90)\n",
        "                t.forward(dist)\n",
        "                t.backward(dist)\n",
        "                t.left(90)\n",
        "            else :\n",
        "                t.penup()\n",
        "                t.forward(dist)\n",
        "\n",
        "        t.penup()\n",
        "        t.goto(10,10)\n",
        "        t.right(90)\n",
        "        t.forward(dist*i)\n",
        "        t.left(90)\n",
        "        \n",
        "def paroiesHorizontales(nli,ncol,cote):\n",
        "\n",
        "    # dessin des parois internes horizontales\n",
        "    t.penup()\n",
        "    t.goto(10,10+cote)\n",
        "    for i in range(1,nli):\n",
        "        for j in range(1,ncol) :\n",
        "            dess=(i+1,j) not in labyrinthe.lstAdj[(i,j)]\n",
        "            if dess :\n",
        "                t.pendown()\n",
        "                t.forward(cote)\n",
        "            else :\n",
        "                t.penup()\n",
        "                t.forward(cote)\n",
        "\n",
        "        t.penup()\n",
        "        t.goto(10,10+cote*(i+1))\n",
        "        \n"
      ]
    },
    {
      "cell_type": "code",
      "execution_count": 21,
      "metadata": {
        "id": "pShJ_wXla0CU",
        "scrolled": false,
        "trusted": false
      },
      "outputs": [
        {
          "data": {
            "text/html": [
              "\n",
              "      <svg width=\"800\" height=\"500\">\n",
              "        <rect width=\"100%\" height=\"100%\" fill=\"black\"/>\n",
              "        <line x1=\"10\" y1=\"10\" x2=\"60.0\" y2=\"10.0\" stroke-linecap=\"round\" style=\"stroke:white;stroke-width:4\"/><line x1=\"60.0\" y1=\"10.0\" x2=\"110.0\" y2=\"10.0\" stroke-linecap=\"round\" style=\"stroke:white;stroke-width:4\"/><line x1=\"110.0\" y1=\"10.0\" x2=\"160.0\" y2=\"10.0\" stroke-linecap=\"round\" style=\"stroke:white;stroke-width:4\"/><line x1=\"160.0\" y1=\"10.0\" x2=\"210.0\" y2=\"10.0\" stroke-linecap=\"round\" style=\"stroke:white;stroke-width:4\"/><line x1=\"210.0\" y1=\"10.0\" x2=\"260.0\" y2=\"10.0\" stroke-linecap=\"round\" style=\"stroke:white;stroke-width:4\"/><line x1=\"260.0\" y1=\"10.0\" x2=\"310.0\" y2=\"10.0\" stroke-linecap=\"round\" style=\"stroke:white;stroke-width:4\"/><line x1=\"310.0\" y1=\"10.0\" x2=\"360.0\" y2=\"10.0\" stroke-linecap=\"round\" style=\"stroke:white;stroke-width:4\"/><line x1=\"360.0\" y1=\"10.0\" x2=\"410.0\" y2=\"10.0\" stroke-linecap=\"round\" style=\"stroke:white;stroke-width:4\"/><line x1=\"410.0\" y1=\"10.0\" x2=\"410.0\" y2=\"60.0\" stroke-linecap=\"round\" style=\"stroke:white;stroke-width:4\"/><line x1=\"410.0\" y1=\"60.0\" x2=\"410.0\" y2=\"110.0\" stroke-linecap=\"round\" style=\"stroke:white;stroke-width:4\"/><line x1=\"410.0\" y1=\"110.0\" x2=\"410.0\" y2=\"160.0\" stroke-linecap=\"round\" style=\"stroke:white;stroke-width:4\"/><line x1=\"410.0\" y1=\"160.0\" x2=\"410.0\" y2=\"210.0\" stroke-linecap=\"round\" style=\"stroke:white;stroke-width:4\"/><line x1=\"410.0\" y1=\"210.0\" x2=\"360.0\" y2=\"210.0\" stroke-linecap=\"round\" style=\"stroke:white;stroke-width:4\"/><line x1=\"360.0\" y1=\"210.0\" x2=\"310.0\" y2=\"210.0\" stroke-linecap=\"round\" style=\"stroke:white;stroke-width:4\"/><line x1=\"310.0\" y1=\"210.0\" x2=\"260.0\" y2=\"210.0\" stroke-linecap=\"round\" style=\"stroke:white;stroke-width:4\"/><line x1=\"260.0\" y1=\"210.0\" x2=\"210.0\" y2=\"210.0\" stroke-linecap=\"round\" style=\"stroke:white;stroke-width:4\"/><line x1=\"210.0\" y1=\"210.0\" x2=\"160.0\" y2=\"210.0\" stroke-linecap=\"round\" style=\"stroke:white;stroke-width:4\"/><line x1=\"160.0\" y1=\"210.0\" x2=\"110.0\" y2=\"210.0\" stroke-linecap=\"round\" style=\"stroke:white;stroke-width:4\"/><line x1=\"110.0\" y1=\"210.0\" x2=\"60.0\" y2=\"210.0\" stroke-linecap=\"round\" style=\"stroke:white;stroke-width:4\"/><line x1=\"60.0\" y1=\"210.0\" x2=\"10.0\" y2=\"210.0\" stroke-linecap=\"round\" style=\"stroke:white;stroke-width:4\"/><line x1=\"10.0\" y1=\"210.0\" x2=\"10.0\" y2=\"160.0\" stroke-linecap=\"round\" style=\"stroke:white;stroke-width:4\"/><line x1=\"10.0\" y1=\"160.0\" x2=\"10.0\" y2=\"110.0\" stroke-linecap=\"round\" style=\"stroke:white;stroke-width:4\"/><line x1=\"10.0\" y1=\"110.0\" x2=\"10.0\" y2=\"60.0\" stroke-linecap=\"round\" style=\"stroke:white;stroke-width:4\"/><line x1=\"10.0\" y1=\"60.0\" x2=\"10.0\" y2=\"10.0\" stroke-linecap=\"round\" style=\"stroke:white;stroke-width:4\"/><line x1=\"60.0\" y1=\"10.0\" x2=\"60.0\" y2=\"60.0\" stroke-linecap=\"round\" style=\"stroke:white;stroke-width:4\"/><line x1=\"60.0\" y1=\"60.0\" x2=\"60.0\" y2=\"10.0\" stroke-linecap=\"round\" style=\"stroke:white;stroke-width:4\"/><line x1=\"110.0\" y1=\"10.0\" x2=\"110.0\" y2=\"60.0\" stroke-linecap=\"round\" style=\"stroke:white;stroke-width:4\"/><line x1=\"110.0\" y1=\"60.0\" x2=\"110.0\" y2=\"10.0\" stroke-linecap=\"round\" style=\"stroke:white;stroke-width:4\"/><line x1=\"260.0\" y1=\"10.0\" x2=\"260.0\" y2=\"60.0\" stroke-linecap=\"round\" style=\"stroke:white;stroke-width:4\"/><line x1=\"260.0\" y1=\"60.0\" x2=\"260.0\" y2=\"10.0\" stroke-linecap=\"round\" style=\"stroke:white;stroke-width:4\"/><line x1=\"160.0\" y1=\"60.0\" x2=\"160.0\" y2=\"110.0\" stroke-linecap=\"round\" style=\"stroke:white;stroke-width:4\"/><line x1=\"160.0\" y1=\"110.0\" x2=\"160.0\" y2=\"60.0\" stroke-linecap=\"round\" style=\"stroke:white;stroke-width:4\"/><line x1=\"210.0\" y1=\"60.0\" x2=\"210.0\" y2=\"110.0\" stroke-linecap=\"round\" style=\"stroke:white;stroke-width:4\"/><line x1=\"210.0\" y1=\"110.0\" x2=\"210.0\" y2=\"60.0\" stroke-linecap=\"round\" style=\"stroke:white;stroke-width:4\"/><line x1=\"260.0\" y1=\"60.0\" x2=\"260.0\" y2=\"110.0\" stroke-linecap=\"round\" style=\"stroke:white;stroke-width:4\"/><line x1=\"260.0\" y1=\"110.0\" x2=\"260.0\" y2=\"60.0\" stroke-linecap=\"round\" style=\"stroke:white;stroke-width:4\"/><line x1=\"310.0\" y1=\"60.0\" x2=\"310.0\" y2=\"110.0\" stroke-linecap=\"round\" style=\"stroke:white;stroke-width:4\"/><line x1=\"310.0\" y1=\"110.0\" x2=\"310.0\" y2=\"60.0\" stroke-linecap=\"round\" style=\"stroke:white;stroke-width:4\"/><line x1=\"360.0\" y1=\"60.0\" x2=\"360.0\" y2=\"110.0\" stroke-linecap=\"round\" style=\"stroke:white;stroke-width:4\"/><line x1=\"360.0\" y1=\"110.0\" x2=\"360.0\" y2=\"60.0\" stroke-linecap=\"round\" style=\"stroke:white;stroke-width:4\"/><line x1=\"60.0\" y1=\"110.0\" x2=\"60.0\" y2=\"160.0\" stroke-linecap=\"round\" style=\"stroke:white;stroke-width:4\"/><line x1=\"60.0\" y1=\"160.0\" x2=\"60.0\" y2=\"110.0\" stroke-linecap=\"round\" style=\"stroke:white;stroke-width:4\"/><line x1=\"110.0\" y1=\"110.0\" x2=\"110.0\" y2=\"160.0\" stroke-linecap=\"round\" style=\"stroke:white;stroke-width:4\"/><line x1=\"110.0\" y1=\"160.0\" x2=\"110.0\" y2=\"110.0\" stroke-linecap=\"round\" style=\"stroke:white;stroke-width:4\"/><line x1=\"160.0\" y1=\"110.0\" x2=\"160.0\" y2=\"160.0\" stroke-linecap=\"round\" style=\"stroke:white;stroke-width:4\"/><line x1=\"160.0\" y1=\"160.0\" x2=\"160.0\" y2=\"110.0\" stroke-linecap=\"round\" style=\"stroke:white;stroke-width:4\"/><line x1=\"210.0\" y1=\"110.0\" x2=\"210.0\" y2=\"160.0\" stroke-linecap=\"round\" style=\"stroke:white;stroke-width:4\"/><line x1=\"210.0\" y1=\"160.0\" x2=\"210.0\" y2=\"110.0\" stroke-linecap=\"round\" style=\"stroke:white;stroke-width:4\"/><line x1=\"260.0\" y1=\"110.0\" x2=\"260.0\" y2=\"160.0\" stroke-linecap=\"round\" style=\"stroke:white;stroke-width:4\"/><line x1=\"260.0\" y1=\"160.0\" x2=\"260.0\" y2=\"110.0\" stroke-linecap=\"round\" style=\"stroke:white;stroke-width:4\"/><line x1=\"310.0\" y1=\"110.0\" x2=\"310.0\" y2=\"160.0\" stroke-linecap=\"round\" style=\"stroke:white;stroke-width:4\"/><line x1=\"310.0\" y1=\"160.0\" x2=\"310.0\" y2=\"110.0\" stroke-linecap=\"round\" style=\"stroke:white;stroke-width:4\"/><line x1=\"360.0\" y1=\"110.0\" x2=\"360.0\" y2=\"160.0\" stroke-linecap=\"round\" style=\"stroke:white;stroke-width:4\"/><line x1=\"360.0\" y1=\"160.0\" x2=\"360.0\" y2=\"110.0\" stroke-linecap=\"round\" style=\"stroke:white;stroke-width:4\"/><line x1=\"60.0\" y1=\"160.0\" x2=\"60.0\" y2=\"210.0\" stroke-linecap=\"round\" style=\"stroke:white;stroke-width:4\"/><line x1=\"60.0\" y1=\"210.0\" x2=\"60.0\" y2=\"160.0\" stroke-linecap=\"round\" style=\"stroke:white;stroke-width:4\"/><line x1=\"110.0\" y1=\"160.0\" x2=\"110.0\" y2=\"210.0\" stroke-linecap=\"round\" style=\"stroke:white;stroke-width:4\"/><line x1=\"110.0\" y1=\"210.0\" x2=\"110.0\" y2=\"160.0\" stroke-linecap=\"round\" style=\"stroke:white;stroke-width:4\"/><line x1=\"160.0\" y1=\"160.0\" x2=\"160.0\" y2=\"210.0\" stroke-linecap=\"round\" style=\"stroke:white;stroke-width:4\"/><line x1=\"160.0\" y1=\"210.0\" x2=\"160.0\" y2=\"160.0\" stroke-linecap=\"round\" style=\"stroke:white;stroke-width:4\"/><line x1=\"210.0\" y1=\"160.0\" x2=\"210.0\" y2=\"210.0\" stroke-linecap=\"round\" style=\"stroke:white;stroke-width:4\"/><line x1=\"210.0\" y1=\"210.0\" x2=\"210.0\" y2=\"160.0\" stroke-linecap=\"round\" style=\"stroke:white;stroke-width:4\"/><line x1=\"260.0\" y1=\"160.0\" x2=\"260.0\" y2=\"210.0\" stroke-linecap=\"round\" style=\"stroke:white;stroke-width:4\"/><line x1=\"260.0\" y1=\"210.0\" x2=\"260.0\" y2=\"160.0\" stroke-linecap=\"round\" style=\"stroke:white;stroke-width:4\"/><line x1=\"310.0\" y1=\"160.0\" x2=\"310.0\" y2=\"210.0\" stroke-linecap=\"round\" style=\"stroke:white;stroke-width:4\"/><line x1=\"310.0\" y1=\"210.0\" x2=\"310.0\" y2=\"160.0\" stroke-linecap=\"round\" style=\"stroke:white;stroke-width:4\"/><line x1=\"360.0\" y1=\"160.0\" x2=\"360.0\" y2=\"210.0\" stroke-linecap=\"round\" style=\"stroke:white;stroke-width:4\"/><line x1=\"360.0\" y1=\"210.0\" x2=\"360.0\" y2=\"160.0\" stroke-linecap=\"round\" style=\"stroke:white;stroke-width:4\"/><line x1=\"60.0\" y1=\"60.0\" x2=\"110.0\" y2=\"60.0\" stroke-linecap=\"round\" style=\"stroke:white;stroke-width:4\"/><line x1=\"260.0\" y1=\"60.0\" x2=\"310.0\" y2=\"60.0\" stroke-linecap=\"round\" style=\"stroke:white;stroke-width:4\"/><line x1=\"310.0\" y1=\"60.0\" x2=\"360.0\" y2=\"60.0\" stroke-linecap=\"round\" style=\"stroke:white;stroke-width:4\"/><line x1=\"10\" y1=\"110\" x2=\"60.0\" y2=\"110.0\" stroke-linecap=\"round\" style=\"stroke:white;stroke-width:4\"/><line x1=\"110.0\" y1=\"110.0\" x2=\"160.0\" y2=\"110.0\" stroke-linecap=\"round\" style=\"stroke:white;stroke-width:4\"/><line x1=\"210.0\" y1=\"110.0\" x2=\"260.0\" y2=\"110.0\" stroke-linecap=\"round\" style=\"stroke:white;stroke-width:4\"/><line x1=\"260.0\" y1=\"110.0\" x2=\"310.0\" y2=\"110.0\" stroke-linecap=\"round\" style=\"stroke:white;stroke-width:4\"/><line x1=\"10\" y1=\"160\" x2=\"60.0\" y2=\"160.0\" stroke-linecap=\"round\" style=\"stroke:white;stroke-width:4\"/><line x1=\"60.0\" y1=\"160.0\" x2=\"110.0\" y2=\"160.0\" stroke-linecap=\"round\" style=\"stroke:white;stroke-width:4\"/><line x1=\"110.0\" y1=\"160.0\" x2=\"160.0\" y2=\"160.0\" stroke-linecap=\"round\" style=\"stroke:white;stroke-width:4\"/><line x1=\"160.0\" y1=\"160.0\" x2=\"210.0\" y2=\"160.0\" stroke-linecap=\"round\" style=\"stroke:white;stroke-width:4\"/><line x1=\"210.0\" y1=\"160.0\" x2=\"260.0\" y2=\"160.0\" stroke-linecap=\"round\" style=\"stroke:white;stroke-width:4\"/><line x1=\"260.0\" y1=\"160.0\" x2=\"310.0\" y2=\"160.0\" stroke-linecap=\"round\" style=\"stroke:white;stroke-width:4\"/><line x1=\"310.0\" y1=\"160.0\" x2=\"360.0\" y2=\"160.0\" stroke-linecap=\"round\" style=\"stroke:white;stroke-width:4\"/>\n",
              "        <g visibility=visible transform=\"rotate(90,10,210) translate(-8, 192)\">\n",
              "<path style=\" stroke:none;fill-rule:evenodd;fill:white;fill-opacity:1;\" d=\"M 18.214844 0.632812 C 16.109375 1.800781 15.011719 4.074219 15.074219 7.132812 L 15.085938 7.652344 L 14.785156 7.496094 C 13.476562 6.824219 11.957031 6.671875 10.40625 7.066406 C 8.46875 7.550781 6.515625 9.15625 4.394531 11.992188 C 3.0625 13.777344 2.679688 14.636719 3.042969 15.027344 L 3.15625 15.152344 L 3.519531 15.152344 C 4.238281 15.152344 4.828125 14.886719 8.1875 13.039062 C 9.386719 12.378906 10.371094 11.839844 10.378906 11.839844 C 10.386719 11.839844 10.355469 11.929688 10.304688 12.035156 C 9.832031 13.09375 9.257812 14.820312 8.96875 16.078125 C 7.914062 20.652344 8.617188 24.53125 11.070312 27.660156 C 11.351562 28.015625 11.363281 27.914062 10.972656 28.382812 C 8.925781 30.84375 7.945312 33.28125 8.238281 35.1875 C 8.289062 35.527344 8.28125 35.523438 8.917969 35.523438 C 10.941406 35.523438 13.074219 34.207031 15.136719 31.6875 C 15.359375 31.417969 15.328125 31.425781 15.5625 31.574219 C 16.292969 32.042969 18.023438 32.964844 18.175781 32.964844 C 18.335938 32.964844 19.941406 32.210938 20.828125 31.71875 C 20.996094 31.625 21.136719 31.554688 21.136719 31.558594 C 21.203125 31.664062 21.898438 32.414062 22.222656 32.730469 C 23.835938 34.300781 25.5625 35.132812 27.582031 35.300781 C 27.90625 35.328125 27.9375 35.308594 28.007812 34.984375 C 28.382812 33.242188 27.625 30.925781 25.863281 28.425781 L 25.542969 27.96875 L 25.699219 27.785156 C 28.945312 23.960938 29.132812 18.699219 26.257812 11.96875 L 26.207031 11.84375 L 27.945312 12.703125 C 31.53125 14.476562 32.316406 14.800781 33.03125 14.800781 C 33.976562 14.800781 33.78125 13.9375 32.472656 12.292969 C 28.519531 7.355469 25.394531 5.925781 21.921875 7.472656 L 21.558594 7.636719 L 21.578125 7.542969 C 21.699219 6.992188 21.761719 5.742188 21.699219 5.164062 C 21.496094 3.296875 20.664062 1.964844 19.003906 0.855469 C 18.480469 0.503906 18.457031 0.5 18.214844 0.632812\"/>\n",
              "</g>\n",
              "      </svg>\n",
              "    "
            ],
            "text/plain": [
              "<IPython.core.display.HTML object>"
            ]
          },
          "metadata": {},
          "output_type": "display_data"
        }
      ],
      "source": [
        "#exécutez le dessin :\n",
        "showLabyrinthe(labyrinthe,50,4,8)"
      ]
    },
    {
      "cell_type": "markdown",
      "metadata": {
        "id": "QmYptWXCa0CZ"
      },
      "source": [
        "# 🤔 \n",
        "Si vous comparez au labyrinthe donné au départ, vous observez que des paroies supplémentaires sont apparues.    \n",
        "\n",
        "\n",
        "Nous allons essayer de comprendre pourquoi des paroies supplémentaires sont apparues, en utilisant un script analogue au précédent, pour visualiser le graphe que nous avons créé. \n",
        "Soyez patients, la vitesse de la tortue est réglée à son maximum, mais cela reste ... une tortue!  \n",
        "Il faut attendre qu'elle ait terminé avant de poursuivre."
      ]
    },
    {
      "cell_type": "code",
      "execution_count": 22,
      "metadata": {
        "id": "ptaC4yBla0Ca",
        "trusted": false
      },
      "outputs": [],
      "source": [
        "import ColabTurtle\n",
        "t = ColabTurtle.Turtle\n",
        "\n",
        "\n",
        "def drawGraph() :\n",
        "    t.initializeTurtle()\n",
        "    t.speed(10)\n",
        "    t.penup()\n",
        "    t.goto(10,50)\n",
        "    t.right(90)\n",
        "    t.pendown()\n",
        "\n",
        "\n",
        "    for i in range(1,5) :\n",
        "        for j in range(1,9) :\n",
        "            drawCircle(50,i,j)\n",
        "            t.forward(100)\n",
        "        t.right(90)\n",
        "        t.forward(100)\n",
        "        t.left(90)\n",
        "        t.backward(100*8)\n",
        "\n",
        "\n",
        "            \n",
        "def drawCircle(cote,i,j) :\n",
        "    t.pendown()\n",
        "    right(90)\n",
        "    t.forward(25)\n",
        "    t.left(90)\n",
        "    for _ in range(3):\n",
        "        t.forward(50)\n",
        "        t.left(90)\n",
        "    t.forward(25)\n",
        "    t.left(90)\n",
        "    if (i+1,j) in labyrinthe.lstAdj[(i,j)] :\n",
        "        drawArreteVert(50)\n",
        "    if (i,j+1) in labyrinthe.lstAdj[(i,j)] :\n",
        "        drawArreteHor(50)\n",
        "    text(i,j)\n",
        "    t.penup()\n",
        "\n",
        "\n",
        "def drawArreteHor(cote):\n",
        "    t.penup()\n",
        "    t.color(\"red\")\n",
        "    t.forward(50)\n",
        "    t.pendown()\n",
        "    t.forward(50)\n",
        "    t.penup()\n",
        "    t.backward(100)\n",
        "\n",
        "    t.color(\"white\")\n",
        "    \n",
        "def drawArreteVert(cote):\n",
        "    t.color(\"red\")\n",
        "    t.penup()\n",
        "    t.forward(25)\n",
        "    t.right(90)\n",
        "    t.forward(25)\n",
        "    t.pendown()\n",
        "    t.forward(50)\n",
        "    t.penup()\n",
        "    t.backward(75)\n",
        "    t.left(90)\n",
        "    t.backward(25)\n",
        "    t.color(\"white\")\n",
        "\n",
        "def move(dir,l):\n",
        "    if dir == \"l\" :\n",
        "        t.left(90)\n",
        "    else :\n",
        "        t.right(90)\n",
        "    t.forward(l)\n",
        "    \n",
        "def draw(nb):\n",
        "    if nb ==1:\n",
        "        h=20\n",
        "        t.forward(h)\n",
        "        t.left(150)\n",
        "        t.forward(10) \n",
        "        t.penup()\n",
        "        t.backward(10)\n",
        "        t.right(150)\n",
        "        t.backward(h)\n",
        "\n",
        "    if nb == 2:\n",
        "        move(\"r\",10)\n",
        "        t.penup()\n",
        "        t.backward(10)\n",
        "        t.pendown()\n",
        "        move(\"l\",10)\n",
        "        move(\"r\",10)\n",
        "        for _ in range(2) :  move(\"l\",10)\n",
        "        t.penup()\n",
        "        move(\"r\",-20)\n",
        "\n",
        "    if nb == 3:\n",
        "        move(\"r\",10)\n",
        "        for _ in range(2) :  move(\"l\",10)\n",
        "        t.penup()\n",
        "        t.backward(10)\n",
        "        t.pendown()\n",
        "        move(\"r\",10)\n",
        "        move(\"l\",10)\n",
        "        t.penup()\n",
        "        move(\"r\",-20)\n",
        "\n",
        "\n",
        "    if nb == 4:\n",
        "        t.pendown()\n",
        "        t.right(90)\n",
        "        t.forward(15)\n",
        "        t.backward(5)\n",
        "        t.left(90)\n",
        "        t.forward(5)\n",
        "        t.backward(10)\n",
        "        t.forward(5)\n",
        "        t.right(90)\n",
        "        t.backward(10)\n",
        "        t.left(60)\n",
        "        t.forward(20)\n",
        "        t.backward(20)\n",
        "        t.left(30)\n",
        "        t.penup()\n",
        "\n",
        "    if nb == 5:\n",
        "        move(\"r\",10)\n",
        "        for _ in range(2) :  move(\"l\",10)\n",
        "        for _ in range(2) :  move(\"r\",10)\n",
        "        t.penup()\n",
        "        t.backward(10)\n",
        "        move(\"l\",-20)\n",
        "      \n",
        "    if nb == 6:\n",
        "        move(\"r\",10)\n",
        "        for i in range(3):  move(\"l\",10)\n",
        "        t.penup()\n",
        "        t.backward(10)\n",
        "        t.right(90)\n",
        "        t.pendown()\n",
        "        for i in range(2):  move(\"r\",10)\n",
        "        t.penup()\n",
        "        move(\"r\",20)\n",
        "        move(\"r\",10)\n",
        "        t.right(90)\n",
        "\n",
        "    if nb == 7:\n",
        "        t.right(30)\n",
        "        t.forward(25)\n",
        "        t.left(120)\n",
        "        t.forward(10)\n",
        "        t.penup()\n",
        "        t.backward(10)\n",
        "        t.right(120)\n",
        "        t.backward(25)\n",
        "        t.left(30)\n",
        "\n",
        "    if nb == 8:\n",
        "        t.forward(20)\n",
        "        for i in range(3):move(\"r\",10)\n",
        "        t.penup()\n",
        "        t.backward(10)\n",
        "        t.pendown()\n",
        "        move(\"l\",10)\n",
        "        move(\"r\",10)\n",
        "        t.right(90)\n",
        "        t.penup()\n",
        "\n",
        "\n",
        "def text(i,j) :\n",
        "    def ecriture(dico,elt):\n",
        "        t.forward(dico[elt][0])\n",
        "        t.left(dico[elt][1])\n",
        "        t.backward(dico[elt][2])\n",
        "        t.pendown()\n",
        "        draw(elt)\n",
        "        t.forward(dico[elt][3])\n",
        "        t.right(dico[elt][4])\n",
        "        t.backward(dico[elt][5])\n",
        "        t.penup()\n",
        "\n",
        "    t.penup()\n",
        "    dico_i = {1:[15,90,10,10,90,15], 2:[10,90,10,10,90,10], 3:[7,90,10,10,90,7],\\\n",
        "              4:[7,90,7,7,90,7]}\n",
        "    dico_j = {1:[40,90,10,10,90,40], 2:[27,90,10,10,90,27], 3:[27,90,10,10,90,27],\\\n",
        "              4:[28,90,7,7,90,28], 5:[28, 90, 10, 10, 90, 28], 6:[28, 90, 10, 10, 90, 28],\\\n",
        "              7:[28, 90, 10, 10, 90, 28], 8:[28, 90, 10, 10, 90, 28]}\n",
        "    ecriture(dico_i,i)\n",
        "    ecriture(dico_j,j)\n",
        "\n",
        "\n",
        "    "
      ]
    },
    {
      "cell_type": "code",
      "execution_count": 23,
      "metadata": {
        "id": "7_kzHKkma0Ce",
        "trusted": false
      },
      "outputs": [
        {
          "data": {
            "text/html": [
              "\n",
              "      <svg width=\"800\" height=\"500\">\n",
              "        <rect width=\"100%\" height=\"100%\" fill=\"black\"/>\n",
              "        <line x1=\"10\" y1=\"50\" x2=\"10.0\" y2=\"75.0\" stroke-linecap=\"round\" style=\"stroke:white;stroke-width:4\"/><line x1=\"10.0\" y1=\"75.0\" x2=\"60.0\" y2=\"75.0\" stroke-linecap=\"round\" style=\"stroke:white;stroke-width:4\"/><line x1=\"60.0\" y1=\"75.0\" x2=\"60.0\" y2=\"25.0\" stroke-linecap=\"round\" style=\"stroke:white;stroke-width:4\"/><line x1=\"60.0\" y1=\"25.0\" x2=\"10.0\" y2=\"25.0\" stroke-linecap=\"round\" style=\"stroke:white;stroke-width:4\"/><line x1=\"10.0\" y1=\"25.0\" x2=\"10.0\" y2=\"50.0\" stroke-linecap=\"round\" style=\"stroke:white;stroke-width:4\"/><line x1=\"35.0\" y1=\"75.0\" x2=\"35.0\" y2=\"125.0\" stroke-linecap=\"round\" style=\"stroke:red;stroke-width:4\"/><line x1=\"25.0\" y1=\"60.0\" x2=\"25.0\" y2=\"40.0\" stroke-linecap=\"round\" style=\"stroke:white;stroke-width:4\"/><line x1=\"25.0\" y1=\"40.0\" x2=\"20.0\" y2=\"48.66\" stroke-linecap=\"round\" style=\"stroke:white;stroke-width:4\"/><line x1=\"50.0\" y1=\"60.0\" x2=\"50.0\" y2=\"40.0\" stroke-linecap=\"round\" style=\"stroke:white;stroke-width:4\"/><line x1=\"50.0\" y1=\"40.0\" x2=\"45.0\" y2=\"48.66\" stroke-linecap=\"round\" style=\"stroke:white;stroke-width:4\"/><line x1=\"110.0\" y1=\"50.0\" x2=\"110.0\" y2=\"75.0\" stroke-linecap=\"round\" style=\"stroke:white;stroke-width:4\"/><line x1=\"110.0\" y1=\"75.0\" x2=\"160.0\" y2=\"75.0\" stroke-linecap=\"round\" style=\"stroke:white;stroke-width:4\"/><line x1=\"160.0\" y1=\"75.0\" x2=\"160.0\" y2=\"25.0\" stroke-linecap=\"round\" style=\"stroke:white;stroke-width:4\"/><line x1=\"160.0\" y1=\"25.0\" x2=\"110.0\" y2=\"25.0\" stroke-linecap=\"round\" style=\"stroke:white;stroke-width:4\"/><line x1=\"110.0\" y1=\"25.0\" x2=\"110.0\" y2=\"50.0\" stroke-linecap=\"round\" style=\"stroke:white;stroke-width:4\"/><line x1=\"125.0\" y1=\"60.0\" x2=\"125.0\" y2=\"40.0\" stroke-linecap=\"round\" style=\"stroke:white;stroke-width:4\"/><line x1=\"125.0\" y1=\"40.0\" x2=\"120.0\" y2=\"48.66\" stroke-linecap=\"round\" style=\"stroke:white;stroke-width:4\"/><line x1=\"137.0\" y1=\"60.0\" x2=\"147.0\" y2=\"60.0\" stroke-linecap=\"round\" style=\"stroke:white;stroke-width:4\"/><line x1=\"137.0\" y1=\"60.0\" x2=\"137.0\" y2=\"50.0\" stroke-linecap=\"round\" style=\"stroke:white;stroke-width:4\"/><line x1=\"137.0\" y1=\"50.0\" x2=\"147.0\" y2=\"50.0\" stroke-linecap=\"round\" style=\"stroke:white;stroke-width:4\"/><line x1=\"147.0\" y1=\"50.0\" x2=\"147.0\" y2=\"40.0\" stroke-linecap=\"round\" style=\"stroke:white;stroke-width:4\"/><line x1=\"147.0\" y1=\"40.0\" x2=\"137.0\" y2=\"40.0\" stroke-linecap=\"round\" style=\"stroke:white;stroke-width:4\"/><line x1=\"210.0\" y1=\"50.0\" x2=\"210.0\" y2=\"75.0\" stroke-linecap=\"round\" style=\"stroke:white;stroke-width:4\"/><line x1=\"210.0\" y1=\"75.0\" x2=\"260.0\" y2=\"75.0\" stroke-linecap=\"round\" style=\"stroke:white;stroke-width:4\"/><line x1=\"260.0\" y1=\"75.0\" x2=\"260.0\" y2=\"25.0\" stroke-linecap=\"round\" style=\"stroke:white;stroke-width:4\"/><line x1=\"260.0\" y1=\"25.0\" x2=\"210.0\" y2=\"25.0\" stroke-linecap=\"round\" style=\"stroke:white;stroke-width:4\"/><line x1=\"210.0\" y1=\"25.0\" x2=\"210.0\" y2=\"50.0\" stroke-linecap=\"round\" style=\"stroke:white;stroke-width:4\"/><line x1=\"235.0\" y1=\"75.0\" x2=\"235.0\" y2=\"125.0\" stroke-linecap=\"round\" style=\"stroke:red;stroke-width:4\"/><line x1=\"260.0\" y1=\"50.0\" x2=\"310.0\" y2=\"50.0\" stroke-linecap=\"round\" style=\"stroke:red;stroke-width:4\"/><line x1=\"225.0\" y1=\"60.0\" x2=\"225.0\" y2=\"40.0\" stroke-linecap=\"round\" style=\"stroke:white;stroke-width:4\"/><line x1=\"225.0\" y1=\"40.0\" x2=\"220.0\" y2=\"48.66\" stroke-linecap=\"round\" style=\"stroke:white;stroke-width:4\"/><line x1=\"237.0\" y1=\"60.0\" x2=\"247.0\" y2=\"60.0\" stroke-linecap=\"round\" style=\"stroke:white;stroke-width:4\"/><line x1=\"247.0\" y1=\"60.0\" x2=\"247.0\" y2=\"50.0\" stroke-linecap=\"round\" style=\"stroke:white;stroke-width:4\"/><line x1=\"247.0\" y1=\"50.0\" x2=\"237.0\" y2=\"50.0\" stroke-linecap=\"round\" style=\"stroke:white;stroke-width:4\"/><line x1=\"247.0\" y1=\"50.0\" x2=\"247.0\" y2=\"40.0\" stroke-linecap=\"round\" style=\"stroke:white;stroke-width:4\"/><line x1=\"247.0\" y1=\"40.0\" x2=\"237.0\" y2=\"40.0\" stroke-linecap=\"round\" style=\"stroke:white;stroke-width:4\"/><line x1=\"310.0\" y1=\"50.0\" x2=\"310.0\" y2=\"75.0\" stroke-linecap=\"round\" style=\"stroke:white;stroke-width:4\"/><line x1=\"310.0\" y1=\"75.0\" x2=\"360.0\" y2=\"75.0\" stroke-linecap=\"round\" style=\"stroke:white;stroke-width:4\"/><line x1=\"360.0\" y1=\"75.0\" x2=\"360.0\" y2=\"25.0\" stroke-linecap=\"round\" style=\"stroke:white;stroke-width:4\"/><line x1=\"360.0\" y1=\"25.0\" x2=\"310.0\" y2=\"25.0\" stroke-linecap=\"round\" style=\"stroke:white;stroke-width:4\"/><line x1=\"310.0\" y1=\"25.0\" x2=\"310.0\" y2=\"50.0\" stroke-linecap=\"round\" style=\"stroke:white;stroke-width:4\"/><line x1=\"335.0\" y1=\"75.0\" x2=\"335.0\" y2=\"125.0\" stroke-linecap=\"round\" style=\"stroke:red;stroke-width:4\"/><line x1=\"360.0\" y1=\"50.0\" x2=\"410.0\" y2=\"50.0\" stroke-linecap=\"round\" style=\"stroke:red;stroke-width:4\"/><line x1=\"325.0\" y1=\"60.0\" x2=\"325.0\" y2=\"40.0\" stroke-linecap=\"round\" style=\"stroke:white;stroke-width:4\"/><line x1=\"325.0\" y1=\"40.0\" x2=\"320.0\" y2=\"48.66\" stroke-linecap=\"round\" style=\"stroke:white;stroke-width:4\"/><line x1=\"338.0\" y1=\"57.0\" x2=\"353.0\" y2=\"57.0\" stroke-linecap=\"round\" style=\"stroke:white;stroke-width:4\"/><line x1=\"353.0\" y1=\"57.0\" x2=\"348.0\" y2=\"57.0\" stroke-linecap=\"round\" style=\"stroke:white;stroke-width:4\"/><line x1=\"348.0\" y1=\"57.0\" x2=\"348.0\" y2=\"52.0\" stroke-linecap=\"round\" style=\"stroke:white;stroke-width:4\"/><line x1=\"348.0\" y1=\"52.0\" x2=\"348.0\" y2=\"62.0\" stroke-linecap=\"round\" style=\"stroke:white;stroke-width:4\"/><line x1=\"348.0\" y1=\"62.0\" x2=\"348.0\" y2=\"57.0\" stroke-linecap=\"round\" style=\"stroke:white;stroke-width:4\"/><line x1=\"348.0\" y1=\"57.0\" x2=\"338.0\" y2=\"57.0\" stroke-linecap=\"round\" style=\"stroke:white;stroke-width:4\"/><line x1=\"338.0\" y1=\"57.0\" x2=\"348.0\" y2=\"39.679\" stroke-linecap=\"round\" style=\"stroke:white;stroke-width:4\"/><line x1=\"348.0\" y1=\"39.679\" x2=\"338.0\" y2=\"57.0\" stroke-linecap=\"round\" style=\"stroke:white;stroke-width:4\"/><line x1=\"410.0\" y1=\"50.0\" x2=\"410.0\" y2=\"75.0\" stroke-linecap=\"round\" style=\"stroke:white;stroke-width:4\"/><line x1=\"410.0\" y1=\"75.0\" x2=\"460.0\" y2=\"75.0\" stroke-linecap=\"round\" style=\"stroke:white;stroke-width:4\"/><line x1=\"460.0\" y1=\"75.0\" x2=\"460.0\" y2=\"25.0\" stroke-linecap=\"round\" style=\"stroke:white;stroke-width:4\"/><line x1=\"460.0\" y1=\"25.0\" x2=\"410.0\" y2=\"25.0\" stroke-linecap=\"round\" style=\"stroke:white;stroke-width:4\"/><line x1=\"410.0\" y1=\"25.0\" x2=\"410.0\" y2=\"50.0\" stroke-linecap=\"round\" style=\"stroke:white;stroke-width:4\"/><line x1=\"435.0\" y1=\"75.0\" x2=\"435.0\" y2=\"125.0\" stroke-linecap=\"round\" style=\"stroke:red;stroke-width:4\"/><line x1=\"425.0\" y1=\"60.0\" x2=\"425.0\" y2=\"40.0\" stroke-linecap=\"round\" style=\"stroke:white;stroke-width:4\"/><line x1=\"425.0\" y1=\"40.0\" x2=\"420.0\" y2=\"48.66\" stroke-linecap=\"round\" style=\"stroke:white;stroke-width:4\"/><line x1=\"438.0\" y1=\"60.0\" x2=\"448.0\" y2=\"60.0\" stroke-linecap=\"round\" style=\"stroke:white;stroke-width:4\"/><line x1=\"448.0\" y1=\"60.0\" x2=\"448.0\" y2=\"50.0\" stroke-linecap=\"round\" style=\"stroke:white;stroke-width:4\"/><line x1=\"448.0\" y1=\"50.0\" x2=\"438.0\" y2=\"50.0\" stroke-linecap=\"round\" style=\"stroke:white;stroke-width:4\"/><line x1=\"438.0\" y1=\"50.0\" x2=\"438.0\" y2=\"40.0\" stroke-linecap=\"round\" style=\"stroke:white;stroke-width:4\"/><line x1=\"438.0\" y1=\"40.0\" x2=\"448.0\" y2=\"40.0\" stroke-linecap=\"round\" style=\"stroke:white;stroke-width:4\"/><line x1=\"510.0\" y1=\"50.0\" x2=\"510.0\" y2=\"75.0\" stroke-linecap=\"round\" style=\"stroke:white;stroke-width:4\"/><line x1=\"510.0\" y1=\"75.0\" x2=\"560.0\" y2=\"75.0\" stroke-linecap=\"round\" style=\"stroke:white;stroke-width:4\"/><line x1=\"560.0\" y1=\"75.0\" x2=\"560.0\" y2=\"25.0\" stroke-linecap=\"round\" style=\"stroke:white;stroke-width:4\"/><line x1=\"560.0\" y1=\"25.0\" x2=\"510.0\" y2=\"25.0\" stroke-linecap=\"round\" style=\"stroke:white;stroke-width:4\"/><line x1=\"510.0\" y1=\"25.0\" x2=\"510.0\" y2=\"50.0\" stroke-linecap=\"round\" style=\"stroke:white;stroke-width:4\"/><line x1=\"560.0\" y1=\"50.0\" x2=\"610.0\" y2=\"50.0\" stroke-linecap=\"round\" style=\"stroke:red;stroke-width:4\"/><line x1=\"525.0\" y1=\"60.0\" x2=\"525.0\" y2=\"40.0\" stroke-linecap=\"round\" style=\"stroke:white;stroke-width:4\"/><line x1=\"525.0\" y1=\"40.0\" x2=\"520.0\" y2=\"48.66\" stroke-linecap=\"round\" style=\"stroke:white;stroke-width:4\"/><line x1=\"538.0\" y1=\"60.0\" x2=\"548.0\" y2=\"60.0\" stroke-linecap=\"round\" style=\"stroke:white;stroke-width:4\"/><line x1=\"548.0\" y1=\"60.0\" x2=\"548.0\" y2=\"50.0\" stroke-linecap=\"round\" style=\"stroke:white;stroke-width:4\"/><line x1=\"548.0\" y1=\"50.0\" x2=\"538.0\" y2=\"50.0\" stroke-linecap=\"round\" style=\"stroke:white;stroke-width:4\"/><line x1=\"538.0\" y1=\"50.0\" x2=\"538.0\" y2=\"60.0\" stroke-linecap=\"round\" style=\"stroke:white;stroke-width:4\"/><line x1=\"538.0\" y1=\"50.0\" x2=\"538.0\" y2=\"40.0\" stroke-linecap=\"round\" style=\"stroke:white;stroke-width:4\"/><line x1=\"538.0\" y1=\"40.0\" x2=\"548.0\" y2=\"40.0\" stroke-linecap=\"round\" style=\"stroke:white;stroke-width:4\"/><line x1=\"610.0\" y1=\"50.0\" x2=\"610.0\" y2=\"75.0\" stroke-linecap=\"round\" style=\"stroke:white;stroke-width:4\"/><line x1=\"610.0\" y1=\"75.0\" x2=\"660.0\" y2=\"75.0\" stroke-linecap=\"round\" style=\"stroke:white;stroke-width:4\"/><line x1=\"660.0\" y1=\"75.0\" x2=\"660.0\" y2=\"25.0\" stroke-linecap=\"round\" style=\"stroke:white;stroke-width:4\"/><line x1=\"660.0\" y1=\"25.0\" x2=\"610.0\" y2=\"25.0\" stroke-linecap=\"round\" style=\"stroke:white;stroke-width:4\"/><line x1=\"610.0\" y1=\"25.0\" x2=\"610.0\" y2=\"50.0\" stroke-linecap=\"round\" style=\"stroke:white;stroke-width:4\"/><line x1=\"660.0\" y1=\"50.0\" x2=\"710.0\" y2=\"50.0\" stroke-linecap=\"round\" style=\"stroke:red;stroke-width:4\"/><line x1=\"625.0\" y1=\"60.0\" x2=\"625.0\" y2=\"40.0\" stroke-linecap=\"round\" style=\"stroke:white;stroke-width:4\"/><line x1=\"625.0\" y1=\"40.0\" x2=\"620.0\" y2=\"48.66\" stroke-linecap=\"round\" style=\"stroke:white;stroke-width:4\"/><line x1=\"638.0\" y1=\"60.0\" x2=\"650.5\" y2=\"38.349\" stroke-linecap=\"round\" style=\"stroke:white;stroke-width:4\"/><line x1=\"650.5\" y1=\"38.349\" x2=\"640.5\" y2=\"38.349\" stroke-linecap=\"round\" style=\"stroke:white;stroke-width:4\"/><line x1=\"710.0\" y1=\"50.0\" x2=\"710.0\" y2=\"75.0\" stroke-linecap=\"round\" style=\"stroke:white;stroke-width:4\"/><line x1=\"710.0\" y1=\"75.0\" x2=\"760.0\" y2=\"75.0\" stroke-linecap=\"round\" style=\"stroke:white;stroke-width:4\"/><line x1=\"760.0\" y1=\"75.0\" x2=\"760.0\" y2=\"25.0\" stroke-linecap=\"round\" style=\"stroke:white;stroke-width:4\"/><line x1=\"760.0\" y1=\"25.0\" x2=\"710.0\" y2=\"25.0\" stroke-linecap=\"round\" style=\"stroke:white;stroke-width:4\"/><line x1=\"710.0\" y1=\"25.0\" x2=\"710.0\" y2=\"50.0\" stroke-linecap=\"round\" style=\"stroke:white;stroke-width:4\"/><line x1=\"735.0\" y1=\"75.0\" x2=\"735.0\" y2=\"125.0\" stroke-linecap=\"round\" style=\"stroke:red;stroke-width:4\"/><line x1=\"725.0\" y1=\"60.0\" x2=\"725.0\" y2=\"40.0\" stroke-linecap=\"round\" style=\"stroke:white;stroke-width:4\"/><line x1=\"725.0\" y1=\"40.0\" x2=\"720.0\" y2=\"48.66\" stroke-linecap=\"round\" style=\"stroke:white;stroke-width:4\"/><line x1=\"738.0\" y1=\"60.0\" x2=\"738.0\" y2=\"40.0\" stroke-linecap=\"round\" style=\"stroke:white;stroke-width:4\"/><line x1=\"738.0\" y1=\"40.0\" x2=\"748.0\" y2=\"40.0\" stroke-linecap=\"round\" style=\"stroke:white;stroke-width:4\"/><line x1=\"748.0\" y1=\"40.0\" x2=\"748.0\" y2=\"50.0\" stroke-linecap=\"round\" style=\"stroke:white;stroke-width:4\"/><line x1=\"748.0\" y1=\"50.0\" x2=\"738.0\" y2=\"50.0\" stroke-linecap=\"round\" style=\"stroke:white;stroke-width:4\"/><line x1=\"748.0\" y1=\"50.0\" x2=\"748.0\" y2=\"60.0\" stroke-linecap=\"round\" style=\"stroke:white;stroke-width:4\"/><line x1=\"748.0\" y1=\"60.0\" x2=\"738.0\" y2=\"60.0\" stroke-linecap=\"round\" style=\"stroke:white;stroke-width:4\"/><line x1=\"10.0\" y1=\"150.0\" x2=\"10.0\" y2=\"175.0\" stroke-linecap=\"round\" style=\"stroke:white;stroke-width:4\"/><line x1=\"10.0\" y1=\"175.0\" x2=\"60.0\" y2=\"175.0\" stroke-linecap=\"round\" style=\"stroke:white;stroke-width:4\"/><line x1=\"60.0\" y1=\"175.0\" x2=\"60.0\" y2=\"125.0\" stroke-linecap=\"round\" style=\"stroke:white;stroke-width:4\"/><line x1=\"60.0\" y1=\"125.0\" x2=\"10.0\" y2=\"125.0\" stroke-linecap=\"round\" style=\"stroke:white;stroke-width:4\"/><line x1=\"10.0\" y1=\"125.0\" x2=\"10.0\" y2=\"150.0\" stroke-linecap=\"round\" style=\"stroke:white;stroke-width:4\"/><line x1=\"60.0\" y1=\"150.0\" x2=\"110.0\" y2=\"150.0\" stroke-linecap=\"round\" style=\"stroke:red;stroke-width:4\"/><line x1=\"20.0\" y1=\"160.0\" x2=\"30.0\" y2=\"160.0\" stroke-linecap=\"round\" style=\"stroke:white;stroke-width:4\"/><line x1=\"20.0\" y1=\"160.0\" x2=\"20.0\" y2=\"150.0\" stroke-linecap=\"round\" style=\"stroke:white;stroke-width:4\"/><line x1=\"20.0\" y1=\"150.0\" x2=\"30.0\" y2=\"150.0\" stroke-linecap=\"round\" style=\"stroke:white;stroke-width:4\"/><line x1=\"30.0\" y1=\"150.0\" x2=\"30.0\" y2=\"140.0\" stroke-linecap=\"round\" style=\"stroke:white;stroke-width:4\"/><line x1=\"30.0\" y1=\"140.0\" x2=\"20.0\" y2=\"140.0\" stroke-linecap=\"round\" style=\"stroke:white;stroke-width:4\"/><line x1=\"50.0\" y1=\"160.0\" x2=\"50.0\" y2=\"140.0\" stroke-linecap=\"round\" style=\"stroke:white;stroke-width:4\"/><line x1=\"50.0\" y1=\"140.0\" x2=\"45.0\" y2=\"148.66\" stroke-linecap=\"round\" style=\"stroke:white;stroke-width:4\"/><line x1=\"110.0\" y1=\"150.0\" x2=\"110.0\" y2=\"175.0\" stroke-linecap=\"round\" style=\"stroke:white;stroke-width:4\"/><line x1=\"110.0\" y1=\"175.0\" x2=\"160.0\" y2=\"175.0\" stroke-linecap=\"round\" style=\"stroke:white;stroke-width:4\"/><line x1=\"160.0\" y1=\"175.0\" x2=\"160.0\" y2=\"125.0\" stroke-linecap=\"round\" style=\"stroke:white;stroke-width:4\"/><line x1=\"160.0\" y1=\"125.0\" x2=\"110.0\" y2=\"125.0\" stroke-linecap=\"round\" style=\"stroke:white;stroke-width:4\"/><line x1=\"110.0\" y1=\"125.0\" x2=\"110.0\" y2=\"150.0\" stroke-linecap=\"round\" style=\"stroke:white;stroke-width:4\"/><line x1=\"135.0\" y1=\"175.0\" x2=\"135.0\" y2=\"225.0\" stroke-linecap=\"round\" style=\"stroke:red;stroke-width:4\"/><line x1=\"160.0\" y1=\"150.0\" x2=\"210.0\" y2=\"150.0\" stroke-linecap=\"round\" style=\"stroke:red;stroke-width:4\"/><line x1=\"120.0\" y1=\"160.0\" x2=\"130.0\" y2=\"160.0\" stroke-linecap=\"round\" style=\"stroke:white;stroke-width:4\"/><line x1=\"120.0\" y1=\"160.0\" x2=\"120.0\" y2=\"150.0\" stroke-linecap=\"round\" style=\"stroke:white;stroke-width:4\"/><line x1=\"120.0\" y1=\"150.0\" x2=\"130.0\" y2=\"150.0\" stroke-linecap=\"round\" style=\"stroke:white;stroke-width:4\"/><line x1=\"130.0\" y1=\"150.0\" x2=\"130.0\" y2=\"140.0\" stroke-linecap=\"round\" style=\"stroke:white;stroke-width:4\"/><line x1=\"130.0\" y1=\"140.0\" x2=\"120.0\" y2=\"140.0\" stroke-linecap=\"round\" style=\"stroke:white;stroke-width:4\"/><line x1=\"137.0\" y1=\"160.0\" x2=\"147.0\" y2=\"160.0\" stroke-linecap=\"round\" style=\"stroke:white;stroke-width:4\"/><line x1=\"137.0\" y1=\"160.0\" x2=\"137.0\" y2=\"150.0\" stroke-linecap=\"round\" style=\"stroke:white;stroke-width:4\"/><line x1=\"137.0\" y1=\"150.0\" x2=\"147.0\" y2=\"150.0\" stroke-linecap=\"round\" style=\"stroke:white;stroke-width:4\"/><line x1=\"147.0\" y1=\"150.0\" x2=\"147.0\" y2=\"140.0\" stroke-linecap=\"round\" style=\"stroke:white;stroke-width:4\"/><line x1=\"147.0\" y1=\"140.0\" x2=\"137.0\" y2=\"140.0\" stroke-linecap=\"round\" style=\"stroke:white;stroke-width:4\"/><line x1=\"210.0\" y1=\"150.0\" x2=\"210.0\" y2=\"175.0\" stroke-linecap=\"round\" style=\"stroke:white;stroke-width:4\"/><line x1=\"210.0\" y1=\"175.0\" x2=\"260.0\" y2=\"175.0\" stroke-linecap=\"round\" style=\"stroke:white;stroke-width:4\"/><line x1=\"260.0\" y1=\"175.0\" x2=\"260.0\" y2=\"125.0\" stroke-linecap=\"round\" style=\"stroke:white;stroke-width:4\"/><line x1=\"260.0\" y1=\"125.0\" x2=\"210.0\" y2=\"125.0\" stroke-linecap=\"round\" style=\"stroke:white;stroke-width:4\"/><line x1=\"210.0\" y1=\"125.0\" x2=\"210.0\" y2=\"150.0\" stroke-linecap=\"round\" style=\"stroke:white;stroke-width:4\"/><line x1=\"220.0\" y1=\"160.0\" x2=\"230.0\" y2=\"160.0\" stroke-linecap=\"round\" style=\"stroke:white;stroke-width:4\"/><line x1=\"220.0\" y1=\"160.0\" x2=\"220.0\" y2=\"150.0\" stroke-linecap=\"round\" style=\"stroke:white;stroke-width:4\"/><line x1=\"220.0\" y1=\"150.0\" x2=\"230.0\" y2=\"150.0\" stroke-linecap=\"round\" style=\"stroke:white;stroke-width:4\"/><line x1=\"230.0\" y1=\"150.0\" x2=\"230.0\" y2=\"140.0\" stroke-linecap=\"round\" style=\"stroke:white;stroke-width:4\"/><line x1=\"230.0\" y1=\"140.0\" x2=\"220.0\" y2=\"140.0\" stroke-linecap=\"round\" style=\"stroke:white;stroke-width:4\"/><line x1=\"237.0\" y1=\"160.0\" x2=\"247.0\" y2=\"160.0\" stroke-linecap=\"round\" style=\"stroke:white;stroke-width:4\"/><line x1=\"247.0\" y1=\"160.0\" x2=\"247.0\" y2=\"150.0\" stroke-linecap=\"round\" style=\"stroke:white;stroke-width:4\"/><line x1=\"247.0\" y1=\"150.0\" x2=\"237.0\" y2=\"150.0\" stroke-linecap=\"round\" style=\"stroke:white;stroke-width:4\"/><line x1=\"247.0\" y1=\"150.0\" x2=\"247.0\" y2=\"140.0\" stroke-linecap=\"round\" style=\"stroke:white;stroke-width:4\"/><line x1=\"247.0\" y1=\"140.0\" x2=\"237.0\" y2=\"140.0\" stroke-linecap=\"round\" style=\"stroke:white;stroke-width:4\"/><line x1=\"310.0\" y1=\"150.0\" x2=\"310.0\" y2=\"175.0\" stroke-linecap=\"round\" style=\"stroke:white;stroke-width:4\"/><line x1=\"310.0\" y1=\"175.0\" x2=\"360.0\" y2=\"175.0\" stroke-linecap=\"round\" style=\"stroke:white;stroke-width:4\"/><line x1=\"360.0\" y1=\"175.0\" x2=\"360.0\" y2=\"125.0\" stroke-linecap=\"round\" style=\"stroke:white;stroke-width:4\"/><line x1=\"360.0\" y1=\"125.0\" x2=\"310.0\" y2=\"125.0\" stroke-linecap=\"round\" style=\"stroke:white;stroke-width:4\"/><line x1=\"310.0\" y1=\"125.0\" x2=\"310.0\" y2=\"150.0\" stroke-linecap=\"round\" style=\"stroke:white;stroke-width:4\"/><line x1=\"335.0\" y1=\"175.0\" x2=\"335.0\" y2=\"225.0\" stroke-linecap=\"round\" style=\"stroke:red;stroke-width:4\"/><line x1=\"320.0\" y1=\"160.0\" x2=\"330.0\" y2=\"160.0\" stroke-linecap=\"round\" style=\"stroke:white;stroke-width:4\"/><line x1=\"320.0\" y1=\"160.0\" x2=\"320.0\" y2=\"150.0\" stroke-linecap=\"round\" style=\"stroke:white;stroke-width:4\"/><line x1=\"320.0\" y1=\"150.0\" x2=\"330.0\" y2=\"150.0\" stroke-linecap=\"round\" style=\"stroke:white;stroke-width:4\"/><line x1=\"330.0\" y1=\"150.0\" x2=\"330.0\" y2=\"140.0\" stroke-linecap=\"round\" style=\"stroke:white;stroke-width:4\"/><line x1=\"330.0\" y1=\"140.0\" x2=\"320.0\" y2=\"140.0\" stroke-linecap=\"round\" style=\"stroke:white;stroke-width:4\"/><line x1=\"338.0\" y1=\"157.0\" x2=\"353.0\" y2=\"157.0\" stroke-linecap=\"round\" style=\"stroke:white;stroke-width:4\"/><line x1=\"353.0\" y1=\"157.0\" x2=\"348.0\" y2=\"157.0\" stroke-linecap=\"round\" style=\"stroke:white;stroke-width:4\"/><line x1=\"348.0\" y1=\"157.0\" x2=\"348.0\" y2=\"152.0\" stroke-linecap=\"round\" style=\"stroke:white;stroke-width:4\"/><line x1=\"348.0\" y1=\"152.0\" x2=\"348.0\" y2=\"162.0\" stroke-linecap=\"round\" style=\"stroke:white;stroke-width:4\"/><line x1=\"348.0\" y1=\"162.0\" x2=\"348.0\" y2=\"157.0\" stroke-linecap=\"round\" style=\"stroke:white;stroke-width:4\"/><line x1=\"348.0\" y1=\"157.0\" x2=\"338.0\" y2=\"157.0\" stroke-linecap=\"round\" style=\"stroke:white;stroke-width:4\"/><line x1=\"338.0\" y1=\"157.0\" x2=\"348.0\" y2=\"139.679\" stroke-linecap=\"round\" style=\"stroke:white;stroke-width:4\"/><line x1=\"348.0\" y1=\"139.679\" x2=\"338.0\" y2=\"157.0\" stroke-linecap=\"round\" style=\"stroke:white;stroke-width:4\"/><line x1=\"410.0\" y1=\"150.0\" x2=\"410.0\" y2=\"175.0\" stroke-linecap=\"round\" style=\"stroke:white;stroke-width:4\"/><line x1=\"410.0\" y1=\"175.0\" x2=\"460.0\" y2=\"175.0\" stroke-linecap=\"round\" style=\"stroke:white;stroke-width:4\"/><line x1=\"460.0\" y1=\"175.0\" x2=\"460.0\" y2=\"125.0\" stroke-linecap=\"round\" style=\"stroke:white;stroke-width:4\"/><line x1=\"460.0\" y1=\"125.0\" x2=\"410.0\" y2=\"125.0\" stroke-linecap=\"round\" style=\"stroke:white;stroke-width:4\"/><line x1=\"410.0\" y1=\"125.0\" x2=\"410.0\" y2=\"150.0\" stroke-linecap=\"round\" style=\"stroke:white;stroke-width:4\"/><line x1=\"420.0\" y1=\"160.0\" x2=\"430.0\" y2=\"160.0\" stroke-linecap=\"round\" style=\"stroke:white;stroke-width:4\"/><line x1=\"420.0\" y1=\"160.0\" x2=\"420.0\" y2=\"150.0\" stroke-linecap=\"round\" style=\"stroke:white;stroke-width:4\"/><line x1=\"420.0\" y1=\"150.0\" x2=\"430.0\" y2=\"150.0\" stroke-linecap=\"round\" style=\"stroke:white;stroke-width:4\"/><line x1=\"430.0\" y1=\"150.0\" x2=\"430.0\" y2=\"140.0\" stroke-linecap=\"round\" style=\"stroke:white;stroke-width:4\"/><line x1=\"430.0\" y1=\"140.0\" x2=\"420.0\" y2=\"140.0\" stroke-linecap=\"round\" style=\"stroke:white;stroke-width:4\"/><line x1=\"438.0\" y1=\"160.0\" x2=\"448.0\" y2=\"160.0\" stroke-linecap=\"round\" style=\"stroke:white;stroke-width:4\"/><line x1=\"448.0\" y1=\"160.0\" x2=\"448.0\" y2=\"150.0\" stroke-linecap=\"round\" style=\"stroke:white;stroke-width:4\"/><line x1=\"448.0\" y1=\"150.0\" x2=\"438.0\" y2=\"150.0\" stroke-linecap=\"round\" style=\"stroke:white;stroke-width:4\"/><line x1=\"438.0\" y1=\"150.0\" x2=\"438.0\" y2=\"140.0\" stroke-linecap=\"round\" style=\"stroke:white;stroke-width:4\"/><line x1=\"438.0\" y1=\"140.0\" x2=\"448.0\" y2=\"140.0\" stroke-linecap=\"round\" style=\"stroke:white;stroke-width:4\"/><line x1=\"510.0\" y1=\"150.0\" x2=\"510.0\" y2=\"175.0\" stroke-linecap=\"round\" style=\"stroke:white;stroke-width:4\"/><line x1=\"510.0\" y1=\"175.0\" x2=\"560.0\" y2=\"175.0\" stroke-linecap=\"round\" style=\"stroke:white;stroke-width:4\"/><line x1=\"560.0\" y1=\"175.0\" x2=\"560.0\" y2=\"125.0\" stroke-linecap=\"round\" style=\"stroke:white;stroke-width:4\"/><line x1=\"560.0\" y1=\"125.0\" x2=\"510.0\" y2=\"125.0\" stroke-linecap=\"round\" style=\"stroke:white;stroke-width:4\"/><line x1=\"510.0\" y1=\"125.0\" x2=\"510.0\" y2=\"150.0\" stroke-linecap=\"round\" style=\"stroke:white;stroke-width:4\"/><line x1=\"520.0\" y1=\"160.0\" x2=\"530.0\" y2=\"160.0\" stroke-linecap=\"round\" style=\"stroke:white;stroke-width:4\"/><line x1=\"520.0\" y1=\"160.0\" x2=\"520.0\" y2=\"150.0\" stroke-linecap=\"round\" style=\"stroke:white;stroke-width:4\"/><line x1=\"520.0\" y1=\"150.0\" x2=\"530.0\" y2=\"150.0\" stroke-linecap=\"round\" style=\"stroke:white;stroke-width:4\"/><line x1=\"530.0\" y1=\"150.0\" x2=\"530.0\" y2=\"140.0\" stroke-linecap=\"round\" style=\"stroke:white;stroke-width:4\"/><line x1=\"530.0\" y1=\"140.0\" x2=\"520.0\" y2=\"140.0\" stroke-linecap=\"round\" style=\"stroke:white;stroke-width:4\"/><line x1=\"538.0\" y1=\"160.0\" x2=\"548.0\" y2=\"160.0\" stroke-linecap=\"round\" style=\"stroke:white;stroke-width:4\"/><line x1=\"548.0\" y1=\"160.0\" x2=\"548.0\" y2=\"150.0\" stroke-linecap=\"round\" style=\"stroke:white;stroke-width:4\"/><line x1=\"548.0\" y1=\"150.0\" x2=\"538.0\" y2=\"150.0\" stroke-linecap=\"round\" style=\"stroke:white;stroke-width:4\"/><line x1=\"538.0\" y1=\"150.0\" x2=\"538.0\" y2=\"160.0\" stroke-linecap=\"round\" style=\"stroke:white;stroke-width:4\"/><line x1=\"538.0\" y1=\"150.0\" x2=\"538.0\" y2=\"140.0\" stroke-linecap=\"round\" style=\"stroke:white;stroke-width:4\"/><line x1=\"538.0\" y1=\"140.0\" x2=\"548.0\" y2=\"140.0\" stroke-linecap=\"round\" style=\"stroke:white;stroke-width:4\"/><line x1=\"610.0\" y1=\"150.0\" x2=\"610.0\" y2=\"175.0\" stroke-linecap=\"round\" style=\"stroke:white;stroke-width:4\"/><line x1=\"610.0\" y1=\"175.0\" x2=\"660.0\" y2=\"175.0\" stroke-linecap=\"round\" style=\"stroke:white;stroke-width:4\"/><line x1=\"660.0\" y1=\"175.0\" x2=\"660.0\" y2=\"125.0\" stroke-linecap=\"round\" style=\"stroke:white;stroke-width:4\"/><line x1=\"660.0\" y1=\"125.0\" x2=\"610.0\" y2=\"125.0\" stroke-linecap=\"round\" style=\"stroke:white;stroke-width:4\"/><line x1=\"610.0\" y1=\"125.0\" x2=\"610.0\" y2=\"150.0\" stroke-linecap=\"round\" style=\"stroke:white;stroke-width:4\"/><line x1=\"635.0\" y1=\"175.0\" x2=\"635.0\" y2=\"225.0\" stroke-linecap=\"round\" style=\"stroke:red;stroke-width:4\"/><line x1=\"620.0\" y1=\"160.0\" x2=\"630.0\" y2=\"160.0\" stroke-linecap=\"round\" style=\"stroke:white;stroke-width:4\"/><line x1=\"620.0\" y1=\"160.0\" x2=\"620.0\" y2=\"150.0\" stroke-linecap=\"round\" style=\"stroke:white;stroke-width:4\"/><line x1=\"620.0\" y1=\"150.0\" x2=\"630.0\" y2=\"150.0\" stroke-linecap=\"round\" style=\"stroke:white;stroke-width:4\"/><line x1=\"630.0\" y1=\"150.0\" x2=\"630.0\" y2=\"140.0\" stroke-linecap=\"round\" style=\"stroke:white;stroke-width:4\"/><line x1=\"630.0\" y1=\"140.0\" x2=\"620.0\" y2=\"140.0\" stroke-linecap=\"round\" style=\"stroke:white;stroke-width:4\"/><line x1=\"638.0\" y1=\"160.0\" x2=\"650.5\" y2=\"138.349\" stroke-linecap=\"round\" style=\"stroke:white;stroke-width:4\"/><line x1=\"650.5\" y1=\"138.349\" x2=\"640.5\" y2=\"138.349\" stroke-linecap=\"round\" style=\"stroke:white;stroke-width:4\"/><line x1=\"710.0\" y1=\"150.0\" x2=\"710.0\" y2=\"175.0\" stroke-linecap=\"round\" style=\"stroke:white;stroke-width:4\"/><line x1=\"710.0\" y1=\"175.0\" x2=\"760.0\" y2=\"175.0\" stroke-linecap=\"round\" style=\"stroke:white;stroke-width:4\"/><line x1=\"760.0\" y1=\"175.0\" x2=\"760.0\" y2=\"125.0\" stroke-linecap=\"round\" style=\"stroke:white;stroke-width:4\"/><line x1=\"760.0\" y1=\"125.0\" x2=\"710.0\" y2=\"125.0\" stroke-linecap=\"round\" style=\"stroke:white;stroke-width:4\"/><line x1=\"710.0\" y1=\"125.0\" x2=\"710.0\" y2=\"150.0\" stroke-linecap=\"round\" style=\"stroke:white;stroke-width:4\"/><line x1=\"720.0\" y1=\"160.0\" x2=\"730.0\" y2=\"160.0\" stroke-linecap=\"round\" style=\"stroke:white;stroke-width:4\"/><line x1=\"720.0\" y1=\"160.0\" x2=\"720.0\" y2=\"150.0\" stroke-linecap=\"round\" style=\"stroke:white;stroke-width:4\"/><line x1=\"720.0\" y1=\"150.0\" x2=\"730.0\" y2=\"150.0\" stroke-linecap=\"round\" style=\"stroke:white;stroke-width:4\"/><line x1=\"730.0\" y1=\"150.0\" x2=\"730.0\" y2=\"140.0\" stroke-linecap=\"round\" style=\"stroke:white;stroke-width:4\"/><line x1=\"730.0\" y1=\"140.0\" x2=\"720.0\" y2=\"140.0\" stroke-linecap=\"round\" style=\"stroke:white;stroke-width:4\"/><line x1=\"738.0\" y1=\"160.0\" x2=\"738.0\" y2=\"140.0\" stroke-linecap=\"round\" style=\"stroke:white;stroke-width:4\"/><line x1=\"738.0\" y1=\"140.0\" x2=\"748.0\" y2=\"140.0\" stroke-linecap=\"round\" style=\"stroke:white;stroke-width:4\"/><line x1=\"748.0\" y1=\"140.0\" x2=\"748.0\" y2=\"150.0\" stroke-linecap=\"round\" style=\"stroke:white;stroke-width:4\"/><line x1=\"748.0\" y1=\"150.0\" x2=\"738.0\" y2=\"150.0\" stroke-linecap=\"round\" style=\"stroke:white;stroke-width:4\"/><line x1=\"748.0\" y1=\"150.0\" x2=\"748.0\" y2=\"160.0\" stroke-linecap=\"round\" style=\"stroke:white;stroke-width:4\"/><line x1=\"748.0\" y1=\"160.0\" x2=\"738.0\" y2=\"160.0\" stroke-linecap=\"round\" style=\"stroke:white;stroke-width:4\"/><line x1=\"10.0\" y1=\"250.0\" x2=\"10.0\" y2=\"275.0\" stroke-linecap=\"round\" style=\"stroke:white;stroke-width:4\"/><line x1=\"10.0\" y1=\"275.0\" x2=\"60.0\" y2=\"275.0\" stroke-linecap=\"round\" style=\"stroke:white;stroke-width:4\"/><line x1=\"60.0\" y1=\"275.0\" x2=\"60.0\" y2=\"225.0\" stroke-linecap=\"round\" style=\"stroke:white;stroke-width:4\"/><line x1=\"60.0\" y1=\"225.0\" x2=\"10.0\" y2=\"225.0\" stroke-linecap=\"round\" style=\"stroke:white;stroke-width:4\"/><line x1=\"10.0\" y1=\"225.0\" x2=\"10.0\" y2=\"250.0\" stroke-linecap=\"round\" style=\"stroke:white;stroke-width:4\"/><line x1=\"17.0\" y1=\"260.0\" x2=\"27.0\" y2=\"260.0\" stroke-linecap=\"round\" style=\"stroke:white;stroke-width:4\"/><line x1=\"27.0\" y1=\"260.0\" x2=\"27.0\" y2=\"250.0\" stroke-linecap=\"round\" style=\"stroke:white;stroke-width:4\"/><line x1=\"27.0\" y1=\"250.0\" x2=\"17.0\" y2=\"250.0\" stroke-linecap=\"round\" style=\"stroke:white;stroke-width:4\"/><line x1=\"27.0\" y1=\"250.0\" x2=\"27.0\" y2=\"240.0\" stroke-linecap=\"round\" style=\"stroke:white;stroke-width:4\"/><line x1=\"27.0\" y1=\"240.0\" x2=\"17.0\" y2=\"240.0\" stroke-linecap=\"round\" style=\"stroke:white;stroke-width:4\"/><line x1=\"50.0\" y1=\"260.0\" x2=\"50.0\" y2=\"240.0\" stroke-linecap=\"round\" style=\"stroke:white;stroke-width:4\"/><line x1=\"50.0\" y1=\"240.0\" x2=\"45.0\" y2=\"248.66\" stroke-linecap=\"round\" style=\"stroke:white;stroke-width:4\"/><line x1=\"110.0\" y1=\"250.0\" x2=\"110.0\" y2=\"275.0\" stroke-linecap=\"round\" style=\"stroke:white;stroke-width:4\"/><line x1=\"110.0\" y1=\"275.0\" x2=\"160.0\" y2=\"275.0\" stroke-linecap=\"round\" style=\"stroke:white;stroke-width:4\"/><line x1=\"160.0\" y1=\"275.0\" x2=\"160.0\" y2=\"225.0\" stroke-linecap=\"round\" style=\"stroke:white;stroke-width:4\"/><line x1=\"160.0\" y1=\"225.0\" x2=\"110.0\" y2=\"225.0\" stroke-linecap=\"round\" style=\"stroke:white;stroke-width:4\"/><line x1=\"110.0\" y1=\"225.0\" x2=\"110.0\" y2=\"250.0\" stroke-linecap=\"round\" style=\"stroke:white;stroke-width:4\"/><line x1=\"117.0\" y1=\"260.0\" x2=\"127.0\" y2=\"260.0\" stroke-linecap=\"round\" style=\"stroke:white;stroke-width:4\"/><line x1=\"127.0\" y1=\"260.0\" x2=\"127.0\" y2=\"250.0\" stroke-linecap=\"round\" style=\"stroke:white;stroke-width:4\"/><line x1=\"127.0\" y1=\"250.0\" x2=\"117.0\" y2=\"250.0\" stroke-linecap=\"round\" style=\"stroke:white;stroke-width:4\"/><line x1=\"127.0\" y1=\"250.0\" x2=\"127.0\" y2=\"240.0\" stroke-linecap=\"round\" style=\"stroke:white;stroke-width:4\"/><line x1=\"127.0\" y1=\"240.0\" x2=\"117.0\" y2=\"240.0\" stroke-linecap=\"round\" style=\"stroke:white;stroke-width:4\"/><line x1=\"137.0\" y1=\"260.0\" x2=\"147.0\" y2=\"260.0\" stroke-linecap=\"round\" style=\"stroke:white;stroke-width:4\"/><line x1=\"137.0\" y1=\"260.0\" x2=\"137.0\" y2=\"250.0\" stroke-linecap=\"round\" style=\"stroke:white;stroke-width:4\"/><line x1=\"137.0\" y1=\"250.0\" x2=\"147.0\" y2=\"250.0\" stroke-linecap=\"round\" style=\"stroke:white;stroke-width:4\"/><line x1=\"147.0\" y1=\"250.0\" x2=\"147.0\" y2=\"240.0\" stroke-linecap=\"round\" style=\"stroke:white;stroke-width:4\"/><line x1=\"147.0\" y1=\"240.0\" x2=\"137.0\" y2=\"240.0\" stroke-linecap=\"round\" style=\"stroke:white;stroke-width:4\"/><line x1=\"210.0\" y1=\"250.0\" x2=\"210.0\" y2=\"275.0\" stroke-linecap=\"round\" style=\"stroke:white;stroke-width:4\"/><line x1=\"210.0\" y1=\"275.0\" x2=\"260.0\" y2=\"275.0\" stroke-linecap=\"round\" style=\"stroke:white;stroke-width:4\"/><line x1=\"260.0\" y1=\"275.0\" x2=\"260.0\" y2=\"225.0\" stroke-linecap=\"round\" style=\"stroke:white;stroke-width:4\"/><line x1=\"260.0\" y1=\"225.0\" x2=\"210.0\" y2=\"225.0\" stroke-linecap=\"round\" style=\"stroke:white;stroke-width:4\"/><line x1=\"210.0\" y1=\"225.0\" x2=\"210.0\" y2=\"250.0\" stroke-linecap=\"round\" style=\"stroke:white;stroke-width:4\"/><line x1=\"217.0\" y1=\"260.0\" x2=\"227.0\" y2=\"260.0\" stroke-linecap=\"round\" style=\"stroke:white;stroke-width:4\"/><line x1=\"227.0\" y1=\"260.0\" x2=\"227.0\" y2=\"250.0\" stroke-linecap=\"round\" style=\"stroke:white;stroke-width:4\"/><line x1=\"227.0\" y1=\"250.0\" x2=\"217.0\" y2=\"250.0\" stroke-linecap=\"round\" style=\"stroke:white;stroke-width:4\"/><line x1=\"227.0\" y1=\"250.0\" x2=\"227.0\" y2=\"240.0\" stroke-linecap=\"round\" style=\"stroke:white;stroke-width:4\"/><line x1=\"227.0\" y1=\"240.0\" x2=\"217.0\" y2=\"240.0\" stroke-linecap=\"round\" style=\"stroke:white;stroke-width:4\"/><line x1=\"237.0\" y1=\"260.0\" x2=\"247.0\" y2=\"260.0\" stroke-linecap=\"round\" style=\"stroke:white;stroke-width:4\"/><line x1=\"247.0\" y1=\"260.0\" x2=\"247.0\" y2=\"250.0\" stroke-linecap=\"round\" style=\"stroke:white;stroke-width:4\"/><line x1=\"247.0\" y1=\"250.0\" x2=\"237.0\" y2=\"250.0\" stroke-linecap=\"round\" style=\"stroke:white;stroke-width:4\"/><line x1=\"247.0\" y1=\"250.0\" x2=\"247.0\" y2=\"240.0\" stroke-linecap=\"round\" style=\"stroke:white;stroke-width:4\"/><line x1=\"247.0\" y1=\"240.0\" x2=\"237.0\" y2=\"240.0\" stroke-linecap=\"round\" style=\"stroke:white;stroke-width:4\"/><line x1=\"310.0\" y1=\"250.0\" x2=\"310.0\" y2=\"275.0\" stroke-linecap=\"round\" style=\"stroke:white;stroke-width:4\"/><line x1=\"310.0\" y1=\"275.0\" x2=\"360.0\" y2=\"275.0\" stroke-linecap=\"round\" style=\"stroke:white;stroke-width:4\"/><line x1=\"360.0\" y1=\"275.0\" x2=\"360.0\" y2=\"225.0\" stroke-linecap=\"round\" style=\"stroke:white;stroke-width:4\"/><line x1=\"360.0\" y1=\"225.0\" x2=\"310.0\" y2=\"225.0\" stroke-linecap=\"round\" style=\"stroke:white;stroke-width:4\"/><line x1=\"310.0\" y1=\"225.0\" x2=\"310.0\" y2=\"250.0\" stroke-linecap=\"round\" style=\"stroke:white;stroke-width:4\"/><line x1=\"317.0\" y1=\"260.0\" x2=\"327.0\" y2=\"260.0\" stroke-linecap=\"round\" style=\"stroke:white;stroke-width:4\"/><line x1=\"327.0\" y1=\"260.0\" x2=\"327.0\" y2=\"250.0\" stroke-linecap=\"round\" style=\"stroke:white;stroke-width:4\"/><line x1=\"327.0\" y1=\"250.0\" x2=\"317.0\" y2=\"250.0\" stroke-linecap=\"round\" style=\"stroke:white;stroke-width:4\"/><line x1=\"327.0\" y1=\"250.0\" x2=\"327.0\" y2=\"240.0\" stroke-linecap=\"round\" style=\"stroke:white;stroke-width:4\"/><line x1=\"327.0\" y1=\"240.0\" x2=\"317.0\" y2=\"240.0\" stroke-linecap=\"round\" style=\"stroke:white;stroke-width:4\"/><line x1=\"338.0\" y1=\"257.0\" x2=\"353.0\" y2=\"257.0\" stroke-linecap=\"round\" style=\"stroke:white;stroke-width:4\"/><line x1=\"353.0\" y1=\"257.0\" x2=\"348.0\" y2=\"257.0\" stroke-linecap=\"round\" style=\"stroke:white;stroke-width:4\"/><line x1=\"348.0\" y1=\"257.0\" x2=\"348.0\" y2=\"252.0\" stroke-linecap=\"round\" style=\"stroke:white;stroke-width:4\"/><line x1=\"348.0\" y1=\"252.0\" x2=\"348.0\" y2=\"262.0\" stroke-linecap=\"round\" style=\"stroke:white;stroke-width:4\"/><line x1=\"348.0\" y1=\"262.0\" x2=\"348.0\" y2=\"257.0\" stroke-linecap=\"round\" style=\"stroke:white;stroke-width:4\"/><line x1=\"348.0\" y1=\"257.0\" x2=\"338.0\" y2=\"257.0\" stroke-linecap=\"round\" style=\"stroke:white;stroke-width:4\"/><line x1=\"338.0\" y1=\"257.0\" x2=\"348.0\" y2=\"239.679\" stroke-linecap=\"round\" style=\"stroke:white;stroke-width:4\"/><line x1=\"348.0\" y1=\"239.679\" x2=\"338.0\" y2=\"257.0\" stroke-linecap=\"round\" style=\"stroke:white;stroke-width:4\"/><line x1=\"410.0\" y1=\"250.0\" x2=\"410.0\" y2=\"275.0\" stroke-linecap=\"round\" style=\"stroke:white;stroke-width:4\"/><line x1=\"410.0\" y1=\"275.0\" x2=\"460.0\" y2=\"275.0\" stroke-linecap=\"round\" style=\"stroke:white;stroke-width:4\"/><line x1=\"460.0\" y1=\"275.0\" x2=\"460.0\" y2=\"225.0\" stroke-linecap=\"round\" style=\"stroke:white;stroke-width:4\"/><line x1=\"460.0\" y1=\"225.0\" x2=\"410.0\" y2=\"225.0\" stroke-linecap=\"round\" style=\"stroke:white;stroke-width:4\"/><line x1=\"410.0\" y1=\"225.0\" x2=\"410.0\" y2=\"250.0\" stroke-linecap=\"round\" style=\"stroke:white;stroke-width:4\"/><line x1=\"417.0\" y1=\"260.0\" x2=\"427.0\" y2=\"260.0\" stroke-linecap=\"round\" style=\"stroke:white;stroke-width:4\"/><line x1=\"427.0\" y1=\"260.0\" x2=\"427.0\" y2=\"250.0\" stroke-linecap=\"round\" style=\"stroke:white;stroke-width:4\"/><line x1=\"427.0\" y1=\"250.0\" x2=\"417.0\" y2=\"250.0\" stroke-linecap=\"round\" style=\"stroke:white;stroke-width:4\"/><line x1=\"427.0\" y1=\"250.0\" x2=\"427.0\" y2=\"240.0\" stroke-linecap=\"round\" style=\"stroke:white;stroke-width:4\"/><line x1=\"427.0\" y1=\"240.0\" x2=\"417.0\" y2=\"240.0\" stroke-linecap=\"round\" style=\"stroke:white;stroke-width:4\"/><line x1=\"438.0\" y1=\"260.0\" x2=\"448.0\" y2=\"260.0\" stroke-linecap=\"round\" style=\"stroke:white;stroke-width:4\"/><line x1=\"448.0\" y1=\"260.0\" x2=\"448.0\" y2=\"250.0\" stroke-linecap=\"round\" style=\"stroke:white;stroke-width:4\"/><line x1=\"448.0\" y1=\"250.0\" x2=\"438.0\" y2=\"250.0\" stroke-linecap=\"round\" style=\"stroke:white;stroke-width:4\"/><line x1=\"438.0\" y1=\"250.0\" x2=\"438.0\" y2=\"240.0\" stroke-linecap=\"round\" style=\"stroke:white;stroke-width:4\"/><line x1=\"438.0\" y1=\"240.0\" x2=\"448.0\" y2=\"240.0\" stroke-linecap=\"round\" style=\"stroke:white;stroke-width:4\"/><line x1=\"510.0\" y1=\"250.0\" x2=\"510.0\" y2=\"275.0\" stroke-linecap=\"round\" style=\"stroke:white;stroke-width:4\"/><line x1=\"510.0\" y1=\"275.0\" x2=\"560.0\" y2=\"275.0\" stroke-linecap=\"round\" style=\"stroke:white;stroke-width:4\"/><line x1=\"560.0\" y1=\"275.0\" x2=\"560.0\" y2=\"225.0\" stroke-linecap=\"round\" style=\"stroke:white;stroke-width:4\"/><line x1=\"560.0\" y1=\"225.0\" x2=\"510.0\" y2=\"225.0\" stroke-linecap=\"round\" style=\"stroke:white;stroke-width:4\"/><line x1=\"510.0\" y1=\"225.0\" x2=\"510.0\" y2=\"250.0\" stroke-linecap=\"round\" style=\"stroke:white;stroke-width:4\"/><line x1=\"517.0\" y1=\"260.0\" x2=\"527.0\" y2=\"260.0\" stroke-linecap=\"round\" style=\"stroke:white;stroke-width:4\"/><line x1=\"527.0\" y1=\"260.0\" x2=\"527.0\" y2=\"250.0\" stroke-linecap=\"round\" style=\"stroke:white;stroke-width:4\"/><line x1=\"527.0\" y1=\"250.0\" x2=\"517.0\" y2=\"250.0\" stroke-linecap=\"round\" style=\"stroke:white;stroke-width:4\"/><line x1=\"527.0\" y1=\"250.0\" x2=\"527.0\" y2=\"240.0\" stroke-linecap=\"round\" style=\"stroke:white;stroke-width:4\"/><line x1=\"527.0\" y1=\"240.0\" x2=\"517.0\" y2=\"240.0\" stroke-linecap=\"round\" style=\"stroke:white;stroke-width:4\"/><line x1=\"538.0\" y1=\"260.0\" x2=\"548.0\" y2=\"260.0\" stroke-linecap=\"round\" style=\"stroke:white;stroke-width:4\"/><line x1=\"548.0\" y1=\"260.0\" x2=\"548.0\" y2=\"250.0\" stroke-linecap=\"round\" style=\"stroke:white;stroke-width:4\"/><line x1=\"548.0\" y1=\"250.0\" x2=\"538.0\" y2=\"250.0\" stroke-linecap=\"round\" style=\"stroke:white;stroke-width:4\"/><line x1=\"538.0\" y1=\"250.0\" x2=\"538.0\" y2=\"260.0\" stroke-linecap=\"round\" style=\"stroke:white;stroke-width:4\"/><line x1=\"538.0\" y1=\"250.0\" x2=\"538.0\" y2=\"240.0\" stroke-linecap=\"round\" style=\"stroke:white;stroke-width:4\"/><line x1=\"538.0\" y1=\"240.0\" x2=\"548.0\" y2=\"240.0\" stroke-linecap=\"round\" style=\"stroke:white;stroke-width:4\"/><line x1=\"610.0\" y1=\"250.0\" x2=\"610.0\" y2=\"275.0\" stroke-linecap=\"round\" style=\"stroke:white;stroke-width:4\"/><line x1=\"610.0\" y1=\"275.0\" x2=\"660.0\" y2=\"275.0\" stroke-linecap=\"round\" style=\"stroke:white;stroke-width:4\"/><line x1=\"660.0\" y1=\"275.0\" x2=\"660.0\" y2=\"225.0\" stroke-linecap=\"round\" style=\"stroke:white;stroke-width:4\"/><line x1=\"660.0\" y1=\"225.0\" x2=\"610.0\" y2=\"225.0\" stroke-linecap=\"round\" style=\"stroke:white;stroke-width:4\"/><line x1=\"610.0\" y1=\"225.0\" x2=\"610.0\" y2=\"250.0\" stroke-linecap=\"round\" style=\"stroke:white;stroke-width:4\"/><line x1=\"617.0\" y1=\"260.0\" x2=\"627.0\" y2=\"260.0\" stroke-linecap=\"round\" style=\"stroke:white;stroke-width:4\"/><line x1=\"627.0\" y1=\"260.0\" x2=\"627.0\" y2=\"250.0\" stroke-linecap=\"round\" style=\"stroke:white;stroke-width:4\"/><line x1=\"627.0\" y1=\"250.0\" x2=\"617.0\" y2=\"250.0\" stroke-linecap=\"round\" style=\"stroke:white;stroke-width:4\"/><line x1=\"627.0\" y1=\"250.0\" x2=\"627.0\" y2=\"240.0\" stroke-linecap=\"round\" style=\"stroke:white;stroke-width:4\"/><line x1=\"627.0\" y1=\"240.0\" x2=\"617.0\" y2=\"240.0\" stroke-linecap=\"round\" style=\"stroke:white;stroke-width:4\"/><line x1=\"638.0\" y1=\"260.0\" x2=\"650.5\" y2=\"238.349\" stroke-linecap=\"round\" style=\"stroke:white;stroke-width:4\"/><line x1=\"650.5\" y1=\"238.349\" x2=\"640.5\" y2=\"238.349\" stroke-linecap=\"round\" style=\"stroke:white;stroke-width:4\"/><line x1=\"710.0\" y1=\"250.0\" x2=\"710.0\" y2=\"275.0\" stroke-linecap=\"round\" style=\"stroke:white;stroke-width:4\"/><line x1=\"710.0\" y1=\"275.0\" x2=\"760.0\" y2=\"275.0\" stroke-linecap=\"round\" style=\"stroke:white;stroke-width:4\"/><line x1=\"760.0\" y1=\"275.0\" x2=\"760.0\" y2=\"225.0\" stroke-linecap=\"round\" style=\"stroke:white;stroke-width:4\"/><line x1=\"760.0\" y1=\"225.0\" x2=\"710.0\" y2=\"225.0\" stroke-linecap=\"round\" style=\"stroke:white;stroke-width:4\"/><line x1=\"710.0\" y1=\"225.0\" x2=\"710.0\" y2=\"250.0\" stroke-linecap=\"round\" style=\"stroke:white;stroke-width:4\"/><line x1=\"717.0\" y1=\"260.0\" x2=\"727.0\" y2=\"260.0\" stroke-linecap=\"round\" style=\"stroke:white;stroke-width:4\"/><line x1=\"727.0\" y1=\"260.0\" x2=\"727.0\" y2=\"250.0\" stroke-linecap=\"round\" style=\"stroke:white;stroke-width:4\"/><line x1=\"727.0\" y1=\"250.0\" x2=\"717.0\" y2=\"250.0\" stroke-linecap=\"round\" style=\"stroke:white;stroke-width:4\"/><line x1=\"727.0\" y1=\"250.0\" x2=\"727.0\" y2=\"240.0\" stroke-linecap=\"round\" style=\"stroke:white;stroke-width:4\"/><line x1=\"727.0\" y1=\"240.0\" x2=\"717.0\" y2=\"240.0\" stroke-linecap=\"round\" style=\"stroke:white;stroke-width:4\"/><line x1=\"738.0\" y1=\"260.0\" x2=\"738.0\" y2=\"240.0\" stroke-linecap=\"round\" style=\"stroke:white;stroke-width:4\"/><line x1=\"738.0\" y1=\"240.0\" x2=\"748.0\" y2=\"240.0\" stroke-linecap=\"round\" style=\"stroke:white;stroke-width:4\"/><line x1=\"748.0\" y1=\"240.0\" x2=\"748.0\" y2=\"250.0\" stroke-linecap=\"round\" style=\"stroke:white;stroke-width:4\"/><line x1=\"748.0\" y1=\"250.0\" x2=\"738.0\" y2=\"250.0\" stroke-linecap=\"round\" style=\"stroke:white;stroke-width:4\"/><line x1=\"748.0\" y1=\"250.0\" x2=\"748.0\" y2=\"260.0\" stroke-linecap=\"round\" style=\"stroke:white;stroke-width:4\"/><line x1=\"748.0\" y1=\"260.0\" x2=\"738.0\" y2=\"260.0\" stroke-linecap=\"round\" style=\"stroke:white;stroke-width:4\"/><line x1=\"10.0\" y1=\"350.0\" x2=\"10.0\" y2=\"375.0\" stroke-linecap=\"round\" style=\"stroke:white;stroke-width:4\"/><line x1=\"10.0\" y1=\"375.0\" x2=\"60.0\" y2=\"375.0\" stroke-linecap=\"round\" style=\"stroke:white;stroke-width:4\"/><line x1=\"60.0\" y1=\"375.0\" x2=\"60.0\" y2=\"325.0\" stroke-linecap=\"round\" style=\"stroke:white;stroke-width:4\"/><line x1=\"60.0\" y1=\"325.0\" x2=\"10.0\" y2=\"325.0\" stroke-linecap=\"round\" style=\"stroke:white;stroke-width:4\"/><line x1=\"10.0\" y1=\"325.0\" x2=\"10.0\" y2=\"350.0\" stroke-linecap=\"round\" style=\"stroke:white;stroke-width:4\"/><line x1=\"17.0\" y1=\"357.0\" x2=\"32.0\" y2=\"357.0\" stroke-linecap=\"round\" style=\"stroke:white;stroke-width:4\"/><line x1=\"32.0\" y1=\"357.0\" x2=\"27.0\" y2=\"357.0\" stroke-linecap=\"round\" style=\"stroke:white;stroke-width:4\"/><line x1=\"27.0\" y1=\"357.0\" x2=\"27.0\" y2=\"352.0\" stroke-linecap=\"round\" style=\"stroke:white;stroke-width:4\"/><line x1=\"27.0\" y1=\"352.0\" x2=\"27.0\" y2=\"362.0\" stroke-linecap=\"round\" style=\"stroke:white;stroke-width:4\"/><line x1=\"27.0\" y1=\"362.0\" x2=\"27.0\" y2=\"357.0\" stroke-linecap=\"round\" style=\"stroke:white;stroke-width:4\"/><line x1=\"27.0\" y1=\"357.0\" x2=\"17.0\" y2=\"357.0\" stroke-linecap=\"round\" style=\"stroke:white;stroke-width:4\"/><line x1=\"17.0\" y1=\"357.0\" x2=\"27.0\" y2=\"339.679\" stroke-linecap=\"round\" style=\"stroke:white;stroke-width:4\"/><line x1=\"27.0\" y1=\"339.679\" x2=\"17.0\" y2=\"357.0\" stroke-linecap=\"round\" style=\"stroke:white;stroke-width:4\"/><line x1=\"50.0\" y1=\"360.0\" x2=\"50.0\" y2=\"340.0\" stroke-linecap=\"round\" style=\"stroke:white;stroke-width:4\"/><line x1=\"50.0\" y1=\"340.0\" x2=\"45.0\" y2=\"348.66\" stroke-linecap=\"round\" style=\"stroke:white;stroke-width:4\"/><line x1=\"110.0\" y1=\"350.0\" x2=\"110.0\" y2=\"375.0\" stroke-linecap=\"round\" style=\"stroke:white;stroke-width:4\"/><line x1=\"110.0\" y1=\"375.0\" x2=\"160.0\" y2=\"375.0\" stroke-linecap=\"round\" style=\"stroke:white;stroke-width:4\"/><line x1=\"160.0\" y1=\"375.0\" x2=\"160.0\" y2=\"325.0\" stroke-linecap=\"round\" style=\"stroke:white;stroke-width:4\"/><line x1=\"160.0\" y1=\"325.0\" x2=\"110.0\" y2=\"325.0\" stroke-linecap=\"round\" style=\"stroke:white;stroke-width:4\"/><line x1=\"110.0\" y1=\"325.0\" x2=\"110.0\" y2=\"350.0\" stroke-linecap=\"round\" style=\"stroke:white;stroke-width:4\"/><line x1=\"117.0\" y1=\"357.0\" x2=\"132.0\" y2=\"357.0\" stroke-linecap=\"round\" style=\"stroke:white;stroke-width:4\"/><line x1=\"132.0\" y1=\"357.0\" x2=\"127.0\" y2=\"357.0\" stroke-linecap=\"round\" style=\"stroke:white;stroke-width:4\"/><line x1=\"127.0\" y1=\"357.0\" x2=\"127.0\" y2=\"352.0\" stroke-linecap=\"round\" style=\"stroke:white;stroke-width:4\"/><line x1=\"127.0\" y1=\"352.0\" x2=\"127.0\" y2=\"362.0\" stroke-linecap=\"round\" style=\"stroke:white;stroke-width:4\"/><line x1=\"127.0\" y1=\"362.0\" x2=\"127.0\" y2=\"357.0\" stroke-linecap=\"round\" style=\"stroke:white;stroke-width:4\"/><line x1=\"127.0\" y1=\"357.0\" x2=\"117.0\" y2=\"357.0\" stroke-linecap=\"round\" style=\"stroke:white;stroke-width:4\"/><line x1=\"117.0\" y1=\"357.0\" x2=\"127.0\" y2=\"339.679\" stroke-linecap=\"round\" style=\"stroke:white;stroke-width:4\"/><line x1=\"127.0\" y1=\"339.679\" x2=\"117.0\" y2=\"357.0\" stroke-linecap=\"round\" style=\"stroke:white;stroke-width:4\"/><line x1=\"137.0\" y1=\"360.0\" x2=\"147.0\" y2=\"360.0\" stroke-linecap=\"round\" style=\"stroke:white;stroke-width:4\"/><line x1=\"137.0\" y1=\"360.0\" x2=\"137.0\" y2=\"350.0\" stroke-linecap=\"round\" style=\"stroke:white;stroke-width:4\"/><line x1=\"137.0\" y1=\"350.0\" x2=\"147.0\" y2=\"350.0\" stroke-linecap=\"round\" style=\"stroke:white;stroke-width:4\"/><line x1=\"147.0\" y1=\"350.0\" x2=\"147.0\" y2=\"340.0\" stroke-linecap=\"round\" style=\"stroke:white;stroke-width:4\"/><line x1=\"147.0\" y1=\"340.0\" x2=\"137.0\" y2=\"340.0\" stroke-linecap=\"round\" style=\"stroke:white;stroke-width:4\"/><line x1=\"210.0\" y1=\"350.0\" x2=\"210.0\" y2=\"375.0\" stroke-linecap=\"round\" style=\"stroke:white;stroke-width:4\"/><line x1=\"210.0\" y1=\"375.0\" x2=\"260.0\" y2=\"375.0\" stroke-linecap=\"round\" style=\"stroke:white;stroke-width:4\"/><line x1=\"260.0\" y1=\"375.0\" x2=\"260.0\" y2=\"325.0\" stroke-linecap=\"round\" style=\"stroke:white;stroke-width:4\"/><line x1=\"260.0\" y1=\"325.0\" x2=\"210.0\" y2=\"325.0\" stroke-linecap=\"round\" style=\"stroke:white;stroke-width:4\"/><line x1=\"210.0\" y1=\"325.0\" x2=\"210.0\" y2=\"350.0\" stroke-linecap=\"round\" style=\"stroke:white;stroke-width:4\"/><line x1=\"217.0\" y1=\"357.0\" x2=\"232.0\" y2=\"357.0\" stroke-linecap=\"round\" style=\"stroke:white;stroke-width:4\"/><line x1=\"232.0\" y1=\"357.0\" x2=\"227.0\" y2=\"357.0\" stroke-linecap=\"round\" style=\"stroke:white;stroke-width:4\"/><line x1=\"227.0\" y1=\"357.0\" x2=\"227.0\" y2=\"352.0\" stroke-linecap=\"round\" style=\"stroke:white;stroke-width:4\"/><line x1=\"227.0\" y1=\"352.0\" x2=\"227.0\" y2=\"362.0\" stroke-linecap=\"round\" style=\"stroke:white;stroke-width:4\"/><line x1=\"227.0\" y1=\"362.0\" x2=\"227.0\" y2=\"357.0\" stroke-linecap=\"round\" style=\"stroke:white;stroke-width:4\"/><line x1=\"227.0\" y1=\"357.0\" x2=\"217.0\" y2=\"357.0\" stroke-linecap=\"round\" style=\"stroke:white;stroke-width:4\"/><line x1=\"217.0\" y1=\"357.0\" x2=\"227.0\" y2=\"339.679\" stroke-linecap=\"round\" style=\"stroke:white;stroke-width:4\"/><line x1=\"227.0\" y1=\"339.679\" x2=\"217.0\" y2=\"357.0\" stroke-linecap=\"round\" style=\"stroke:white;stroke-width:4\"/><line x1=\"237.0\" y1=\"360.0\" x2=\"247.0\" y2=\"360.0\" stroke-linecap=\"round\" style=\"stroke:white;stroke-width:4\"/><line x1=\"247.0\" y1=\"360.0\" x2=\"247.0\" y2=\"350.0\" stroke-linecap=\"round\" style=\"stroke:white;stroke-width:4\"/><line x1=\"247.0\" y1=\"350.0\" x2=\"237.0\" y2=\"350.0\" stroke-linecap=\"round\" style=\"stroke:white;stroke-width:4\"/><line x1=\"247.0\" y1=\"350.0\" x2=\"247.0\" y2=\"340.0\" stroke-linecap=\"round\" style=\"stroke:white;stroke-width:4\"/><line x1=\"247.0\" y1=\"340.0\" x2=\"237.0\" y2=\"340.0\" stroke-linecap=\"round\" style=\"stroke:white;stroke-width:4\"/><line x1=\"310.0\" y1=\"350.0\" x2=\"310.0\" y2=\"375.0\" stroke-linecap=\"round\" style=\"stroke:white;stroke-width:4\"/><line x1=\"310.0\" y1=\"375.0\" x2=\"360.0\" y2=\"375.0\" stroke-linecap=\"round\" style=\"stroke:white;stroke-width:4\"/><line x1=\"360.0\" y1=\"375.0\" x2=\"360.0\" y2=\"325.0\" stroke-linecap=\"round\" style=\"stroke:white;stroke-width:4\"/><line x1=\"360.0\" y1=\"325.0\" x2=\"310.0\" y2=\"325.0\" stroke-linecap=\"round\" style=\"stroke:white;stroke-width:4\"/><line x1=\"310.0\" y1=\"325.0\" x2=\"310.0\" y2=\"350.0\" stroke-linecap=\"round\" style=\"stroke:white;stroke-width:4\"/><line x1=\"317.0\" y1=\"357.0\" x2=\"332.0\" y2=\"357.0\" stroke-linecap=\"round\" style=\"stroke:white;stroke-width:4\"/><line x1=\"332.0\" y1=\"357.0\" x2=\"327.0\" y2=\"357.0\" stroke-linecap=\"round\" style=\"stroke:white;stroke-width:4\"/><line x1=\"327.0\" y1=\"357.0\" x2=\"327.0\" y2=\"352.0\" stroke-linecap=\"round\" style=\"stroke:white;stroke-width:4\"/><line x1=\"327.0\" y1=\"352.0\" x2=\"327.0\" y2=\"362.0\" stroke-linecap=\"round\" style=\"stroke:white;stroke-width:4\"/><line x1=\"327.0\" y1=\"362.0\" x2=\"327.0\" y2=\"357.0\" stroke-linecap=\"round\" style=\"stroke:white;stroke-width:4\"/><line x1=\"327.0\" y1=\"357.0\" x2=\"317.0\" y2=\"357.0\" stroke-linecap=\"round\" style=\"stroke:white;stroke-width:4\"/><line x1=\"317.0\" y1=\"357.0\" x2=\"327.0\" y2=\"339.679\" stroke-linecap=\"round\" style=\"stroke:white;stroke-width:4\"/><line x1=\"327.0\" y1=\"339.679\" x2=\"317.0\" y2=\"357.0\" stroke-linecap=\"round\" style=\"stroke:white;stroke-width:4\"/><line x1=\"338.0\" y1=\"357.0\" x2=\"353.0\" y2=\"357.0\" stroke-linecap=\"round\" style=\"stroke:white;stroke-width:4\"/><line x1=\"353.0\" y1=\"357.0\" x2=\"348.0\" y2=\"357.0\" stroke-linecap=\"round\" style=\"stroke:white;stroke-width:4\"/><line x1=\"348.0\" y1=\"357.0\" x2=\"348.0\" y2=\"352.0\" stroke-linecap=\"round\" style=\"stroke:white;stroke-width:4\"/><line x1=\"348.0\" y1=\"352.0\" x2=\"348.0\" y2=\"362.0\" stroke-linecap=\"round\" style=\"stroke:white;stroke-width:4\"/><line x1=\"348.0\" y1=\"362.0\" x2=\"348.0\" y2=\"357.0\" stroke-linecap=\"round\" style=\"stroke:white;stroke-width:4\"/><line x1=\"348.0\" y1=\"357.0\" x2=\"338.0\" y2=\"357.0\" stroke-linecap=\"round\" style=\"stroke:white;stroke-width:4\"/><line x1=\"338.0\" y1=\"357.0\" x2=\"348.0\" y2=\"339.679\" stroke-linecap=\"round\" style=\"stroke:white;stroke-width:4\"/><line x1=\"348.0\" y1=\"339.679\" x2=\"338.0\" y2=\"357.0\" stroke-linecap=\"round\" style=\"stroke:white;stroke-width:4\"/><line x1=\"410.0\" y1=\"350.0\" x2=\"410.0\" y2=\"375.0\" stroke-linecap=\"round\" style=\"stroke:white;stroke-width:4\"/><line x1=\"410.0\" y1=\"375.0\" x2=\"460.0\" y2=\"375.0\" stroke-linecap=\"round\" style=\"stroke:white;stroke-width:4\"/><line x1=\"460.0\" y1=\"375.0\" x2=\"460.0\" y2=\"325.0\" stroke-linecap=\"round\" style=\"stroke:white;stroke-width:4\"/><line x1=\"460.0\" y1=\"325.0\" x2=\"410.0\" y2=\"325.0\" stroke-linecap=\"round\" style=\"stroke:white;stroke-width:4\"/><line x1=\"410.0\" y1=\"325.0\" x2=\"410.0\" y2=\"350.0\" stroke-linecap=\"round\" style=\"stroke:white;stroke-width:4\"/><line x1=\"417.0\" y1=\"357.0\" x2=\"432.0\" y2=\"357.0\" stroke-linecap=\"round\" style=\"stroke:white;stroke-width:4\"/><line x1=\"432.0\" y1=\"357.0\" x2=\"427.0\" y2=\"357.0\" stroke-linecap=\"round\" style=\"stroke:white;stroke-width:4\"/><line x1=\"427.0\" y1=\"357.0\" x2=\"427.0\" y2=\"352.0\" stroke-linecap=\"round\" style=\"stroke:white;stroke-width:4\"/><line x1=\"427.0\" y1=\"352.0\" x2=\"427.0\" y2=\"362.0\" stroke-linecap=\"round\" style=\"stroke:white;stroke-width:4\"/><line x1=\"427.0\" y1=\"362.0\" x2=\"427.0\" y2=\"357.0\" stroke-linecap=\"round\" style=\"stroke:white;stroke-width:4\"/><line x1=\"427.0\" y1=\"357.0\" x2=\"417.0\" y2=\"357.0\" stroke-linecap=\"round\" style=\"stroke:white;stroke-width:4\"/><line x1=\"417.0\" y1=\"357.0\" x2=\"427.0\" y2=\"339.679\" stroke-linecap=\"round\" style=\"stroke:white;stroke-width:4\"/><line x1=\"427.0\" y1=\"339.679\" x2=\"417.0\" y2=\"357.0\" stroke-linecap=\"round\" style=\"stroke:white;stroke-width:4\"/><line x1=\"438.0\" y1=\"360.0\" x2=\"448.0\" y2=\"360.0\" stroke-linecap=\"round\" style=\"stroke:white;stroke-width:4\"/><line x1=\"448.0\" y1=\"360.0\" x2=\"448.0\" y2=\"350.0\" stroke-linecap=\"round\" style=\"stroke:white;stroke-width:4\"/><line x1=\"448.0\" y1=\"350.0\" x2=\"438.0\" y2=\"350.0\" stroke-linecap=\"round\" style=\"stroke:white;stroke-width:4\"/><line x1=\"438.0\" y1=\"350.0\" x2=\"438.0\" y2=\"340.0\" stroke-linecap=\"round\" style=\"stroke:white;stroke-width:4\"/><line x1=\"438.0\" y1=\"340.0\" x2=\"448.0\" y2=\"340.0\" stroke-linecap=\"round\" style=\"stroke:white;stroke-width:4\"/><line x1=\"510.0\" y1=\"350.0\" x2=\"510.0\" y2=\"375.0\" stroke-linecap=\"round\" style=\"stroke:white;stroke-width:4\"/><line x1=\"510.0\" y1=\"375.0\" x2=\"560.0\" y2=\"375.0\" stroke-linecap=\"round\" style=\"stroke:white;stroke-width:4\"/><line x1=\"560.0\" y1=\"375.0\" x2=\"560.0\" y2=\"325.0\" stroke-linecap=\"round\" style=\"stroke:white;stroke-width:4\"/><line x1=\"560.0\" y1=\"325.0\" x2=\"510.0\" y2=\"325.0\" stroke-linecap=\"round\" style=\"stroke:white;stroke-width:4\"/><line x1=\"510.0\" y1=\"325.0\" x2=\"510.0\" y2=\"350.0\" stroke-linecap=\"round\" style=\"stroke:white;stroke-width:4\"/><line x1=\"517.0\" y1=\"357.0\" x2=\"532.0\" y2=\"357.0\" stroke-linecap=\"round\" style=\"stroke:white;stroke-width:4\"/><line x1=\"532.0\" y1=\"357.0\" x2=\"527.0\" y2=\"357.0\" stroke-linecap=\"round\" style=\"stroke:white;stroke-width:4\"/><line x1=\"527.0\" y1=\"357.0\" x2=\"527.0\" y2=\"352.0\" stroke-linecap=\"round\" style=\"stroke:white;stroke-width:4\"/><line x1=\"527.0\" y1=\"352.0\" x2=\"527.0\" y2=\"362.0\" stroke-linecap=\"round\" style=\"stroke:white;stroke-width:4\"/><line x1=\"527.0\" y1=\"362.0\" x2=\"527.0\" y2=\"357.0\" stroke-linecap=\"round\" style=\"stroke:white;stroke-width:4\"/><line x1=\"527.0\" y1=\"357.0\" x2=\"517.0\" y2=\"357.0\" stroke-linecap=\"round\" style=\"stroke:white;stroke-width:4\"/><line x1=\"517.0\" y1=\"357.0\" x2=\"527.0\" y2=\"339.679\" stroke-linecap=\"round\" style=\"stroke:white;stroke-width:4\"/><line x1=\"527.0\" y1=\"339.679\" x2=\"517.0\" y2=\"357.0\" stroke-linecap=\"round\" style=\"stroke:white;stroke-width:4\"/><line x1=\"538.0\" y1=\"360.0\" x2=\"548.0\" y2=\"360.0\" stroke-linecap=\"round\" style=\"stroke:white;stroke-width:4\"/><line x1=\"548.0\" y1=\"360.0\" x2=\"548.0\" y2=\"350.0\" stroke-linecap=\"round\" style=\"stroke:white;stroke-width:4\"/><line x1=\"548.0\" y1=\"350.0\" x2=\"538.0\" y2=\"350.0\" stroke-linecap=\"round\" style=\"stroke:white;stroke-width:4\"/><line x1=\"538.0\" y1=\"350.0\" x2=\"538.0\" y2=\"360.0\" stroke-linecap=\"round\" style=\"stroke:white;stroke-width:4\"/><line x1=\"538.0\" y1=\"350.0\" x2=\"538.0\" y2=\"340.0\" stroke-linecap=\"round\" style=\"stroke:white;stroke-width:4\"/><line x1=\"538.0\" y1=\"340.0\" x2=\"548.0\" y2=\"340.0\" stroke-linecap=\"round\" style=\"stroke:white;stroke-width:4\"/><line x1=\"610.0\" y1=\"350.0\" x2=\"610.0\" y2=\"375.0\" stroke-linecap=\"round\" style=\"stroke:white;stroke-width:4\"/><line x1=\"610.0\" y1=\"375.0\" x2=\"660.0\" y2=\"375.0\" stroke-linecap=\"round\" style=\"stroke:white;stroke-width:4\"/><line x1=\"660.0\" y1=\"375.0\" x2=\"660.0\" y2=\"325.0\" stroke-linecap=\"round\" style=\"stroke:white;stroke-width:4\"/><line x1=\"660.0\" y1=\"325.0\" x2=\"610.0\" y2=\"325.0\" stroke-linecap=\"round\" style=\"stroke:white;stroke-width:4\"/><line x1=\"610.0\" y1=\"325.0\" x2=\"610.0\" y2=\"350.0\" stroke-linecap=\"round\" style=\"stroke:white;stroke-width:4\"/><line x1=\"617.0\" y1=\"357.0\" x2=\"632.0\" y2=\"357.0\" stroke-linecap=\"round\" style=\"stroke:white;stroke-width:4\"/><line x1=\"632.0\" y1=\"357.0\" x2=\"627.0\" y2=\"357.0\" stroke-linecap=\"round\" style=\"stroke:white;stroke-width:4\"/><line x1=\"627.0\" y1=\"357.0\" x2=\"627.0\" y2=\"352.0\" stroke-linecap=\"round\" style=\"stroke:white;stroke-width:4\"/><line x1=\"627.0\" y1=\"352.0\" x2=\"627.0\" y2=\"362.0\" stroke-linecap=\"round\" style=\"stroke:white;stroke-width:4\"/><line x1=\"627.0\" y1=\"362.0\" x2=\"627.0\" y2=\"357.0\" stroke-linecap=\"round\" style=\"stroke:white;stroke-width:4\"/><line x1=\"627.0\" y1=\"357.0\" x2=\"617.0\" y2=\"357.0\" stroke-linecap=\"round\" style=\"stroke:white;stroke-width:4\"/><line x1=\"617.0\" y1=\"357.0\" x2=\"627.0\" y2=\"339.679\" stroke-linecap=\"round\" style=\"stroke:white;stroke-width:4\"/><line x1=\"627.0\" y1=\"339.679\" x2=\"617.0\" y2=\"357.0\" stroke-linecap=\"round\" style=\"stroke:white;stroke-width:4\"/><line x1=\"638.0\" y1=\"360.0\" x2=\"650.5\" y2=\"338.349\" stroke-linecap=\"round\" style=\"stroke:white;stroke-width:4\"/><line x1=\"650.5\" y1=\"338.349\" x2=\"640.5\" y2=\"338.349\" stroke-linecap=\"round\" style=\"stroke:white;stroke-width:4\"/><line x1=\"710.0\" y1=\"350.0\" x2=\"710.0\" y2=\"375.0\" stroke-linecap=\"round\" style=\"stroke:white;stroke-width:4\"/><line x1=\"710.0\" y1=\"375.0\" x2=\"760.0\" y2=\"375.0\" stroke-linecap=\"round\" style=\"stroke:white;stroke-width:4\"/><line x1=\"760.0\" y1=\"375.0\" x2=\"760.0\" y2=\"325.0\" stroke-linecap=\"round\" style=\"stroke:white;stroke-width:4\"/><line x1=\"760.0\" y1=\"325.0\" x2=\"710.0\" y2=\"325.0\" stroke-linecap=\"round\" style=\"stroke:white;stroke-width:4\"/><line x1=\"710.0\" y1=\"325.0\" x2=\"710.0\" y2=\"350.0\" stroke-linecap=\"round\" style=\"stroke:white;stroke-width:4\"/><line x1=\"717.0\" y1=\"357.0\" x2=\"732.0\" y2=\"357.0\" stroke-linecap=\"round\" style=\"stroke:white;stroke-width:4\"/><line x1=\"732.0\" y1=\"357.0\" x2=\"727.0\" y2=\"357.0\" stroke-linecap=\"round\" style=\"stroke:white;stroke-width:4\"/><line x1=\"727.0\" y1=\"357.0\" x2=\"727.0\" y2=\"352.0\" stroke-linecap=\"round\" style=\"stroke:white;stroke-width:4\"/><line x1=\"727.0\" y1=\"352.0\" x2=\"727.0\" y2=\"362.0\" stroke-linecap=\"round\" style=\"stroke:white;stroke-width:4\"/><line x1=\"727.0\" y1=\"362.0\" x2=\"727.0\" y2=\"357.0\" stroke-linecap=\"round\" style=\"stroke:white;stroke-width:4\"/><line x1=\"727.0\" y1=\"357.0\" x2=\"717.0\" y2=\"357.0\" stroke-linecap=\"round\" style=\"stroke:white;stroke-width:4\"/><line x1=\"717.0\" y1=\"357.0\" x2=\"727.0\" y2=\"339.679\" stroke-linecap=\"round\" style=\"stroke:white;stroke-width:4\"/><line x1=\"727.0\" y1=\"339.679\" x2=\"717.0\" y2=\"357.0\" stroke-linecap=\"round\" style=\"stroke:white;stroke-width:4\"/><line x1=\"738.0\" y1=\"360.0\" x2=\"738.0\" y2=\"340.0\" stroke-linecap=\"round\" style=\"stroke:white;stroke-width:4\"/><line x1=\"738.0\" y1=\"340.0\" x2=\"748.0\" y2=\"340.0\" stroke-linecap=\"round\" style=\"stroke:white;stroke-width:4\"/><line x1=\"748.0\" y1=\"340.0\" x2=\"748.0\" y2=\"350.0\" stroke-linecap=\"round\" style=\"stroke:white;stroke-width:4\"/><line x1=\"748.0\" y1=\"350.0\" x2=\"738.0\" y2=\"350.0\" stroke-linecap=\"round\" style=\"stroke:white;stroke-width:4\"/><line x1=\"748.0\" y1=\"350.0\" x2=\"748.0\" y2=\"360.0\" stroke-linecap=\"round\" style=\"stroke:white;stroke-width:4\"/><line x1=\"748.0\" y1=\"360.0\" x2=\"738.0\" y2=\"360.0\" stroke-linecap=\"round\" style=\"stroke:white;stroke-width:4\"/>\n",
              "        <g visibility=visible transform=\"rotate(90,10.0,450.0) translate(-8.0, 432.0)\">\n",
              "<path style=\" stroke:none;fill-rule:evenodd;fill:white;fill-opacity:1;\" d=\"M 18.214844 0.632812 C 16.109375 1.800781 15.011719 4.074219 15.074219 7.132812 L 15.085938 7.652344 L 14.785156 7.496094 C 13.476562 6.824219 11.957031 6.671875 10.40625 7.066406 C 8.46875 7.550781 6.515625 9.15625 4.394531 11.992188 C 3.0625 13.777344 2.679688 14.636719 3.042969 15.027344 L 3.15625 15.152344 L 3.519531 15.152344 C 4.238281 15.152344 4.828125 14.886719 8.1875 13.039062 C 9.386719 12.378906 10.371094 11.839844 10.378906 11.839844 C 10.386719 11.839844 10.355469 11.929688 10.304688 12.035156 C 9.832031 13.09375 9.257812 14.820312 8.96875 16.078125 C 7.914062 20.652344 8.617188 24.53125 11.070312 27.660156 C 11.351562 28.015625 11.363281 27.914062 10.972656 28.382812 C 8.925781 30.84375 7.945312 33.28125 8.238281 35.1875 C 8.289062 35.527344 8.28125 35.523438 8.917969 35.523438 C 10.941406 35.523438 13.074219 34.207031 15.136719 31.6875 C 15.359375 31.417969 15.328125 31.425781 15.5625 31.574219 C 16.292969 32.042969 18.023438 32.964844 18.175781 32.964844 C 18.335938 32.964844 19.941406 32.210938 20.828125 31.71875 C 20.996094 31.625 21.136719 31.554688 21.136719 31.558594 C 21.203125 31.664062 21.898438 32.414062 22.222656 32.730469 C 23.835938 34.300781 25.5625 35.132812 27.582031 35.300781 C 27.90625 35.328125 27.9375 35.308594 28.007812 34.984375 C 28.382812 33.242188 27.625 30.925781 25.863281 28.425781 L 25.542969 27.96875 L 25.699219 27.785156 C 28.945312 23.960938 29.132812 18.699219 26.257812 11.96875 L 26.207031 11.84375 L 27.945312 12.703125 C 31.53125 14.476562 32.316406 14.800781 33.03125 14.800781 C 33.976562 14.800781 33.78125 13.9375 32.472656 12.292969 C 28.519531 7.355469 25.394531 5.925781 21.921875 7.472656 L 21.558594 7.636719 L 21.578125 7.542969 C 21.699219 6.992188 21.761719 5.742188 21.699219 5.164062 C 21.496094 3.296875 20.664062 1.964844 19.003906 0.855469 C 18.480469 0.503906 18.457031 0.5 18.214844 0.632812\"/>\n",
              "</g>\n",
              "      </svg>\n",
              "    "
            ],
            "text/plain": [
              "<IPython.core.display.HTML object>"
            ]
          },
          "metadata": {},
          "output_type": "display_data"
        }
      ],
      "source": [
        "drawGraph()"
      ]
    },
    {
      "cell_type": "markdown",
      "metadata": {
        "id": "X2BZBYjTa0Cm"
      },
      "source": [
        "Vous le constatez, certaines arêtes ont été oubliées....\n",
        "Ajoutez les, puis redessinez le graphe et le labyrinthe pour vérifier"
      ]
    },
    {
      "cell_type": "code",
      "execution_count": 44,
      "metadata": {
        "id": "4N5LgH4va0Cn",
        "trusted": false
      },
      "outputs": [],
      "source": [
        "\n",
        "#Ajout des arêtes oubliées\n",
        "labyrinthe = graph()\n",
        "for i in range(4):\n",
        "    for y in range (8):\n",
        "        labyrinthe.addSommet((i+1,y+1))\n",
        "labyrinthe.addArrete((1,1),(2,1))\n",
        "labyrinthe.addArrete((2,1),(2,2))\n",
        "labyrinthe.addArrete((2,2),(2,3))\n",
        "labyrinthe.addArrete((2,2),(3,2))\n",
        "labyrinthe.addArrete((2,3),(1,3))\n",
        "labyrinthe.addArrete((2,5),(2,6))\n",
        "labyrinthe.addArrete((2,6),(2,7))\n",
        "labyrinthe.addArrete((1,3),(1,4))\n",
        "labyrinthe.addArrete((1,4),(1,5))\n",
        "labyrinthe.addArrete((1,4),(2,4))\n",
        "labyrinthe.addArrete((1,5),(2,5))\n",
        "labyrinthe.addArrete((2,7),(3,7))\n",
        "labyrinthe.addArrete((1,6),(1,7))\n",
        "labyrinthe.addArrete((1,6),(2,6))\n",
        "labyrinthe.addArrete((2,4),(3,4))\n",
        "labyrinthe.addArrete((1,7),(1,8))\n",
        "labyrinthe.addArrete((1,8),(2,8))\n",
        "labyrinthe.addArrete((1,2),(3,2))\n",
        "labyrinthe.addArrete((3,2),(4,2))\n",
        "labyrinthe.addArrete((4,2),(4,3))\n",
        "labyrinthe.addArrete((4,3),(4,4))\n",
        "labyrinthe.addArrete((4,5),(4,6))\n",
        "labyrinthe.addArrete((4,7),(4,8))\n",
        "labyrinthe.addArrete((4,6),(3,6))\n",
        "labyrinthe.addArrete((4,7),(3,7))\n",
        "labyrinthe.addArrete((4,8),(3,8))\n",
        "labyrinthe.addArrete((3,4),(3,5))\n",
        "labyrinthe.addArrete((3,5),(3,6))\n",
        "labyrinthe.addArrete((3,6),(3,7))\n",
        "labyrinthe.addArrete((2,6),(3,6))"
      ]
    },
    {
      "cell_type": "code",
      "execution_count": 45,
      "metadata": {
        "id": "-DGAtoLda0Cs",
        "scrolled": false,
        "trusted": false
      },
      "outputs": [
        {
          "data": {
            "text/html": [
              "\n",
              "      <svg width=\"800\" height=\"500\">\n",
              "        <rect width=\"100%\" height=\"100%\" fill=\"black\"/>\n",
              "        <line x1=\"10\" y1=\"10\" x2=\"60.0\" y2=\"10.0\" stroke-linecap=\"round\" style=\"stroke:white;stroke-width:4\"/><line x1=\"60.0\" y1=\"10.0\" x2=\"110.0\" y2=\"10.0\" stroke-linecap=\"round\" style=\"stroke:white;stroke-width:4\"/><line x1=\"110.0\" y1=\"10.0\" x2=\"160.0\" y2=\"10.0\" stroke-linecap=\"round\" style=\"stroke:white;stroke-width:4\"/><line x1=\"160.0\" y1=\"10.0\" x2=\"210.0\" y2=\"10.0\" stroke-linecap=\"round\" style=\"stroke:white;stroke-width:4\"/><line x1=\"210.0\" y1=\"10.0\" x2=\"260.0\" y2=\"10.0\" stroke-linecap=\"round\" style=\"stroke:white;stroke-width:4\"/><line x1=\"260.0\" y1=\"10.0\" x2=\"310.0\" y2=\"10.0\" stroke-linecap=\"round\" style=\"stroke:white;stroke-width:4\"/><line x1=\"310.0\" y1=\"10.0\" x2=\"360.0\" y2=\"10.0\" stroke-linecap=\"round\" style=\"stroke:white;stroke-width:4\"/><line x1=\"360.0\" y1=\"10.0\" x2=\"410.0\" y2=\"10.0\" stroke-linecap=\"round\" style=\"stroke:white;stroke-width:4\"/><line x1=\"410.0\" y1=\"10.0\" x2=\"410.0\" y2=\"60.0\" stroke-linecap=\"round\" style=\"stroke:white;stroke-width:4\"/><line x1=\"410.0\" y1=\"60.0\" x2=\"410.0\" y2=\"110.0\" stroke-linecap=\"round\" style=\"stroke:white;stroke-width:4\"/><line x1=\"410.0\" y1=\"110.0\" x2=\"410.0\" y2=\"160.0\" stroke-linecap=\"round\" style=\"stroke:white;stroke-width:4\"/><line x1=\"410.0\" y1=\"160.0\" x2=\"410.0\" y2=\"210.0\" stroke-linecap=\"round\" style=\"stroke:white;stroke-width:4\"/><line x1=\"410.0\" y1=\"210.0\" x2=\"360.0\" y2=\"210.0\" stroke-linecap=\"round\" style=\"stroke:white;stroke-width:4\"/><line x1=\"360.0\" y1=\"210.0\" x2=\"310.0\" y2=\"210.0\" stroke-linecap=\"round\" style=\"stroke:white;stroke-width:4\"/><line x1=\"310.0\" y1=\"210.0\" x2=\"260.0\" y2=\"210.0\" stroke-linecap=\"round\" style=\"stroke:white;stroke-width:4\"/><line x1=\"260.0\" y1=\"210.0\" x2=\"210.0\" y2=\"210.0\" stroke-linecap=\"round\" style=\"stroke:white;stroke-width:4\"/><line x1=\"210.0\" y1=\"210.0\" x2=\"160.0\" y2=\"210.0\" stroke-linecap=\"round\" style=\"stroke:white;stroke-width:4\"/><line x1=\"160.0\" y1=\"210.0\" x2=\"110.0\" y2=\"210.0\" stroke-linecap=\"round\" style=\"stroke:white;stroke-width:4\"/><line x1=\"110.0\" y1=\"210.0\" x2=\"60.0\" y2=\"210.0\" stroke-linecap=\"round\" style=\"stroke:white;stroke-width:4\"/><line x1=\"60.0\" y1=\"210.0\" x2=\"10.0\" y2=\"210.0\" stroke-linecap=\"round\" style=\"stroke:white;stroke-width:4\"/><line x1=\"10.0\" y1=\"210.0\" x2=\"10.0\" y2=\"160.0\" stroke-linecap=\"round\" style=\"stroke:white;stroke-width:4\"/><line x1=\"10.0\" y1=\"160.0\" x2=\"10.0\" y2=\"110.0\" stroke-linecap=\"round\" style=\"stroke:white;stroke-width:4\"/><line x1=\"10.0\" y1=\"110.0\" x2=\"10.0\" y2=\"60.0\" stroke-linecap=\"round\" style=\"stroke:white;stroke-width:4\"/><line x1=\"10.0\" y1=\"60.0\" x2=\"10.0\" y2=\"10.0\" stroke-linecap=\"round\" style=\"stroke:white;stroke-width:4\"/><line x1=\"60.0\" y1=\"10.0\" x2=\"60.0\" y2=\"60.0\" stroke-linecap=\"round\" style=\"stroke:white;stroke-width:4\"/><line x1=\"60.0\" y1=\"60.0\" x2=\"60.0\" y2=\"10.0\" stroke-linecap=\"round\" style=\"stroke:white;stroke-width:4\"/><line x1=\"110.0\" y1=\"10.0\" x2=\"110.0\" y2=\"60.0\" stroke-linecap=\"round\" style=\"stroke:white;stroke-width:4\"/><line x1=\"110.0\" y1=\"60.0\" x2=\"110.0\" y2=\"10.0\" stroke-linecap=\"round\" style=\"stroke:white;stroke-width:4\"/><line x1=\"260.0\" y1=\"10.0\" x2=\"260.0\" y2=\"60.0\" stroke-linecap=\"round\" style=\"stroke:white;stroke-width:4\"/><line x1=\"260.0\" y1=\"60.0\" x2=\"260.0\" y2=\"10.0\" stroke-linecap=\"round\" style=\"stroke:white;stroke-width:4\"/><line x1=\"160.0\" y1=\"60.0\" x2=\"160.0\" y2=\"110.0\" stroke-linecap=\"round\" style=\"stroke:white;stroke-width:4\"/><line x1=\"160.0\" y1=\"110.0\" x2=\"160.0\" y2=\"60.0\" stroke-linecap=\"round\" style=\"stroke:white;stroke-width:4\"/><line x1=\"210.0\" y1=\"60.0\" x2=\"210.0\" y2=\"110.0\" stroke-linecap=\"round\" style=\"stroke:white;stroke-width:4\"/><line x1=\"210.0\" y1=\"110.0\" x2=\"210.0\" y2=\"60.0\" stroke-linecap=\"round\" style=\"stroke:white;stroke-width:4\"/><line x1=\"360.0\" y1=\"60.0\" x2=\"360.0\" y2=\"110.0\" stroke-linecap=\"round\" style=\"stroke:white;stroke-width:4\"/><line x1=\"360.0\" y1=\"110.0\" x2=\"360.0\" y2=\"60.0\" stroke-linecap=\"round\" style=\"stroke:white;stroke-width:4\"/><line x1=\"60.0\" y1=\"110.0\" x2=\"60.0\" y2=\"160.0\" stroke-linecap=\"round\" style=\"stroke:white;stroke-width:4\"/><line x1=\"60.0\" y1=\"160.0\" x2=\"60.0\" y2=\"110.0\" stroke-linecap=\"round\" style=\"stroke:white;stroke-width:4\"/><line x1=\"110.0\" y1=\"110.0\" x2=\"110.0\" y2=\"160.0\" stroke-linecap=\"round\" style=\"stroke:white;stroke-width:4\"/><line x1=\"110.0\" y1=\"160.0\" x2=\"110.0\" y2=\"110.0\" stroke-linecap=\"round\" style=\"stroke:white;stroke-width:4\"/><line x1=\"160.0\" y1=\"110.0\" x2=\"160.0\" y2=\"160.0\" stroke-linecap=\"round\" style=\"stroke:white;stroke-width:4\"/><line x1=\"160.0\" y1=\"160.0\" x2=\"160.0\" y2=\"110.0\" stroke-linecap=\"round\" style=\"stroke:white;stroke-width:4\"/><line x1=\"360.0\" y1=\"110.0\" x2=\"360.0\" y2=\"160.0\" stroke-linecap=\"round\" style=\"stroke:white;stroke-width:4\"/><line x1=\"360.0\" y1=\"160.0\" x2=\"360.0\" y2=\"110.0\" stroke-linecap=\"round\" style=\"stroke:white;stroke-width:4\"/><line x1=\"60.0\" y1=\"160.0\" x2=\"60.0\" y2=\"210.0\" stroke-linecap=\"round\" style=\"stroke:white;stroke-width:4\"/><line x1=\"60.0\" y1=\"210.0\" x2=\"60.0\" y2=\"160.0\" stroke-linecap=\"round\" style=\"stroke:white;stroke-width:4\"/><line x1=\"210.0\" y1=\"160.0\" x2=\"210.0\" y2=\"210.0\" stroke-linecap=\"round\" style=\"stroke:white;stroke-width:4\"/><line x1=\"210.0\" y1=\"210.0\" x2=\"210.0\" y2=\"160.0\" stroke-linecap=\"round\" style=\"stroke:white;stroke-width:4\"/><line x1=\"310.0\" y1=\"160.0\" x2=\"310.0\" y2=\"210.0\" stroke-linecap=\"round\" style=\"stroke:white;stroke-width:4\"/><line x1=\"310.0\" y1=\"210.0\" x2=\"310.0\" y2=\"160.0\" stroke-linecap=\"round\" style=\"stroke:white;stroke-width:4\"/><line x1=\"60.0\" y1=\"60.0\" x2=\"110.0\" y2=\"60.0\" stroke-linecap=\"round\" style=\"stroke:white;stroke-width:4\"/><line x1=\"310.0\" y1=\"60.0\" x2=\"360.0\" y2=\"60.0\" stroke-linecap=\"round\" style=\"stroke:white;stroke-width:4\"/><line x1=\"10\" y1=\"110\" x2=\"60.0\" y2=\"110.0\" stroke-linecap=\"round\" style=\"stroke:white;stroke-width:4\"/><line x1=\"110.0\" y1=\"110.0\" x2=\"160.0\" y2=\"110.0\" stroke-linecap=\"round\" style=\"stroke:white;stroke-width:4\"/><line x1=\"210.0\" y1=\"110.0\" x2=\"260.0\" y2=\"110.0\" stroke-linecap=\"round\" style=\"stroke:white;stroke-width:4\"/><line x1=\"10\" y1=\"160\" x2=\"60.0\" y2=\"160.0\" stroke-linecap=\"round\" style=\"stroke:white;stroke-width:4\"/><line x1=\"110.0\" y1=\"160.0\" x2=\"160.0\" y2=\"160.0\" stroke-linecap=\"round\" style=\"stroke:white;stroke-width:4\"/><line x1=\"160.0\" y1=\"160.0\" x2=\"210.0\" y2=\"160.0\" stroke-linecap=\"round\" style=\"stroke:white;stroke-width:4\"/><line x1=\"210.0\" y1=\"160.0\" x2=\"260.0\" y2=\"160.0\" stroke-linecap=\"round\" style=\"stroke:white;stroke-width:4\"/>\n",
              "        <g visibility=visible transform=\"rotate(90,10,210) translate(-8, 192)\">\n",
              "<path style=\" stroke:none;fill-rule:evenodd;fill:white;fill-opacity:1;\" d=\"M 18.214844 0.632812 C 16.109375 1.800781 15.011719 4.074219 15.074219 7.132812 L 15.085938 7.652344 L 14.785156 7.496094 C 13.476562 6.824219 11.957031 6.671875 10.40625 7.066406 C 8.46875 7.550781 6.515625 9.15625 4.394531 11.992188 C 3.0625 13.777344 2.679688 14.636719 3.042969 15.027344 L 3.15625 15.152344 L 3.519531 15.152344 C 4.238281 15.152344 4.828125 14.886719 8.1875 13.039062 C 9.386719 12.378906 10.371094 11.839844 10.378906 11.839844 C 10.386719 11.839844 10.355469 11.929688 10.304688 12.035156 C 9.832031 13.09375 9.257812 14.820312 8.96875 16.078125 C 7.914062 20.652344 8.617188 24.53125 11.070312 27.660156 C 11.351562 28.015625 11.363281 27.914062 10.972656 28.382812 C 8.925781 30.84375 7.945312 33.28125 8.238281 35.1875 C 8.289062 35.527344 8.28125 35.523438 8.917969 35.523438 C 10.941406 35.523438 13.074219 34.207031 15.136719 31.6875 C 15.359375 31.417969 15.328125 31.425781 15.5625 31.574219 C 16.292969 32.042969 18.023438 32.964844 18.175781 32.964844 C 18.335938 32.964844 19.941406 32.210938 20.828125 31.71875 C 20.996094 31.625 21.136719 31.554688 21.136719 31.558594 C 21.203125 31.664062 21.898438 32.414062 22.222656 32.730469 C 23.835938 34.300781 25.5625 35.132812 27.582031 35.300781 C 27.90625 35.328125 27.9375 35.308594 28.007812 34.984375 C 28.382812 33.242188 27.625 30.925781 25.863281 28.425781 L 25.542969 27.96875 L 25.699219 27.785156 C 28.945312 23.960938 29.132812 18.699219 26.257812 11.96875 L 26.207031 11.84375 L 27.945312 12.703125 C 31.53125 14.476562 32.316406 14.800781 33.03125 14.800781 C 33.976562 14.800781 33.78125 13.9375 32.472656 12.292969 C 28.519531 7.355469 25.394531 5.925781 21.921875 7.472656 L 21.558594 7.636719 L 21.578125 7.542969 C 21.699219 6.992188 21.761719 5.742188 21.699219 5.164062 C 21.496094 3.296875 20.664062 1.964844 19.003906 0.855469 C 18.480469 0.503906 18.457031 0.5 18.214844 0.632812\"/>\n",
              "</g>\n",
              "      </svg>\n",
              "    "
            ],
            "text/plain": [
              "<IPython.core.display.HTML object>"
            ]
          },
          "metadata": {},
          "output_type": "display_data"
        }
      ],
      "source": [
        "#réexécutez le dessin du labyrinthe:\n",
        "showLabyrinthe(labyrinthe,50,4,8)"
      ]
    },
    {
      "cell_type": "code",
      "execution_count": 40,
      "metadata": {
        "id": "anjHGfHWa0Cx",
        "trusted": false
      },
      "outputs": [
        {
          "data": {
            "text/html": [
              "\n",
              "      <svg width=\"800\" height=\"500\">\n",
              "        <rect width=\"100%\" height=\"100%\" fill=\"black\"/>\n",
              "        <line x1=\"10\" y1=\"50\" x2=\"10.0\" y2=\"75.0\" stroke-linecap=\"round\" style=\"stroke:white;stroke-width:4\"/><line x1=\"10.0\" y1=\"75.0\" x2=\"60.0\" y2=\"75.0\" stroke-linecap=\"round\" style=\"stroke:white;stroke-width:4\"/><line x1=\"60.0\" y1=\"75.0\" x2=\"60.0\" y2=\"25.0\" stroke-linecap=\"round\" style=\"stroke:white;stroke-width:4\"/><line x1=\"60.0\" y1=\"25.0\" x2=\"10.0\" y2=\"25.0\" stroke-linecap=\"round\" style=\"stroke:white;stroke-width:4\"/><line x1=\"10.0\" y1=\"25.0\" x2=\"10.0\" y2=\"50.0\" stroke-linecap=\"round\" style=\"stroke:white;stroke-width:4\"/><line x1=\"35.0\" y1=\"75.0\" x2=\"35.0\" y2=\"125.0\" stroke-linecap=\"round\" style=\"stroke:red;stroke-width:4\"/><line x1=\"25.0\" y1=\"60.0\" x2=\"25.0\" y2=\"40.0\" stroke-linecap=\"round\" style=\"stroke:white;stroke-width:4\"/><line x1=\"25.0\" y1=\"40.0\" x2=\"20.0\" y2=\"48.66\" stroke-linecap=\"round\" style=\"stroke:white;stroke-width:4\"/><line x1=\"50.0\" y1=\"60.0\" x2=\"50.0\" y2=\"40.0\" stroke-linecap=\"round\" style=\"stroke:white;stroke-width:4\"/><line x1=\"50.0\" y1=\"40.0\" x2=\"45.0\" y2=\"48.66\" stroke-linecap=\"round\" style=\"stroke:white;stroke-width:4\"/><line x1=\"110.0\" y1=\"50.0\" x2=\"110.0\" y2=\"75.0\" stroke-linecap=\"round\" style=\"stroke:white;stroke-width:4\"/><line x1=\"110.0\" y1=\"75.0\" x2=\"160.0\" y2=\"75.0\" stroke-linecap=\"round\" style=\"stroke:white;stroke-width:4\"/><line x1=\"160.0\" y1=\"75.0\" x2=\"160.0\" y2=\"25.0\" stroke-linecap=\"round\" style=\"stroke:white;stroke-width:4\"/><line x1=\"160.0\" y1=\"25.0\" x2=\"110.0\" y2=\"25.0\" stroke-linecap=\"round\" style=\"stroke:white;stroke-width:4\"/><line x1=\"110.0\" y1=\"25.0\" x2=\"110.0\" y2=\"50.0\" stroke-linecap=\"round\" style=\"stroke:white;stroke-width:4\"/><line x1=\"125.0\" y1=\"60.0\" x2=\"125.0\" y2=\"40.0\" stroke-linecap=\"round\" style=\"stroke:white;stroke-width:4\"/><line x1=\"125.0\" y1=\"40.0\" x2=\"120.0\" y2=\"48.66\" stroke-linecap=\"round\" style=\"stroke:white;stroke-width:4\"/><line x1=\"137.0\" y1=\"60.0\" x2=\"147.0\" y2=\"60.0\" stroke-linecap=\"round\" style=\"stroke:white;stroke-width:4\"/><line x1=\"137.0\" y1=\"60.0\" x2=\"137.0\" y2=\"50.0\" stroke-linecap=\"round\" style=\"stroke:white;stroke-width:4\"/><line x1=\"137.0\" y1=\"50.0\" x2=\"147.0\" y2=\"50.0\" stroke-linecap=\"round\" style=\"stroke:white;stroke-width:4\"/><line x1=\"147.0\" y1=\"50.0\" x2=\"147.0\" y2=\"40.0\" stroke-linecap=\"round\" style=\"stroke:white;stroke-width:4\"/><line x1=\"147.0\" y1=\"40.0\" x2=\"137.0\" y2=\"40.0\" stroke-linecap=\"round\" style=\"stroke:white;stroke-width:4\"/><line x1=\"210.0\" y1=\"50.0\" x2=\"210.0\" y2=\"75.0\" stroke-linecap=\"round\" style=\"stroke:white;stroke-width:4\"/><line x1=\"210.0\" y1=\"75.0\" x2=\"260.0\" y2=\"75.0\" stroke-linecap=\"round\" style=\"stroke:white;stroke-width:4\"/><line x1=\"260.0\" y1=\"75.0\" x2=\"260.0\" y2=\"25.0\" stroke-linecap=\"round\" style=\"stroke:white;stroke-width:4\"/><line x1=\"260.0\" y1=\"25.0\" x2=\"210.0\" y2=\"25.0\" stroke-linecap=\"round\" style=\"stroke:white;stroke-width:4\"/><line x1=\"210.0\" y1=\"25.0\" x2=\"210.0\" y2=\"50.0\" stroke-linecap=\"round\" style=\"stroke:white;stroke-width:4\"/><line x1=\"235.0\" y1=\"75.0\" x2=\"235.0\" y2=\"125.0\" stroke-linecap=\"round\" style=\"stroke:red;stroke-width:4\"/><line x1=\"260.0\" y1=\"50.0\" x2=\"310.0\" y2=\"50.0\" stroke-linecap=\"round\" style=\"stroke:red;stroke-width:4\"/><line x1=\"225.0\" y1=\"60.0\" x2=\"225.0\" y2=\"40.0\" stroke-linecap=\"round\" style=\"stroke:white;stroke-width:4\"/><line x1=\"225.0\" y1=\"40.0\" x2=\"220.0\" y2=\"48.66\" stroke-linecap=\"round\" style=\"stroke:white;stroke-width:4\"/><line x1=\"237.0\" y1=\"60.0\" x2=\"247.0\" y2=\"60.0\" stroke-linecap=\"round\" style=\"stroke:white;stroke-width:4\"/><line x1=\"247.0\" y1=\"60.0\" x2=\"247.0\" y2=\"50.0\" stroke-linecap=\"round\" style=\"stroke:white;stroke-width:4\"/><line x1=\"247.0\" y1=\"50.0\" x2=\"237.0\" y2=\"50.0\" stroke-linecap=\"round\" style=\"stroke:white;stroke-width:4\"/><line x1=\"247.0\" y1=\"50.0\" x2=\"247.0\" y2=\"40.0\" stroke-linecap=\"round\" style=\"stroke:white;stroke-width:4\"/><line x1=\"247.0\" y1=\"40.0\" x2=\"237.0\" y2=\"40.0\" stroke-linecap=\"round\" style=\"stroke:white;stroke-width:4\"/><line x1=\"310.0\" y1=\"50.0\" x2=\"310.0\" y2=\"75.0\" stroke-linecap=\"round\" style=\"stroke:white;stroke-width:4\"/><line x1=\"310.0\" y1=\"75.0\" x2=\"360.0\" y2=\"75.0\" stroke-linecap=\"round\" style=\"stroke:white;stroke-width:4\"/><line x1=\"360.0\" y1=\"75.0\" x2=\"360.0\" y2=\"25.0\" stroke-linecap=\"round\" style=\"stroke:white;stroke-width:4\"/><line x1=\"360.0\" y1=\"25.0\" x2=\"310.0\" y2=\"25.0\" stroke-linecap=\"round\" style=\"stroke:white;stroke-width:4\"/><line x1=\"310.0\" y1=\"25.0\" x2=\"310.0\" y2=\"50.0\" stroke-linecap=\"round\" style=\"stroke:white;stroke-width:4\"/><line x1=\"335.0\" y1=\"75.0\" x2=\"335.0\" y2=\"125.0\" stroke-linecap=\"round\" style=\"stroke:red;stroke-width:4\"/><line x1=\"360.0\" y1=\"50.0\" x2=\"410.0\" y2=\"50.0\" stroke-linecap=\"round\" style=\"stroke:red;stroke-width:4\"/><line x1=\"325.0\" y1=\"60.0\" x2=\"325.0\" y2=\"40.0\" stroke-linecap=\"round\" style=\"stroke:white;stroke-width:4\"/><line x1=\"325.0\" y1=\"40.0\" x2=\"320.0\" y2=\"48.66\" stroke-linecap=\"round\" style=\"stroke:white;stroke-width:4\"/><line x1=\"338.0\" y1=\"57.0\" x2=\"353.0\" y2=\"57.0\" stroke-linecap=\"round\" style=\"stroke:white;stroke-width:4\"/><line x1=\"353.0\" y1=\"57.0\" x2=\"348.0\" y2=\"57.0\" stroke-linecap=\"round\" style=\"stroke:white;stroke-width:4\"/><line x1=\"348.0\" y1=\"57.0\" x2=\"348.0\" y2=\"52.0\" stroke-linecap=\"round\" style=\"stroke:white;stroke-width:4\"/><line x1=\"348.0\" y1=\"52.0\" x2=\"348.0\" y2=\"62.0\" stroke-linecap=\"round\" style=\"stroke:white;stroke-width:4\"/><line x1=\"348.0\" y1=\"62.0\" x2=\"348.0\" y2=\"57.0\" stroke-linecap=\"round\" style=\"stroke:white;stroke-width:4\"/><line x1=\"348.0\" y1=\"57.0\" x2=\"338.0\" y2=\"57.0\" stroke-linecap=\"round\" style=\"stroke:white;stroke-width:4\"/><line x1=\"338.0\" y1=\"57.0\" x2=\"348.0\" y2=\"39.679\" stroke-linecap=\"round\" style=\"stroke:white;stroke-width:4\"/><line x1=\"348.0\" y1=\"39.679\" x2=\"338.0\" y2=\"57.0\" stroke-linecap=\"round\" style=\"stroke:white;stroke-width:4\"/><line x1=\"410.0\" y1=\"50.0\" x2=\"410.0\" y2=\"75.0\" stroke-linecap=\"round\" style=\"stroke:white;stroke-width:4\"/><line x1=\"410.0\" y1=\"75.0\" x2=\"460.0\" y2=\"75.0\" stroke-linecap=\"round\" style=\"stroke:white;stroke-width:4\"/><line x1=\"460.0\" y1=\"75.0\" x2=\"460.0\" y2=\"25.0\" stroke-linecap=\"round\" style=\"stroke:white;stroke-width:4\"/><line x1=\"460.0\" y1=\"25.0\" x2=\"410.0\" y2=\"25.0\" stroke-linecap=\"round\" style=\"stroke:white;stroke-width:4\"/><line x1=\"410.0\" y1=\"25.0\" x2=\"410.0\" y2=\"50.0\" stroke-linecap=\"round\" style=\"stroke:white;stroke-width:4\"/><line x1=\"435.0\" y1=\"75.0\" x2=\"435.0\" y2=\"125.0\" stroke-linecap=\"round\" style=\"stroke:red;stroke-width:4\"/><line x1=\"425.0\" y1=\"60.0\" x2=\"425.0\" y2=\"40.0\" stroke-linecap=\"round\" style=\"stroke:white;stroke-width:4\"/><line x1=\"425.0\" y1=\"40.0\" x2=\"420.0\" y2=\"48.66\" stroke-linecap=\"round\" style=\"stroke:white;stroke-width:4\"/><line x1=\"438.0\" y1=\"60.0\" x2=\"448.0\" y2=\"60.0\" stroke-linecap=\"round\" style=\"stroke:white;stroke-width:4\"/><line x1=\"448.0\" y1=\"60.0\" x2=\"448.0\" y2=\"50.0\" stroke-linecap=\"round\" style=\"stroke:white;stroke-width:4\"/><line x1=\"448.0\" y1=\"50.0\" x2=\"438.0\" y2=\"50.0\" stroke-linecap=\"round\" style=\"stroke:white;stroke-width:4\"/><line x1=\"438.0\" y1=\"50.0\" x2=\"438.0\" y2=\"40.0\" stroke-linecap=\"round\" style=\"stroke:white;stroke-width:4\"/><line x1=\"438.0\" y1=\"40.0\" x2=\"448.0\" y2=\"40.0\" stroke-linecap=\"round\" style=\"stroke:white;stroke-width:4\"/><line x1=\"510.0\" y1=\"50.0\" x2=\"510.0\" y2=\"75.0\" stroke-linecap=\"round\" style=\"stroke:white;stroke-width:4\"/><line x1=\"510.0\" y1=\"75.0\" x2=\"560.0\" y2=\"75.0\" stroke-linecap=\"round\" style=\"stroke:white;stroke-width:4\"/><line x1=\"560.0\" y1=\"75.0\" x2=\"560.0\" y2=\"25.0\" stroke-linecap=\"round\" style=\"stroke:white;stroke-width:4\"/><line x1=\"560.0\" y1=\"25.0\" x2=\"510.0\" y2=\"25.0\" stroke-linecap=\"round\" style=\"stroke:white;stroke-width:4\"/><line x1=\"510.0\" y1=\"25.0\" x2=\"510.0\" y2=\"50.0\" stroke-linecap=\"round\" style=\"stroke:white;stroke-width:4\"/><line x1=\"560.0\" y1=\"50.0\" x2=\"610.0\" y2=\"50.0\" stroke-linecap=\"round\" style=\"stroke:red;stroke-width:4\"/><line x1=\"525.0\" y1=\"60.0\" x2=\"525.0\" y2=\"40.0\" stroke-linecap=\"round\" style=\"stroke:white;stroke-width:4\"/><line x1=\"525.0\" y1=\"40.0\" x2=\"520.0\" y2=\"48.66\" stroke-linecap=\"round\" style=\"stroke:white;stroke-width:4\"/><line x1=\"538.0\" y1=\"60.0\" x2=\"548.0\" y2=\"60.0\" stroke-linecap=\"round\" style=\"stroke:white;stroke-width:4\"/><line x1=\"548.0\" y1=\"60.0\" x2=\"548.0\" y2=\"50.0\" stroke-linecap=\"round\" style=\"stroke:white;stroke-width:4\"/><line x1=\"548.0\" y1=\"50.0\" x2=\"538.0\" y2=\"50.0\" stroke-linecap=\"round\" style=\"stroke:white;stroke-width:4\"/><line x1=\"538.0\" y1=\"50.0\" x2=\"538.0\" y2=\"60.0\" stroke-linecap=\"round\" style=\"stroke:white;stroke-width:4\"/><line x1=\"538.0\" y1=\"50.0\" x2=\"538.0\" y2=\"40.0\" stroke-linecap=\"round\" style=\"stroke:white;stroke-width:4\"/><line x1=\"538.0\" y1=\"40.0\" x2=\"548.0\" y2=\"40.0\" stroke-linecap=\"round\" style=\"stroke:white;stroke-width:4\"/><line x1=\"610.0\" y1=\"50.0\" x2=\"610.0\" y2=\"75.0\" stroke-linecap=\"round\" style=\"stroke:white;stroke-width:4\"/><line x1=\"610.0\" y1=\"75.0\" x2=\"660.0\" y2=\"75.0\" stroke-linecap=\"round\" style=\"stroke:white;stroke-width:4\"/><line x1=\"660.0\" y1=\"75.0\" x2=\"660.0\" y2=\"25.0\" stroke-linecap=\"round\" style=\"stroke:white;stroke-width:4\"/><line x1=\"660.0\" y1=\"25.0\" x2=\"610.0\" y2=\"25.0\" stroke-linecap=\"round\" style=\"stroke:white;stroke-width:4\"/><line x1=\"610.0\" y1=\"25.0\" x2=\"610.0\" y2=\"50.0\" stroke-linecap=\"round\" style=\"stroke:white;stroke-width:4\"/><line x1=\"660.0\" y1=\"50.0\" x2=\"710.0\" y2=\"50.0\" stroke-linecap=\"round\" style=\"stroke:red;stroke-width:4\"/><line x1=\"625.0\" y1=\"60.0\" x2=\"625.0\" y2=\"40.0\" stroke-linecap=\"round\" style=\"stroke:white;stroke-width:4\"/><line x1=\"625.0\" y1=\"40.0\" x2=\"620.0\" y2=\"48.66\" stroke-linecap=\"round\" style=\"stroke:white;stroke-width:4\"/><line x1=\"638.0\" y1=\"60.0\" x2=\"650.5\" y2=\"38.349\" stroke-linecap=\"round\" style=\"stroke:white;stroke-width:4\"/><line x1=\"650.5\" y1=\"38.349\" x2=\"640.5\" y2=\"38.349\" stroke-linecap=\"round\" style=\"stroke:white;stroke-width:4\"/><line x1=\"710.0\" y1=\"50.0\" x2=\"710.0\" y2=\"75.0\" stroke-linecap=\"round\" style=\"stroke:white;stroke-width:4\"/><line x1=\"710.0\" y1=\"75.0\" x2=\"760.0\" y2=\"75.0\" stroke-linecap=\"round\" style=\"stroke:white;stroke-width:4\"/><line x1=\"760.0\" y1=\"75.0\" x2=\"760.0\" y2=\"25.0\" stroke-linecap=\"round\" style=\"stroke:white;stroke-width:4\"/><line x1=\"760.0\" y1=\"25.0\" x2=\"710.0\" y2=\"25.0\" stroke-linecap=\"round\" style=\"stroke:white;stroke-width:4\"/><line x1=\"710.0\" y1=\"25.0\" x2=\"710.0\" y2=\"50.0\" stroke-linecap=\"round\" style=\"stroke:white;stroke-width:4\"/><line x1=\"735.0\" y1=\"75.0\" x2=\"735.0\" y2=\"125.0\" stroke-linecap=\"round\" style=\"stroke:red;stroke-width:4\"/><line x1=\"725.0\" y1=\"60.0\" x2=\"725.0\" y2=\"40.0\" stroke-linecap=\"round\" style=\"stroke:white;stroke-width:4\"/><line x1=\"725.0\" y1=\"40.0\" x2=\"720.0\" y2=\"48.66\" stroke-linecap=\"round\" style=\"stroke:white;stroke-width:4\"/><line x1=\"738.0\" y1=\"60.0\" x2=\"738.0\" y2=\"40.0\" stroke-linecap=\"round\" style=\"stroke:white;stroke-width:4\"/><line x1=\"738.0\" y1=\"40.0\" x2=\"748.0\" y2=\"40.0\" stroke-linecap=\"round\" style=\"stroke:white;stroke-width:4\"/><line x1=\"748.0\" y1=\"40.0\" x2=\"748.0\" y2=\"50.0\" stroke-linecap=\"round\" style=\"stroke:white;stroke-width:4\"/><line x1=\"748.0\" y1=\"50.0\" x2=\"738.0\" y2=\"50.0\" stroke-linecap=\"round\" style=\"stroke:white;stroke-width:4\"/><line x1=\"748.0\" y1=\"50.0\" x2=\"748.0\" y2=\"60.0\" stroke-linecap=\"round\" style=\"stroke:white;stroke-width:4\"/><line x1=\"748.0\" y1=\"60.0\" x2=\"738.0\" y2=\"60.0\" stroke-linecap=\"round\" style=\"stroke:white;stroke-width:4\"/><line x1=\"10.0\" y1=\"150.0\" x2=\"10.0\" y2=\"175.0\" stroke-linecap=\"round\" style=\"stroke:white;stroke-width:4\"/><line x1=\"10.0\" y1=\"175.0\" x2=\"60.0\" y2=\"175.0\" stroke-linecap=\"round\" style=\"stroke:white;stroke-width:4\"/><line x1=\"60.0\" y1=\"175.0\" x2=\"60.0\" y2=\"125.0\" stroke-linecap=\"round\" style=\"stroke:white;stroke-width:4\"/><line x1=\"60.0\" y1=\"125.0\" x2=\"10.0\" y2=\"125.0\" stroke-linecap=\"round\" style=\"stroke:white;stroke-width:4\"/><line x1=\"10.0\" y1=\"125.0\" x2=\"10.0\" y2=\"150.0\" stroke-linecap=\"round\" style=\"stroke:white;stroke-width:4\"/><line x1=\"60.0\" y1=\"150.0\" x2=\"110.0\" y2=\"150.0\" stroke-linecap=\"round\" style=\"stroke:red;stroke-width:4\"/><line x1=\"20.0\" y1=\"160.0\" x2=\"30.0\" y2=\"160.0\" stroke-linecap=\"round\" style=\"stroke:white;stroke-width:4\"/><line x1=\"20.0\" y1=\"160.0\" x2=\"20.0\" y2=\"150.0\" stroke-linecap=\"round\" style=\"stroke:white;stroke-width:4\"/><line x1=\"20.0\" y1=\"150.0\" x2=\"30.0\" y2=\"150.0\" stroke-linecap=\"round\" style=\"stroke:white;stroke-width:4\"/><line x1=\"30.0\" y1=\"150.0\" x2=\"30.0\" y2=\"140.0\" stroke-linecap=\"round\" style=\"stroke:white;stroke-width:4\"/><line x1=\"30.0\" y1=\"140.0\" x2=\"20.0\" y2=\"140.0\" stroke-linecap=\"round\" style=\"stroke:white;stroke-width:4\"/><line x1=\"50.0\" y1=\"160.0\" x2=\"50.0\" y2=\"140.0\" stroke-linecap=\"round\" style=\"stroke:white;stroke-width:4\"/><line x1=\"50.0\" y1=\"140.0\" x2=\"45.0\" y2=\"148.66\" stroke-linecap=\"round\" style=\"stroke:white;stroke-width:4\"/><line x1=\"110.0\" y1=\"150.0\" x2=\"110.0\" y2=\"175.0\" stroke-linecap=\"round\" style=\"stroke:white;stroke-width:4\"/><line x1=\"110.0\" y1=\"175.0\" x2=\"160.0\" y2=\"175.0\" stroke-linecap=\"round\" style=\"stroke:white;stroke-width:4\"/><line x1=\"160.0\" y1=\"175.0\" x2=\"160.0\" y2=\"125.0\" stroke-linecap=\"round\" style=\"stroke:white;stroke-width:4\"/><line x1=\"160.0\" y1=\"125.0\" x2=\"110.0\" y2=\"125.0\" stroke-linecap=\"round\" style=\"stroke:white;stroke-width:4\"/><line x1=\"110.0\" y1=\"125.0\" x2=\"110.0\" y2=\"150.0\" stroke-linecap=\"round\" style=\"stroke:white;stroke-width:4\"/><line x1=\"135.0\" y1=\"175.0\" x2=\"135.0\" y2=\"225.0\" stroke-linecap=\"round\" style=\"stroke:red;stroke-width:4\"/><line x1=\"160.0\" y1=\"150.0\" x2=\"210.0\" y2=\"150.0\" stroke-linecap=\"round\" style=\"stroke:red;stroke-width:4\"/><line x1=\"120.0\" y1=\"160.0\" x2=\"130.0\" y2=\"160.0\" stroke-linecap=\"round\" style=\"stroke:white;stroke-width:4\"/><line x1=\"120.0\" y1=\"160.0\" x2=\"120.0\" y2=\"150.0\" stroke-linecap=\"round\" style=\"stroke:white;stroke-width:4\"/><line x1=\"120.0\" y1=\"150.0\" x2=\"130.0\" y2=\"150.0\" stroke-linecap=\"round\" style=\"stroke:white;stroke-width:4\"/><line x1=\"130.0\" y1=\"150.0\" x2=\"130.0\" y2=\"140.0\" stroke-linecap=\"round\" style=\"stroke:white;stroke-width:4\"/><line x1=\"130.0\" y1=\"140.0\" x2=\"120.0\" y2=\"140.0\" stroke-linecap=\"round\" style=\"stroke:white;stroke-width:4\"/><line x1=\"137.0\" y1=\"160.0\" x2=\"147.0\" y2=\"160.0\" stroke-linecap=\"round\" style=\"stroke:white;stroke-width:4\"/><line x1=\"137.0\" y1=\"160.0\" x2=\"137.0\" y2=\"150.0\" stroke-linecap=\"round\" style=\"stroke:white;stroke-width:4\"/><line x1=\"137.0\" y1=\"150.0\" x2=\"147.0\" y2=\"150.0\" stroke-linecap=\"round\" style=\"stroke:white;stroke-width:4\"/><line x1=\"147.0\" y1=\"150.0\" x2=\"147.0\" y2=\"140.0\" stroke-linecap=\"round\" style=\"stroke:white;stroke-width:4\"/><line x1=\"147.0\" y1=\"140.0\" x2=\"137.0\" y2=\"140.0\" stroke-linecap=\"round\" style=\"stroke:white;stroke-width:4\"/><line x1=\"210.0\" y1=\"150.0\" x2=\"210.0\" y2=\"175.0\" stroke-linecap=\"round\" style=\"stroke:white;stroke-width:4\"/><line x1=\"210.0\" y1=\"175.0\" x2=\"260.0\" y2=\"175.0\" stroke-linecap=\"round\" style=\"stroke:white;stroke-width:4\"/><line x1=\"260.0\" y1=\"175.0\" x2=\"260.0\" y2=\"125.0\" stroke-linecap=\"round\" style=\"stroke:white;stroke-width:4\"/><line x1=\"260.0\" y1=\"125.0\" x2=\"210.0\" y2=\"125.0\" stroke-linecap=\"round\" style=\"stroke:white;stroke-width:4\"/><line x1=\"210.0\" y1=\"125.0\" x2=\"210.0\" y2=\"150.0\" stroke-linecap=\"round\" style=\"stroke:white;stroke-width:4\"/><line x1=\"220.0\" y1=\"160.0\" x2=\"230.0\" y2=\"160.0\" stroke-linecap=\"round\" style=\"stroke:white;stroke-width:4\"/><line x1=\"220.0\" y1=\"160.0\" x2=\"220.0\" y2=\"150.0\" stroke-linecap=\"round\" style=\"stroke:white;stroke-width:4\"/><line x1=\"220.0\" y1=\"150.0\" x2=\"230.0\" y2=\"150.0\" stroke-linecap=\"round\" style=\"stroke:white;stroke-width:4\"/><line x1=\"230.0\" y1=\"150.0\" x2=\"230.0\" y2=\"140.0\" stroke-linecap=\"round\" style=\"stroke:white;stroke-width:4\"/><line x1=\"230.0\" y1=\"140.0\" x2=\"220.0\" y2=\"140.0\" stroke-linecap=\"round\" style=\"stroke:white;stroke-width:4\"/><line x1=\"237.0\" y1=\"160.0\" x2=\"247.0\" y2=\"160.0\" stroke-linecap=\"round\" style=\"stroke:white;stroke-width:4\"/><line x1=\"247.0\" y1=\"160.0\" x2=\"247.0\" y2=\"150.0\" stroke-linecap=\"round\" style=\"stroke:white;stroke-width:4\"/><line x1=\"247.0\" y1=\"150.0\" x2=\"237.0\" y2=\"150.0\" stroke-linecap=\"round\" style=\"stroke:white;stroke-width:4\"/><line x1=\"247.0\" y1=\"150.0\" x2=\"247.0\" y2=\"140.0\" stroke-linecap=\"round\" style=\"stroke:white;stroke-width:4\"/><line x1=\"247.0\" y1=\"140.0\" x2=\"237.0\" y2=\"140.0\" stroke-linecap=\"round\" style=\"stroke:white;stroke-width:4\"/><line x1=\"310.0\" y1=\"150.0\" x2=\"310.0\" y2=\"175.0\" stroke-linecap=\"round\" style=\"stroke:white;stroke-width:4\"/><line x1=\"310.0\" y1=\"175.0\" x2=\"360.0\" y2=\"175.0\" stroke-linecap=\"round\" style=\"stroke:white;stroke-width:4\"/><line x1=\"360.0\" y1=\"175.0\" x2=\"360.0\" y2=\"125.0\" stroke-linecap=\"round\" style=\"stroke:white;stroke-width:4\"/><line x1=\"360.0\" y1=\"125.0\" x2=\"310.0\" y2=\"125.0\" stroke-linecap=\"round\" style=\"stroke:white;stroke-width:4\"/><line x1=\"310.0\" y1=\"125.0\" x2=\"310.0\" y2=\"150.0\" stroke-linecap=\"round\" style=\"stroke:white;stroke-width:4\"/><line x1=\"335.0\" y1=\"175.0\" x2=\"335.0\" y2=\"225.0\" stroke-linecap=\"round\" style=\"stroke:red;stroke-width:4\"/><line x1=\"320.0\" y1=\"160.0\" x2=\"330.0\" y2=\"160.0\" stroke-linecap=\"round\" style=\"stroke:white;stroke-width:4\"/><line x1=\"320.0\" y1=\"160.0\" x2=\"320.0\" y2=\"150.0\" stroke-linecap=\"round\" style=\"stroke:white;stroke-width:4\"/><line x1=\"320.0\" y1=\"150.0\" x2=\"330.0\" y2=\"150.0\" stroke-linecap=\"round\" style=\"stroke:white;stroke-width:4\"/><line x1=\"330.0\" y1=\"150.0\" x2=\"330.0\" y2=\"140.0\" stroke-linecap=\"round\" style=\"stroke:white;stroke-width:4\"/><line x1=\"330.0\" y1=\"140.0\" x2=\"320.0\" y2=\"140.0\" stroke-linecap=\"round\" style=\"stroke:white;stroke-width:4\"/><line x1=\"338.0\" y1=\"157.0\" x2=\"353.0\" y2=\"157.0\" stroke-linecap=\"round\" style=\"stroke:white;stroke-width:4\"/><line x1=\"353.0\" y1=\"157.0\" x2=\"348.0\" y2=\"157.0\" stroke-linecap=\"round\" style=\"stroke:white;stroke-width:4\"/><line x1=\"348.0\" y1=\"157.0\" x2=\"348.0\" y2=\"152.0\" stroke-linecap=\"round\" style=\"stroke:white;stroke-width:4\"/><line x1=\"348.0\" y1=\"152.0\" x2=\"348.0\" y2=\"162.0\" stroke-linecap=\"round\" style=\"stroke:white;stroke-width:4\"/><line x1=\"348.0\" y1=\"162.0\" x2=\"348.0\" y2=\"157.0\" stroke-linecap=\"round\" style=\"stroke:white;stroke-width:4\"/><line x1=\"348.0\" y1=\"157.0\" x2=\"338.0\" y2=\"157.0\" stroke-linecap=\"round\" style=\"stroke:white;stroke-width:4\"/><line x1=\"338.0\" y1=\"157.0\" x2=\"348.0\" y2=\"139.679\" stroke-linecap=\"round\" style=\"stroke:white;stroke-width:4\"/><line x1=\"348.0\" y1=\"139.679\" x2=\"338.0\" y2=\"157.0\" stroke-linecap=\"round\" style=\"stroke:white;stroke-width:4\"/><line x1=\"410.0\" y1=\"150.0\" x2=\"410.0\" y2=\"175.0\" stroke-linecap=\"round\" style=\"stroke:white;stroke-width:4\"/><line x1=\"410.0\" y1=\"175.0\" x2=\"460.0\" y2=\"175.0\" stroke-linecap=\"round\" style=\"stroke:white;stroke-width:4\"/><line x1=\"460.0\" y1=\"175.0\" x2=\"460.0\" y2=\"125.0\" stroke-linecap=\"round\" style=\"stroke:white;stroke-width:4\"/><line x1=\"460.0\" y1=\"125.0\" x2=\"410.0\" y2=\"125.0\" stroke-linecap=\"round\" style=\"stroke:white;stroke-width:4\"/><line x1=\"410.0\" y1=\"125.0\" x2=\"410.0\" y2=\"150.0\" stroke-linecap=\"round\" style=\"stroke:white;stroke-width:4\"/><line x1=\"420.0\" y1=\"160.0\" x2=\"430.0\" y2=\"160.0\" stroke-linecap=\"round\" style=\"stroke:white;stroke-width:4\"/><line x1=\"420.0\" y1=\"160.0\" x2=\"420.0\" y2=\"150.0\" stroke-linecap=\"round\" style=\"stroke:white;stroke-width:4\"/><line x1=\"420.0\" y1=\"150.0\" x2=\"430.0\" y2=\"150.0\" stroke-linecap=\"round\" style=\"stroke:white;stroke-width:4\"/><line x1=\"430.0\" y1=\"150.0\" x2=\"430.0\" y2=\"140.0\" stroke-linecap=\"round\" style=\"stroke:white;stroke-width:4\"/><line x1=\"430.0\" y1=\"140.0\" x2=\"420.0\" y2=\"140.0\" stroke-linecap=\"round\" style=\"stroke:white;stroke-width:4\"/><line x1=\"438.0\" y1=\"160.0\" x2=\"448.0\" y2=\"160.0\" stroke-linecap=\"round\" style=\"stroke:white;stroke-width:4\"/><line x1=\"448.0\" y1=\"160.0\" x2=\"448.0\" y2=\"150.0\" stroke-linecap=\"round\" style=\"stroke:white;stroke-width:4\"/><line x1=\"448.0\" y1=\"150.0\" x2=\"438.0\" y2=\"150.0\" stroke-linecap=\"round\" style=\"stroke:white;stroke-width:4\"/><line x1=\"438.0\" y1=\"150.0\" x2=\"438.0\" y2=\"140.0\" stroke-linecap=\"round\" style=\"stroke:white;stroke-width:4\"/><line x1=\"438.0\" y1=\"140.0\" x2=\"448.0\" y2=\"140.0\" stroke-linecap=\"round\" style=\"stroke:white;stroke-width:4\"/><line x1=\"510.0\" y1=\"150.0\" x2=\"510.0\" y2=\"175.0\" stroke-linecap=\"round\" style=\"stroke:white;stroke-width:4\"/><line x1=\"510.0\" y1=\"175.0\" x2=\"560.0\" y2=\"175.0\" stroke-linecap=\"round\" style=\"stroke:white;stroke-width:4\"/><line x1=\"560.0\" y1=\"175.0\" x2=\"560.0\" y2=\"125.0\" stroke-linecap=\"round\" style=\"stroke:white;stroke-width:4\"/><line x1=\"560.0\" y1=\"125.0\" x2=\"510.0\" y2=\"125.0\" stroke-linecap=\"round\" style=\"stroke:white;stroke-width:4\"/><line x1=\"510.0\" y1=\"125.0\" x2=\"510.0\" y2=\"150.0\" stroke-linecap=\"round\" style=\"stroke:white;stroke-width:4\"/><line x1=\"535.0\" y1=\"175.0\" x2=\"535.0\" y2=\"225.0\" stroke-linecap=\"round\" style=\"stroke:red;stroke-width:4\"/><line x1=\"520.0\" y1=\"160.0\" x2=\"530.0\" y2=\"160.0\" stroke-linecap=\"round\" style=\"stroke:white;stroke-width:4\"/><line x1=\"520.0\" y1=\"160.0\" x2=\"520.0\" y2=\"150.0\" stroke-linecap=\"round\" style=\"stroke:white;stroke-width:4\"/><line x1=\"520.0\" y1=\"150.0\" x2=\"530.0\" y2=\"150.0\" stroke-linecap=\"round\" style=\"stroke:white;stroke-width:4\"/><line x1=\"530.0\" y1=\"150.0\" x2=\"530.0\" y2=\"140.0\" stroke-linecap=\"round\" style=\"stroke:white;stroke-width:4\"/><line x1=\"530.0\" y1=\"140.0\" x2=\"520.0\" y2=\"140.0\" stroke-linecap=\"round\" style=\"stroke:white;stroke-width:4\"/><line x1=\"538.0\" y1=\"160.0\" x2=\"548.0\" y2=\"160.0\" stroke-linecap=\"round\" style=\"stroke:white;stroke-width:4\"/><line x1=\"548.0\" y1=\"160.0\" x2=\"548.0\" y2=\"150.0\" stroke-linecap=\"round\" style=\"stroke:white;stroke-width:4\"/><line x1=\"548.0\" y1=\"150.0\" x2=\"538.0\" y2=\"150.0\" stroke-linecap=\"round\" style=\"stroke:white;stroke-width:4\"/><line x1=\"538.0\" y1=\"150.0\" x2=\"538.0\" y2=\"160.0\" stroke-linecap=\"round\" style=\"stroke:white;stroke-width:4\"/><line x1=\"538.0\" y1=\"150.0\" x2=\"538.0\" y2=\"140.0\" stroke-linecap=\"round\" style=\"stroke:white;stroke-width:4\"/><line x1=\"538.0\" y1=\"140.0\" x2=\"548.0\" y2=\"140.0\" stroke-linecap=\"round\" style=\"stroke:white;stroke-width:4\"/><line x1=\"610.0\" y1=\"150.0\" x2=\"610.0\" y2=\"175.0\" stroke-linecap=\"round\" style=\"stroke:white;stroke-width:4\"/><line x1=\"610.0\" y1=\"175.0\" x2=\"660.0\" y2=\"175.0\" stroke-linecap=\"round\" style=\"stroke:white;stroke-width:4\"/><line x1=\"660.0\" y1=\"175.0\" x2=\"660.0\" y2=\"125.0\" stroke-linecap=\"round\" style=\"stroke:white;stroke-width:4\"/><line x1=\"660.0\" y1=\"125.0\" x2=\"610.0\" y2=\"125.0\" stroke-linecap=\"round\" style=\"stroke:white;stroke-width:4\"/><line x1=\"610.0\" y1=\"125.0\" x2=\"610.0\" y2=\"150.0\" stroke-linecap=\"round\" style=\"stroke:white;stroke-width:4\"/><line x1=\"635.0\" y1=\"175.0\" x2=\"635.0\" y2=\"225.0\" stroke-linecap=\"round\" style=\"stroke:red;stroke-width:4\"/><line x1=\"620.0\" y1=\"160.0\" x2=\"630.0\" y2=\"160.0\" stroke-linecap=\"round\" style=\"stroke:white;stroke-width:4\"/><line x1=\"620.0\" y1=\"160.0\" x2=\"620.0\" y2=\"150.0\" stroke-linecap=\"round\" style=\"stroke:white;stroke-width:4\"/><line x1=\"620.0\" y1=\"150.0\" x2=\"630.0\" y2=\"150.0\" stroke-linecap=\"round\" style=\"stroke:white;stroke-width:4\"/><line x1=\"630.0\" y1=\"150.0\" x2=\"630.0\" y2=\"140.0\" stroke-linecap=\"round\" style=\"stroke:white;stroke-width:4\"/><line x1=\"630.0\" y1=\"140.0\" x2=\"620.0\" y2=\"140.0\" stroke-linecap=\"round\" style=\"stroke:white;stroke-width:4\"/><line x1=\"638.0\" y1=\"160.0\" x2=\"650.5\" y2=\"138.349\" stroke-linecap=\"round\" style=\"stroke:white;stroke-width:4\"/><line x1=\"650.5\" y1=\"138.349\" x2=\"640.5\" y2=\"138.349\" stroke-linecap=\"round\" style=\"stroke:white;stroke-width:4\"/><line x1=\"710.0\" y1=\"150.0\" x2=\"710.0\" y2=\"175.0\" stroke-linecap=\"round\" style=\"stroke:white;stroke-width:4\"/><line x1=\"710.0\" y1=\"175.0\" x2=\"760.0\" y2=\"175.0\" stroke-linecap=\"round\" style=\"stroke:white;stroke-width:4\"/><line x1=\"760.0\" y1=\"175.0\" x2=\"760.0\" y2=\"125.0\" stroke-linecap=\"round\" style=\"stroke:white;stroke-width:4\"/><line x1=\"760.0\" y1=\"125.0\" x2=\"710.0\" y2=\"125.0\" stroke-linecap=\"round\" style=\"stroke:white;stroke-width:4\"/><line x1=\"710.0\" y1=\"125.0\" x2=\"710.0\" y2=\"150.0\" stroke-linecap=\"round\" style=\"stroke:white;stroke-width:4\"/><line x1=\"720.0\" y1=\"160.0\" x2=\"730.0\" y2=\"160.0\" stroke-linecap=\"round\" style=\"stroke:white;stroke-width:4\"/><line x1=\"720.0\" y1=\"160.0\" x2=\"720.0\" y2=\"150.0\" stroke-linecap=\"round\" style=\"stroke:white;stroke-width:4\"/><line x1=\"720.0\" y1=\"150.0\" x2=\"730.0\" y2=\"150.0\" stroke-linecap=\"round\" style=\"stroke:white;stroke-width:4\"/><line x1=\"730.0\" y1=\"150.0\" x2=\"730.0\" y2=\"140.0\" stroke-linecap=\"round\" style=\"stroke:white;stroke-width:4\"/><line x1=\"730.0\" y1=\"140.0\" x2=\"720.0\" y2=\"140.0\" stroke-linecap=\"round\" style=\"stroke:white;stroke-width:4\"/><line x1=\"738.0\" y1=\"160.0\" x2=\"738.0\" y2=\"140.0\" stroke-linecap=\"round\" style=\"stroke:white;stroke-width:4\"/><line x1=\"738.0\" y1=\"140.0\" x2=\"748.0\" y2=\"140.0\" stroke-linecap=\"round\" style=\"stroke:white;stroke-width:4\"/><line x1=\"748.0\" y1=\"140.0\" x2=\"748.0\" y2=\"150.0\" stroke-linecap=\"round\" style=\"stroke:white;stroke-width:4\"/><line x1=\"748.0\" y1=\"150.0\" x2=\"738.0\" y2=\"150.0\" stroke-linecap=\"round\" style=\"stroke:white;stroke-width:4\"/><line x1=\"748.0\" y1=\"150.0\" x2=\"748.0\" y2=\"160.0\" stroke-linecap=\"round\" style=\"stroke:white;stroke-width:4\"/><line x1=\"748.0\" y1=\"160.0\" x2=\"738.0\" y2=\"160.0\" stroke-linecap=\"round\" style=\"stroke:white;stroke-width:4\"/><line x1=\"10.0\" y1=\"250.0\" x2=\"10.0\" y2=\"275.0\" stroke-linecap=\"round\" style=\"stroke:white;stroke-width:4\"/><line x1=\"10.0\" y1=\"275.0\" x2=\"60.0\" y2=\"275.0\" stroke-linecap=\"round\" style=\"stroke:white;stroke-width:4\"/><line x1=\"60.0\" y1=\"275.0\" x2=\"60.0\" y2=\"225.0\" stroke-linecap=\"round\" style=\"stroke:white;stroke-width:4\"/><line x1=\"60.0\" y1=\"225.0\" x2=\"10.0\" y2=\"225.0\" stroke-linecap=\"round\" style=\"stroke:white;stroke-width:4\"/><line x1=\"10.0\" y1=\"225.0\" x2=\"10.0\" y2=\"250.0\" stroke-linecap=\"round\" style=\"stroke:white;stroke-width:4\"/><line x1=\"17.0\" y1=\"260.0\" x2=\"27.0\" y2=\"260.0\" stroke-linecap=\"round\" style=\"stroke:white;stroke-width:4\"/><line x1=\"27.0\" y1=\"260.0\" x2=\"27.0\" y2=\"250.0\" stroke-linecap=\"round\" style=\"stroke:white;stroke-width:4\"/><line x1=\"27.0\" y1=\"250.0\" x2=\"17.0\" y2=\"250.0\" stroke-linecap=\"round\" style=\"stroke:white;stroke-width:4\"/><line x1=\"27.0\" y1=\"250.0\" x2=\"27.0\" y2=\"240.0\" stroke-linecap=\"round\" style=\"stroke:white;stroke-width:4\"/><line x1=\"27.0\" y1=\"240.0\" x2=\"17.0\" y2=\"240.0\" stroke-linecap=\"round\" style=\"stroke:white;stroke-width:4\"/><line x1=\"50.0\" y1=\"260.0\" x2=\"50.0\" y2=\"240.0\" stroke-linecap=\"round\" style=\"stroke:white;stroke-width:4\"/><line x1=\"50.0\" y1=\"240.0\" x2=\"45.0\" y2=\"248.66\" stroke-linecap=\"round\" style=\"stroke:white;stroke-width:4\"/><line x1=\"110.0\" y1=\"250.0\" x2=\"110.0\" y2=\"275.0\" stroke-linecap=\"round\" style=\"stroke:white;stroke-width:4\"/><line x1=\"110.0\" y1=\"275.0\" x2=\"160.0\" y2=\"275.0\" stroke-linecap=\"round\" style=\"stroke:white;stroke-width:4\"/><line x1=\"160.0\" y1=\"275.0\" x2=\"160.0\" y2=\"225.0\" stroke-linecap=\"round\" style=\"stroke:white;stroke-width:4\"/><line x1=\"160.0\" y1=\"225.0\" x2=\"110.0\" y2=\"225.0\" stroke-linecap=\"round\" style=\"stroke:white;stroke-width:4\"/><line x1=\"110.0\" y1=\"225.0\" x2=\"110.0\" y2=\"250.0\" stroke-linecap=\"round\" style=\"stroke:white;stroke-width:4\"/><line x1=\"135.0\" y1=\"275.0\" x2=\"135.0\" y2=\"325.0\" stroke-linecap=\"round\" style=\"stroke:red;stroke-width:4\"/><line x1=\"117.0\" y1=\"260.0\" x2=\"127.0\" y2=\"260.0\" stroke-linecap=\"round\" style=\"stroke:white;stroke-width:4\"/><line x1=\"127.0\" y1=\"260.0\" x2=\"127.0\" y2=\"250.0\" stroke-linecap=\"round\" style=\"stroke:white;stroke-width:4\"/><line x1=\"127.0\" y1=\"250.0\" x2=\"117.0\" y2=\"250.0\" stroke-linecap=\"round\" style=\"stroke:white;stroke-width:4\"/><line x1=\"127.0\" y1=\"250.0\" x2=\"127.0\" y2=\"240.0\" stroke-linecap=\"round\" style=\"stroke:white;stroke-width:4\"/><line x1=\"127.0\" y1=\"240.0\" x2=\"117.0\" y2=\"240.0\" stroke-linecap=\"round\" style=\"stroke:white;stroke-width:4\"/><line x1=\"137.0\" y1=\"260.0\" x2=\"147.0\" y2=\"260.0\" stroke-linecap=\"round\" style=\"stroke:white;stroke-width:4\"/><line x1=\"137.0\" y1=\"260.0\" x2=\"137.0\" y2=\"250.0\" stroke-linecap=\"round\" style=\"stroke:white;stroke-width:4\"/><line x1=\"137.0\" y1=\"250.0\" x2=\"147.0\" y2=\"250.0\" stroke-linecap=\"round\" style=\"stroke:white;stroke-width:4\"/><line x1=\"147.0\" y1=\"250.0\" x2=\"147.0\" y2=\"240.0\" stroke-linecap=\"round\" style=\"stroke:white;stroke-width:4\"/><line x1=\"147.0\" y1=\"240.0\" x2=\"137.0\" y2=\"240.0\" stroke-linecap=\"round\" style=\"stroke:white;stroke-width:4\"/><line x1=\"210.0\" y1=\"250.0\" x2=\"210.0\" y2=\"275.0\" stroke-linecap=\"round\" style=\"stroke:white;stroke-width:4\"/><line x1=\"210.0\" y1=\"275.0\" x2=\"260.0\" y2=\"275.0\" stroke-linecap=\"round\" style=\"stroke:white;stroke-width:4\"/><line x1=\"260.0\" y1=\"275.0\" x2=\"260.0\" y2=\"225.0\" stroke-linecap=\"round\" style=\"stroke:white;stroke-width:4\"/><line x1=\"260.0\" y1=\"225.0\" x2=\"210.0\" y2=\"225.0\" stroke-linecap=\"round\" style=\"stroke:white;stroke-width:4\"/><line x1=\"210.0\" y1=\"225.0\" x2=\"210.0\" y2=\"250.0\" stroke-linecap=\"round\" style=\"stroke:white;stroke-width:4\"/><line x1=\"217.0\" y1=\"260.0\" x2=\"227.0\" y2=\"260.0\" stroke-linecap=\"round\" style=\"stroke:white;stroke-width:4\"/><line x1=\"227.0\" y1=\"260.0\" x2=\"227.0\" y2=\"250.0\" stroke-linecap=\"round\" style=\"stroke:white;stroke-width:4\"/><line x1=\"227.0\" y1=\"250.0\" x2=\"217.0\" y2=\"250.0\" stroke-linecap=\"round\" style=\"stroke:white;stroke-width:4\"/><line x1=\"227.0\" y1=\"250.0\" x2=\"227.0\" y2=\"240.0\" stroke-linecap=\"round\" style=\"stroke:white;stroke-width:4\"/><line x1=\"227.0\" y1=\"240.0\" x2=\"217.0\" y2=\"240.0\" stroke-linecap=\"round\" style=\"stroke:white;stroke-width:4\"/><line x1=\"237.0\" y1=\"260.0\" x2=\"247.0\" y2=\"260.0\" stroke-linecap=\"round\" style=\"stroke:white;stroke-width:4\"/><line x1=\"247.0\" y1=\"260.0\" x2=\"247.0\" y2=\"250.0\" stroke-linecap=\"round\" style=\"stroke:white;stroke-width:4\"/><line x1=\"247.0\" y1=\"250.0\" x2=\"237.0\" y2=\"250.0\" stroke-linecap=\"round\" style=\"stroke:white;stroke-width:4\"/><line x1=\"247.0\" y1=\"250.0\" x2=\"247.0\" y2=\"240.0\" stroke-linecap=\"round\" style=\"stroke:white;stroke-width:4\"/><line x1=\"247.0\" y1=\"240.0\" x2=\"237.0\" y2=\"240.0\" stroke-linecap=\"round\" style=\"stroke:white;stroke-width:4\"/><line x1=\"310.0\" y1=\"250.0\" x2=\"310.0\" y2=\"275.0\" stroke-linecap=\"round\" style=\"stroke:white;stroke-width:4\"/><line x1=\"310.0\" y1=\"275.0\" x2=\"360.0\" y2=\"275.0\" stroke-linecap=\"round\" style=\"stroke:white;stroke-width:4\"/><line x1=\"360.0\" y1=\"275.0\" x2=\"360.0\" y2=\"225.0\" stroke-linecap=\"round\" style=\"stroke:white;stroke-width:4\"/><line x1=\"360.0\" y1=\"225.0\" x2=\"310.0\" y2=\"225.0\" stroke-linecap=\"round\" style=\"stroke:white;stroke-width:4\"/><line x1=\"310.0\" y1=\"225.0\" x2=\"310.0\" y2=\"250.0\" stroke-linecap=\"round\" style=\"stroke:white;stroke-width:4\"/><line x1=\"360.0\" y1=\"250.0\" x2=\"410.0\" y2=\"250.0\" stroke-linecap=\"round\" style=\"stroke:red;stroke-width:4\"/><line x1=\"317.0\" y1=\"260.0\" x2=\"327.0\" y2=\"260.0\" stroke-linecap=\"round\" style=\"stroke:white;stroke-width:4\"/><line x1=\"327.0\" y1=\"260.0\" x2=\"327.0\" y2=\"250.0\" stroke-linecap=\"round\" style=\"stroke:white;stroke-width:4\"/><line x1=\"327.0\" y1=\"250.0\" x2=\"317.0\" y2=\"250.0\" stroke-linecap=\"round\" style=\"stroke:white;stroke-width:4\"/><line x1=\"327.0\" y1=\"250.0\" x2=\"327.0\" y2=\"240.0\" stroke-linecap=\"round\" style=\"stroke:white;stroke-width:4\"/><line x1=\"327.0\" y1=\"240.0\" x2=\"317.0\" y2=\"240.0\" stroke-linecap=\"round\" style=\"stroke:white;stroke-width:4\"/><line x1=\"338.0\" y1=\"257.0\" x2=\"353.0\" y2=\"257.0\" stroke-linecap=\"round\" style=\"stroke:white;stroke-width:4\"/><line x1=\"353.0\" y1=\"257.0\" x2=\"348.0\" y2=\"257.0\" stroke-linecap=\"round\" style=\"stroke:white;stroke-width:4\"/><line x1=\"348.0\" y1=\"257.0\" x2=\"348.0\" y2=\"252.0\" stroke-linecap=\"round\" style=\"stroke:white;stroke-width:4\"/><line x1=\"348.0\" y1=\"252.0\" x2=\"348.0\" y2=\"262.0\" stroke-linecap=\"round\" style=\"stroke:white;stroke-width:4\"/><line x1=\"348.0\" y1=\"262.0\" x2=\"348.0\" y2=\"257.0\" stroke-linecap=\"round\" style=\"stroke:white;stroke-width:4\"/><line x1=\"348.0\" y1=\"257.0\" x2=\"338.0\" y2=\"257.0\" stroke-linecap=\"round\" style=\"stroke:white;stroke-width:4\"/><line x1=\"338.0\" y1=\"257.0\" x2=\"348.0\" y2=\"239.679\" stroke-linecap=\"round\" style=\"stroke:white;stroke-width:4\"/><line x1=\"348.0\" y1=\"239.679\" x2=\"338.0\" y2=\"257.0\" stroke-linecap=\"round\" style=\"stroke:white;stroke-width:4\"/><line x1=\"410.0\" y1=\"250.0\" x2=\"410.0\" y2=\"275.0\" stroke-linecap=\"round\" style=\"stroke:white;stroke-width:4\"/><line x1=\"410.0\" y1=\"275.0\" x2=\"460.0\" y2=\"275.0\" stroke-linecap=\"round\" style=\"stroke:white;stroke-width:4\"/><line x1=\"460.0\" y1=\"275.0\" x2=\"460.0\" y2=\"225.0\" stroke-linecap=\"round\" style=\"stroke:white;stroke-width:4\"/><line x1=\"460.0\" y1=\"225.0\" x2=\"410.0\" y2=\"225.0\" stroke-linecap=\"round\" style=\"stroke:white;stroke-width:4\"/><line x1=\"410.0\" y1=\"225.0\" x2=\"410.0\" y2=\"250.0\" stroke-linecap=\"round\" style=\"stroke:white;stroke-width:4\"/><line x1=\"460.0\" y1=\"250.0\" x2=\"510.0\" y2=\"250.0\" stroke-linecap=\"round\" style=\"stroke:red;stroke-width:4\"/><line x1=\"417.0\" y1=\"260.0\" x2=\"427.0\" y2=\"260.0\" stroke-linecap=\"round\" style=\"stroke:white;stroke-width:4\"/><line x1=\"427.0\" y1=\"260.0\" x2=\"427.0\" y2=\"250.0\" stroke-linecap=\"round\" style=\"stroke:white;stroke-width:4\"/><line x1=\"427.0\" y1=\"250.0\" x2=\"417.0\" y2=\"250.0\" stroke-linecap=\"round\" style=\"stroke:white;stroke-width:4\"/><line x1=\"427.0\" y1=\"250.0\" x2=\"427.0\" y2=\"240.0\" stroke-linecap=\"round\" style=\"stroke:white;stroke-width:4\"/><line x1=\"427.0\" y1=\"240.0\" x2=\"417.0\" y2=\"240.0\" stroke-linecap=\"round\" style=\"stroke:white;stroke-width:4\"/><line x1=\"438.0\" y1=\"260.0\" x2=\"448.0\" y2=\"260.0\" stroke-linecap=\"round\" style=\"stroke:white;stroke-width:4\"/><line x1=\"448.0\" y1=\"260.0\" x2=\"448.0\" y2=\"250.0\" stroke-linecap=\"round\" style=\"stroke:white;stroke-width:4\"/><line x1=\"448.0\" y1=\"250.0\" x2=\"438.0\" y2=\"250.0\" stroke-linecap=\"round\" style=\"stroke:white;stroke-width:4\"/><line x1=\"438.0\" y1=\"250.0\" x2=\"438.0\" y2=\"240.0\" stroke-linecap=\"round\" style=\"stroke:white;stroke-width:4\"/><line x1=\"438.0\" y1=\"240.0\" x2=\"448.0\" y2=\"240.0\" stroke-linecap=\"round\" style=\"stroke:white;stroke-width:4\"/><line x1=\"510.0\" y1=\"250.0\" x2=\"510.0\" y2=\"275.0\" stroke-linecap=\"round\" style=\"stroke:white;stroke-width:4\"/><line x1=\"510.0\" y1=\"275.0\" x2=\"560.0\" y2=\"275.0\" stroke-linecap=\"round\" style=\"stroke:white;stroke-width:4\"/><line x1=\"560.0\" y1=\"275.0\" x2=\"560.0\" y2=\"225.0\" stroke-linecap=\"round\" style=\"stroke:white;stroke-width:4\"/><line x1=\"560.0\" y1=\"225.0\" x2=\"510.0\" y2=\"225.0\" stroke-linecap=\"round\" style=\"stroke:white;stroke-width:4\"/><line x1=\"510.0\" y1=\"225.0\" x2=\"510.0\" y2=\"250.0\" stroke-linecap=\"round\" style=\"stroke:white;stroke-width:4\"/><line x1=\"535.0\" y1=\"275.0\" x2=\"535.0\" y2=\"325.0\" stroke-linecap=\"round\" style=\"stroke:red;stroke-width:4\"/><line x1=\"560.0\" y1=\"250.0\" x2=\"610.0\" y2=\"250.0\" stroke-linecap=\"round\" style=\"stroke:red;stroke-width:4\"/><line x1=\"517.0\" y1=\"260.0\" x2=\"527.0\" y2=\"260.0\" stroke-linecap=\"round\" style=\"stroke:white;stroke-width:4\"/><line x1=\"527.0\" y1=\"260.0\" x2=\"527.0\" y2=\"250.0\" stroke-linecap=\"round\" style=\"stroke:white;stroke-width:4\"/><line x1=\"527.0\" y1=\"250.0\" x2=\"517.0\" y2=\"250.0\" stroke-linecap=\"round\" style=\"stroke:white;stroke-width:4\"/><line x1=\"527.0\" y1=\"250.0\" x2=\"527.0\" y2=\"240.0\" stroke-linecap=\"round\" style=\"stroke:white;stroke-width:4\"/><line x1=\"527.0\" y1=\"240.0\" x2=\"517.0\" y2=\"240.0\" stroke-linecap=\"round\" style=\"stroke:white;stroke-width:4\"/><line x1=\"538.0\" y1=\"260.0\" x2=\"548.0\" y2=\"260.0\" stroke-linecap=\"round\" style=\"stroke:white;stroke-width:4\"/><line x1=\"548.0\" y1=\"260.0\" x2=\"548.0\" y2=\"250.0\" stroke-linecap=\"round\" style=\"stroke:white;stroke-width:4\"/><line x1=\"548.0\" y1=\"250.0\" x2=\"538.0\" y2=\"250.0\" stroke-linecap=\"round\" style=\"stroke:white;stroke-width:4\"/><line x1=\"538.0\" y1=\"250.0\" x2=\"538.0\" y2=\"260.0\" stroke-linecap=\"round\" style=\"stroke:white;stroke-width:4\"/><line x1=\"538.0\" y1=\"250.0\" x2=\"538.0\" y2=\"240.0\" stroke-linecap=\"round\" style=\"stroke:white;stroke-width:4\"/><line x1=\"538.0\" y1=\"240.0\" x2=\"548.0\" y2=\"240.0\" stroke-linecap=\"round\" style=\"stroke:white;stroke-width:4\"/><line x1=\"610.0\" y1=\"250.0\" x2=\"610.0\" y2=\"275.0\" stroke-linecap=\"round\" style=\"stroke:white;stroke-width:4\"/><line x1=\"610.0\" y1=\"275.0\" x2=\"660.0\" y2=\"275.0\" stroke-linecap=\"round\" style=\"stroke:white;stroke-width:4\"/><line x1=\"660.0\" y1=\"275.0\" x2=\"660.0\" y2=\"225.0\" stroke-linecap=\"round\" style=\"stroke:white;stroke-width:4\"/><line x1=\"660.0\" y1=\"225.0\" x2=\"610.0\" y2=\"225.0\" stroke-linecap=\"round\" style=\"stroke:white;stroke-width:4\"/><line x1=\"610.0\" y1=\"225.0\" x2=\"610.0\" y2=\"250.0\" stroke-linecap=\"round\" style=\"stroke:white;stroke-width:4\"/><line x1=\"635.0\" y1=\"275.0\" x2=\"635.0\" y2=\"325.0\" stroke-linecap=\"round\" style=\"stroke:red;stroke-width:4\"/><line x1=\"617.0\" y1=\"260.0\" x2=\"627.0\" y2=\"260.0\" stroke-linecap=\"round\" style=\"stroke:white;stroke-width:4\"/><line x1=\"627.0\" y1=\"260.0\" x2=\"627.0\" y2=\"250.0\" stroke-linecap=\"round\" style=\"stroke:white;stroke-width:4\"/><line x1=\"627.0\" y1=\"250.0\" x2=\"617.0\" y2=\"250.0\" stroke-linecap=\"round\" style=\"stroke:white;stroke-width:4\"/><line x1=\"627.0\" y1=\"250.0\" x2=\"627.0\" y2=\"240.0\" stroke-linecap=\"round\" style=\"stroke:white;stroke-width:4\"/><line x1=\"627.0\" y1=\"240.0\" x2=\"617.0\" y2=\"240.0\" stroke-linecap=\"round\" style=\"stroke:white;stroke-width:4\"/><line x1=\"638.0\" y1=\"260.0\" x2=\"650.5\" y2=\"238.349\" stroke-linecap=\"round\" style=\"stroke:white;stroke-width:4\"/><line x1=\"650.5\" y1=\"238.349\" x2=\"640.5\" y2=\"238.349\" stroke-linecap=\"round\" style=\"stroke:white;stroke-width:4\"/><line x1=\"710.0\" y1=\"250.0\" x2=\"710.0\" y2=\"275.0\" stroke-linecap=\"round\" style=\"stroke:white;stroke-width:4\"/><line x1=\"710.0\" y1=\"275.0\" x2=\"760.0\" y2=\"275.0\" stroke-linecap=\"round\" style=\"stroke:white;stroke-width:4\"/><line x1=\"760.0\" y1=\"275.0\" x2=\"760.0\" y2=\"225.0\" stroke-linecap=\"round\" style=\"stroke:white;stroke-width:4\"/><line x1=\"760.0\" y1=\"225.0\" x2=\"710.0\" y2=\"225.0\" stroke-linecap=\"round\" style=\"stroke:white;stroke-width:4\"/><line x1=\"710.0\" y1=\"225.0\" x2=\"710.0\" y2=\"250.0\" stroke-linecap=\"round\" style=\"stroke:white;stroke-width:4\"/><line x1=\"735.0\" y1=\"275.0\" x2=\"735.0\" y2=\"325.0\" stroke-linecap=\"round\" style=\"stroke:red;stroke-width:4\"/><line x1=\"717.0\" y1=\"260.0\" x2=\"727.0\" y2=\"260.0\" stroke-linecap=\"round\" style=\"stroke:white;stroke-width:4\"/><line x1=\"727.0\" y1=\"260.0\" x2=\"727.0\" y2=\"250.0\" stroke-linecap=\"round\" style=\"stroke:white;stroke-width:4\"/><line x1=\"727.0\" y1=\"250.0\" x2=\"717.0\" y2=\"250.0\" stroke-linecap=\"round\" style=\"stroke:white;stroke-width:4\"/><line x1=\"727.0\" y1=\"250.0\" x2=\"727.0\" y2=\"240.0\" stroke-linecap=\"round\" style=\"stroke:white;stroke-width:4\"/><line x1=\"727.0\" y1=\"240.0\" x2=\"717.0\" y2=\"240.0\" stroke-linecap=\"round\" style=\"stroke:white;stroke-width:4\"/><line x1=\"738.0\" y1=\"260.0\" x2=\"738.0\" y2=\"240.0\" stroke-linecap=\"round\" style=\"stroke:white;stroke-width:4\"/><line x1=\"738.0\" y1=\"240.0\" x2=\"748.0\" y2=\"240.0\" stroke-linecap=\"round\" style=\"stroke:white;stroke-width:4\"/><line x1=\"748.0\" y1=\"240.0\" x2=\"748.0\" y2=\"250.0\" stroke-linecap=\"round\" style=\"stroke:white;stroke-width:4\"/><line x1=\"748.0\" y1=\"250.0\" x2=\"738.0\" y2=\"250.0\" stroke-linecap=\"round\" style=\"stroke:white;stroke-width:4\"/><line x1=\"748.0\" y1=\"250.0\" x2=\"748.0\" y2=\"260.0\" stroke-linecap=\"round\" style=\"stroke:white;stroke-width:4\"/><line x1=\"748.0\" y1=\"260.0\" x2=\"738.0\" y2=\"260.0\" stroke-linecap=\"round\" style=\"stroke:white;stroke-width:4\"/><line x1=\"10.0\" y1=\"350.0\" x2=\"10.0\" y2=\"375.0\" stroke-linecap=\"round\" style=\"stroke:white;stroke-width:4\"/><line x1=\"10.0\" y1=\"375.0\" x2=\"60.0\" y2=\"375.0\" stroke-linecap=\"round\" style=\"stroke:white;stroke-width:4\"/><line x1=\"60.0\" y1=\"375.0\" x2=\"60.0\" y2=\"325.0\" stroke-linecap=\"round\" style=\"stroke:white;stroke-width:4\"/><line x1=\"60.0\" y1=\"325.0\" x2=\"10.0\" y2=\"325.0\" stroke-linecap=\"round\" style=\"stroke:white;stroke-width:4\"/><line x1=\"10.0\" y1=\"325.0\" x2=\"10.0\" y2=\"350.0\" stroke-linecap=\"round\" style=\"stroke:white;stroke-width:4\"/><line x1=\"17.0\" y1=\"357.0\" x2=\"32.0\" y2=\"357.0\" stroke-linecap=\"round\" style=\"stroke:white;stroke-width:4\"/><line x1=\"32.0\" y1=\"357.0\" x2=\"27.0\" y2=\"357.0\" stroke-linecap=\"round\" style=\"stroke:white;stroke-width:4\"/><line x1=\"27.0\" y1=\"357.0\" x2=\"27.0\" y2=\"352.0\" stroke-linecap=\"round\" style=\"stroke:white;stroke-width:4\"/><line x1=\"27.0\" y1=\"352.0\" x2=\"27.0\" y2=\"362.0\" stroke-linecap=\"round\" style=\"stroke:white;stroke-width:4\"/><line x1=\"27.0\" y1=\"362.0\" x2=\"27.0\" y2=\"357.0\" stroke-linecap=\"round\" style=\"stroke:white;stroke-width:4\"/><line x1=\"27.0\" y1=\"357.0\" x2=\"17.0\" y2=\"357.0\" stroke-linecap=\"round\" style=\"stroke:white;stroke-width:4\"/><line x1=\"17.0\" y1=\"357.0\" x2=\"27.0\" y2=\"339.679\" stroke-linecap=\"round\" style=\"stroke:white;stroke-width:4\"/><line x1=\"27.0\" y1=\"339.679\" x2=\"17.0\" y2=\"357.0\" stroke-linecap=\"round\" style=\"stroke:white;stroke-width:4\"/><line x1=\"50.0\" y1=\"360.0\" x2=\"50.0\" y2=\"340.0\" stroke-linecap=\"round\" style=\"stroke:white;stroke-width:4\"/><line x1=\"50.0\" y1=\"340.0\" x2=\"45.0\" y2=\"348.66\" stroke-linecap=\"round\" style=\"stroke:white;stroke-width:4\"/><line x1=\"110.0\" y1=\"350.0\" x2=\"110.0\" y2=\"375.0\" stroke-linecap=\"round\" style=\"stroke:white;stroke-width:4\"/><line x1=\"110.0\" y1=\"375.0\" x2=\"160.0\" y2=\"375.0\" stroke-linecap=\"round\" style=\"stroke:white;stroke-width:4\"/><line x1=\"160.0\" y1=\"375.0\" x2=\"160.0\" y2=\"325.0\" stroke-linecap=\"round\" style=\"stroke:white;stroke-width:4\"/><line x1=\"160.0\" y1=\"325.0\" x2=\"110.0\" y2=\"325.0\" stroke-linecap=\"round\" style=\"stroke:white;stroke-width:4\"/><line x1=\"110.0\" y1=\"325.0\" x2=\"110.0\" y2=\"350.0\" stroke-linecap=\"round\" style=\"stroke:white;stroke-width:4\"/><line x1=\"160.0\" y1=\"350.0\" x2=\"210.0\" y2=\"350.0\" stroke-linecap=\"round\" style=\"stroke:red;stroke-width:4\"/><line x1=\"117.0\" y1=\"357.0\" x2=\"132.0\" y2=\"357.0\" stroke-linecap=\"round\" style=\"stroke:white;stroke-width:4\"/><line x1=\"132.0\" y1=\"357.0\" x2=\"127.0\" y2=\"357.0\" stroke-linecap=\"round\" style=\"stroke:white;stroke-width:4\"/><line x1=\"127.0\" y1=\"357.0\" x2=\"127.0\" y2=\"352.0\" stroke-linecap=\"round\" style=\"stroke:white;stroke-width:4\"/><line x1=\"127.0\" y1=\"352.0\" x2=\"127.0\" y2=\"362.0\" stroke-linecap=\"round\" style=\"stroke:white;stroke-width:4\"/><line x1=\"127.0\" y1=\"362.0\" x2=\"127.0\" y2=\"357.0\" stroke-linecap=\"round\" style=\"stroke:white;stroke-width:4\"/><line x1=\"127.0\" y1=\"357.0\" x2=\"117.0\" y2=\"357.0\" stroke-linecap=\"round\" style=\"stroke:white;stroke-width:4\"/><line x1=\"117.0\" y1=\"357.0\" x2=\"127.0\" y2=\"339.679\" stroke-linecap=\"round\" style=\"stroke:white;stroke-width:4\"/><line x1=\"127.0\" y1=\"339.679\" x2=\"117.0\" y2=\"357.0\" stroke-linecap=\"round\" style=\"stroke:white;stroke-width:4\"/><line x1=\"137.0\" y1=\"360.0\" x2=\"147.0\" y2=\"360.0\" stroke-linecap=\"round\" style=\"stroke:white;stroke-width:4\"/><line x1=\"137.0\" y1=\"360.0\" x2=\"137.0\" y2=\"350.0\" stroke-linecap=\"round\" style=\"stroke:white;stroke-width:4\"/><line x1=\"137.0\" y1=\"350.0\" x2=\"147.0\" y2=\"350.0\" stroke-linecap=\"round\" style=\"stroke:white;stroke-width:4\"/><line x1=\"147.0\" y1=\"350.0\" x2=\"147.0\" y2=\"340.0\" stroke-linecap=\"round\" style=\"stroke:white;stroke-width:4\"/><line x1=\"147.0\" y1=\"340.0\" x2=\"137.0\" y2=\"340.0\" stroke-linecap=\"round\" style=\"stroke:white;stroke-width:4\"/><line x1=\"210.0\" y1=\"350.0\" x2=\"210.0\" y2=\"375.0\" stroke-linecap=\"round\" style=\"stroke:white;stroke-width:4\"/><line x1=\"210.0\" y1=\"375.0\" x2=\"260.0\" y2=\"375.0\" stroke-linecap=\"round\" style=\"stroke:white;stroke-width:4\"/><line x1=\"260.0\" y1=\"375.0\" x2=\"260.0\" y2=\"325.0\" stroke-linecap=\"round\" style=\"stroke:white;stroke-width:4\"/><line x1=\"260.0\" y1=\"325.0\" x2=\"210.0\" y2=\"325.0\" stroke-linecap=\"round\" style=\"stroke:white;stroke-width:4\"/><line x1=\"210.0\" y1=\"325.0\" x2=\"210.0\" y2=\"350.0\" stroke-linecap=\"round\" style=\"stroke:white;stroke-width:4\"/><line x1=\"260.0\" y1=\"350.0\" x2=\"310.0\" y2=\"350.0\" stroke-linecap=\"round\" style=\"stroke:red;stroke-width:4\"/><line x1=\"217.0\" y1=\"357.0\" x2=\"232.0\" y2=\"357.0\" stroke-linecap=\"round\" style=\"stroke:white;stroke-width:4\"/><line x1=\"232.0\" y1=\"357.0\" x2=\"227.0\" y2=\"357.0\" stroke-linecap=\"round\" style=\"stroke:white;stroke-width:4\"/><line x1=\"227.0\" y1=\"357.0\" x2=\"227.0\" y2=\"352.0\" stroke-linecap=\"round\" style=\"stroke:white;stroke-width:4\"/><line x1=\"227.0\" y1=\"352.0\" x2=\"227.0\" y2=\"362.0\" stroke-linecap=\"round\" style=\"stroke:white;stroke-width:4\"/><line x1=\"227.0\" y1=\"362.0\" x2=\"227.0\" y2=\"357.0\" stroke-linecap=\"round\" style=\"stroke:white;stroke-width:4\"/><line x1=\"227.0\" y1=\"357.0\" x2=\"217.0\" y2=\"357.0\" stroke-linecap=\"round\" style=\"stroke:white;stroke-width:4\"/><line x1=\"217.0\" y1=\"357.0\" x2=\"227.0\" y2=\"339.679\" stroke-linecap=\"round\" style=\"stroke:white;stroke-width:4\"/><line x1=\"227.0\" y1=\"339.679\" x2=\"217.0\" y2=\"357.0\" stroke-linecap=\"round\" style=\"stroke:white;stroke-width:4\"/>\n",
              "        <g visibility=visible transform=\"rotate(90,237.0,350.0) translate(219.0, 332.0)\">\n",
              "<path style=\" stroke:none;fill-rule:evenodd;fill:white;fill-opacity:1;\" d=\"M 18.214844 0.632812 C 16.109375 1.800781 15.011719 4.074219 15.074219 7.132812 L 15.085938 7.652344 L 14.785156 7.496094 C 13.476562 6.824219 11.957031 6.671875 10.40625 7.066406 C 8.46875 7.550781 6.515625 9.15625 4.394531 11.992188 C 3.0625 13.777344 2.679688 14.636719 3.042969 15.027344 L 3.15625 15.152344 L 3.519531 15.152344 C 4.238281 15.152344 4.828125 14.886719 8.1875 13.039062 C 9.386719 12.378906 10.371094 11.839844 10.378906 11.839844 C 10.386719 11.839844 10.355469 11.929688 10.304688 12.035156 C 9.832031 13.09375 9.257812 14.820312 8.96875 16.078125 C 7.914062 20.652344 8.617188 24.53125 11.070312 27.660156 C 11.351562 28.015625 11.363281 27.914062 10.972656 28.382812 C 8.925781 30.84375 7.945312 33.28125 8.238281 35.1875 C 8.289062 35.527344 8.28125 35.523438 8.917969 35.523438 C 10.941406 35.523438 13.074219 34.207031 15.136719 31.6875 C 15.359375 31.417969 15.328125 31.425781 15.5625 31.574219 C 16.292969 32.042969 18.023438 32.964844 18.175781 32.964844 C 18.335938 32.964844 19.941406 32.210938 20.828125 31.71875 C 20.996094 31.625 21.136719 31.554688 21.136719 31.558594 C 21.203125 31.664062 21.898438 32.414062 22.222656 32.730469 C 23.835938 34.300781 25.5625 35.132812 27.582031 35.300781 C 27.90625 35.328125 27.9375 35.308594 28.007812 34.984375 C 28.382812 33.242188 27.625 30.925781 25.863281 28.425781 L 25.542969 27.96875 L 25.699219 27.785156 C 28.945312 23.960938 29.132812 18.699219 26.257812 11.96875 L 26.207031 11.84375 L 27.945312 12.703125 C 31.53125 14.476562 32.316406 14.800781 33.03125 14.800781 C 33.976562 14.800781 33.78125 13.9375 32.472656 12.292969 C 28.519531 7.355469 25.394531 5.925781 21.921875 7.472656 L 21.558594 7.636719 L 21.578125 7.542969 C 21.699219 6.992188 21.761719 5.742188 21.699219 5.164062 C 21.496094 3.296875 20.664062 1.964844 19.003906 0.855469 C 18.480469 0.503906 18.457031 0.5 18.214844 0.632812\"/>\n",
              "</g>\n",
              "      </svg>\n",
              "    "
            ],
            "text/plain": [
              "<IPython.core.display.HTML object>"
            ]
          },
          "metadata": {},
          "output_type": "display_data"
        },
        {
          "ename": "KeyboardInterrupt",
          "evalue": "",
          "output_type": "error",
          "traceback": [
            "\u001b[1;31m---------------------------------------------------------------------------\u001b[0m",
            "\u001b[1;31mKeyboardInterrupt\u001b[0m                         Traceback (most recent call last)",
            "\u001b[1;32mecnivtwelve\\cours_nsi\\Graphes\\TP_Graphes_Labyrinthe (1).ipynb Cell 20\u001b[0m line \u001b[0;36m2\n\u001b[0;32m      <a href='vscode-notebook-cell://github/ecnivtwelve/cours_nsi/Graphes/TP_Graphes_Labyrinthe%20%281%29.ipynb#X25sdnNjb2RlLXZmcw%3D%3D?line=0'>1</a>\u001b[0m \u001b[39m#réexécutez le dessin du graphe:\u001b[39;00m\n\u001b[1;32m----> <a href='vscode-notebook-cell://github/ecnivtwelve/cours_nsi/Graphes/TP_Graphes_Labyrinthe%20%281%29.ipynb#X25sdnNjb2RlLXZmcw%3D%3D?line=1'>2</a>\u001b[0m drawGraph()\n",
            "\u001b[1;32mecnivtwelve\\cours_nsi\\Graphes\\TP_Graphes_Labyrinthe (1).ipynb Cell 20\u001b[0m line \u001b[0;36m1\n\u001b[0;32m     <a href='vscode-notebook-cell://github/ecnivtwelve/cours_nsi/Graphes/TP_Graphes_Labyrinthe%20%281%29.ipynb#X25sdnNjb2RlLXZmcw%3D%3D?line=13'>14</a>\u001b[0m \u001b[39mfor\u001b[39;00m i \u001b[39min\u001b[39;00m \u001b[39mrange\u001b[39m(\u001b[39m1\u001b[39m,\u001b[39m5\u001b[39m) :\n\u001b[0;32m     <a href='vscode-notebook-cell://github/ecnivtwelve/cours_nsi/Graphes/TP_Graphes_Labyrinthe%20%281%29.ipynb#X25sdnNjb2RlLXZmcw%3D%3D?line=14'>15</a>\u001b[0m     \u001b[39mfor\u001b[39;00m j \u001b[39min\u001b[39;00m \u001b[39mrange\u001b[39m(\u001b[39m1\u001b[39m,\u001b[39m9\u001b[39m) :\n\u001b[1;32m---> <a href='vscode-notebook-cell://github/ecnivtwelve/cours_nsi/Graphes/TP_Graphes_Labyrinthe%20%281%29.ipynb#X25sdnNjb2RlLXZmcw%3D%3D?line=15'>16</a>\u001b[0m         drawCircle(\u001b[39m50\u001b[39;49m,i,j)\n\u001b[0;32m     <a href='vscode-notebook-cell://github/ecnivtwelve/cours_nsi/Graphes/TP_Graphes_Labyrinthe%20%281%29.ipynb#X25sdnNjb2RlLXZmcw%3D%3D?line=16'>17</a>\u001b[0m         t\u001b[39m.\u001b[39mforward(\u001b[39m100\u001b[39m)\n\u001b[0;32m     <a href='vscode-notebook-cell://github/ecnivtwelve/cours_nsi/Graphes/TP_Graphes_Labyrinthe%20%281%29.ipynb#X25sdnNjb2RlLXZmcw%3D%3D?line=17'>18</a>\u001b[0m     t\u001b[39m.\u001b[39mright(\u001b[39m90\u001b[39m)\n",
            "\u001b[1;32mecnivtwelve\\cours_nsi\\Graphes\\TP_Graphes_Labyrinthe (1).ipynb Cell 20\u001b[0m line \u001b[0;36m3\n\u001b[0;32m     <a href='vscode-notebook-cell://github/ecnivtwelve/cours_nsi/Graphes/TP_Graphes_Labyrinthe%20%281%29.ipynb#X25sdnNjb2RlLXZmcw%3D%3D?line=36'>37</a>\u001b[0m \u001b[39mif\u001b[39;00m (i,j\u001b[39m+\u001b[39m\u001b[39m1\u001b[39m) \u001b[39min\u001b[39;00m labyrinthe\u001b[39m.\u001b[39mlstAdj[(i,j)] :\n\u001b[0;32m     <a href='vscode-notebook-cell://github/ecnivtwelve/cours_nsi/Graphes/TP_Graphes_Labyrinthe%20%281%29.ipynb#X25sdnNjb2RlLXZmcw%3D%3D?line=37'>38</a>\u001b[0m     drawArreteHor(\u001b[39m50\u001b[39m)\n\u001b[1;32m---> <a href='vscode-notebook-cell://github/ecnivtwelve/cours_nsi/Graphes/TP_Graphes_Labyrinthe%20%281%29.ipynb#X25sdnNjb2RlLXZmcw%3D%3D?line=38'>39</a>\u001b[0m text(i,j)\n\u001b[0;32m     <a href='vscode-notebook-cell://github/ecnivtwelve/cours_nsi/Graphes/TP_Graphes_Labyrinthe%20%281%29.ipynb#X25sdnNjb2RlLXZmcw%3D%3D?line=39'>40</a>\u001b[0m t\u001b[39m.\u001b[39mpenup()\n",
            "\u001b[1;32mecnivtwelve\\cours_nsi\\Graphes\\TP_Graphes_Labyrinthe (1).ipynb Cell 20\u001b[0m line \u001b[0;36m1\n\u001b[0;32m    <a href='vscode-notebook-cell://github/ecnivtwelve/cours_nsi/Graphes/TP_Graphes_Labyrinthe%20%281%29.ipynb#X25sdnNjb2RlLXZmcw%3D%3D?line=184'>185</a>\u001b[0m dico_j \u001b[39m=\u001b[39m {\u001b[39m1\u001b[39m:[\u001b[39m40\u001b[39m,\u001b[39m90\u001b[39m,\u001b[39m10\u001b[39m,\u001b[39m10\u001b[39m,\u001b[39m90\u001b[39m,\u001b[39m40\u001b[39m], \u001b[39m2\u001b[39m:[\u001b[39m27\u001b[39m,\u001b[39m90\u001b[39m,\u001b[39m10\u001b[39m,\u001b[39m10\u001b[39m,\u001b[39m90\u001b[39m,\u001b[39m27\u001b[39m], \u001b[39m3\u001b[39m:[\u001b[39m27\u001b[39m,\u001b[39m90\u001b[39m,\u001b[39m10\u001b[39m,\u001b[39m10\u001b[39m,\u001b[39m90\u001b[39m,\u001b[39m27\u001b[39m],\\\n\u001b[0;32m    <a href='vscode-notebook-cell://github/ecnivtwelve/cours_nsi/Graphes/TP_Graphes_Labyrinthe%20%281%29.ipynb#X25sdnNjb2RlLXZmcw%3D%3D?line=185'>186</a>\u001b[0m           \u001b[39m4\u001b[39m:[\u001b[39m28\u001b[39m,\u001b[39m90\u001b[39m,\u001b[39m7\u001b[39m,\u001b[39m7\u001b[39m,\u001b[39m90\u001b[39m,\u001b[39m28\u001b[39m], \u001b[39m5\u001b[39m:[\u001b[39m28\u001b[39m, \u001b[39m90\u001b[39m, \u001b[39m10\u001b[39m, \u001b[39m10\u001b[39m, \u001b[39m90\u001b[39m, \u001b[39m28\u001b[39m], \u001b[39m6\u001b[39m:[\u001b[39m28\u001b[39m, \u001b[39m90\u001b[39m, \u001b[39m10\u001b[39m, \u001b[39m10\u001b[39m, \u001b[39m90\u001b[39m, \u001b[39m28\u001b[39m],\\\n\u001b[0;32m    <a href='vscode-notebook-cell://github/ecnivtwelve/cours_nsi/Graphes/TP_Graphes_Labyrinthe%20%281%29.ipynb#X25sdnNjb2RlLXZmcw%3D%3D?line=186'>187</a>\u001b[0m           \u001b[39m7\u001b[39m:[\u001b[39m28\u001b[39m, \u001b[39m90\u001b[39m, \u001b[39m10\u001b[39m, \u001b[39m10\u001b[39m, \u001b[39m90\u001b[39m, \u001b[39m28\u001b[39m], \u001b[39m8\u001b[39m:[\u001b[39m28\u001b[39m, \u001b[39m90\u001b[39m, \u001b[39m10\u001b[39m, \u001b[39m10\u001b[39m, \u001b[39m90\u001b[39m, \u001b[39m28\u001b[39m]}\n\u001b[0;32m    <a href='vscode-notebook-cell://github/ecnivtwelve/cours_nsi/Graphes/TP_Graphes_Labyrinthe%20%281%29.ipynb#X25sdnNjb2RlLXZmcw%3D%3D?line=187'>188</a>\u001b[0m ecriture(dico_i,i)\n\u001b[1;32m--> <a href='vscode-notebook-cell://github/ecnivtwelve/cours_nsi/Graphes/TP_Graphes_Labyrinthe%20%281%29.ipynb#X25sdnNjb2RlLXZmcw%3D%3D?line=188'>189</a>\u001b[0m ecriture(dico_j,j)\n",
            "\u001b[1;32mecnivtwelve\\cours_nsi\\Graphes\\TP_Graphes_Labyrinthe (1).ipynb Cell 20\u001b[0m line \u001b[0;36m1\n\u001b[0;32m    <a href='vscode-notebook-cell://github/ecnivtwelve/cours_nsi/Graphes/TP_Graphes_Labyrinthe%20%281%29.ipynb#X25sdnNjb2RlLXZmcw%3D%3D?line=170'>171</a>\u001b[0m \u001b[39mdef\u001b[39;00m \u001b[39mecriture\u001b[39m(dico,elt):\n\u001b[0;32m    <a href='vscode-notebook-cell://github/ecnivtwelve/cours_nsi/Graphes/TP_Graphes_Labyrinthe%20%281%29.ipynb#X25sdnNjb2RlLXZmcw%3D%3D?line=171'>172</a>\u001b[0m     t\u001b[39m.\u001b[39mforward(dico[elt][\u001b[39m0\u001b[39m])\n\u001b[1;32m--> <a href='vscode-notebook-cell://github/ecnivtwelve/cours_nsi/Graphes/TP_Graphes_Labyrinthe%20%281%29.ipynb#X25sdnNjb2RlLXZmcw%3D%3D?line=172'>173</a>\u001b[0m     t\u001b[39m.\u001b[39;49mleft(dico[elt][\u001b[39m1\u001b[39;49m])\n\u001b[0;32m    <a href='vscode-notebook-cell://github/ecnivtwelve/cours_nsi/Graphes/TP_Graphes_Labyrinthe%20%281%29.ipynb#X25sdnNjb2RlLXZmcw%3D%3D?line=173'>174</a>\u001b[0m     t\u001b[39m.\u001b[39mbackward(dico[elt][\u001b[39m2\u001b[39m])\n\u001b[0;32m    <a href='vscode-notebook-cell://github/ecnivtwelve/cours_nsi/Graphes/TP_Graphes_Labyrinthe%20%281%29.ipynb#X25sdnNjb2RlLXZmcw%3D%3D?line=174'>175</a>\u001b[0m     t\u001b[39m.\u001b[39mpendown()\n",
            "File \u001b[1;32m~\\AppData\\Roaming\\Python\\Python39\\site-packages\\ColabTurtle\\Turtle.py:217\u001b[0m, in \u001b[0;36mleft\u001b[1;34m(degrees)\u001b[0m\n\u001b[0;32m    215\u001b[0m \u001b[39mif\u001b[39;00m \u001b[39mnot\u001b[39;00m \u001b[39misinstance\u001b[39m(degrees, (\u001b[39mint\u001b[39m,\u001b[39mfloat\u001b[39m)):\n\u001b[0;32m    216\u001b[0m     \u001b[39mraise\u001b[39;00m \u001b[39mValueError\u001b[39;00m(\u001b[39m'\u001b[39m\u001b[39mdegrees must be a number.\u001b[39m\u001b[39m'\u001b[39m)\n\u001b[1;32m--> 217\u001b[0m right(\u001b[39m-\u001b[39;49m\u001b[39m1\u001b[39;49m \u001b[39m*\u001b[39;49m degrees)\n",
            "File \u001b[1;32m~\\AppData\\Roaming\\Python\\Python39\\site-packages\\ColabTurtle\\Turtle.py:196\u001b[0m, in \u001b[0;36mright\u001b[1;34m(degrees)\u001b[0m\n\u001b[0;32m    193\u001b[0m     \u001b[39mraise\u001b[39;00m \u001b[39mValueError\u001b[39;00m(\u001b[39m'\u001b[39m\u001b[39mdegrees must be a number.\u001b[39m\u001b[39m'\u001b[39m)\n\u001b[0;32m    195\u001b[0m turtle_degree \u001b[39m=\u001b[39m (turtle_degree \u001b[39m+\u001b[39m degrees) \u001b[39m%\u001b[39m \u001b[39m360\u001b[39m\n\u001b[1;32m--> 196\u001b[0m _updateDrawing()\n",
            "File \u001b[1;32m~\\AppData\\Roaming\\Python\\Python39\\site-packages\\ColabTurtle\\Turtle.py:145\u001b[0m, in \u001b[0;36m_updateDrawing\u001b[1;34m()\u001b[0m\n\u001b[0;32m    143\u001b[0m \u001b[39mif\u001b[39;00m drawing_window \u001b[39m==\u001b[39m \u001b[39mNone\u001b[39;00m:\n\u001b[0;32m    144\u001b[0m     \u001b[39mraise\u001b[39;00m \u001b[39mAttributeError\u001b[39;00m(\u001b[39m\"\u001b[39m\u001b[39mDisplay has not been initialized yet. Call initializeTurtle() before using.\u001b[39m\u001b[39m\"\u001b[39m)\n\u001b[1;32m--> 145\u001b[0m time\u001b[39m.\u001b[39;49msleep(_speedToSec(turtle_speed))\n\u001b[0;32m    146\u001b[0m drawing_window\u001b[39m.\u001b[39mupdate(HTML(_generateSvgDrawing()))\n",
            "\u001b[1;31mKeyboardInterrupt\u001b[0m: "
          ]
        }
      ],
      "source": [
        "#réexécutez le dessin du graphe:\n",
        "drawGraph()"
      ]
    },
    {
      "cell_type": "markdown",
      "metadata": {
        "id": "17ZsAR5wa0C5"
      },
      "source": [
        "### 5. A faire vous même "
      ]
    },
    {
      "cell_type": "markdown",
      "metadata": {
        "id": "U1xhBs1Ka0C7"
      },
      "source": [
        "1.  Faites afficher les cases où je peux me rendre si je suis en (3,4)  \n",
        "Indication : étudier comment est implémenté le graphe"
      ]
    },
    {
      "cell_type": "code",
      "execution_count": 46,
      "metadata": {
        "id": "_x_GqzNZa0C8",
        "trusted": false
      },
      "outputs": [
        {
          "name": "stdout",
          "output_type": "stream",
          "text": [
            "[[(4, 6), (3, 5), (3, 7), (2, 6)]]\n"
          ]
        }
      ],
      "source": [
        "#Votre code ici\n",
        "casesDisp = []\n",
        "keys = list(labyrinthe.lstAdj.keys())\n",
        "\n",
        "for case in keys:\n",
        "    if case == (3,6):\n",
        "        n = labyrinthe.lstAdj[case]\n",
        "        casesDisp.append(n)  \n",
        "    elif labyrinthe.lstAdj[case] == (3,6):\n",
        "        casesDisp.append(case)\n",
        "        \n",
        "print(casesDisp)"
      ]
    },
    {
      "cell_type": "markdown",
      "metadata": {
        "id": "PCMqvF_za0DA"
      },
      "source": [
        "2. Ecrire une fonction `passage(case1,case2)` qui renvoie `True` si on peut passer de `case1` à `case2` et `False` sinon.  \n",
        "\n",
        "La fonction doit vérifier que les 2 cases sont contiguës et qu'il n'y a pas de paroie empêchant le passage."
      ]
    },
    {
      "cell_type": "code",
      "execution_count": 57,
      "metadata": {
        "id": "bRo7DP8Xa0DB",
        "trusted": false
      },
      "outputs": [
        {
          "name": "stdout",
          "output_type": "stream",
          "text": [
            "True\n"
          ]
        }
      ],
      "source": [
        "def passage(case1,case2) :\n",
        "    keys = list(labyrinthe.lstAdj.keys())\n",
        "\n",
        "    for el in keys:\n",
        "        if el == case1 and case2 in labyrinthe.lstAdj[el]:\n",
        "            return True\n",
        "        elif case1 in labyrinthe.lstAdj[el] and el == case2: # (facultatif)\n",
        "            return True\n",
        "\n",
        "    return False\n",
        "\n",
        "print(passage( (2,2),(2,3)))"
      ]
    },
    {
      "cell_type": "code",
      "execution_count": 58,
      "metadata": {
        "id": "bZz-RH5aa0DI",
        "trusted": false
      },
      "outputs": [
        {
          "name": "stdout",
          "output_type": "stream",
          "text": [
            "test ok True\n"
          ]
        }
      ],
      "source": [
        "#tests :\n",
        "ok=True\n",
        "assert passage( (1,2),(2,2))==False ,\"erreur\"\n",
        "assert passage( (2,2),(2,3))==True ,\"erreur\"\n",
        "assert passage( (2,2),(3,3))==False ,\"erreur\"\n",
        "assert passage( (2,3),(2,5))==False ,\"erreur\"\n",
        "print('test ok',ok)"
      ]
    }
  ],
  "metadata": {
    "celltoolbar": "Edit Metadata",
    "colab": {
      "collapsed_sections": [],
      "name": "TP Graphes Labyrinthe.ipynb",
      "provenance": []
    },
    "kernelspec": {
      "display_name": "Python 3",
      "language": "python",
      "name": "python3"
    },
    "language_info": {
      "codemirror_mode": {
        "name": "ipython",
        "version": 3
      },
      "file_extension": ".py",
      "mimetype": "text/x-python",
      "name": "python",
      "nbconvert_exporter": "python",
      "pygments_lexer": "ipython3",
      "version": "3.9.5"
    }
  },
  "nbformat": 4,
  "nbformat_minor": 0
}
