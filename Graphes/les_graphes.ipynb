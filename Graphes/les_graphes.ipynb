{
  "cells": [
    {
      "cell_type": "markdown",
      "metadata": {
        "id": "5Tv2duaSSfZH"
      },
      "source": [
        "# **Structure de données : Les Graphes**"
      ]
    },
    {
      "cell_type": "markdown",
      "metadata": {
        "id": "7juWKUJESj-u"
      },
      "source": [
        "## **1. Exemple de la représentation d'un réseau social**"
      ]
    },
    {
      "cell_type": "markdown",
      "metadata": {
        "id": "c8hI5lvBTHet"
      },
      "source": [
        " Imaginez un réseau social ayant 6 abonnés (A, B, C, D, E et F) où :\n",
        "\n",
        "    A est ami avec B, C et D\n",
        "    B est ami avec A et D\n",
        "    C est ami avec A, E et D\n",
        "    D est ami avec tous les autres abonnés\n",
        "    E est ami avec C, D et F\n",
        "    F est ami avec E et D\n",
        "\n",
        "La description de ce réseau social, malgré son faible nombre d'abonnés, est déjà quelque peu rébarbative, alors imaginez cette même description avec un réseau social comportant des millions d'abonnés !\n",
        "\n",
        "Il existe un moyen plus \"visuel\" pour représenter ce réseau social : on peut représenter chaque abonné par un cercle (avec le nom de l'abonné situé dans le cercle) et chaque relation \"X est ami avec Y\" par un segment de droite reliant X et Y (\"X est ami avec Y\" et \"Y est ami avec X\" étant représenté par le même segment de droite).\n",
        "\n",
        "Voici ce que cela donne avec le réseau social décrit ci-dessus "
      ]
    },
    {
      "cell_type": "markdown",
      "metadata": {
        "id": "KRypp_05UTlU"
      },
      "source": [
        "<img src=\"https://pixees.fr/informatiquelycee/n_site/img/graphe.png\">\n"
      ]
    },
    {
      "cell_type": "markdown",
      "metadata": {
        "id": "IrKoKyC7Yzz_"
      },
      "source": [
        " Ce genre de figure s'appelle un graphe. Les graphes sont des objets mathématiques très utilisés, notamment en informatique.\n",
        "\n",
        "- Les cercles sont appelés des sommets\n",
        "- Les segments de droites qui relient 2 sommets sont appelés relations\n",
        "\n",
        "Plus formellement on dira qu'un graphe G est un couple G = (V,E) avec V un ensemble de sommets et E un ensemble de relations "
      ]
    },
    {
      "cell_type": "markdown",
      "metadata": {
        "id": "IdrNStW1Y_f2"
      },
      "source": [
        "**Exercice :**\n",
        "\n",
        "\n",
        "\n",
        "Construisez un graphe de réseau social à partir des informations suivantes :\n",
        "\n",
        "    A est ami avec B et E\n",
        "    B est ami avec A et C\n",
        "    C est ami avec B,F et D\n",
        "    D est ami avec C,F et E\n",
        "    E est ami avec A,D et F\n",
        "    F est ami avec C, D et E\n",
        "\n"
      ]
    },
    {
      "cell_type": "markdown",
      "metadata": {
        "id": "Nq8s07fJZEzg"
      },
      "source": [
        "## **2. Exemple en cartographie**"
      ]
    },
    {
      "cell_type": "markdown",
      "metadata": {
        "id": "cKlCNLQ7ZS6f"
      },
      "source": [
        "Autre utilisation possible des graphes : les logiciels de cartographie (ces logiciels sont souvent utilisés couplés à des récepteurs GPS). Ces logiciels de cartographie permettant, connaissant votre position grâce à un récepteur GPS, d'indiquer la route à suivre pour se rendre à endroit B. Comment modéliser l'ensemble des lieux et des routes ? Simplement à l'aide d'un graphe ! Chaque lieu est un sommet et les routes qui relient les lieux entre eux sont des arêtes. "
      ]
    },
    {
      "cell_type": "markdown",
      "metadata": {
        "id": "cbkag0OhZlhN"
      },
      "source": [
        "### **2.1 Graphe non orienté**\n",
        "\n",
        "\n",
        "\n",
        "Soit les lieux suivants : A, B, C, D, E, F et G.\n",
        "\n",
        "Les différents lieux sont reliés par les routes suivantes :\n",
        "\n",
        "    il existe une route entre A et C\n",
        "    il existe une route entre A et B\n",
        "    il existe une route entre A et D\n",
        "    il existe une route entre B et F\n",
        "    il existe une route entre B et E\n",
        "    il existe une route entre B et G\n",
        "    il existe une route entre D et G\n",
        "    il existe une route entre E et F\n",
        "\n",
        "Ici aussi, la représentation sous forme de graphe s'impose : \n",
        "\n",
        "![Texte alternatif…](https://pixees.fr/informatiquelycee/n_site/img/nsi_term_structDo_graphe_1.png)\n",
        "\n",
        "Pour les graphes **non orientés** : les relations sont appelées **arêtes**"
      ]
    },
    {
      "cell_type": "markdown",
      "metadata": {
        "id": "VL3z1xB5Xq71"
      },
      "source": [
        "### **2.2 Graphe orienté**\n",
        "\n",
        "\n",
        "\n",
        " Problème : avec cette représentation du réseau routier sous forme de graphe, il est impossible de tenir compte des routes en sens unique (par exemple il est possible d'aller de A vers D mais pas de D vers A)\n",
        "\n",
        "Voici de nouvelles contraintes :\n",
        "\n",
        "    il existe une route entre A et C (double sens)\n",
        "    il existe une route entre A et B (sens unique B->A)\n",
        "    il existe une route entre A et D (sens unique A->D)\n",
        "    il existe une route entre B et F (sens unique B->F)\n",
        "    il existe une route entre B et E (sens unique E->B)\n",
        "    il existe une route entre B et G (double sens)\n",
        "    il existe une route entre D et G (double sens)\n",
        "    il existe une route entre E et F (double)\n",
        "\n",
        "Pour tenir compte de ces nouvelles contraintes, on utilisera un graphe orienté :\n",
        "\n",
        "![Texte alternatif…](https://pixees.fr/informatiquelycee/n_site/img/nsi_term_structDo_graphe_2.png)\n",
        "\n",
        "Dans un graphe orienté , les relations possèdent une orientation. Ces relations sont appelées \"arcs\" .\n",
        "On dira qu'un graphe orienté G est un couple G = (V,A) avec V un ensemble de sommets et A un ensemble d'arcs. "
      ]
    },
    {
      "cell_type": "markdown",
      "metadata": {
        "id": "eTy20iQJYBJs"
      },
      "source": [
        "### **2.3 Graphe pondéré**\n",
        "\n",
        "\n",
        "Parfois il est intéressant d'associer aux arêtes ou aux arcs des valeurs, on parle alors de graphes pondérés. Si nous revenons à notre \"graphe cartographie\", il est possible d'associer à chaque arête la distance en km entre les 2 lieux, ou encore, le temps de trajet entre les deux lieux : \n",
        "\n",
        "**Pondéré en distance**\n",
        "\n",
        "![Texte alternatif…](https://pixees.fr/informatiquelycee/n_site/img/nsi_term_structDo_graphe_3.png)\n",
        "\n",
        "**Pondéré en minutes**\n",
        "\n",
        "![Texte alternatif…](https://pixees.fr/informatiquelycee/n_site/img/nsi_term_structDo_graphe_4.png)\n",
        "\n",
        "En fonction du choix fait par le conducteur (trajet le plus court \"en distance\" ou trajet le plus court \"en temps\"), l'algorithme permettant de déterminer le \"chemin le plus court entre 2 points\" travaillera sur le graphe \"graphe pondéré (km) cartographie\" ou sur le graphe \"graphe pondéré (minutes) cartographie\". À noter que le \"graphe pondéré (minutes) cartographie\" peut évoluer au cours du temps en fonction du trafic routier : une application comme Waze utilise les données en en provenance des utilisateurs de l'application afin de mettre à jour en temps réél leur \"graphe pondéré (minutes) cartographie\". \n",
        "\n"
      ]
    },
    {
      "cell_type": "markdown",
      "metadata": {
        "id": "QuBI5BQRY2ZV"
      },
      "source": [
        "## **3. Situations où la structure de données graphe nous est utile**\n",
        "\n"
      ]
    },
    {
      "cell_type": "markdown",
      "metadata": {
        "id": "u0kDDkzFZHEe"
      },
      "source": [
        " Un graphe sert avant tout à manipuler des concepts, et à établir un lien entre ces concepts. N'importe quel problème comportant des objets avec des relations entre ces objets peut être modélisé par un graphe.\n",
        "Il apparaît donc que les graphes sont des outils très puissants et largement répandus qui se prêtent bien à la résolution de nombreux problèmes.\n",
        "\n",
        "En voici quelques uns. \n"
      ]
    },
    {
      "cell_type": "markdown",
      "metadata": {
        "id": "F54LaSCQZKHq"
      },
      "source": [
        "### **3.1 La recherche de chemins**\n",
        "\n",
        "Il s'agit d'un cas très classique, notamment dans le domaine du jeu vidéo. Chaque nœud représente une position (ici une case libre) et chaque arête correspond à un chemin entre deux positions (ici deux cases libres adjacentes).\n",
        "Il est courant de chercher le chemin le plus court entre deux positions : les IA s'en servent pour déplacer les créatures aussi vite que possible dans le monde virtuel. En remplaçant les nœuds par des adresses et les arêtes par des routes, on obtient le graphe utilisé par les GPS ou Google Map par exemple.\n",
        "On utilise couramment le terme anglais pathfinding pour désigner la recherche de chemins dans un graphe. \n",
        "\n",
        "![Texte alternatif…](https://zestedesavoir.com/media/galleries/912/0dcbf772-4c53-471a-89a5-80a64a58be9f.jpg.960x960_q85.jpg)\n",
        "\n"
      ]
    },
    {
      "cell_type": "markdown",
      "metadata": {
        "id": "zE1r1kAWZlTY"
      },
      "source": [
        "### **3.2 Des relations entre individus**\n",
        "\n",
        "Cet outil est très utilisé en sciences sociales pour représenter des individus et leurs différents liens. On en fait usage dans le milieu de la recherche, mais aussi dans les réseaux sociaux. L'objectif va être de pouvoir identifier les communautés formées, les centres d'intérêt communs… Une exploitation intelligente de ces données est indispensable pour suggérer à l'utilisateur les choses qu'il est susceptible d'aimer, les personnes qu'il connaît peut-être, et avant tout (et surtout) pour créer des publicités ciblées adaptées à chacun.\n",
        "\n",
        "Une anecdote à ce sujet : en moyenne seules 8 personnes vous séparent de n'importe quelle autre personne à la surface de la Terre. Si vous prenez la connaissance de la connaissance etc… d'une de vos connaissances, en moyenne 8 personnes permettront de vous connecter avec n'importe quel français, américain, indien ou japonais. Et il est rare de dépasser 11 ou 12. Il s'agit là du diamètre moyen du graphe social de l'humanité.\n",
        "\n",
        "\n",
        "![Texte alternatif…](https://zestedesavoir.com/media/galleries/912/f84449b8-1172-4f05-b133-43ec692e42a4.png.960x960_q85.jpg)\n",
        "\n"
      ]
    },
    {
      "cell_type": "markdown",
      "metadata": {
        "id": "mCcRTYqsaBlQ"
      },
      "source": [
        "### **3.3 L’ordonnancement de tâches : le tri topologique**\n",
        "\n",
        "Les problèmes d'ordonnancement de tâches sont toujours un sujet de recherche active aujourd'hui. On peut représenter chacune des tâches à effectuer par un nœud, et les dépendances entre chacune des tâches par les arêtes. Ainsi, l’ordre dans lequel on enfile chaussettes et pantalon importe peu, mais il faut que les deux soient mis avant de lacer ses chaussures. De la même façon, on peut installer les câblages électrique et téléphonique dans l'ordre de notre choix, mais il faut que les murs soient construits avant !\n",
        "On résout ce problème avec **un tri topologique**. \n",
        "\n",
        "\n",
        "![Texte alternatif…](https://zestedesavoir.com/media/galleries/912/2215a2ef-3d28-492e-a1ca-652a956fda31.jpg.960x960_q85.jpg)\n",
        "\n"
      ]
    },
    {
      "cell_type": "markdown",
      "metadata": {
        "id": "_BqjfzASaL6Q"
      },
      "source": [
        "### **3.4 Minimiser l'usage de ressources avec les arbres couvrants minimaux**\n",
        "\n",
        "En parlant de câblage, vous souhaitez que toutes vos prises soient reliées au secteur, non ? Cela est simple ! Mais le fil électrique coûte cher au mètre et vous souhaitez minimiser le prix de votre installation.\n",
        "Ainsi, vous associerez un nœud à chaque prise, et une arête à chaque fil qu'il est possible (mais pas nécessaire) d'installer. A vous de choisir l'ensemble de câbles les plus courts pour relier toutes les prises !\n",
        "Cela correspond à la recherche de l'arbre couvrant minimal. \n",
        "\n",
        "**Ici l'ensemble de fils les plus courts est colorié en rouge. **\n",
        "![Texte alternatif…](https://zestedesavoir.com/media/galleries/912/579ce0b7-7181-4eb1-a199-364cc761079f.png.960x960_q85.jpg)\n",
        "\n"
      ]
    },
    {
      "cell_type": "markdown",
      "metadata": {
        "id": "Bg9oyrrnad5W"
      },
      "source": [
        "### **3.5 Tromper votre ennui en géographie en coloriant des cartes**\n",
        "\n",
        "Vous vous ennuyez à mourir en géographie. Comme vous êtes un individu froid et austère, mais aussi efficace, économe et démuni, vous souhaitez colorier cette triste carte en utilisant un minimum de couleurs, et en faisant en sorte que deux pays limitrophes ne soient jamais de la même couleur.\n",
        "Il s'agit du problème de coloration de graphe. Pour une carte en 2D ne cherchez plus : la réponse est 4, mais ce n'est pas le cas de tout les graphes… en effet, dans un carte, chaque pays est un nœud, et les arêtes correspondent au frontières communes. \n",
        "\n",
        "\n",
        "![Texte alternatif…](https://zestedesavoir.com/media/galleries/912/029ad86a-cbc0-4a1a-ae7d-26aa339924c2.gif.960x960_q85.jpg)\n",
        "\n"
      ]
    },
    {
      "cell_type": "markdown",
      "metadata": {
        "id": "IOLFBXxSareO"
      },
      "source": [
        "### **3.6 Poster du courrier**\n",
        "\n",
        "\n",
        "\n",
        "Vous êtes le facteur d'un petit village, vous distribuez le courrier à vélo, à la seule force de vos jambes. Vous devez passer devant toutes les maisons du village, ce qui implique de traverser toutes les rues. Mais soucieux de préserver vos forces et de renouveler continuellement votre découverte des paysages, vous ne voulez pas traverser deux fois la même rue. Ici chaque nœud est un carrefour, et chaque arête une rue. Vous êtes en train de chercher un circuit Eulérien !\n",
        "\n",
        "Il doit son nom à Leonhard Euler, qui chercha à savoir s'il était possible de franchir les 7 ponts de Königsberg sans jamais repasser deux fois sur le même (et en ne traversant le fleuve que grâce aux ponts, bien entendu).\n",
        "\n",
        "\n",
        "\n",
        "![Texte alternatif…](https://zestedesavoir.com/media/galleries/912/f16ed77f-92ef-4a07-bd8f-e41f37ffff48.png.960x960_q85.jpg)\n",
        "\n"
      ]
    },
    {
      "cell_type": "markdown",
      "metadata": {
        "id": "0wOLPnO7bCav"
      },
      "source": [
        "### **3.7 ... d'autres exemples**\n",
        "\n",
        "Pensez à Youtube qui suggère des vidéos proches de celle que vous regardez (d'aucun prétendent qu'on finira toujours par aboutir à des vidéos de chats), pensez à wikipédia qui propose des articles connexes (nous reviendrons sur ce terme), pensez au cerveau humain, à ses milliards de neurones et à ses centaines de milliards de connexions entre eux ! Les graphes sont partout.\n",
        "\n",
        "Apprenez à reconnaître un problème de graphe lorsque vous en voyez un, c'est déjà la moitié du travail. Il ne vous reste alors plus qu'à trouver l'algorithme qui répond à votre problème !\n",
        "\n",
        "**Il existe deux méthodes permettant d'implémenter un graphe : les matrices d'adjacences et les listes d'adjacences.** "
      ]
    },
    {
      "cell_type": "markdown",
      "metadata": {
        "id": "jlcITPWqcMHd"
      },
      "source": [
        "## **4. Terminologie**\n",
        "\n"
      ]
    },
    {
      "cell_type": "markdown",
      "metadata": {
        "id": "2Ghuu0KccTXV"
      },
      "source": [
        "### **4.1 Terminologie des graphes non orientés**\n",
        "\n",
        "***Tous les termes définis dans cette section sont de simples définitions, que vous devez connaitre***\n",
        "\n",
        "**Arrête** : Relation entre deux sommets. Notation : A−B\n",
        "\n",
        "**Sommets Adjacents** : Deux sommets sont adjacents si ils possèdent au moins une arrête qui les joint.\n",
        "\n",
        "**Degré d'un sommet X** : Le nombre d'arrêtes dont X est une extrémité.\n",
        "\n",
        "**Chaîne** : Suite de sommets consécutifs joints par des arrêtes.\n",
        "\n",
        "**Cycle** : Chaine dont le début est le même que la fin.\n",
        "\n",
        "**Graphe connexe** : Chaque sommet est relié à tous les autres par au moins une chaîne.\n",
        "\n",
        "![Texte alternatif…](https://cms.alloprof.qc.ca//sites/default/files/importFiche/2730i3.jpg)\n",
        "\n",
        "**Graphe complet** : Chaque sommet est relié directement à tout les autres.\n",
        "\n",
        "![Texte alternatif…](https://cms.alloprof.qc.ca//sites/default/files/importFiche/d1414i10.PNG)"
      ]
    },
    {
      "cell_type": "markdown",
      "metadata": {
        "id": "kcFDgffWdL3U"
      },
      "source": [
        "### **4.2 Terminologie des graphes orientés**\n",
        "\n",
        " **Arc** : Relation orientée entre deux sommets. Notation : A→B\n",
        "\n",
        "**Sommets Adjacents** : Deux sommets sont adjacents si il existe au moins un arc qui les joint.\n",
        "\n",
        "**Degré d'un sommet X** : Le nombre d'arcs dont X est une extrémité.\n",
        "\n",
        "**Chemin** : Suite de sommets consécutifs joints par des arcs.\n",
        "\n",
        "**Circuit** : Chemin dont le début est le même que la fin.\n",
        "\n",
        "**Exemple :**\n",
        "\n",
        "<img src=\"https://upload.wikimedia.org/wikipedia/commons/thumb/2/23/Directed_graph_no_background.svg/1200px-Directed_graph_no_background.svg.png\" width=300px>"
      ]
    },
    {
      "cell_type": "markdown",
      "metadata": {
        "id": "BnE6RkQfd5Pr"
      },
      "source": [
        "### **4.3 Graphes simples et multigraphes**\n",
        "\n",
        "**Graphe simple** : au plus une relation relie 2 sommets et il n'y a pas de boucle (une boucle est une relation reliant un sommet à lui même). Peut être orienté ou non-orienté.\n",
        "\n",
        "**Exemple :**\n",
        "\n",
        "![Texte alternatif…](https://upload.wikimedia.org/wikipedia/commons/thumb/3/39/DotLanguageUndirected.svg/220px-DotLanguageUndirected.svg.png)\n",
        "\n",
        "**Multi graphe** : les graphes qui ne sont pas simples ! C'est à dire possédant au moins une boucle ou 2 sommets avec 2 relation\n",
        "\n",
        "**Exemple :**\n",
        "\n",
        "![Texte alternatif…](https://upload.wikimedia.org/wikipedia/commons/thumb/a/a7/Multigraph.svg/200px-Multigraph.svg.png)\n",
        "\n"
      ]
    },
    {
      "cell_type": "markdown",
      "metadata": {
        "id": "siaVGYYZRITe"
      },
      "source": [
        "## **5. Exercices sur les graphes**"
      ]
    },
    {
      "cell_type": "markdown",
      "metadata": {
        "id": "M8H9uPRbROXT"
      },
      "source": [
        "Cf Feuille 'Exercices sur les graphes' (cf Moodle)"
      ]
    },
    {
      "cell_type": "markdown",
      "metadata": {
        "id": "CWrLdcDORY-s"
      },
      "source": [
        "## **6. Implémenter un graphe avec une Matrice d'adjacence**\n",
        "\n",
        "Une matrice est un tableau à double entrée : \n",
        "\n",
        "Exemple de matrice\n",
        "![texte du lien](https://pixees.fr/informatiquelycee/n_site/img/nsi_term_structDo_graphe_5.png)\n",
        "\n",
        "\n",
        "\n",
        "\n",
        "\n",
        "\n",
        "\n"
      ]
    },
    {
      "cell_type": "markdown",
      "metadata": {
        "id": "wubJeuVvUg7S"
      },
      "source": [
        " La matrice A ci-dessus est constitué de 5 lignes et 4 colonnes. On appelle matrice carrée une matrice qui comporte le même nombre de lignes et de colonnes. Les matrices d'adjacences sont des matrices carrées.\n",
        "\n",
        "\n",
        "\n",
        "\n",
        "\n",
        "Reprenons l'exemple du \"graphe cartographie\" vu en 2.1: \n",
        "\n",
        "![Texte alternatif…](https://pixees.fr/informatiquelycee/n_site/img/nsi_term_structDo_graphe_1.png)"
      ]
    },
    {
      "cell_type": "markdown",
      "metadata": {
        "id": "QtwsZgReUtD5"
      },
      "source": [
        "Voici la matrice d'adjacence de ce graphe :\n",
        "\n",
        "![](https://pixees.fr/informatiquelycee/n_site/img/nsi_term_structDo_graphe_6.png)\n"
      ]
    },
    {
      "cell_type": "markdown",
      "metadata": {
        "id": "nBLzX8TbU-RJ"
      },
      "source": [
        " Comment construire une matrice d'adjacence ?\n",
        "\n",
        "Il faut savoir qu'à chaque ligne correspond un sommet du graphe et qu'à chaque colonne correspond aussi un sommet du graphe. À chaque intersection ligne i-colonne j (ligne i correspond au sommet i et colonne j correspond au sommet j), on place un 1 s'il existe une arête entre le sommet i et le sommet j, et un zéro s'il n'existe pas d'arête entre le sommet i et le sommet j. \n",
        "\n",
        "![](https://pixees.fr/informatiquelycee/n_site/img/nsi_term_structDo_graphe_7.png)\n"
      ]
    },
    {
      "cell_type": "markdown",
      "metadata": {
        "id": "2bDCez_SVH6A"
      },
      "source": [
        "\n",
        "  Il existe une arête entre le sommet E et le sommet F, nous avons donc placé un 1 à l'intersection de la ligne E et de la colonne F (il en est de même à l'intersection de la ligne F et de la colonne E)\n",
        "  \n",
        "  Il n'existe pas d'arête entre le sommet D et le sommet C, nous avons donc placé un 0 à l'intersection de la ligne D et de la colonne C (il en est de même à l'intersection de la ligne C et de la colonne D)\n"
      ]
    },
    {
      "cell_type": "markdown",
      "metadata": {
        "id": "_UToa_H6VYEZ"
      },
      "source": [
        "**Exercice 1:**\n",
        "\n",
        "Vérifiez que la matrice d'adjacence proposée ci-dessus correspond bien au graphe \"cartographie\" (retracer le graphe à partir de la matrice).\n",
        "\n"
      ]
    },
    {
      "cell_type": "markdown",
      "metadata": {
        "id": "UO5GywrYVrav"
      },
      "source": [
        "**Exercice 2:**\n",
        "\n",
        "Établissez la matrice d'adjacence du graphe ci-dessous (puis vérifiez) \n",
        "\n",
        "![](https://pixees.fr/informatiquelycee/n_site/img/graphe.png)\n",
        "Graphe réseau social\n"
      ]
    },
    {
      "cell_type": "markdown",
      "metadata": {
        "id": "MilGY-ZfV1mH"
      },
      "source": [
        "**Exercice 3:**\n",
        "\n",
        "Il est aussi possible d'établir une matrice d'adjacence pour un graphe orienté. Le principe reste le même : si le sommet i (ligne) est lié au sommet j (colonne), nous avons un 1 à l'intersection (0 dans le cas contraire).  \n",
        "\n",
        "Cette matrice n'est plus symétrique. En revanche, le terme d'indice (i,j) de la matrice An compte toujours le nombre de chemins allant de i vers j. \n",
        "\n",
        "\n",
        " Établissez la matrice d'adjacence du graphe ci-dessous (puis vérifiez) \n",
        "\n",
        "![wims.cgi.jpg](data:image/jpeg;base64,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)\n",
        "Graphe orienté"
      ]
    },
    {
      "cell_type": "markdown",
      "metadata": {
        "id": "_-3NseGHkSNH"
      },
      "source": [
        "**Matrices d'adjacence en python**\n",
        "\n",
        "Il est assez simple d'utiliser les matrices d'adjacence en Python grâce aux tableaux de tableaux vus l'année dernière :"
      ]
    },
    {
      "cell_type": "code",
      "execution_count": null,
      "metadata": {
        "id": "FhsVzRlnkXwe"
      },
      "outputs": [],
      "source": [
        "#matrice d'ajacence pour le graphe cartographie\n",
        "m = [[0, 1, 1, 1, 0, 0, 0],\n",
        "     [1, 0, 0, 0, 1, 1, 1],\n",
        "     [1, 0, 0, 0, 0, 0, 0],\n",
        "     [1, 0, 0, 0, 0, 0, 1],\n",
        "     [0, 1, 0, 0, 0, 1, 0],\n",
        "     [0, 1, 0, 0, 1, 0, 0],\n",
        "     [0, 1, 0, 1, 0, 0, 0]]\n",
        "\n",
        "print(m)"
      ]
    },
    {
      "cell_type": "markdown",
      "metadata": {
        "id": "J8BM2HPfkin-"
      },
      "source": [
        "## **7. Implémenter un graphe avec des Listes d'adjacence**"
      ]
    },
    {
      "cell_type": "markdown",
      "metadata": {
        "id": "jQiqhyvjk1QO"
      },
      "source": [
        " Pour commencer, on définit une liste des sommets du graphe. À chaque élément de cette liste, on associe une autre liste qui contient les sommets lié à cet élément :\n",
        "\n",
        "Reprenons l'exemple du \"graphe cartographie\" : \n",
        "\n",
        "![](https://pixees.fr/informatiquelycee/n_site/img/nsi_term_structDo_graphe_1.png)\n",
        "\n"
      ]
    },
    {
      "cell_type": "markdown",
      "metadata": {
        "id": "G4D1x8YEtPhY"
      },
      "source": [
        "Voici la liste d'adjacence de ce graphe : \n",
        "\n",
        "![](https://pixees.fr/informatiquelycee/n_site/img/nsi_term_structDo_graphe_10.png)\n"
      ]
    },
    {
      "cell_type": "markdown",
      "metadata": {
        "id": "Kotm7LJvtW9n"
      },
      "source": [
        "Pour les graphes orientés, il est nécessaire de définir 2 listes : la liste des successeurs et la liste des prédécesseurs. Soit un arc allant d'un sommet A vers un sommet B (flèche de A vers B). On dira que B est un successeur de A et que A est un prédécesseur de B :\n",
        "\n",
        "![](https://pixees.fr/informatiquelycee/n_site/img/nsi_term_structDo_graphe_2.png)\n",
        "\n",
        "liste d'adjacence successeurs du graphe orienté cartographie :\n",
        "\n",
        "![](https://pixees.fr/informatiquelycee/n_site/img/nsi_term_structDo_graphe_11.png)\n",
        "\n",
        "\n",
        "liste d'adjacence prédécesseurs du graphe orienté cartographie :\n",
        "\n",
        "![](https://pixees.fr/informatiquelycee/n_site/img/nsi_term_structDo_graphe_12.png)"
      ]
    },
    {
      "cell_type": "markdown",
      "metadata": {
        "id": "6IPvNCSKuA3m"
      },
      "source": [
        "**Exercice 1:**\n",
        "\n",
        "Établissez la liste d'adjacence du graphe ci-dessous :\n",
        "\n",
        "![](https://pixees.fr/informatiquelycee/n_site/img/graphe.png)\n",
        "\n"
      ]
    },
    {
      "cell_type": "markdown",
      "metadata": {
        "id": "pAsUYIEYvLVm"
      },
      "source": [
        "Il est possible de travailler avec des listes d'adjacences en Python en utilisant les dictionnaires : "
      ]
    },
    {
      "cell_type": "code",
      "execution_count": null,
      "metadata": {
        "id": "cMM7YeHXvNZg"
      },
      "outputs": [],
      "source": [
        "#liste d'ajacence pour le graphe cartographie\n",
        "l = {'A':('B','C','D'), 'B':('A', 'E', 'F', 'G'), 'C':('A'), 'D':('A', 'G'), 'E':('B', 'F'), 'F':('B', 'E'), 'G':('B', 'D')}"
      ]
    },
    {
      "cell_type": "code",
      "execution_count": 2,
      "metadata": {},
      "outputs": [
        {
          "data": {
            "text/plain": [
              "19.216666666666665"
            ]
          },
          "execution_count": 2,
          "metadata": {},
          "output_type": "execute_result"
        }
      ],
      "source": [
        "(20+20+17.65)/3"
      ]
    },
    {
      "cell_type": "markdown",
      "metadata": {
        "id": "XwM6cmGLvzRW"
      },
      "source": [
        "## **8. Exercices sur les matrices et listes d'adjacence**"
      ]
    },
    {
      "cell_type": "markdown",
      "metadata": {
        "id": "VJ0H_DJsv_md"
      },
      "source": [
        "Cf Feuille 'Exercices sur les matrices et listes d'adjacences' (cf Moodle)"
      ]
    },
    {
      "cell_type": "markdown",
      "metadata": {
        "id": "MBn9rl7EzXJ0"
      },
      "source": [
        "## **9. Implémentation en pratique (en Python)**\n",
        "\n"
      ]
    },
    {
      "cell_type": "markdown",
      "metadata": {
        "id": "gRD9kFq4zVcO"
      },
      "source": [
        "**Comment choisir l'implémentation à utiliser (matrice d'adjacence ou liste d'adjacence) ?**\n",
        "\n",
        "\n",
        "  le choix se fait en fonction de la densité du graphe, c'est-à-dire du rapport entre le nombre d'arêtes et le nombre de sommets. Pour un graphe dense on utilisera plutôt une matrice d'adjacence.\n",
        "\n",
        "  certains algorithmes travaillent plutôt avec les listes d'adjacences alors que d'autres travaillent plutôt avec les matrices d'adjacences. Le choix doit donc aussi dépendre des algorithmes utilisés (nous aurons très prochainement l'occasion d'étudier plusieurs de ces algorithmes).\n"
      ]
    },
    {
      "cell_type": "markdown",
      "metadata": {
        "id": "iOoEG3wR0Lsr"
      },
      "source": [
        "**Implémenter les graphes :**\n",
        "\n",
        "Comme les listes, les piles, et les files, il est important de distinguer le type abstrait de représentation des données, du type implémenté dans le langage.\n",
        "\n",
        "En Python il n'existe pas de type GRAPHE prédéfini. C'est donc à chacun de l'implémenter avec les outils disponibles dans le langage.\n",
        "\n",
        "Comme pour les listes il peut exister, selon les auteurs, des différences sur le nombre et la définition des primitives de bases. Nous allons utiliser ici ce jeu de primitives :\n",
        "\n",
        "    creerGrapheVide() : retourne un graphe vide\n",
        "    estVideGraphe(G) : retourne True si G est un graphe vide\n",
        "    ajouterSommet(G,s) : retourne le graphe après ajout du sommet s\n",
        "    supprimerSommet(G,s) : retourne le graphe après suppression du sommet s (et tout les arcs rliés à s)\n",
        "    existeSommet(G,s) : retourne True si s est un sommet du graphe G\n",
        "    Pour un graphe orienté :\n",
        "        ajouterArc(G,sd,sa) : retourne le graphe après ajout d'un arc reliant sd à sa (orienté)\n",
        "        supprimerArc(G,sd,sa) : retourne le graphe après suppression de l'arc sd->sa\n",
        "        existeArc(G,sd,sa) : retourne True si sd->sa est un arc du graphe G\n",
        "    Pour un graphe non orienté :\n",
        "        ajouterArete(G,sd,sa) : retourne le graphe après ajout d'une arête reliant sd à sa (non-orienté)\n",
        "        supprimerArete(G,sd,sa) : retourne le graphe après suppression de l'arête sd->sa\n",
        "        existeArete(G,sd,sa) : retourne True si sd->sa est une arête du graphe G\n"
      ]
    },
    {
      "cell_type": "markdown",
      "metadata": {
        "id": "4VGUcrZe0Y06"
      },
      "source": [
        "**Une première implémentation avec un dictionnaire**\n",
        "\n",
        "Comme nous l'avons vu, un graphe peut être représenté par une liste d'adjacence. Cette représentation peut être implémentée efficacement avec un dictionnaire. Chaque sommet sera donc une clé dictionnaire, et sa valeur sera la liste des sommets sa reliés à s dans le sens s -> sa.\n",
        "\n",
        "En conséquence, un graphe vide est un dictionnaire vide."
      ]
    },
    {
      "cell_type": "code",
      "execution_count": 1,
      "metadata": {
        "colab": {
          "base_uri": "https://localhost:8080/",
          "height": 146
        },
        "id": "pE9ZlDsF0bJs",
        "outputId": "5d91d157-0fab-4f5d-9b0e-e9e0f7c38d77"
      },
      "outputs": [
        {
          "name": "stdout",
          "output_type": "stream",
          "text": [
            "après ajout des 4 sommets et des arcs A->B et C->D:\n",
            "G =  {'A': ['B'], 'B': [], 'C': ['D'], 'D': []}\n",
            "A dans G ? : True\n",
            "A->B dans G ? : True\n",
            "A->B dans G après suppression ? : False\n",
            "Après suppression du sommet D\n",
            " G =  {'A': [], 'B': [], 'C': []}\n"
          ]
        }
      ],
      "source": [
        "def  creerGrapheVide() -> dict:\n",
        "     return {}\n",
        "def estVideGraphe(G : dict) -> bool :\n",
        "    return G=={}\n",
        "def ajouterSommet(G : dict , s ) -> dict : #s peut être str ou int\n",
        "    assert s not in G,'Vous ne pouvez pas ajouter un sommet déjà existant'\n",
        "    G[s]=[]\n",
        "def ajouterArc(G : dict ,sd,sa) -> dict : #sd et sa peuvent être str ou int\n",
        "    assert sd in G ,'le graphe'+G+' ne contient pas le sommet '+sd\n",
        "    assert sa in G ,'le graphe'+G+' ne contient pas le sommet '+sa\n",
        "    G[sd].append(sa)\n",
        "def supprimerSommet(G : dict , s ) -> dict:  #s peut être str ou int\n",
        "    assert s in G,'le graphe'+G+' ne contient pas le sommet '+s\n",
        "    del G[s]\n",
        "    for sommet in G.keys() :\n",
        "        if s in G[sommet] :\n",
        "            G[sommet].remove(s)\n",
        "def supprimerArc(G : dict,sd,sa) -> dict : # sd et sa peuvent etre int ou str \n",
        "    assert sd in G,'le graphe'+G+' ne contient pas le sommet '+sd\n",
        "    assert sa in G,'le graphe'+G+' ne contient pas le sommet '+sa\n",
        "    assert sa in G[sd] , 'l arc '+sd+'->'+sa+' n existe pas.'\n",
        "    G[sd].remove(sa)\n",
        "def existeSommet(G : dict ,s) -> bool :  #s peut être str ou int\n",
        "    return s in G\n",
        "def existeArc(G : dict ,sd,sa) -> bool :  #sd et sa peuvent être str ou int\n",
        "    return sd in G and sa in G[sd]\n",
        "G=creerGrapheVide()\n",
        "ajouterSommet(G,'A') ; ajouterSommet(G,'B')\n",
        "ajouterSommet(G,'C') ; ajouterSommet(G,'D')\n",
        "ajouterArc(G,'A','B') ; ajouterArc(G,'C','D')\n",
        "\n",
        "print('après ajout des 4 sommets et des arcs A->B et C->D:\\nG = ',G)\n",
        "\n",
        "print('A dans G ? :',existeSommet(G,'A'))\n",
        "print('A->B dans G ? :',existeArc(G,'A','B'))\n",
        "supprimerArc(G,'A','B')\n",
        "print('A->B dans G après suppression ? :',existeArc(G,'A','B'))\n",
        "\n",
        "supprimerSommet(G,'D')\n",
        "\n",
        "print('Après suppression du sommet D\\n G = ',G)"
      ]
    },
    {
      "cell_type": "markdown",
      "metadata": {
        "id": "kC4_Wwgx3Egi"
      },
      "source": [
        "**Exercice 1 : Implémenter un graphe simple**\n",
        "\n",
        "En utilisant l'implémentation de l'exemple précédant, créez le dictionnaire G correspondant au graphe ci-dessous. Votre code doit afficher le dictionnaire correspondant à ce graphe. (pour plus de lisibilté, certaines primitives de l'exemple précédent -non requise pour cet exercice- ont été omises)\n",
        "\n",
        "![](https://upload.wikimedia.org/wikipedia/commons/thumb/2/23/Directed_graph_no_background.svg/1920px-Directed_graph_no_background.svg.png)"
      ]
    },
    {
      "cell_type": "code",
      "execution_count": 8,
      "metadata": {
        "id": "t0CE7iry362I"
      },
      "outputs": [],
      "source": [
        "def  creerGrapheVide() -> dict:\n",
        "     return {}\n",
        "def ajouterSommet(G : dict , s ) -> dict : #s peut être str ou int\n",
        "    assert s not in G.keys(),'vous ne pouvez pas ajouter un sommet déjà existant'\n",
        "    G[s]=[]\n",
        "def ajouterArc(G : dict , sd , sa ) -> dict : #sa et sd peuvent être str ou int\n",
        "    assert sd in G ,'le graphe'+G+' ne contient pas le sommet '+sd\n",
        "    assert sa in G ,'le graphe'+G+' ne contient pas le sommet '+sa\n",
        "    G[sd].append(sa)\n",
        "def supprimerSommet(G : dict , s ) -> dict : #s peut être str ou int\n",
        "    assert s in G,'le graphe'+G+' ne contient pas le sommet '+s\n",
        "    del G[s]\n",
        "    for sommet in G.keys() :\n",
        "        if s in G[sommet] :\n",
        "            G[sommet].remove(s)\n",
        "def supprimerArc(G : dict ,sd , sa ) -> dict: #sd et sa peuvent être str ou int\n",
        "    assert sd in G,'le graphe'+G+' ne contient pas le sommet '+sd\n",
        "    assert sa in G,'le graphe'+G+' ne contient pas le sommet '+sa\n",
        "    assert sa in G[sd] , 'l arc '+sd+'->'+sa+' n existe pas.'\n",
        "    G[sd].remove(sa)\n",
        "def existeSommet(G : dict , s ) -> bool:\n",
        "    return s in G\n",
        "def existeArc(G : dict , sd  , sa ) -> bool: #sd et sa peuvent être str ou int\n",
        "    return sd in G and sa in G and sa in G[sd]\n",
        "\n",
        "G=creerGrapheVide()\n",
        "# complétez ici\n",
        "\n",
        "for i in range(4):\n",
        "    ajouterSommet(G, str(i+1))\n",
        "    \n",
        "ajouterArc(G,'1','2')\n",
        "ajouterArc(G,'1','3')\n",
        "\n",
        "ajouterArc(G,'3','2')\n",
        "\n",
        "ajouterArc(G,'3','4')\n",
        "ajouterArc(G,'4','3')\n"
      ]
    },
    {
      "cell_type": "markdown",
      "metadata": {
        "id": "VJCc4C6MLWE-"
      },
      "source": [
        "**Visualiser un graphe orienté :**  \n",
        "Il est pratique de visualiser un graphe implémenté par exemple sous forme de dictionnaire.  \n",
        "Pour cela nous allons utiliser la bibliothèque networkx. Vous pouvez lire un documentation ici : [https://networkx.github.io/documentation/stable/reference/introduction.html]  \n",
        "Voici un exemple qui montre comment créer un graphe orienté de type networkx, et qui l'affiche"
      ]
    },
    {
      "cell_type": "code",
      "execution_count": 10,
      "metadata": {
        "id": "fjX0VIn7LWFA"
      },
      "outputs": [
        {
          "data": {
            "image/png": "[encoded data removed]",
            "text/plain": [
              "<Figure size 640x480 with 1 Axes>"
            ]
          },
          "metadata": {},
          "output_type": "display_data"
        }
      ],
      "source": [
        "import matplotlib.pyplot as plt\n",
        "import networkx as nx\n",
        "\n",
        "def cree_graphe_oriente_nx(dictionnaire: dict) -> nx.DiGraph:\n",
        "    \"\"\"\n",
        "    Cette fonction premet de transformer une représentation en dictionnaire en\n",
        "    une représentation «complexe» d'un objet graphe orienté.\n",
        "\n",
        "    - Précondition : l'entrée est un dictionnaire\n",
        "    - Postcondition : la sortie est un graphe orienté (DiGraph) de Networkx\n",
        "    \"\"\"\n",
        "    G = nx.DiGraph()  # pour un graph non oriente :  G = nx.Graph()\n",
        "    for sommets in dictionnaire.keys():\n",
        "        G.add_node(sommets) # Creation des sommets\n",
        "    for sommet in dictionnaire:\n",
        "        for sommets_adjacents in dictionnaire[sommet]:\n",
        "            G.add_edge(sommet, sommets_adjacents) # Creation des arcs\n",
        "    return G\n",
        "\n",
        "\n",
        "gr = {1: [2, 3], 2: [], 3: [2, 4], 4: [3]}\n",
        "G=cree_graphe_oriente_nx(gr)\n",
        "# Pour une representation circulaire : nx.draw_circular(G,with_labels=True)\n",
        "nx.draw(G,with_labels=True) # Pour une representation classique\n",
        "plt.show()"
      ]
    },
    {
      "cell_type": "markdown",
      "metadata": {
        "id": "XsMJsY5S7ced"
      },
      "source": [
        "**Exercice 2 : Modifier l'implémentation pour modéliser un graphe non orienté (primitives d'ajout)** \n",
        "\n",
        "Vous allez modifier notre première implémentation pour modéliser un graphe non orienté.\n",
        "\t\n",
        "\n",
        "  Dans la version d'implémentation fournie ci-dessous, on a remplacé la primitives ajouterArc par ajouterArete, mais on a pas modifié le code de cette primitive. Vous devez le faire vous même : dans le cas d'un graphe non orienté, ajouter une arrête SD-SA revient à ajouter SD dans la liste d'ajacence de SA, et SA dans la liste d'adjacence de SD. Le code doit donc faire le travail correctement.\n",
        "\n",
        "  Dans cet exercice nous n'incluerons que les primitives d'ajout de sommets et d'arêtes, les primitives pour retirer seront traitées dans un second temps\n",
        "\n",
        "En modifiant l implémentation de l exemple précédant, créez le dictionnaire G correspondant au graphe ci-dessous.Les instructions données en fin de code devraient afficher le dictionnaire correct, si vos primitives ont été modifiées comme attendu.\n",
        "\n",
        "![](https://upload.wikimedia.org/wikipedia/commons/thumb/b/b2/Ungerichteter_Graph_mit_4_Knoten_und_3_Kanten.svg/220px-Ungerichteter_Graph_mit_4_Knoten_und_3_Kanten.svg.png)\n",
        "\n"
      ]
    },
    {
      "cell_type": "code",
      "execution_count": 11,
      "metadata": {
        "id": "3gCVKTmu8GNF"
      },
      "outputs": [],
      "source": [
        "def  creerGrapheVide() -> dict:\n",
        "     return {}\n",
        "def ajouterSommet(G : dict , s ) -> dict : #s peut être str ou int\n",
        "    assert s not in G.keys(),'vous ne pouvez pas ajouter un sommet déjà existant'\n",
        "    G[s]=[]\n",
        "def ajouterArete(G : dict , sd , sa ) -> dict : #sa et sd peuvent être str ou int\n",
        "    assert sd in G ,'le graphe ne contient pas le sommet de depart '\n",
        "    assert sa in G ,'le graphene contient pas le sommet d arrivee'\n",
        "    G[sd].append(sa)\n",
        "    G[sa].append(sd)\n",
        "\n",
        "def existeSommet(G : dict , s ) -> bool:\n",
        "    return s in G\n",
        "def existeArete(G : dict , sd  , sa ) -> bool: #sd et sa peuvent être str ou int\n",
        "    return sd in G and sa in G and sa in G[sd] # completer\n",
        "\n",
        "G=creerGrapheVide()\n",
        "# complétez ici\n",
        "\n",
        "for i in range(4):\n",
        "    ajouterSommet(G, str(i+1))\n",
        "\n",
        "ajouterArete(G, '1', '2')\n",
        "ajouterArete(G, '2', '3')\n",
        "ajouterArete(G, '2', '4')"
      ]
    },
    {
      "cell_type": "markdown",
      "metadata": {
        "id": "W6ajqMrkLWFK"
      },
      "source": [
        "**Visualiser un graphe non orienté**  \n",
        "De même que précédemment, la bibliothèque networkx permet de visualiser un graphe non orienté."
      ]
    },
    {
      "cell_type": "code",
      "execution_count": 12,
      "metadata": {
        "id": "iwHSb_VoLWFL"
      },
      "outputs": [
        {
          "name": "stdout",
          "output_type": "stream",
          "text": [
            "{1: [2], 2: [1, 3, 4], 3: [2], 4: [2]}\n"
          ]
        },
        {
          "data": {
            "image/png": "[encoded data removed]",
            "text/plain": [
              "<Figure size 640x480 with 1 Axes>"
            ]
          },
          "metadata": {},
          "output_type": "display_data"
        }
      ],
      "source": [
        "def cree_graphe_non_oriente_nx(dictionnaire: dict) -> nx.Graph:\n",
        "    \"\"\"\n",
        "    Cette fonction premet de transformer une représentation en dictionnaire en\n",
        "    une représentation «complexe» d'un objet graphe orienté.\n",
        "\n",
        "    - Précondition : l'entrée est un dictionnaire\n",
        "    - Postcondition : la sortie est un graphe orienté (Graph) de Networkx\n",
        "    \"\"\"\n",
        "    Gnx = nx.Graph() \n",
        "    for sommets in dictionnaire.keys():\n",
        "        Gnx.add_node(sommets) # Creation des sommets\n",
        "    for sommet in dictionnaire.keys():\n",
        "        for sommets_adjacents in dictionnaire[sommet]:\n",
        "            Gnx.add_edge(sommet, sommets_adjacents) # Creation des arcs\n",
        "    return Gnx\n",
        "\n",
        "G=creerGrapheVide()\n",
        "for i in range(1,5):\n",
        "    ajouterSommet(G,i)\n",
        "ajouterArete(G,1,2)\n",
        "ajouterArete(G,2,3)\n",
        "ajouterArete(G,2,4)\n",
        "print(G)\n",
        "G1=cree_graphe_non_oriente_nx(G)\n",
        "# Pour une representation circulaire : nx.draw_circular(G,with_labels=True)\n",
        "nx.draw(G1,with_labels=True) # Pour une representation classique\n",
        "plt.show()"
      ]
    },
    {
      "cell_type": "markdown",
      "metadata": {
        "id": "3TbSjZiF8Un_"
      },
      "source": [
        "**Exercice 3 : Modifier l'implémentation pour modéliser un graphe non orienté (primitives de suppression)** \n",
        "\n",
        "Vous allez compléter l'implémentation pour modéliser un graphe non orienté.\n",
        "\t\n",
        "\n",
        "  Comme dans l'exercice 2 ci-dessus, dans la version d'implémentation fournie ci-dessous, on a remplacé la primitive supprimerArc par supprimerArete, mais on a pas modifié le code de cette primitive. Vous devez le faire vous même : dans le cas d'un graphe non orienté, supprimer une arrête SD-SA revient à modifier les listes d'adjacence des deux sommets SD et SA. Le code doit donc faire le travail correctement.\n",
        "  \n",
        "  Dans cet exercice nous n'incluerons que les primitives de suppression, nous allons générer pour vous un objet graphe qui sera utilisé pour tester votre code. Vous devez coder supprimerSommet et supprimerArete et utiliser ces 2 primitives pour supprimer le sommet 'A' et l’arête 'B-C' du graphe généré par le système.\n",
        "\n",
        "Modifiez les primitives supprimerSommet et supprimerArete. Puis utilisez les pour supprimer le sommet A et l'arrête B-C du graphe suivant :\n",
        "\n",
        "**G={'A': ['B'], 'B': ['A', 'C', 'D'], 'C': ['B','D'], 'D': ['B','C']}**\n",
        "\n",
        "\n"
      ]
    },
    {
      "cell_type": "code",
      "execution_count": 15,
      "metadata": {
        "id": "hQm-aZvc9Lbc"
      },
      "outputs": [
        {
          "name": "stdout",
          "output_type": "stream",
          "text": [
            "{'B': ['D'], 'C': ['D'], 'D': ['B', 'C']}\n"
          ]
        },
        {
          "data": {
            "image/png": "[encoded data removed]",
            "text/plain": [
              "<Figure size 640x480 with 1 Axes>"
            ]
          },
          "metadata": {},
          "output_type": "display_data"
        }
      ],
      "source": [
        "def existeSommet(G : dict,s) -> bool: # s peut être str ou int\n",
        "    return s in G\n",
        "\n",
        "def existeArete(G : dict ,sd,sa) -> bool : # sd et sa peuvent être str ou int\n",
        "    return sd in G and sa in G[sd] # completer\n",
        "\n",
        "def supprimerSommet(G : dict,s) -> dict : # s peut être str ou int\n",
        "    assert s in G,'le graphe'+G+' ne contient pas le sommet '+s\n",
        "    del G[s]\n",
        "    for sommet in G.keys() :\n",
        "        if s in G[sommet] :\n",
        "            G[sommet].remove(s)\n",
        "\n",
        "def supprimerArete(G : dict,sd,sa) -> dict : # sd et sa peuvent être str ou int\n",
        "    assert sd in G,'le graphe'+G+' ne contient pas le sommet '+sd\n",
        "    assert sa in G,'le graphe'+G+' ne contient pas le sommet '+sa\n",
        "    \n",
        "    assert sa in G[sd]\n",
        "    assert sd in G[sa]\n",
        "    \n",
        "    G[sd].remove(sa)\n",
        "    G[sa].remove(sd)\n",
        "\n",
        "G={'A': ['B'], 'B': ['A', 'C', 'D'], 'C': ['B','D'], 'D': ['B','C']}\n",
        "# insérez ici les instructions pour supprimer A puis supprimer B-C\n",
        "supprimerSommet(G, 'A')\n",
        "supprimerArete(G, 'B', 'C')\n",
        "\n",
        "print(str(G))\n",
        "G_nx=cree_graphe_non_oriente_nx(G)\n",
        "# Pour une representation circulaire : nx.draw_circular(G,with_labels=True)\n",
        "nx.draw(G_nx,with_labels=True) # Pour une representation classique\n",
        "plt.show()"
      ]
    },
    {
      "cell_type": "markdown",
      "metadata": {
        "id": "l7fLENcD-g_r"
      },
      "source": [
        "**Exercice 4 : Modifier de nouveau l'implémentation pour modéliser un graphe pondéré non orienté** \n",
        "\n",
        "Vous allez modifier de nouveau l'implémentation pour modéliser un graphe pondéré et non orienté.\n",
        "\n",
        "En modifiant de nouveau l implémentation du graphe, créez le dictionnaire G correspondant au graphe pondéré non orienté ci-dessous.\n",
        "\n",
        "Attention, ici vous devez modifier les primitives mais aussi les instructions pour créer le graphe attendu.\n",
        "\n",
        "Les clé resteront les sommets. Pour les listes d’adjacence, au lieu d'une liste de sommets, vous devrez implémenter avec un dictionnaires dont les éléments sont : sommet : poids).\n",
        "\n",
        "Il faut donc modifier ajouterSommet (la valeur de la clé s doit être un dictionnaire) puis ajouterArete (pour ajouter un dictionnaire, et non plus une liste). supprimerArete devra aussi être modifiée pour tenir comte de la structure différente."
      ]
    },
    {
      "cell_type": "markdown",
      "metadata": {
        "id": "PCqBIae_YJTn"
      },
      "source": [
        "**Exercice 4 : Modifier de nouveau l'implémentation pour modéliser un graphe pondéré non orienté** \n",
        "\n",
        "Vous allez modifier de nouveau l'implémentation pour modéliser un graphe pondéré et non orienté.\n",
        "\n",
        "En modifiant de nouveau l'implémentation du graphe, créez le dictionnaire G correspondant au graphe pondéré non orienté ci-dessous.\n",
        "\n",
        "Attention, ici vous devez modifier les primitives mais aussi les instructions pour créer le graphe attendu.\n",
        "\n",
        "Les clé resteront les sommets. La  valeur correspondant à chaque sommet ne sera plus une liste d’adjacence, mais un dictionnaires dont les clés seront les sommets d'arrivée des arêtes, et les valeurs le poids de chaque arête.  \n",
        "Par exemple: pour le graphe ci-dessous :  \n",
        "G1 = {1: {2: 1, 5: 5}, 2: {1: 1, 5: 6, 3: 2}, 3: {2: 2, 4: 3}, 4: {5: 4, 3: 3}, 5: {1: 5, 2: 6, 4: 4}}.  \n",
        "![graphe_non_or_pond.png](data:image/png;base64,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)\n",
        "\n",
        "Il faut donc modifier :  \n",
        "- `ajouterSommet` (la valeur de la clé s doit être un dictionnaire)   \n",
        "- `ajouterArete` (pour ajouter un dictionnaire, et non plus une liste). \n",
        "- `supprimerArete` devra aussi être modifiée pour tenir comte de la structure différente."
      ]
    },
    {
      "cell_type": "code",
      "execution_count": 17,
      "metadata": {
        "id": "4eAHq0z9LWFX"
      },
      "outputs": [
        {
          "name": "stdout",
          "output_type": "stream",
          "text": [
            "{'1': {'2': '1', '5': '5'}, '2': {'1': '1', '3': '2', '5': '6'}, '3': {'2': '2', '4': '3'}, '4': {'3': '3', '5': '4'}, '5': {'1': '5', '2': '6', '4': '4'}}\n"
          ]
        }
      ],
      "source": [
        "def  creerGrapheVide() -> dict:\n",
        "    return {}\n",
        "def estVideGraphe(G: dict) -> bool:\n",
        "    return G=={}\n",
        "def ajouterSommet(G : dict,s) : # s est str ou int\n",
        "    G[s] = {}\n",
        "def ajouterArete(G : dict , sd , sa, pds) -> dict :  # sd et sa sont str ou int\n",
        "    assert sd in G\n",
        "    assert sa in G\n",
        "    \n",
        "    G[sd][sa] = pds\n",
        "    G[sa][sd] = pds\n",
        "def supprimerSommet(G : dict , s ) : # s est str ou int\n",
        "    assert s in G\n",
        "    del G[s]\n",
        "    for sommet in G.keys() :\n",
        "        if s in G[sommet] :\n",
        "            del G[sommet][s]\n",
        "def supprimerArete(G : dict , sd , sa) -> dict :  # sd et sa sont str ou int \n",
        "    assert sd in G,'le graphe'+G+' ne contient pas le sommet '+sd\n",
        "    assert sa in G,'le graphe'+G+' ne contient pas le sommet '+sa\n",
        "    \n",
        "    assert sa in G[sd]\n",
        "    assert sd in G[sa]\n",
        "    \n",
        "    G[sd].remove(sa)\n",
        "    G[sa].remove(sd)\n",
        "def existeSommet(G : dict , s ) -> bool:  # s est str ou int\n",
        "    return s in G\n",
        "def existeArete(G : dict , sd , sa ) -> bool :  # sd et sa sont str ou int\n",
        "    return sd in G and sa in G[sd]\n",
        "\n",
        "# Completez également les instructions ci-dessous :\n",
        "G=creerGrapheVide()\n",
        "\n",
        "for i in range(5):\n",
        "    ajouterSommet(G, str(i+1))\n",
        "\n",
        "ajouterArete(G, '1', '2', '1')\n",
        "ajouterArete(G, '1', '5', '5')\n",
        "ajouterArete(G, '2', '3', '2')\n",
        "ajouterArete(G, '2', '5', '6')\n",
        "ajouterArete(G, '3', '4', '3')\n",
        "ajouterArete(G, '4', '5', '4')\n",
        "\n",
        "print(G)"
      ]
    }
  ],
  "metadata": {
    "colab": {
      "collapsed_sections": [],
      "name": "LesGraphes.ipynb",
      "provenance": [],
      "toc_visible": true
    },
    "kernelspec": {
      "display_name": "Python 3",
      "name": "python3"
    },
    "language_info": {
      "codemirror_mode": {
        "name": "ipython",
        "version": 3
      },
      "file_extension": ".py",
      "mimetype": "text/x-python",
      "name": "python",
      "nbconvert_exporter": "python",
      "pygments_lexer": "ipython3",
      "version": "3.9.5"
    }
  },
  "nbformat": 4,
  "nbformat_minor": 0
}
