{
  "cells": [
    {
      "cell_type": "markdown",
      "metadata": {
        "id": "d1sDc-KUbbbt"
      },
      "source": [
        "   # TP Graphes : modéliser un labyrinthe\n",
        "   adaptation d'un TP publié sur : https://www.di.ens.fr/~mauborgn/td-99/programmation/tp8.html\n",
        "   "
      ]
    },
    {
      "cell_type": "markdown",
      "metadata": {
        "id": "L6PjD_Btbbbu"
      },
      "source": [
        "Nous reprenons le labyrnthe du TP précédent, que nous avions implémenté.\n",
        "\n",
        "## Les labyrinthes\n",
        "\n",
        "Voici l'image du labyrinthe :<center>\n",
        "<img src=\"https://www.di.ens.fr/~mauborgn/td-99/programmation/petitlab.gif\"></center>"
      ]
    },
    {
      "cell_type": "markdown",
      "metadata": {
        "id": "STNvXoZ3bbbv"
      },
      "source": [
        "<p>Ce labyrinthe correspond au graphe suivant :</p><center>\n",
        "<img src=\"https://www.di.ens.fr/~mauborgn/td-99/programmation/petit.gif\"></center>\n",
        "\n",
        "On utilisere l'implémentation de graphe fournie ci-dessous, les sommets sont nommés  (1,1) (1,2) .. etc \n",
        "\n",
        "Les arrêtes relient les cases voisines quand le passage est possible. Si une paroie empêche de passer on ne met pas l'arrête. Par exemple il n'y a pas d'arrête entre les sommets (1,1) et (1,2) mais il y en a une entre (1,1) et (2,1)."
      ]
    },
    {
      "cell_type": "code",
      "execution_count": 2,
      "metadata": {
        "colab": {
          "base_uri": "https://localhost:8080/"
        },
        "id": "yanDGo5Kbbbv",
        "outputId": "83a8b83e-c174-43fd-bbbc-3fc090cc5b4d"
      },
      "outputs": [
        {
          "name": "stdout",
          "output_type": "stream",
          "text": [
            "[(2, 1)]\n"
          ]
        }
      ],
      "source": [
        "class graph() :\n",
        "    def __init__(self) :\n",
        "        self.lstAdj={}\n",
        "    def __str__(self):\n",
        "        return str(self.lstAdj)\n",
        "    def addSommet(self,sommet):\n",
        "        self.lstAdj[sommet]=[]\n",
        "    def addArrete(self,sa,sb) :\n",
        "        self.lstAdj[sa].append(sb)\n",
        "        self.lstAdj[sb].append(sa)\n",
        "        \n",
        "labyrinthe=graph()\n",
        "for i in range(1,5):\n",
        "    for j in range(1,9):\n",
        "        labyrinthe.addSommet( (i,j) )\n",
        "labyrinthe.addArrete((1,1),(2,1))\n",
        "labyrinthe.addArrete((2,1),(2,2))\n",
        "labyrinthe.addArrete((2,2),(2,3))\n",
        "labyrinthe.addArrete((2,2),(3,2))\n",
        "labyrinthe.addArrete((2,3),(1,3))\n",
        "labyrinthe.addArrete((1,3),(1,4))\n",
        "labyrinthe.addArrete((1,4),(1,5))\n",
        "labyrinthe.addArrete((1,4),(2,4))\n",
        "labyrinthe.addArrete((1,5),(2,5))\n",
        "labyrinthe.addArrete((2,4),(3,4))\n",
        "labyrinthe.addArrete((2,5),(2,6))\n",
        "labyrinthe.addArrete((2,6),(1,6))\n",
        "labyrinthe.addArrete((2,6),(3,6))\n",
        "labyrinthe.addArrete((2,7),(3,7))\n",
        "labyrinthe.addArrete((1,6),(1,7))\n",
        "labyrinthe.addArrete((2,6),(2,7))\n",
        "labyrinthe.addArrete((1,7),(1,8))\n",
        "labyrinthe.addArrete((1,8),(2,8))\n",
        "labyrinthe.addArrete((3,2),(4,2))\n",
        "labyrinthe.addArrete((4,2),(4,3))\n",
        "labyrinthe.addArrete((4,3),(4,4))\n",
        "labyrinthe.addArrete((3,4),(3,5))\n",
        "labyrinthe.addArrete((3,5),(3,6))\n",
        "labyrinthe.addArrete((3,6),(4,6))\n",
        "labyrinthe.addArrete((3,6),(3,7))\n",
        "labyrinthe.addArrete((4,6),(4,5))\n",
        "labyrinthe.addArrete((3,7),(4,7))\n",
        "labyrinthe.addArrete((4,7),(4,8))\n",
        "labyrinthe.addArrete((4,8),(3,8))\n",
        "labyrinthe.addArrete((2,8),(3,8))\n",
        "\n",
        "\n",
        "\n",
        "\n",
        "\n",
        "\n",
        "#print(str(labyrinthe))\n",
        "print(labyrinthe.lstAdj[(1,1)])"
      ]
    },
    {
      "cell_type": "markdown",
      "metadata": {
        "id": "PxUHChD0bbbz"
      },
      "source": [
        "# dessin de votre labyrinthe\n",
        "Pour voir le labyrinthe que vous avez créé, vous allez avoir besoin des fonction ci-dessous.\n",
        "Vous n'avez pas besoin de les regarder, la seule chose donc vous avez besoin c'est de dessiner avec showLabyrinthe(cote,nli,ncol) ou :\n",
        "cote est un entier qui code la longuer des coté des case (mettez 50)\n",
        "nli et ncol sont les nombres de lignes et colones de votre labyrinthe, donc ici 4 et 8"
      ]
    },
    {
      "cell_type": "code",
      "execution_count": null,
      "metadata": {
        "colab": {
          "base_uri": "https://localhost:8080/"
        },
        "id": "OU_4wXUTb9c6",
        "outputId": "b3b783a8-737f-42fa-fd5f-1173be05e2dc"
      },
      "outputs": [
        {
          "name": "stdout",
          "output_type": "stream",
          "text": [
            "Collecting ColabTurtle\n",
            "  Downloading https://files.pythonhosted.org/packages/49/01/6da7091c2c6c917cce99c000b89acb6aa27b66ef6eafc0c0ccf59b98694f/ColabTurtle-2.0.0.tar.gz\n",
            "Building wheels for collected packages: ColabTurtle\n",
            "  Building wheel for ColabTurtle (setup.py) ... \u001b[?25l\u001b[?25hdone\n",
            "  Created wheel for ColabTurtle: filename=ColabTurtle-2.0.0-cp36-none-any.whl size=4032 sha256=49b0d8b7f124f1d430619f3de43315833adb93be4192660e44d75eecbe5cc6b8\n",
            "  Stored in directory: /root/.cache/pip/wheels/a8/29/ec/ad346f0042ae467cc74f4378916348faf975b07890651dcae7\n",
            "Successfully built ColabTurtle\n",
            "Installing collected packages: ColabTurtle\n",
            "Successfully installed ColabTurtle-2.0.0\n"
          ]
        }
      ],
      "source": [
        "!pip3 install ColabTurtle\n"
      ]
    },
    {
      "cell_type": "code",
      "execution_count": 25,
      "metadata": {
        "id": "UWwKy-vjbbb0"
      },
      "outputs": [],
      "source": [
        "from ColabTurtle.Turtle import *\n",
        "import ColabTurtle\n",
        "t = ColabTurtle.Turtle\n",
        "\n",
        "\n",
        "def showLabyrinthe(labyrinthe,cote,nli,ncol):\n",
        "    t.initializeTurtle()\n",
        "    t.bgcolor(\"black\")\n",
        "    #lab=t.Turtle()\n",
        "    t.speed(10)\n",
        "\n",
        "    cadre(nli,ncol,cote)\n",
        "    paroiesVerticales(nli,ncol,cote)\n",
        "    paroiesHorizontales(nli,ncol,cote)\n",
        "\n",
        "\n",
        "def cadre(nli,ncol,cote):\n",
        "    t.penup()\n",
        "    t.goto(10,10)\n",
        "    t.right(90)\n",
        "    t.pendown()\n",
        "    #dessin parois extérieures\n",
        "\n",
        "    for _ in range(2):\n",
        "        for i in range(ncol):\n",
        "            t.forward(cote)\n",
        "        t.right(90)\n",
        "        for i in range(nli):\n",
        "            t.forward(cote)\n",
        "        t.right(90)\n",
        "\n",
        "def paroiesVerticales(nli,ncol,dist):\n",
        "    # dessin des parois internes verticales\n",
        "\n",
        "    for i in range(1,nli+1):\n",
        "        for j in range(1,ncol) :\n",
        "            dess=(i,j+1) not in labyrinthe.lstAdj[(i,j)]\n",
        "            if dess :\n",
        "                t.penup()\n",
        "                t.forward(dist)\n",
        "                t.pendown()\n",
        "                t.right(90)\n",
        "                t.forward(dist)\n",
        "                t.backward(dist)\n",
        "                t.left(90)\n",
        "            else :\n",
        "                t.penup()\n",
        "                t.forward(dist)\n",
        "\n",
        "        t.penup()\n",
        "        t.goto(10,10)\n",
        "        t.right(90)\n",
        "        t.forward(dist*i)\n",
        "        t.left(90)\n",
        "        \n",
        "def paroiesHorizontales(nli,ncol,cote):\n",
        "\n",
        "    # dessin des parois internes horizontales\n",
        "    t.penup()\n",
        "    t.goto(10,10+cote)\n",
        "    for i in range(1,nli):\n",
        "        for j in range(1,ncol) :\n",
        "            dess=(i+1,j) not in labyrinthe.lstAdj[(i,j)]\n",
        "            if dess :\n",
        "                t.pendown()\n",
        "                t.forward(cote)\n",
        "            else :\n",
        "                t.penup()\n",
        "                t.forward(cote)\n",
        "\n",
        "        t.penup()\n",
        "        t.goto(10,10+cote*(i+1))\n",
        "        \n"
      ]
    },
    {
      "cell_type": "code",
      "execution_count": 3,
      "metadata": {
        "colab": {
          "base_uri": "https://localhost:8080/",
          "height": 521
        },
        "id": "emwCG3a9bbb2",
        "outputId": "0c62e046-93b2-4601-ce92-2ea9c36a3530"
      },
      "outputs": [
        {
          "data": {
            "text/html": [
              "\n",
              "      <svg width=\"800\" height=\"500\">\n",
              "        <rect width=\"100%\" height=\"100%\" fill=\"black\"/>\n",
              "        <line x1=\"10\" y1=\"10\" x2=\"60.0\" y2=\"10.0\" stroke-linecap=\"round\" style=\"stroke:white;stroke-width:4\"/><line x1=\"60.0\" y1=\"10.0\" x2=\"110.0\" y2=\"10.0\" stroke-linecap=\"round\" style=\"stroke:white;stroke-width:4\"/><line x1=\"110.0\" y1=\"10.0\" x2=\"160.0\" y2=\"10.0\" stroke-linecap=\"round\" style=\"stroke:white;stroke-width:4\"/><line x1=\"160.0\" y1=\"10.0\" x2=\"210.0\" y2=\"10.0\" stroke-linecap=\"round\" style=\"stroke:white;stroke-width:4\"/><line x1=\"210.0\" y1=\"10.0\" x2=\"260.0\" y2=\"10.0\" stroke-linecap=\"round\" style=\"stroke:white;stroke-width:4\"/><line x1=\"260.0\" y1=\"10.0\" x2=\"310.0\" y2=\"10.0\" stroke-linecap=\"round\" style=\"stroke:white;stroke-width:4\"/><line x1=\"310.0\" y1=\"10.0\" x2=\"360.0\" y2=\"10.0\" stroke-linecap=\"round\" style=\"stroke:white;stroke-width:4\"/><line x1=\"360.0\" y1=\"10.0\" x2=\"410.0\" y2=\"10.0\" stroke-linecap=\"round\" style=\"stroke:white;stroke-width:4\"/><line x1=\"410.0\" y1=\"10.0\" x2=\"410.0\" y2=\"60.0\" stroke-linecap=\"round\" style=\"stroke:white;stroke-width:4\"/><line x1=\"410.0\" y1=\"60.0\" x2=\"410.0\" y2=\"110.0\" stroke-linecap=\"round\" style=\"stroke:white;stroke-width:4\"/><line x1=\"410.0\" y1=\"110.0\" x2=\"410.0\" y2=\"160.0\" stroke-linecap=\"round\" style=\"stroke:white;stroke-width:4\"/><line x1=\"410.0\" y1=\"160.0\" x2=\"410.0\" y2=\"210.0\" stroke-linecap=\"round\" style=\"stroke:white;stroke-width:4\"/><line x1=\"410.0\" y1=\"210.0\" x2=\"360.0\" y2=\"210.0\" stroke-linecap=\"round\" style=\"stroke:white;stroke-width:4\"/><line x1=\"360.0\" y1=\"210.0\" x2=\"310.0\" y2=\"210.0\" stroke-linecap=\"round\" style=\"stroke:white;stroke-width:4\"/><line x1=\"310.0\" y1=\"210.0\" x2=\"260.0\" y2=\"210.0\" stroke-linecap=\"round\" style=\"stroke:white;stroke-width:4\"/><line x1=\"260.0\" y1=\"210.0\" x2=\"210.0\" y2=\"210.0\" stroke-linecap=\"round\" style=\"stroke:white;stroke-width:4\"/><line x1=\"210.0\" y1=\"210.0\" x2=\"160.0\" y2=\"210.0\" stroke-linecap=\"round\" style=\"stroke:white;stroke-width:4\"/><line x1=\"160.0\" y1=\"210.0\" x2=\"110.0\" y2=\"210.0\" stroke-linecap=\"round\" style=\"stroke:white;stroke-width:4\"/><line x1=\"110.0\" y1=\"210.0\" x2=\"60.0\" y2=\"210.0\" stroke-linecap=\"round\" style=\"stroke:white;stroke-width:4\"/><line x1=\"60.0\" y1=\"210.0\" x2=\"10.0\" y2=\"210.0\" stroke-linecap=\"round\" style=\"stroke:white;stroke-width:4\"/><line x1=\"10.0\" y1=\"210.0\" x2=\"10.0\" y2=\"160.0\" stroke-linecap=\"round\" style=\"stroke:white;stroke-width:4\"/><line x1=\"10.0\" y1=\"160.0\" x2=\"10.0\" y2=\"110.0\" stroke-linecap=\"round\" style=\"stroke:white;stroke-width:4\"/><line x1=\"10.0\" y1=\"110.0\" x2=\"10.0\" y2=\"60.0\" stroke-linecap=\"round\" style=\"stroke:white;stroke-width:4\"/><line x1=\"10.0\" y1=\"60.0\" x2=\"10.0\" y2=\"10.0\" stroke-linecap=\"round\" style=\"stroke:white;stroke-width:4\"/><line x1=\"60.0\" y1=\"10.0\" x2=\"60.0\" y2=\"60.0\" stroke-linecap=\"round\" style=\"stroke:white;stroke-width:4\"/><line x1=\"60.0\" y1=\"60.0\" x2=\"60.0\" y2=\"10.0\" stroke-linecap=\"round\" style=\"stroke:white;stroke-width:4\"/><line x1=\"110.0\" y1=\"10.0\" x2=\"110.0\" y2=\"60.0\" stroke-linecap=\"round\" style=\"stroke:white;stroke-width:4\"/><line x1=\"110.0\" y1=\"60.0\" x2=\"110.0\" y2=\"10.0\" stroke-linecap=\"round\" style=\"stroke:white;stroke-width:4\"/><line x1=\"260.0\" y1=\"10.0\" x2=\"260.0\" y2=\"60.0\" stroke-linecap=\"round\" style=\"stroke:white;stroke-width:4\"/><line x1=\"260.0\" y1=\"60.0\" x2=\"260.0\" y2=\"10.0\" stroke-linecap=\"round\" style=\"stroke:white;stroke-width:4\"/><line x1=\"160.0\" y1=\"60.0\" x2=\"160.0\" y2=\"110.0\" stroke-linecap=\"round\" style=\"stroke:white;stroke-width:4\"/><line x1=\"160.0\" y1=\"110.0\" x2=\"160.0\" y2=\"60.0\" stroke-linecap=\"round\" style=\"stroke:white;stroke-width:4\"/><line x1=\"210.0\" y1=\"60.0\" x2=\"210.0\" y2=\"110.0\" stroke-linecap=\"round\" style=\"stroke:white;stroke-width:4\"/><line x1=\"210.0\" y1=\"110.0\" x2=\"210.0\" y2=\"60.0\" stroke-linecap=\"round\" style=\"stroke:white;stroke-width:4\"/><line x1=\"360.0\" y1=\"60.0\" x2=\"360.0\" y2=\"110.0\" stroke-linecap=\"round\" style=\"stroke:white;stroke-width:4\"/><line x1=\"360.0\" y1=\"110.0\" x2=\"360.0\" y2=\"60.0\" stroke-linecap=\"round\" style=\"stroke:white;stroke-width:4\"/><line x1=\"60.0\" y1=\"110.0\" x2=\"60.0\" y2=\"160.0\" stroke-linecap=\"round\" style=\"stroke:white;stroke-width:4\"/><line x1=\"60.0\" y1=\"160.0\" x2=\"60.0\" y2=\"110.0\" stroke-linecap=\"round\" style=\"stroke:white;stroke-width:4\"/><line x1=\"110.0\" y1=\"110.0\" x2=\"110.0\" y2=\"160.0\" stroke-linecap=\"round\" style=\"stroke:white;stroke-width:4\"/><line x1=\"110.0\" y1=\"160.0\" x2=\"110.0\" y2=\"110.0\" stroke-linecap=\"round\" style=\"stroke:white;stroke-width:4\"/><line x1=\"160.0\" y1=\"110.0\" x2=\"160.0\" y2=\"160.0\" stroke-linecap=\"round\" style=\"stroke:white;stroke-width:4\"/><line x1=\"160.0\" y1=\"160.0\" x2=\"160.0\" y2=\"110.0\" stroke-linecap=\"round\" style=\"stroke:white;stroke-width:4\"/><line x1=\"360.0\" y1=\"110.0\" x2=\"360.0\" y2=\"160.0\" stroke-linecap=\"round\" style=\"stroke:white;stroke-width:4\"/><line x1=\"360.0\" y1=\"160.0\" x2=\"360.0\" y2=\"110.0\" stroke-linecap=\"round\" style=\"stroke:white;stroke-width:4\"/><line x1=\"60.0\" y1=\"160.0\" x2=\"60.0\" y2=\"210.0\" stroke-linecap=\"round\" style=\"stroke:white;stroke-width:4\"/><line x1=\"60.0\" y1=\"210.0\" x2=\"60.0\" y2=\"160.0\" stroke-linecap=\"round\" style=\"stroke:white;stroke-width:4\"/><line x1=\"210.0\" y1=\"160.0\" x2=\"210.0\" y2=\"210.0\" stroke-linecap=\"round\" style=\"stroke:white;stroke-width:4\"/><line x1=\"210.0\" y1=\"210.0\" x2=\"210.0\" y2=\"160.0\" stroke-linecap=\"round\" style=\"stroke:white;stroke-width:4\"/><line x1=\"310.0\" y1=\"160.0\" x2=\"310.0\" y2=\"210.0\" stroke-linecap=\"round\" style=\"stroke:white;stroke-width:4\"/><line x1=\"310.0\" y1=\"210.0\" x2=\"310.0\" y2=\"160.0\" stroke-linecap=\"round\" style=\"stroke:white;stroke-width:4\"/><line x1=\"60.0\" y1=\"60.0\" x2=\"110.0\" y2=\"60.0\" stroke-linecap=\"round\" style=\"stroke:white;stroke-width:4\"/><line x1=\"310.0\" y1=\"60.0\" x2=\"360.0\" y2=\"60.0\" stroke-linecap=\"round\" style=\"stroke:white;stroke-width:4\"/><line x1=\"10\" y1=\"110\" x2=\"60.0\" y2=\"110.0\" stroke-linecap=\"round\" style=\"stroke:white;stroke-width:4\"/><line x1=\"110.0\" y1=\"110.0\" x2=\"160.0\" y2=\"110.0\" stroke-linecap=\"round\" style=\"stroke:white;stroke-width:4\"/><line x1=\"210.0\" y1=\"110.0\" x2=\"260.0\" y2=\"110.0\" stroke-linecap=\"round\" style=\"stroke:white;stroke-width:4\"/><line x1=\"10\" y1=\"160\" x2=\"60.0\" y2=\"160.0\" stroke-linecap=\"round\" style=\"stroke:white;stroke-width:4\"/><line x1=\"110.0\" y1=\"160.0\" x2=\"160.0\" y2=\"160.0\" stroke-linecap=\"round\" style=\"stroke:white;stroke-width:4\"/><line x1=\"160.0\" y1=\"160.0\" x2=\"210.0\" y2=\"160.0\" stroke-linecap=\"round\" style=\"stroke:white;stroke-width:4\"/><line x1=\"210.0\" y1=\"160.0\" x2=\"260.0\" y2=\"160.0\" stroke-linecap=\"round\" style=\"stroke:white;stroke-width:4\"/>\n",
              "        <g visibility=visible transform=\"rotate(90,10,210) translate(-8, 192)\">\n",
              "<path style=\" stroke:none;fill-rule:evenodd;fill:white;fill-opacity:1;\" d=\"M 18.214844 0.632812 C 16.109375 1.800781 15.011719 4.074219 15.074219 7.132812 L 15.085938 7.652344 L 14.785156 7.496094 C 13.476562 6.824219 11.957031 6.671875 10.40625 7.066406 C 8.46875 7.550781 6.515625 9.15625 4.394531 11.992188 C 3.0625 13.777344 2.679688 14.636719 3.042969 15.027344 L 3.15625 15.152344 L 3.519531 15.152344 C 4.238281 15.152344 4.828125 14.886719 8.1875 13.039062 C 9.386719 12.378906 10.371094 11.839844 10.378906 11.839844 C 10.386719 11.839844 10.355469 11.929688 10.304688 12.035156 C 9.832031 13.09375 9.257812 14.820312 8.96875 16.078125 C 7.914062 20.652344 8.617188 24.53125 11.070312 27.660156 C 11.351562 28.015625 11.363281 27.914062 10.972656 28.382812 C 8.925781 30.84375 7.945312 33.28125 8.238281 35.1875 C 8.289062 35.527344 8.28125 35.523438 8.917969 35.523438 C 10.941406 35.523438 13.074219 34.207031 15.136719 31.6875 C 15.359375 31.417969 15.328125 31.425781 15.5625 31.574219 C 16.292969 32.042969 18.023438 32.964844 18.175781 32.964844 C 18.335938 32.964844 19.941406 32.210938 20.828125 31.71875 C 20.996094 31.625 21.136719 31.554688 21.136719 31.558594 C 21.203125 31.664062 21.898438 32.414062 22.222656 32.730469 C 23.835938 34.300781 25.5625 35.132812 27.582031 35.300781 C 27.90625 35.328125 27.9375 35.308594 28.007812 34.984375 C 28.382812 33.242188 27.625 30.925781 25.863281 28.425781 L 25.542969 27.96875 L 25.699219 27.785156 C 28.945312 23.960938 29.132812 18.699219 26.257812 11.96875 L 26.207031 11.84375 L 27.945312 12.703125 C 31.53125 14.476562 32.316406 14.800781 33.03125 14.800781 C 33.976562 14.800781 33.78125 13.9375 32.472656 12.292969 C 28.519531 7.355469 25.394531 5.925781 21.921875 7.472656 L 21.558594 7.636719 L 21.578125 7.542969 C 21.699219 6.992188 21.761719 5.742188 21.699219 5.164062 C 21.496094 3.296875 20.664062 1.964844 19.003906 0.855469 C 18.480469 0.503906 18.457031 0.5 18.214844 0.632812\"/>\n",
              "</g>\n",
              "      </svg>\n",
              "    "
            ],
            "text/plain": [
              "<IPython.core.display.HTML object>"
            ]
          },
          "metadata": {},
          "output_type": "display_data"
        }
      ],
      "source": [
        "showLabyrinthe(labyrinthe,50,4,8)"
      ]
    },
    {
      "cell_type": "markdown",
      "metadata": {
        "collapsed": true,
        "id": "RBnJr-Gubbb5"
      },
      "source": [
        "<center><font color=\"red\" size=\"12\">DEUXIEME PARTIE : </font><br><br>\n",
        "<b>PROMENADE DANS LE LABYRINTHE</b></center>"
      ]
    },
    {
      "cell_type": "markdown",
      "metadata": {
        "id": "JwqEgCvabbb5"
      },
      "source": [
        "<b>1) commencez par implémenter les deux parcours BFS et DFS, en partant de la case (1,1)</b>"
      ]
    },
    {
      "cell_type": "markdown",
      "metadata": {
        "id": "rZ6lFyyzrbEO"
      },
      "source": [
        "# BFS\n",
        "Votre code doit produire une variable **vus** qui contient la liste des sommes visités, lors du parcours en largeur BFS.\n",
        "\n",
        "L'entrée du labyrinthe est en (1,1)"
      ]
    },
    {
      "cell_type": "code",
      "execution_count": 5,
      "metadata": {
        "colab": {
          "base_uri": "https://localhost:8080/"
        },
        "id": "hQ96XK6Pbbb6",
        "outputId": "3662570e-a0dd-4d71-89cc-1c991d05657f"
      },
      "outputs": [],
      "source": [
        "lab = labyrinthe.lstAdj\n",
        "\n",
        "def BFS(start : str ) -> list  :\n",
        "   vus = []\n",
        "   aVoir = []\n",
        "   \n",
        "   vus.append(start)\n",
        "   for voisin in lab[start]:\n",
        "      aVoir.append(voisin)\n",
        "      \n",
        "   while aVoir != []:\n",
        "      next = aVoir.pop(0)\n",
        "      for voisin in lab[next]:\n",
        "         if voisin not in vus:\n",
        "            aVoir.append(voisin)\n",
        "      if next not in vus:\n",
        "         vus.append(next)\n",
        "\n",
        "   return vus\n",
        "\n",
        "vus = BFS((1, 1))"
      ]
    },
    {
      "cell_type": "code",
      "execution_count": 42,
      "metadata": {
        "colab": {
          "base_uri": "https://localhost:8080/",
          "height": 180
        },
        "id": "DcdzApgzyyne",
        "outputId": "99fa053b-9258-4b0a-a7b8-68f881df53b0"
      },
      "outputs": [],
      "source": [
        "# vérification\n",
        "assert vus==[(1, 1), (2, 1), (2, 2), (2, 3), (3, 2), (1, 3), (4, 2), (1, 4), (4, 3), (1, 5), (2, 4), (4, 4), (2, 5), (3, 4), (2, 6), (3, 5), (1, 6), (3, 6), (2, 7), (1, 7), (4, 6), (3, 7), (1, 8), (4, 5), (4, 7), (2, 8), (4, 8), (3, 8)]\n"
      ]
    },
    {
      "cell_type": "markdown",
      "metadata": {
        "id": "WdZ9Hyo0bbb8"
      },
      "source": [
        "La fonction ci-dessous va vous permettre de visualiser les sommets visités :"
      ]
    },
    {
      "cell_type": "code",
      "execution_count": 26,
      "metadata": {
        "id": "3JY0xWikbbb8",
        "scrolled": true
      },
      "outputs": [],
      "source": [
        "def dot(size,color):\n",
        "  t.pendown()\n",
        "  t.color(\"red\")\n",
        "  t.pen_width=size\n",
        "  t.forward(1)\n",
        "  t.penup()\n",
        "  t.backward(1)\n",
        "  t.pen_width=1\n",
        "  \n",
        "def showParcours(labyrinthe,vus,cote,nli,ncol) :\n",
        "    showLabyrinthe(labyrinthe,50,4,8)\n",
        "    t.speed(6)\n",
        "\n",
        "    for s in vus :\n",
        "        t.penup()\n",
        "        t.goto(int((s[1]-0.5)*cote)+2,5+int((s[0]-0.5)*cote)+2)\n",
        "        t.pendown()\n",
        "        dot(7,'red')\n",
        "       "
      ]
    },
    {
      "cell_type": "code",
      "execution_count": 40,
      "metadata": {
        "colab": {
          "base_uri": "https://localhost:8080/",
          "height": 521
        },
        "id": "U4S6zo08bbb_",
        "outputId": "09eb92d4-8bcc-4930-a676-1ca9bc317d7f"
      },
      "outputs": [
        {
          "data": {
            "text/html": [
              "\n",
              "      <svg width=\"800\" height=\"500\">\n",
              "        <rect width=\"100%\" height=\"100%\" fill=\"black\"/>\n",
              "        \n",
              "        <g visibility=visible transform=\"rotate(360,400,250) translate(382, 232)\">\n",
              "<path style=\" stroke:none;fill-rule:evenodd;fill:white;fill-opacity:1;\" d=\"M 18.214844 0.632812 C 16.109375 1.800781 15.011719 4.074219 15.074219 7.132812 L 15.085938 7.652344 L 14.785156 7.496094 C 13.476562 6.824219 11.957031 6.671875 10.40625 7.066406 C 8.46875 7.550781 6.515625 9.15625 4.394531 11.992188 C 3.0625 13.777344 2.679688 14.636719 3.042969 15.027344 L 3.15625 15.152344 L 3.519531 15.152344 C 4.238281 15.152344 4.828125 14.886719 8.1875 13.039062 C 9.386719 12.378906 10.371094 11.839844 10.378906 11.839844 C 10.386719 11.839844 10.355469 11.929688 10.304688 12.035156 C 9.832031 13.09375 9.257812 14.820312 8.96875 16.078125 C 7.914062 20.652344 8.617188 24.53125 11.070312 27.660156 C 11.351562 28.015625 11.363281 27.914062 10.972656 28.382812 C 8.925781 30.84375 7.945312 33.28125 8.238281 35.1875 C 8.289062 35.527344 8.28125 35.523438 8.917969 35.523438 C 10.941406 35.523438 13.074219 34.207031 15.136719 31.6875 C 15.359375 31.417969 15.328125 31.425781 15.5625 31.574219 C 16.292969 32.042969 18.023438 32.964844 18.175781 32.964844 C 18.335938 32.964844 19.941406 32.210938 20.828125 31.71875 C 20.996094 31.625 21.136719 31.554688 21.136719 31.558594 C 21.203125 31.664062 21.898438 32.414062 22.222656 32.730469 C 23.835938 34.300781 25.5625 35.132812 27.582031 35.300781 C 27.90625 35.328125 27.9375 35.308594 28.007812 34.984375 C 28.382812 33.242188 27.625 30.925781 25.863281 28.425781 L 25.542969 27.96875 L 25.699219 27.785156 C 28.945312 23.960938 29.132812 18.699219 26.257812 11.96875 L 26.207031 11.84375 L 27.945312 12.703125 C 31.53125 14.476562 32.316406 14.800781 33.03125 14.800781 C 33.976562 14.800781 33.78125 13.9375 32.472656 12.292969 C 28.519531 7.355469 25.394531 5.925781 21.921875 7.472656 L 21.558594 7.636719 L 21.578125 7.542969 C 21.699219 6.992188 21.761719 5.742188 21.699219 5.164062 C 21.496094 3.296875 20.664062 1.964844 19.003906 0.855469 C 18.480469 0.503906 18.457031 0.5 18.214844 0.632812\"/>\n",
              "</g>\n",
              "      </svg>\n",
              "    "
            ],
            "text/plain": [
              "<IPython.core.display.HTML object>"
            ]
          },
          "metadata": {},
          "output_type": "display_data"
        },
        {
          "ename": "KeyboardInterrupt",
          "evalue": "",
          "output_type": "error",
          "traceback": [
            "\u001b[1;31m---------------------------------------------------------------------------\u001b[0m",
            "\u001b[1;31mKeyboardInterrupt\u001b[0m                         Traceback (most recent call last)",
            "\u001b[1;32mecnivtwelve\\cours_nsi\\Graphes\\TP2_sujet(1).ipynb Cell 16\u001b[0m line \u001b[0;36m2\n\u001b[0;32m      <a href='vscode-notebook-cell://github/ecnivtwelve/cours_nsi/Graphes/TP2_sujet%281%29.ipynb#Y125sdnNjb2RlLXZmcw%3D%3D?line=0'>1</a>\u001b[0m \u001b[39m# affichage des sommets visités\u001b[39;00m\n\u001b[1;32m----> <a href='vscode-notebook-cell://github/ecnivtwelve/cours_nsi/Graphes/TP2_sujet%281%29.ipynb#Y125sdnNjb2RlLXZmcw%3D%3D?line=1'>2</a>\u001b[0m showParcours(labyrinthe,vus,\u001b[39m50\u001b[39;49m,\u001b[39m4\u001b[39;49m,\u001b[39m8\u001b[39;49m)\n",
            "\u001b[1;32mecnivtwelve\\cours_nsi\\Graphes\\TP2_sujet(1).ipynb Cell 16\u001b[0m line \u001b[0;36m1\n\u001b[0;32m     <a href='vscode-notebook-cell://github/ecnivtwelve/cours_nsi/Graphes/TP2_sujet%281%29.ipynb#Y125sdnNjb2RlLXZmcw%3D%3D?line=9'>10</a>\u001b[0m \u001b[39mdef\u001b[39;00m \u001b[39mshowParcours\u001b[39m(labyrinthe,vus,cote,nli,ncol) :\n\u001b[1;32m---> <a href='vscode-notebook-cell://github/ecnivtwelve/cours_nsi/Graphes/TP2_sujet%281%29.ipynb#Y125sdnNjb2RlLXZmcw%3D%3D?line=10'>11</a>\u001b[0m     showLabyrinthe(labyrinthe,\u001b[39m50\u001b[39;49m,\u001b[39m4\u001b[39;49m,\u001b[39m8\u001b[39;49m)\n\u001b[0;32m     <a href='vscode-notebook-cell://github/ecnivtwelve/cours_nsi/Graphes/TP2_sujet%281%29.ipynb#Y125sdnNjb2RlLXZmcw%3D%3D?line=11'>12</a>\u001b[0m     t\u001b[39m.\u001b[39mspeed(\u001b[39m6\u001b[39m)\n\u001b[0;32m     <a href='vscode-notebook-cell://github/ecnivtwelve/cours_nsi/Graphes/TP2_sujet%281%29.ipynb#Y125sdnNjb2RlLXZmcw%3D%3D?line=13'>14</a>\u001b[0m     \u001b[39mfor\u001b[39;00m s \u001b[39min\u001b[39;00m vus :\n",
            "\u001b[1;32mecnivtwelve\\cours_nsi\\Graphes\\TP2_sujet(1).ipynb Cell 16\u001b[0m line \u001b[0;36m1\n\u001b[0;32m     <a href='vscode-notebook-cell://github/ecnivtwelve/cours_nsi/Graphes/TP2_sujet%281%29.ipynb#Y125sdnNjb2RlLXZmcw%3D%3D?line=9'>10</a>\u001b[0m t\u001b[39m.\u001b[39mspeed(\u001b[39m10\u001b[39m)\n\u001b[0;32m     <a href='vscode-notebook-cell://github/ecnivtwelve/cours_nsi/Graphes/TP2_sujet%281%29.ipynb#Y125sdnNjb2RlLXZmcw%3D%3D?line=11'>12</a>\u001b[0m cadre(nli,ncol,cote)\n\u001b[1;32m---> <a href='vscode-notebook-cell://github/ecnivtwelve/cours_nsi/Graphes/TP2_sujet%281%29.ipynb#Y125sdnNjb2RlLXZmcw%3D%3D?line=12'>13</a>\u001b[0m paroiesVerticales(nli,ncol,cote)\n\u001b[0;32m     <a href='vscode-notebook-cell://github/ecnivtwelve/cours_nsi/Graphes/TP2_sujet%281%29.ipynb#Y125sdnNjb2RlLXZmcw%3D%3D?line=13'>14</a>\u001b[0m paroiesHorizontales(nli,ncol,cote)\n",
            "\u001b[1;32mecnivtwelve\\cours_nsi\\Graphes\\TP2_sujet(1).ipynb Cell 16\u001b[0m line \u001b[0;36m4\n\u001b[0;32m     <a href='vscode-notebook-cell://github/ecnivtwelve/cours_nsi/Graphes/TP2_sujet%281%29.ipynb#Y125sdnNjb2RlLXZmcw%3D%3D?line=39'>40</a>\u001b[0m t\u001b[39m.\u001b[39mforward(dist)\n\u001b[0;32m     <a href='vscode-notebook-cell://github/ecnivtwelve/cours_nsi/Graphes/TP2_sujet%281%29.ipynb#Y125sdnNjb2RlLXZmcw%3D%3D?line=40'>41</a>\u001b[0m t\u001b[39m.\u001b[39mpendown()\n\u001b[1;32m---> <a href='vscode-notebook-cell://github/ecnivtwelve/cours_nsi/Graphes/TP2_sujet%281%29.ipynb#Y125sdnNjb2RlLXZmcw%3D%3D?line=41'>42</a>\u001b[0m t\u001b[39m.\u001b[39;49mright(\u001b[39m90\u001b[39;49m)\n\u001b[0;32m     <a href='vscode-notebook-cell://github/ecnivtwelve/cours_nsi/Graphes/TP2_sujet%281%29.ipynb#Y125sdnNjb2RlLXZmcw%3D%3D?line=42'>43</a>\u001b[0m t\u001b[39m.\u001b[39mforward(dist)\n\u001b[0;32m     <a href='vscode-notebook-cell://github/ecnivtwelve/cours_nsi/Graphes/TP2_sujet%281%29.ipynb#Y125sdnNjb2RlLXZmcw%3D%3D?line=43'>44</a>\u001b[0m t\u001b[39m.\u001b[39mbackward(dist)\n",
            "File \u001b[1;32m~\\AppData\\Roaming\\Python\\Python39\\site-packages\\ColabTurtle\\Turtle.py:196\u001b[0m, in \u001b[0;36mright\u001b[1;34m(degrees)\u001b[0m\n\u001b[0;32m    193\u001b[0m     \u001b[39mraise\u001b[39;00m \u001b[39mValueError\u001b[39;00m(\u001b[39m'\u001b[39m\u001b[39mdegrees must be a number.\u001b[39m\u001b[39m'\u001b[39m)\n\u001b[0;32m    195\u001b[0m turtle_degree \u001b[39m=\u001b[39m (turtle_degree \u001b[39m+\u001b[39m degrees) \u001b[39m%\u001b[39m \u001b[39m360\u001b[39m\n\u001b[1;32m--> 196\u001b[0m _updateDrawing()\n",
            "File \u001b[1;32m~\\AppData\\Roaming\\Python\\Python39\\site-packages\\ColabTurtle\\Turtle.py:145\u001b[0m, in \u001b[0;36m_updateDrawing\u001b[1;34m()\u001b[0m\n\u001b[0;32m    143\u001b[0m \u001b[39mif\u001b[39;00m drawing_window \u001b[39m==\u001b[39m \u001b[39mNone\u001b[39;00m:\n\u001b[0;32m    144\u001b[0m     \u001b[39mraise\u001b[39;00m \u001b[39mAttributeError\u001b[39;00m(\u001b[39m\"\u001b[39m\u001b[39mDisplay has not been initialized yet. Call initializeTurtle() before using.\u001b[39m\u001b[39m\"\u001b[39m)\n\u001b[1;32m--> 145\u001b[0m time\u001b[39m.\u001b[39;49msleep(_speedToSec(turtle_speed))\n\u001b[0;32m    146\u001b[0m drawing_window\u001b[39m.\u001b[39mupdate(HTML(_generateSvgDrawing()))\n",
            "\u001b[1;31mKeyboardInterrupt\u001b[0m: "
          ]
        }
      ],
      "source": [
        "# affichage des sommets visités\n",
        "showParcours(labyrinthe,vus,50,4,8)\n"
      ]
    },
    {
      "cell_type": "markdown",
      "metadata": {
        "id": "UvPoePcDyKj2"
      },
      "source": [
        "# DFS\n",
        "Votre code doit produire une variable **vus** qui contient la liste des sommes visités, lors du parcours en profondeur  DFS."
      ]
    },
    {
      "cell_type": "code",
      "execution_count": 10,
      "metadata": {
        "colab": {
          "base_uri": "https://localhost:8080/"
        },
        "id": "6aBe5F7tbbcD",
        "outputId": "2ae7898b-78ae-4098-ef3e-059298eb8430"
      },
      "outputs": [
        {
          "name": "stdout",
          "output_type": "stream",
          "text": [
            "[(1, 1), (2, 1), (2, 2), (3, 2), (4, 2), (4, 3), (4, 4), (2, 3), (1, 3), (1, 4), (2, 4), (3, 4), (3, 5), (3, 6), (3, 7), (4, 7), (4, 8), (3, 8), (2, 8), (1, 8), (1, 7), (1, 6), (2, 7), (4, 6), (4, 5), (2, 6), (2, 5), (1, 5)]\n"
          ]
        }
      ],
      "source": [
        "lab2 = labyrinthe.lstAdj\n",
        "\n",
        "def DFS(start : str ) -> list  :\n",
        "   vus = []\n",
        "   aVoir = []\n",
        "   \n",
        "   vus.append(start)\n",
        "   for voisin in lab[start]:\n",
        "      aVoir.append(voisin)\n",
        "      \n",
        "   while aVoir != []:\n",
        "      next = aVoir.pop()\n",
        "      vus.append(next)\n",
        "      for voisin in lab[next]:\n",
        "         if voisin not in vus and voisin not in aVoir:\n",
        "            aVoir.append(voisin)\n",
        "         \n",
        "   return vus\n",
        "\n",
        "vus = DFS((1, 1))\n",
        "print(vus)"
      ]
    },
    {
      "cell_type": "code",
      "execution_count": 11,
      "metadata": {
        "id": "LqmVcvDbzAYL"
      },
      "outputs": [],
      "source": [
        "# vérification\n",
        "assert vus==[(1, 1), (2, 1), (2, 2), (3, 2), (4, 2), (4, 3), (4, 4), (2, 3), (1, 3), (1, 4), (2, 4), (3, 4), (3, 5), (3, 6), (3, 7), (4, 7), (4, 8), (3, 8), (2, 8), (1, 8), (1, 7), (1, 6), (2, 7), (4, 6), (4, 5), (2, 6), (2, 5), (1, 5)]\n",
        "\n"
      ]
    },
    {
      "cell_type": "code",
      "execution_count": 51,
      "metadata": {
        "colab": {
          "base_uri": "https://localhost:8080/",
          "height": 521
        },
        "id": "-bFBortMbbcH",
        "outputId": "6253ce98-6efa-4747-dcc2-e8250dcfb328"
      },
      "outputs": [
        {
          "data": {
            "text/html": [
              "\n",
              "      <svg width=\"800\" height=\"500\">\n",
              "        <rect width=\"100%\" height=\"100%\" fill=\"black\"/>\n",
              "        <line x1=\"10\" y1=\"10\" x2=\"60.0\" y2=\"10.0\" stroke-linecap=\"round\" style=\"stroke:white;stroke-width:4\"/><line x1=\"60.0\" y1=\"10.0\" x2=\"110.0\" y2=\"10.0\" stroke-linecap=\"round\" style=\"stroke:white;stroke-width:4\"/><line x1=\"110.0\" y1=\"10.0\" x2=\"160.0\" y2=\"10.0\" stroke-linecap=\"round\" style=\"stroke:white;stroke-width:4\"/><line x1=\"160.0\" y1=\"10.0\" x2=\"210.0\" y2=\"10.0\" stroke-linecap=\"round\" style=\"stroke:white;stroke-width:4\"/><line x1=\"210.0\" y1=\"10.0\" x2=\"260.0\" y2=\"10.0\" stroke-linecap=\"round\" style=\"stroke:white;stroke-width:4\"/><line x1=\"260.0\" y1=\"10.0\" x2=\"310.0\" y2=\"10.0\" stroke-linecap=\"round\" style=\"stroke:white;stroke-width:4\"/><line x1=\"310.0\" y1=\"10.0\" x2=\"360.0\" y2=\"10.0\" stroke-linecap=\"round\" style=\"stroke:white;stroke-width:4\"/><line x1=\"360.0\" y1=\"10.0\" x2=\"410.0\" y2=\"10.0\" stroke-linecap=\"round\" style=\"stroke:white;stroke-width:4\"/><line x1=\"410.0\" y1=\"10.0\" x2=\"410.0\" y2=\"60.0\" stroke-linecap=\"round\" style=\"stroke:white;stroke-width:4\"/><line x1=\"410.0\" y1=\"60.0\" x2=\"410.0\" y2=\"110.0\" stroke-linecap=\"round\" style=\"stroke:white;stroke-width:4\"/><line x1=\"410.0\" y1=\"110.0\" x2=\"410.0\" y2=\"160.0\" stroke-linecap=\"round\" style=\"stroke:white;stroke-width:4\"/><line x1=\"410.0\" y1=\"160.0\" x2=\"410.0\" y2=\"210.0\" stroke-linecap=\"round\" style=\"stroke:white;stroke-width:4\"/><line x1=\"410.0\" y1=\"210.0\" x2=\"360.0\" y2=\"210.0\" stroke-linecap=\"round\" style=\"stroke:white;stroke-width:4\"/><line x1=\"360.0\" y1=\"210.0\" x2=\"310.0\" y2=\"210.0\" stroke-linecap=\"round\" style=\"stroke:white;stroke-width:4\"/><line x1=\"310.0\" y1=\"210.0\" x2=\"260.0\" y2=\"210.0\" stroke-linecap=\"round\" style=\"stroke:white;stroke-width:4\"/><line x1=\"260.0\" y1=\"210.0\" x2=\"210.0\" y2=\"210.0\" stroke-linecap=\"round\" style=\"stroke:white;stroke-width:4\"/><line x1=\"210.0\" y1=\"210.0\" x2=\"160.0\" y2=\"210.0\" stroke-linecap=\"round\" style=\"stroke:white;stroke-width:4\"/><line x1=\"160.0\" y1=\"210.0\" x2=\"110.0\" y2=\"210.0\" stroke-linecap=\"round\" style=\"stroke:white;stroke-width:4\"/><line x1=\"110.0\" y1=\"210.0\" x2=\"60.0\" y2=\"210.0\" stroke-linecap=\"round\" style=\"stroke:white;stroke-width:4\"/><line x1=\"60.0\" y1=\"210.0\" x2=\"10.0\" y2=\"210.0\" stroke-linecap=\"round\" style=\"stroke:white;stroke-width:4\"/><line x1=\"10.0\" y1=\"210.0\" x2=\"10.0\" y2=\"160.0\" stroke-linecap=\"round\" style=\"stroke:white;stroke-width:4\"/><line x1=\"10.0\" y1=\"160.0\" x2=\"10.0\" y2=\"110.0\" stroke-linecap=\"round\" style=\"stroke:white;stroke-width:4\"/><line x1=\"10.0\" y1=\"110.0\" x2=\"10.0\" y2=\"60.0\" stroke-linecap=\"round\" style=\"stroke:white;stroke-width:4\"/><line x1=\"10.0\" y1=\"60.0\" x2=\"10.0\" y2=\"10.0\" stroke-linecap=\"round\" style=\"stroke:white;stroke-width:4\"/><line x1=\"60.0\" y1=\"10.0\" x2=\"60.0\" y2=\"60.0\" stroke-linecap=\"round\" style=\"stroke:white;stroke-width:4\"/><line x1=\"60.0\" y1=\"60.0\" x2=\"60.0\" y2=\"10.0\" stroke-linecap=\"round\" style=\"stroke:white;stroke-width:4\"/><line x1=\"110.0\" y1=\"10.0\" x2=\"110.0\" y2=\"60.0\" stroke-linecap=\"round\" style=\"stroke:white;stroke-width:4\"/><line x1=\"110.0\" y1=\"60.0\" x2=\"110.0\" y2=\"10.0\" stroke-linecap=\"round\" style=\"stroke:white;stroke-width:4\"/><line x1=\"260.0\" y1=\"10.0\" x2=\"260.0\" y2=\"60.0\" stroke-linecap=\"round\" style=\"stroke:white;stroke-width:4\"/><line x1=\"260.0\" y1=\"60.0\" x2=\"260.0\" y2=\"10.0\" stroke-linecap=\"round\" style=\"stroke:white;stroke-width:4\"/><line x1=\"160.0\" y1=\"60.0\" x2=\"160.0\" y2=\"110.0\" stroke-linecap=\"round\" style=\"stroke:white;stroke-width:4\"/><line x1=\"160.0\" y1=\"110.0\" x2=\"160.0\" y2=\"60.0\" stroke-linecap=\"round\" style=\"stroke:white;stroke-width:4\"/><line x1=\"210.0\" y1=\"60.0\" x2=\"210.0\" y2=\"110.0\" stroke-linecap=\"round\" style=\"stroke:white;stroke-width:4\"/><line x1=\"210.0\" y1=\"110.0\" x2=\"210.0\" y2=\"60.0\" stroke-linecap=\"round\" style=\"stroke:white;stroke-width:4\"/><line x1=\"360.0\" y1=\"60.0\" x2=\"360.0\" y2=\"110.0\" stroke-linecap=\"round\" style=\"stroke:white;stroke-width:4\"/><line x1=\"360.0\" y1=\"110.0\" x2=\"360.0\" y2=\"60.0\" stroke-linecap=\"round\" style=\"stroke:white;stroke-width:4\"/><line x1=\"60.0\" y1=\"110.0\" x2=\"60.0\" y2=\"160.0\" stroke-linecap=\"round\" style=\"stroke:white;stroke-width:4\"/><line x1=\"60.0\" y1=\"160.0\" x2=\"60.0\" y2=\"110.0\" stroke-linecap=\"round\" style=\"stroke:white;stroke-width:4\"/><line x1=\"110.0\" y1=\"110.0\" x2=\"110.0\" y2=\"160.0\" stroke-linecap=\"round\" style=\"stroke:white;stroke-width:4\"/><line x1=\"110.0\" y1=\"160.0\" x2=\"110.0\" y2=\"110.0\" stroke-linecap=\"round\" style=\"stroke:white;stroke-width:4\"/><line x1=\"160.0\" y1=\"110.0\" x2=\"160.0\" y2=\"160.0\" stroke-linecap=\"round\" style=\"stroke:white;stroke-width:4\"/><line x1=\"160.0\" y1=\"160.0\" x2=\"160.0\" y2=\"110.0\" stroke-linecap=\"round\" style=\"stroke:white;stroke-width:4\"/><line x1=\"360.0\" y1=\"110.0\" x2=\"360.0\" y2=\"160.0\" stroke-linecap=\"round\" style=\"stroke:white;stroke-width:4\"/><line x1=\"360.0\" y1=\"160.0\" x2=\"360.0\" y2=\"110.0\" stroke-linecap=\"round\" style=\"stroke:white;stroke-width:4\"/><line x1=\"60.0\" y1=\"160.0\" x2=\"60.0\" y2=\"210.0\" stroke-linecap=\"round\" style=\"stroke:white;stroke-width:4\"/><line x1=\"60.0\" y1=\"210.0\" x2=\"60.0\" y2=\"160.0\" stroke-linecap=\"round\" style=\"stroke:white;stroke-width:4\"/><line x1=\"210.0\" y1=\"160.0\" x2=\"210.0\" y2=\"210.0\" stroke-linecap=\"round\" style=\"stroke:white;stroke-width:4\"/><line x1=\"210.0\" y1=\"210.0\" x2=\"210.0\" y2=\"160.0\" stroke-linecap=\"round\" style=\"stroke:white;stroke-width:4\"/><line x1=\"310.0\" y1=\"160.0\" x2=\"310.0\" y2=\"210.0\" stroke-linecap=\"round\" style=\"stroke:white;stroke-width:4\"/><line x1=\"310.0\" y1=\"210.0\" x2=\"310.0\" y2=\"160.0\" stroke-linecap=\"round\" style=\"stroke:white;stroke-width:4\"/><line x1=\"60.0\" y1=\"60.0\" x2=\"110.0\" y2=\"60.0\" stroke-linecap=\"round\" style=\"stroke:white;stroke-width:4\"/><line x1=\"310.0\" y1=\"60.0\" x2=\"360.0\" y2=\"60.0\" stroke-linecap=\"round\" style=\"stroke:white;stroke-width:4\"/><line x1=\"10\" y1=\"110\" x2=\"60.0\" y2=\"110.0\" stroke-linecap=\"round\" style=\"stroke:white;stroke-width:4\"/><line x1=\"110.0\" y1=\"110.0\" x2=\"160.0\" y2=\"110.0\" stroke-linecap=\"round\" style=\"stroke:white;stroke-width:4\"/><line x1=\"210.0\" y1=\"110.0\" x2=\"260.0\" y2=\"110.0\" stroke-linecap=\"round\" style=\"stroke:white;stroke-width:4\"/><line x1=\"10\" y1=\"160\" x2=\"60.0\" y2=\"160.0\" stroke-linecap=\"round\" style=\"stroke:white;stroke-width:4\"/><line x1=\"110.0\" y1=\"160.0\" x2=\"160.0\" y2=\"160.0\" stroke-linecap=\"round\" style=\"stroke:white;stroke-width:4\"/><line x1=\"160.0\" y1=\"160.0\" x2=\"210.0\" y2=\"160.0\" stroke-linecap=\"round\" style=\"stroke:white;stroke-width:4\"/><line x1=\"210.0\" y1=\"160.0\" x2=\"260.0\" y2=\"160.0\" stroke-linecap=\"round\" style=\"stroke:white;stroke-width:4\"/><line x1=\"27\" y1=\"32\" x2=\"28.0\" y2=\"32.0\" stroke-linecap=\"round\" style=\"stroke:red;stroke-width:7\"/><line x1=\"27\" y1=\"82\" x2=\"28.0\" y2=\"82.0\" stroke-linecap=\"round\" style=\"stroke:red;stroke-width:7\"/><line x1=\"77\" y1=\"82\" x2=\"78.0\" y2=\"82.0\" stroke-linecap=\"round\" style=\"stroke:red;stroke-width:7\"/><line x1=\"77\" y1=\"132\" x2=\"78.0\" y2=\"132.0\" stroke-linecap=\"round\" style=\"stroke:red;stroke-width:7\"/><line x1=\"77\" y1=\"182\" x2=\"78.0\" y2=\"182.0\" stroke-linecap=\"round\" style=\"stroke:red;stroke-width:7\"/><line x1=\"127\" y1=\"182\" x2=\"128.0\" y2=\"182.0\" stroke-linecap=\"round\" style=\"stroke:red;stroke-width:7\"/><line x1=\"177\" y1=\"182\" x2=\"178.0\" y2=\"182.0\" stroke-linecap=\"round\" style=\"stroke:red;stroke-width:7\"/><line x1=\"127\" y1=\"82\" x2=\"128.0\" y2=\"82.0\" stroke-linecap=\"round\" style=\"stroke:red;stroke-width:7\"/><line x1=\"127\" y1=\"32\" x2=\"128.0\" y2=\"32.0\" stroke-linecap=\"round\" style=\"stroke:red;stroke-width:7\"/><line x1=\"177\" y1=\"32\" x2=\"178.0\" y2=\"32.0\" stroke-linecap=\"round\" style=\"stroke:red;stroke-width:7\"/><line x1=\"177\" y1=\"82\" x2=\"178.0\" y2=\"82.0\" stroke-linecap=\"round\" style=\"stroke:red;stroke-width:7\"/><line x1=\"177\" y1=\"132\" x2=\"178.0\" y2=\"132.0\" stroke-linecap=\"round\" style=\"stroke:red;stroke-width:7\"/><line x1=\"227\" y1=\"132\" x2=\"228.0\" y2=\"132.0\" stroke-linecap=\"round\" style=\"stroke:red;stroke-width:7\"/><line x1=\"277\" y1=\"132\" x2=\"278.0\" y2=\"132.0\" stroke-linecap=\"round\" style=\"stroke:red;stroke-width:7\"/><line x1=\"327\" y1=\"132\" x2=\"328.0\" y2=\"132.0\" stroke-linecap=\"round\" style=\"stroke:red;stroke-width:7\"/><line x1=\"327\" y1=\"182\" x2=\"328.0\" y2=\"182.0\" stroke-linecap=\"round\" style=\"stroke:red;stroke-width:7\"/><line x1=\"377\" y1=\"182\" x2=\"378.0\" y2=\"182.0\" stroke-linecap=\"round\" style=\"stroke:red;stroke-width:7\"/><line x1=\"377\" y1=\"132\" x2=\"378.0\" y2=\"132.0\" stroke-linecap=\"round\" style=\"stroke:red;stroke-width:7\"/><line x1=\"377\" y1=\"82\" x2=\"378.0\" y2=\"82.0\" stroke-linecap=\"round\" style=\"stroke:red;stroke-width:7\"/><line x1=\"377\" y1=\"32\" x2=\"378.0\" y2=\"32.0\" stroke-linecap=\"round\" style=\"stroke:red;stroke-width:7\"/><line x1=\"327\" y1=\"32\" x2=\"328.0\" y2=\"32.0\" stroke-linecap=\"round\" style=\"stroke:red;stroke-width:7\"/><line x1=\"277\" y1=\"32\" x2=\"278.0\" y2=\"32.0\" stroke-linecap=\"round\" style=\"stroke:red;stroke-width:7\"/><line x1=\"277\" y1=\"82\" x2=\"278.0\" y2=\"82.0\" stroke-linecap=\"round\" style=\"stroke:red;stroke-width:7\"/><line x1=\"327\" y1=\"82\" x2=\"328.0\" y2=\"82.0\" stroke-linecap=\"round\" style=\"stroke:red;stroke-width:7\"/><line x1=\"227\" y1=\"82\" x2=\"228.0\" y2=\"82.0\" stroke-linecap=\"round\" style=\"stroke:red;stroke-width:7\"/><line x1=\"227\" y1=\"32\" x2=\"228.0\" y2=\"32.0\" stroke-linecap=\"round\" style=\"stroke:red;stroke-width:7\"/><line x1=\"277\" y1=\"182\" x2=\"278.0\" y2=\"182.0\" stroke-linecap=\"round\" style=\"stroke:red;stroke-width:7\"/><line x1=\"227\" y1=\"182\" x2=\"228.0\" y2=\"182.0\" stroke-linecap=\"round\" style=\"stroke:red;stroke-width:7\"/>\n",
              "        <g visibility=visible transform=\"rotate(90,227.0,182.0) translate(209.0, 164.0)\">\n",
              "<path style=\" stroke:none;fill-rule:evenodd;fill:red;fill-opacity:1;\" d=\"M 18.214844 0.632812 C 16.109375 1.800781 15.011719 4.074219 15.074219 7.132812 L 15.085938 7.652344 L 14.785156 7.496094 C 13.476562 6.824219 11.957031 6.671875 10.40625 7.066406 C 8.46875 7.550781 6.515625 9.15625 4.394531 11.992188 C 3.0625 13.777344 2.679688 14.636719 3.042969 15.027344 L 3.15625 15.152344 L 3.519531 15.152344 C 4.238281 15.152344 4.828125 14.886719 8.1875 13.039062 C 9.386719 12.378906 10.371094 11.839844 10.378906 11.839844 C 10.386719 11.839844 10.355469 11.929688 10.304688 12.035156 C 9.832031 13.09375 9.257812 14.820312 8.96875 16.078125 C 7.914062 20.652344 8.617188 24.53125 11.070312 27.660156 C 11.351562 28.015625 11.363281 27.914062 10.972656 28.382812 C 8.925781 30.84375 7.945312 33.28125 8.238281 35.1875 C 8.289062 35.527344 8.28125 35.523438 8.917969 35.523438 C 10.941406 35.523438 13.074219 34.207031 15.136719 31.6875 C 15.359375 31.417969 15.328125 31.425781 15.5625 31.574219 C 16.292969 32.042969 18.023438 32.964844 18.175781 32.964844 C 18.335938 32.964844 19.941406 32.210938 20.828125 31.71875 C 20.996094 31.625 21.136719 31.554688 21.136719 31.558594 C 21.203125 31.664062 21.898438 32.414062 22.222656 32.730469 C 23.835938 34.300781 25.5625 35.132812 27.582031 35.300781 C 27.90625 35.328125 27.9375 35.308594 28.007812 34.984375 C 28.382812 33.242188 27.625 30.925781 25.863281 28.425781 L 25.542969 27.96875 L 25.699219 27.785156 C 28.945312 23.960938 29.132812 18.699219 26.257812 11.96875 L 26.207031 11.84375 L 27.945312 12.703125 C 31.53125 14.476562 32.316406 14.800781 33.03125 14.800781 C 33.976562 14.800781 33.78125 13.9375 32.472656 12.292969 C 28.519531 7.355469 25.394531 5.925781 21.921875 7.472656 L 21.558594 7.636719 L 21.578125 7.542969 C 21.699219 6.992188 21.761719 5.742188 21.699219 5.164062 C 21.496094 3.296875 20.664062 1.964844 19.003906 0.855469 C 18.480469 0.503906 18.457031 0.5 18.214844 0.632812\"/>\n",
              "</g>\n",
              "      </svg>\n",
              "    "
            ],
            "text/plain": [
              "<IPython.core.display.HTML object>"
            ]
          },
          "metadata": {},
          "output_type": "display_data"
        }
      ],
      "source": [
        "# affichage des sommets visités\n",
        "showParcours(labyrinthe,vus,50,4,8)\n"
      ]
    },
    {
      "cell_type": "markdown",
      "metadata": {
        "id": "kWDM3Sr7bbcK"
      },
      "source": [
        "<b>2) On souhaite tracer les chemins, et non plus seulement les sommets visités</b>\n",
        "\n",
        "Il va donc maintenant garder en mémoire, pour chaque sommet, le parent associé (d'ou l'on venait)\n",
        "\n",
        "Pour cela recopiez la fonction DFS faites précédement et modifiez là comme suit :\n",
        "\n",
        "1.    avant la boucle créez une liste vide **chemin** et un dictionnaire vide parent\n",
        "\n",
        "2.   toujours avant la boucle, pour chaque sommet s dans aVoir, définir son parent égal à (1,1) : parent[s] = (1,1)\n",
        "<li>A chaque fois qu'on ajoute un sommet dans aVoir, il faut définir son parent dans le dictionnaire parent</li>\n",
        "<li>A chaque fois qu'on ajoute un sommet dans vus on doit ajouter dans chemin un tuple (parent[sommet],sommet)</li>\n"
      ]
    },
    {
      "cell_type": "code",
      "execution_count": 16,
      "metadata": {
        "id": "I-GRA_ChbbcK"
      },
      "outputs": [
        {
          "name": "stdout",
          "output_type": "stream",
          "text": [
            "[((1, 1), (2, 1)), ((2, 1), (2, 2)), ((2, 2), (3, 2)), ((3, 2), (4, 2)), ((4, 2), (4, 3)), ((4, 3), (4, 4)), ((4, 4), (2, 3)), ((2, 3), (1, 3)), ((1, 3), (1, 4)), ((1, 4), (2, 4)), ((2, 4), (3, 4)), ((3, 4), (3, 5)), ((3, 5), (3, 6)), ((3, 6), (3, 7)), ((3, 7), (4, 7)), ((4, 7), (4, 8)), ((4, 8), (3, 8)), ((3, 8), (2, 8)), ((2, 8), (1, 8)), ((1, 8), (1, 7)), ((1, 7), (1, 6)), ((1, 6), (2, 7)), ((2, 7), (4, 6)), ((4, 6), (4, 5)), ((4, 5), (2, 6)), ((2, 6), (2, 5)), ((2, 5), (1, 5))]\n"
          ]
        }
      ],
      "source": [
        "# votre code doit produire une liste chemins \n",
        "# recopiez le code précédent et modifiez le\n",
        "def CHEM(start : str ) -> list  :\n",
        "   vus = []\n",
        "   aVoir = []\n",
        "   chemin = []\n",
        "   parent = start\n",
        "            \n",
        "   vus.append(start)\n",
        "   for voisin in lab[start]:\n",
        "      aVoir.append(voisin)\n",
        "      \n",
        "   while aVoir != []:\n",
        "      next = aVoir.pop()\n",
        "      vus.append(next)\n",
        "      chemin.append((parent, next))\n",
        "      parent = next\n",
        "      for voisin in lab[next]:\n",
        "         if voisin not in vus and voisin not in aVoir:\n",
        "            aVoir.append(voisin)\n",
        "         \n",
        "   return chemin\n",
        "\n",
        "chemin = CHEM((1,1))\n",
        "print(chemin)"
      ]
    },
    {
      "cell_type": "code",
      "execution_count": 17,
      "metadata": {
        "id": "csQXkYFhzfbo"
      },
      "outputs": [
        {
          "ename": "AssertionError",
          "evalue": "",
          "output_type": "error",
          "traceback": [
            "\u001b[1;31m---------------------------------------------------------------------------\u001b[0m",
            "\u001b[1;31mAssertionError\u001b[0m                            Traceback (most recent call last)",
            "\u001b[1;32mecnivtwelve\\cours_nsi\\Graphes\\TP2_sujet(1).ipynb Cell 23\u001b[0m line \u001b[0;36m2\n\u001b[0;32m      <a href='vscode-notebook-cell://github/ecnivtwelve/cours_nsi/Graphes/TP2_sujet%281%29.ipynb#X31sdnNjb2RlLXZmcw%3D%3D?line=0'>1</a>\u001b[0m \u001b[39m# vérification\u001b[39;00m\n\u001b[1;32m----> <a href='vscode-notebook-cell://github/ecnivtwelve/cours_nsi/Graphes/TP2_sujet%281%29.ipynb#X31sdnNjb2RlLXZmcw%3D%3D?line=1'>2</a>\u001b[0m \u001b[39massert\u001b[39;00m chemin \u001b[39m==\u001b[39m [((\u001b[39m1\u001b[39m, \u001b[39m1\u001b[39m), (\u001b[39m2\u001b[39m, \u001b[39m1\u001b[39m)), ((\u001b[39m2\u001b[39m, \u001b[39m1\u001b[39m), (\u001b[39m2\u001b[39m, \u001b[39m2\u001b[39m)), ((\u001b[39m2\u001b[39m, \u001b[39m2\u001b[39m), (\u001b[39m3\u001b[39m, \u001b[39m2\u001b[39m)), ((\u001b[39m3\u001b[39m, \u001b[39m2\u001b[39m), (\u001b[39m4\u001b[39m, \u001b[39m2\u001b[39m)), ((\u001b[39m4\u001b[39m, \u001b[39m2\u001b[39m), (\u001b[39m4\u001b[39m, \u001b[39m3\u001b[39m)), ((\u001b[39m4\u001b[39m, \u001b[39m3\u001b[39m), (\u001b[39m4\u001b[39m, \u001b[39m4\u001b[39m)), ((\u001b[39m2\u001b[39m, \u001b[39m2\u001b[39m), (\u001b[39m2\u001b[39m, \u001b[39m3\u001b[39m)), ((\u001b[39m2\u001b[39m, \u001b[39m3\u001b[39m), (\u001b[39m1\u001b[39m, \u001b[39m3\u001b[39m)), ((\u001b[39m1\u001b[39m, \u001b[39m3\u001b[39m), (\u001b[39m1\u001b[39m, \u001b[39m4\u001b[39m)), ((\u001b[39m1\u001b[39m, \u001b[39m4\u001b[39m), (\u001b[39m2\u001b[39m, \u001b[39m4\u001b[39m)), ((\u001b[39m2\u001b[39m, \u001b[39m4\u001b[39m), (\u001b[39m3\u001b[39m, \u001b[39m4\u001b[39m)), ((\u001b[39m3\u001b[39m, \u001b[39m4\u001b[39m), (\u001b[39m3\u001b[39m, \u001b[39m5\u001b[39m)), ((\u001b[39m3\u001b[39m, \u001b[39m5\u001b[39m), (\u001b[39m3\u001b[39m, \u001b[39m6\u001b[39m)), ((\u001b[39m3\u001b[39m, \u001b[39m6\u001b[39m), (\u001b[39m3\u001b[39m, \u001b[39m7\u001b[39m)), ((\u001b[39m3\u001b[39m, \u001b[39m7\u001b[39m), (\u001b[39m4\u001b[39m, \u001b[39m7\u001b[39m)), ((\u001b[39m4\u001b[39m, \u001b[39m7\u001b[39m), (\u001b[39m4\u001b[39m, \u001b[39m8\u001b[39m)), ((\u001b[39m4\u001b[39m, \u001b[39m8\u001b[39m), (\u001b[39m3\u001b[39m, \u001b[39m8\u001b[39m)), ((\u001b[39m3\u001b[39m, \u001b[39m8\u001b[39m), (\u001b[39m2\u001b[39m, \u001b[39m8\u001b[39m)), ((\u001b[39m2\u001b[39m, \u001b[39m8\u001b[39m), (\u001b[39m1\u001b[39m, \u001b[39m8\u001b[39m)), ((\u001b[39m1\u001b[39m, \u001b[39m8\u001b[39m), (\u001b[39m1\u001b[39m, \u001b[39m7\u001b[39m)), ((\u001b[39m1\u001b[39m, \u001b[39m7\u001b[39m), (\u001b[39m1\u001b[39m, \u001b[39m6\u001b[39m)), ((\u001b[39m3\u001b[39m, \u001b[39m7\u001b[39m), (\u001b[39m2\u001b[39m, \u001b[39m7\u001b[39m)), ((\u001b[39m3\u001b[39m, \u001b[39m6\u001b[39m), (\u001b[39m4\u001b[39m, \u001b[39m6\u001b[39m)), ((\u001b[39m4\u001b[39m, \u001b[39m6\u001b[39m), (\u001b[39m4\u001b[39m, \u001b[39m5\u001b[39m)), ((\u001b[39m3\u001b[39m, \u001b[39m6\u001b[39m), (\u001b[39m2\u001b[39m, \u001b[39m6\u001b[39m)), ((\u001b[39m2\u001b[39m, \u001b[39m6\u001b[39m), (\u001b[39m2\u001b[39m, \u001b[39m5\u001b[39m)), ((\u001b[39m1\u001b[39m, \u001b[39m4\u001b[39m), (\u001b[39m1\u001b[39m, \u001b[39m5\u001b[39m))]\n",
            "\u001b[1;31mAssertionError\u001b[0m: "
          ]
        }
      ],
      "source": [
        "# vérification\n",
        "assert chemin == [((1, 1), (2, 1)), ((2, 1), (2, 2)), ((2, 2), (3, 2)), ((3, 2), (4, 2)), ((4, 2), (4, 3)), ((4, 3), (4, 4)), ((2, 2), (2, 3)), ((2, 3), (1, 3)), ((1, 3), (1, 4)), ((1, 4), (2, 4)), ((2, 4), (3, 4)), ((3, 4), (3, 5)), ((3, 5), (3, 6)), ((3, 6), (3, 7)), ((3, 7), (4, 7)), ((4, 7), (4, 8)), ((4, 8), (3, 8)), ((3, 8), (2, 8)), ((2, 8), (1, 8)), ((1, 8), (1, 7)), ((1, 7), (1, 6)), ((3, 7), (2, 7)), ((3, 6), (4, 6)), ((4, 6), (4, 5)), ((3, 6), (2, 6)), ((2, 6), (2, 5)), ((1, 4), (1, 5))]\n"
      ]
    },
    {
      "cell_type": "code",
      "execution_count": 27,
      "metadata": {
        "id": "PR935NqfbbcM",
        "scrolled": true
      },
      "outputs": [],
      "source": [
        "def showChemin(labyrinthe,chemin,cote,nli,ncol) :\n",
        "    showLabyrinthe(labyrinthe,50,4,8)\n",
        "    for line in chemin :\n",
        "        t.penup()\n",
        "        s=line[0]\n",
        "        t.goto(int((s[1]-0.5)*cote),5+int((s[0]-0.5)*cote))\n",
        "        t.pendown()\n",
        "        dot(7,'red')\n",
        "        t.pendown()\n",
        "        s=line[1]\n",
        "        t.goto(int((s[1]-0.5)*cote),5+int((s[0]-0.5)*cote))\n",
        "        dot(5,'red')\n",
        "      \n",
        "       "
      ]
    },
    {
      "cell_type": "code",
      "execution_count": 28,
      "metadata": {
        "id": "6zbZSjkNbbcP"
      },
      "outputs": [
        {
          "data": {
            "text/html": [
              "\n",
              "      <svg width=\"800\" height=\"500\">\n",
              "        <rect width=\"100%\" height=\"100%\" fill=\"black\"/>\n",
              "        <line x1=\"10\" y1=\"10\" x2=\"60.0\" y2=\"10.0\" stroke-linecap=\"round\" style=\"stroke:white;stroke-width:4\"/><line x1=\"60.0\" y1=\"10.0\" x2=\"110.0\" y2=\"10.0\" stroke-linecap=\"round\" style=\"stroke:white;stroke-width:4\"/><line x1=\"110.0\" y1=\"10.0\" x2=\"160.0\" y2=\"10.0\" stroke-linecap=\"round\" style=\"stroke:white;stroke-width:4\"/><line x1=\"160.0\" y1=\"10.0\" x2=\"210.0\" y2=\"10.0\" stroke-linecap=\"round\" style=\"stroke:white;stroke-width:4\"/><line x1=\"210.0\" y1=\"10.0\" x2=\"260.0\" y2=\"10.0\" stroke-linecap=\"round\" style=\"stroke:white;stroke-width:4\"/><line x1=\"260.0\" y1=\"10.0\" x2=\"310.0\" y2=\"10.0\" stroke-linecap=\"round\" style=\"stroke:white;stroke-width:4\"/><line x1=\"310.0\" y1=\"10.0\" x2=\"360.0\" y2=\"10.0\" stroke-linecap=\"round\" style=\"stroke:white;stroke-width:4\"/><line x1=\"360.0\" y1=\"10.0\" x2=\"410.0\" y2=\"10.0\" stroke-linecap=\"round\" style=\"stroke:white;stroke-width:4\"/><line x1=\"410.0\" y1=\"10.0\" x2=\"410.0\" y2=\"60.0\" stroke-linecap=\"round\" style=\"stroke:white;stroke-width:4\"/><line x1=\"410.0\" y1=\"60.0\" x2=\"410.0\" y2=\"110.0\" stroke-linecap=\"round\" style=\"stroke:white;stroke-width:4\"/><line x1=\"410.0\" y1=\"110.0\" x2=\"410.0\" y2=\"160.0\" stroke-linecap=\"round\" style=\"stroke:white;stroke-width:4\"/><line x1=\"410.0\" y1=\"160.0\" x2=\"410.0\" y2=\"210.0\" stroke-linecap=\"round\" style=\"stroke:white;stroke-width:4\"/><line x1=\"410.0\" y1=\"210.0\" x2=\"360.0\" y2=\"210.0\" stroke-linecap=\"round\" style=\"stroke:white;stroke-width:4\"/><line x1=\"360.0\" y1=\"210.0\" x2=\"310.0\" y2=\"210.0\" stroke-linecap=\"round\" style=\"stroke:white;stroke-width:4\"/><line x1=\"310.0\" y1=\"210.0\" x2=\"260.0\" y2=\"210.0\" stroke-linecap=\"round\" style=\"stroke:white;stroke-width:4\"/><line x1=\"260.0\" y1=\"210.0\" x2=\"210.0\" y2=\"210.0\" stroke-linecap=\"round\" style=\"stroke:white;stroke-width:4\"/><line x1=\"210.0\" y1=\"210.0\" x2=\"160.0\" y2=\"210.0\" stroke-linecap=\"round\" style=\"stroke:white;stroke-width:4\"/><line x1=\"160.0\" y1=\"210.0\" x2=\"110.0\" y2=\"210.0\" stroke-linecap=\"round\" style=\"stroke:white;stroke-width:4\"/><line x1=\"110.0\" y1=\"210.0\" x2=\"60.0\" y2=\"210.0\" stroke-linecap=\"round\" style=\"stroke:white;stroke-width:4\"/><line x1=\"60.0\" y1=\"210.0\" x2=\"10.0\" y2=\"210.0\" stroke-linecap=\"round\" style=\"stroke:white;stroke-width:4\"/><line x1=\"10.0\" y1=\"210.0\" x2=\"10.0\" y2=\"160.0\" stroke-linecap=\"round\" style=\"stroke:white;stroke-width:4\"/><line x1=\"10.0\" y1=\"160.0\" x2=\"10.0\" y2=\"110.0\" stroke-linecap=\"round\" style=\"stroke:white;stroke-width:4\"/><line x1=\"10.0\" y1=\"110.0\" x2=\"10.0\" y2=\"60.0\" stroke-linecap=\"round\" style=\"stroke:white;stroke-width:4\"/><line x1=\"10.0\" y1=\"60.0\" x2=\"10.0\" y2=\"10.0\" stroke-linecap=\"round\" style=\"stroke:white;stroke-width:4\"/><line x1=\"60.0\" y1=\"10.0\" x2=\"60.0\" y2=\"60.0\" stroke-linecap=\"round\" style=\"stroke:white;stroke-width:4\"/><line x1=\"60.0\" y1=\"60.0\" x2=\"60.0\" y2=\"10.0\" stroke-linecap=\"round\" style=\"stroke:white;stroke-width:4\"/><line x1=\"110.0\" y1=\"10.0\" x2=\"110.0\" y2=\"60.0\" stroke-linecap=\"round\" style=\"stroke:white;stroke-width:4\"/><line x1=\"110.0\" y1=\"60.0\" x2=\"110.0\" y2=\"10.0\" stroke-linecap=\"round\" style=\"stroke:white;stroke-width:4\"/><line x1=\"260.0\" y1=\"10.0\" x2=\"260.0\" y2=\"60.0\" stroke-linecap=\"round\" style=\"stroke:white;stroke-width:4\"/><line x1=\"260.0\" y1=\"60.0\" x2=\"260.0\" y2=\"10.0\" stroke-linecap=\"round\" style=\"stroke:white;stroke-width:4\"/><line x1=\"160.0\" y1=\"60.0\" x2=\"160.0\" y2=\"110.0\" stroke-linecap=\"round\" style=\"stroke:white;stroke-width:4\"/><line x1=\"160.0\" y1=\"110.0\" x2=\"160.0\" y2=\"60.0\" stroke-linecap=\"round\" style=\"stroke:white;stroke-width:4\"/><line x1=\"210.0\" y1=\"60.0\" x2=\"210.0\" y2=\"110.0\" stroke-linecap=\"round\" style=\"stroke:white;stroke-width:4\"/><line x1=\"210.0\" y1=\"110.0\" x2=\"210.0\" y2=\"60.0\" stroke-linecap=\"round\" style=\"stroke:white;stroke-width:4\"/><line x1=\"360.0\" y1=\"60.0\" x2=\"360.0\" y2=\"110.0\" stroke-linecap=\"round\" style=\"stroke:white;stroke-width:4\"/><line x1=\"360.0\" y1=\"110.0\" x2=\"360.0\" y2=\"60.0\" stroke-linecap=\"round\" style=\"stroke:white;stroke-width:4\"/><line x1=\"60.0\" y1=\"110.0\" x2=\"60.0\" y2=\"160.0\" stroke-linecap=\"round\" style=\"stroke:white;stroke-width:4\"/><line x1=\"60.0\" y1=\"160.0\" x2=\"60.0\" y2=\"110.0\" stroke-linecap=\"round\" style=\"stroke:white;stroke-width:4\"/><line x1=\"110.0\" y1=\"110.0\" x2=\"110.0\" y2=\"160.0\" stroke-linecap=\"round\" style=\"stroke:white;stroke-width:4\"/><line x1=\"110.0\" y1=\"160.0\" x2=\"110.0\" y2=\"110.0\" stroke-linecap=\"round\" style=\"stroke:white;stroke-width:4\"/><line x1=\"160.0\" y1=\"110.0\" x2=\"160.0\" y2=\"160.0\" stroke-linecap=\"round\" style=\"stroke:white;stroke-width:4\"/><line x1=\"160.0\" y1=\"160.0\" x2=\"160.0\" y2=\"110.0\" stroke-linecap=\"round\" style=\"stroke:white;stroke-width:4\"/><line x1=\"360.0\" y1=\"110.0\" x2=\"360.0\" y2=\"160.0\" stroke-linecap=\"round\" style=\"stroke:white;stroke-width:4\"/><line x1=\"360.0\" y1=\"160.0\" x2=\"360.0\" y2=\"110.0\" stroke-linecap=\"round\" style=\"stroke:white;stroke-width:4\"/><line x1=\"60.0\" y1=\"160.0\" x2=\"60.0\" y2=\"210.0\" stroke-linecap=\"round\" style=\"stroke:white;stroke-width:4\"/><line x1=\"60.0\" y1=\"210.0\" x2=\"60.0\" y2=\"160.0\" stroke-linecap=\"round\" style=\"stroke:white;stroke-width:4\"/><line x1=\"210.0\" y1=\"160.0\" x2=\"210.0\" y2=\"210.0\" stroke-linecap=\"round\" style=\"stroke:white;stroke-width:4\"/><line x1=\"210.0\" y1=\"210.0\" x2=\"210.0\" y2=\"160.0\" stroke-linecap=\"round\" style=\"stroke:white;stroke-width:4\"/><line x1=\"310.0\" y1=\"160.0\" x2=\"310.0\" y2=\"210.0\" stroke-linecap=\"round\" style=\"stroke:white;stroke-width:4\"/><line x1=\"310.0\" y1=\"210.0\" x2=\"310.0\" y2=\"160.0\" stroke-linecap=\"round\" style=\"stroke:white;stroke-width:4\"/><line x1=\"60.0\" y1=\"60.0\" x2=\"110.0\" y2=\"60.0\" stroke-linecap=\"round\" style=\"stroke:white;stroke-width:4\"/><line x1=\"310.0\" y1=\"60.0\" x2=\"360.0\" y2=\"60.0\" stroke-linecap=\"round\" style=\"stroke:white;stroke-width:4\"/><line x1=\"10\" y1=\"110\" x2=\"60.0\" y2=\"110.0\" stroke-linecap=\"round\" style=\"stroke:white;stroke-width:4\"/><line x1=\"110.0\" y1=\"110.0\" x2=\"160.0\" y2=\"110.0\" stroke-linecap=\"round\" style=\"stroke:white;stroke-width:4\"/><line x1=\"210.0\" y1=\"110.0\" x2=\"260.0\" y2=\"110.0\" stroke-linecap=\"round\" style=\"stroke:white;stroke-width:4\"/><line x1=\"10\" y1=\"160\" x2=\"60.0\" y2=\"160.0\" stroke-linecap=\"round\" style=\"stroke:white;stroke-width:4\"/><line x1=\"110.0\" y1=\"160.0\" x2=\"160.0\" y2=\"160.0\" stroke-linecap=\"round\" style=\"stroke:white;stroke-width:4\"/><line x1=\"160.0\" y1=\"160.0\" x2=\"210.0\" y2=\"160.0\" stroke-linecap=\"round\" style=\"stroke:white;stroke-width:4\"/><line x1=\"210.0\" y1=\"160.0\" x2=\"260.0\" y2=\"160.0\" stroke-linecap=\"round\" style=\"stroke:white;stroke-width:4\"/><line x1=\"25\" y1=\"30\" x2=\"26.0\" y2=\"30.0\" stroke-linecap=\"round\" style=\"stroke:red;stroke-width:7\"/><line x1=\"25.0\" y1=\"30.0\" x2=\"25\" y2=\"80\" stroke-linecap=\"round\" style=\"stroke:red;stroke-width:1\"/><line x1=\"25\" y1=\"80\" x2=\"26.0\" y2=\"80.0\" stroke-linecap=\"round\" style=\"stroke:red;stroke-width:5\"/><line x1=\"25\" y1=\"80\" x2=\"26.0\" y2=\"80.0\" stroke-linecap=\"round\" style=\"stroke:red;stroke-width:7\"/><line x1=\"25.0\" y1=\"80.0\" x2=\"75\" y2=\"80\" stroke-linecap=\"round\" style=\"stroke:red;stroke-width:1\"/><line x1=\"75\" y1=\"80\" x2=\"76.0\" y2=\"80.0\" stroke-linecap=\"round\" style=\"stroke:red;stroke-width:5\"/><line x1=\"75\" y1=\"80\" x2=\"76.0\" y2=\"80.0\" stroke-linecap=\"round\" style=\"stroke:red;stroke-width:7\"/><line x1=\"75.0\" y1=\"80.0\" x2=\"75\" y2=\"130\" stroke-linecap=\"round\" style=\"stroke:red;stroke-width:1\"/><line x1=\"75\" y1=\"130\" x2=\"76.0\" y2=\"130.0\" stroke-linecap=\"round\" style=\"stroke:red;stroke-width:5\"/><line x1=\"75\" y1=\"130\" x2=\"76.0\" y2=\"130.0\" stroke-linecap=\"round\" style=\"stroke:red;stroke-width:7\"/><line x1=\"75.0\" y1=\"130.0\" x2=\"75\" y2=\"180\" stroke-linecap=\"round\" style=\"stroke:red;stroke-width:1\"/><line x1=\"75\" y1=\"180\" x2=\"76.0\" y2=\"180.0\" stroke-linecap=\"round\" style=\"stroke:red;stroke-width:5\"/><line x1=\"75\" y1=\"180\" x2=\"76.0\" y2=\"180.0\" stroke-linecap=\"round\" style=\"stroke:red;stroke-width:7\"/><line x1=\"75.0\" y1=\"180.0\" x2=\"125\" y2=\"180\" stroke-linecap=\"round\" style=\"stroke:red;stroke-width:1\"/><line x1=\"125\" y1=\"180\" x2=\"126.0\" y2=\"180.0\" stroke-linecap=\"round\" style=\"stroke:red;stroke-width:5\"/><line x1=\"125\" y1=\"180\" x2=\"126.0\" y2=\"180.0\" stroke-linecap=\"round\" style=\"stroke:red;stroke-width:7\"/><line x1=\"125.0\" y1=\"180.0\" x2=\"175\" y2=\"180\" stroke-linecap=\"round\" style=\"stroke:red;stroke-width:1\"/><line x1=\"175\" y1=\"180\" x2=\"176.0\" y2=\"180.0\" stroke-linecap=\"round\" style=\"stroke:red;stroke-width:5\"/><line x1=\"175\" y1=\"180\" x2=\"176.0\" y2=\"180.0\" stroke-linecap=\"round\" style=\"stroke:red;stroke-width:7\"/><line x1=\"175.0\" y1=\"180.0\" x2=\"125\" y2=\"80\" stroke-linecap=\"round\" style=\"stroke:red;stroke-width:1\"/><line x1=\"125\" y1=\"80\" x2=\"126.0\" y2=\"80.0\" stroke-linecap=\"round\" style=\"stroke:red;stroke-width:5\"/><line x1=\"125\" y1=\"80\" x2=\"126.0\" y2=\"80.0\" stroke-linecap=\"round\" style=\"stroke:red;stroke-width:7\"/><line x1=\"125.0\" y1=\"80.0\" x2=\"125\" y2=\"30\" stroke-linecap=\"round\" style=\"stroke:red;stroke-width:1\"/><line x1=\"125\" y1=\"30\" x2=\"126.0\" y2=\"30.0\" stroke-linecap=\"round\" style=\"stroke:red;stroke-width:5\"/><line x1=\"125\" y1=\"30\" x2=\"126.0\" y2=\"30.0\" stroke-linecap=\"round\" style=\"stroke:red;stroke-width:7\"/><line x1=\"125.0\" y1=\"30.0\" x2=\"175\" y2=\"30\" stroke-linecap=\"round\" style=\"stroke:red;stroke-width:1\"/><line x1=\"175\" y1=\"30\" x2=\"176.0\" y2=\"30.0\" stroke-linecap=\"round\" style=\"stroke:red;stroke-width:5\"/><line x1=\"175\" y1=\"30\" x2=\"176.0\" y2=\"30.0\" stroke-linecap=\"round\" style=\"stroke:red;stroke-width:7\"/><line x1=\"175.0\" y1=\"30.0\" x2=\"175\" y2=\"80\" stroke-linecap=\"round\" style=\"stroke:red;stroke-width:1\"/><line x1=\"175\" y1=\"80\" x2=\"176.0\" y2=\"80.0\" stroke-linecap=\"round\" style=\"stroke:red;stroke-width:5\"/><line x1=\"175\" y1=\"80\" x2=\"176.0\" y2=\"80.0\" stroke-linecap=\"round\" style=\"stroke:red;stroke-width:7\"/><line x1=\"175.0\" y1=\"80.0\" x2=\"175\" y2=\"130\" stroke-linecap=\"round\" style=\"stroke:red;stroke-width:1\"/><line x1=\"175\" y1=\"130\" x2=\"176.0\" y2=\"130.0\" stroke-linecap=\"round\" style=\"stroke:red;stroke-width:5\"/><line x1=\"175\" y1=\"130\" x2=\"176.0\" y2=\"130.0\" stroke-linecap=\"round\" style=\"stroke:red;stroke-width:7\"/><line x1=\"175.0\" y1=\"130.0\" x2=\"225\" y2=\"130\" stroke-linecap=\"round\" style=\"stroke:red;stroke-width:1\"/><line x1=\"225\" y1=\"130\" x2=\"226.0\" y2=\"130.0\" stroke-linecap=\"round\" style=\"stroke:red;stroke-width:5\"/><line x1=\"225\" y1=\"130\" x2=\"226.0\" y2=\"130.0\" stroke-linecap=\"round\" style=\"stroke:red;stroke-width:7\"/><line x1=\"225.0\" y1=\"130.0\" x2=\"275\" y2=\"130\" stroke-linecap=\"round\" style=\"stroke:red;stroke-width:1\"/><line x1=\"275\" y1=\"130\" x2=\"276.0\" y2=\"130.0\" stroke-linecap=\"round\" style=\"stroke:red;stroke-width:5\"/><line x1=\"275\" y1=\"130\" x2=\"276.0\" y2=\"130.0\" stroke-linecap=\"round\" style=\"stroke:red;stroke-width:7\"/><line x1=\"275.0\" y1=\"130.0\" x2=\"325\" y2=\"130\" stroke-linecap=\"round\" style=\"stroke:red;stroke-width:1\"/><line x1=\"325\" y1=\"130\" x2=\"326.0\" y2=\"130.0\" stroke-linecap=\"round\" style=\"stroke:red;stroke-width:5\"/><line x1=\"325\" y1=\"130\" x2=\"326.0\" y2=\"130.0\" stroke-linecap=\"round\" style=\"stroke:red;stroke-width:7\"/><line x1=\"325.0\" y1=\"130.0\" x2=\"325\" y2=\"180\" stroke-linecap=\"round\" style=\"stroke:red;stroke-width:1\"/><line x1=\"325\" y1=\"180\" x2=\"326.0\" y2=\"180.0\" stroke-linecap=\"round\" style=\"stroke:red;stroke-width:5\"/><line x1=\"325\" y1=\"180\" x2=\"326.0\" y2=\"180.0\" stroke-linecap=\"round\" style=\"stroke:red;stroke-width:7\"/><line x1=\"325.0\" y1=\"180.0\" x2=\"375\" y2=\"180\" stroke-linecap=\"round\" style=\"stroke:red;stroke-width:1\"/><line x1=\"375\" y1=\"180\" x2=\"376.0\" y2=\"180.0\" stroke-linecap=\"round\" style=\"stroke:red;stroke-width:5\"/><line x1=\"375\" y1=\"180\" x2=\"376.0\" y2=\"180.0\" stroke-linecap=\"round\" style=\"stroke:red;stroke-width:7\"/><line x1=\"375.0\" y1=\"180.0\" x2=\"375\" y2=\"130\" stroke-linecap=\"round\" style=\"stroke:red;stroke-width:1\"/><line x1=\"375\" y1=\"130\" x2=\"376.0\" y2=\"130.0\" stroke-linecap=\"round\" style=\"stroke:red;stroke-width:5\"/><line x1=\"375\" y1=\"130\" x2=\"376.0\" y2=\"130.0\" stroke-linecap=\"round\" style=\"stroke:red;stroke-width:7\"/><line x1=\"375.0\" y1=\"130.0\" x2=\"375\" y2=\"80\" stroke-linecap=\"round\" style=\"stroke:red;stroke-width:1\"/><line x1=\"375\" y1=\"80\" x2=\"376.0\" y2=\"80.0\" stroke-linecap=\"round\" style=\"stroke:red;stroke-width:5\"/><line x1=\"375\" y1=\"80\" x2=\"376.0\" y2=\"80.0\" stroke-linecap=\"round\" style=\"stroke:red;stroke-width:7\"/><line x1=\"375.0\" y1=\"80.0\" x2=\"375\" y2=\"30\" stroke-linecap=\"round\" style=\"stroke:red;stroke-width:1\"/><line x1=\"375\" y1=\"30\" x2=\"376.0\" y2=\"30.0\" stroke-linecap=\"round\" style=\"stroke:red;stroke-width:5\"/><line x1=\"375\" y1=\"30\" x2=\"376.0\" y2=\"30.0\" stroke-linecap=\"round\" style=\"stroke:red;stroke-width:7\"/><line x1=\"375.0\" y1=\"30.0\" x2=\"325\" y2=\"30\" stroke-linecap=\"round\" style=\"stroke:red;stroke-width:1\"/><line x1=\"325\" y1=\"30\" x2=\"326.0\" y2=\"30.0\" stroke-linecap=\"round\" style=\"stroke:red;stroke-width:5\"/><line x1=\"325\" y1=\"30\" x2=\"326.0\" y2=\"30.0\" stroke-linecap=\"round\" style=\"stroke:red;stroke-width:7\"/><line x1=\"325.0\" y1=\"30.0\" x2=\"275\" y2=\"30\" stroke-linecap=\"round\" style=\"stroke:red;stroke-width:1\"/><line x1=\"275\" y1=\"30\" x2=\"276.0\" y2=\"30.0\" stroke-linecap=\"round\" style=\"stroke:red;stroke-width:5\"/><line x1=\"275\" y1=\"30\" x2=\"276.0\" y2=\"30.0\" stroke-linecap=\"round\" style=\"stroke:red;stroke-width:7\"/><line x1=\"275.0\" y1=\"30.0\" x2=\"325\" y2=\"80\" stroke-linecap=\"round\" style=\"stroke:red;stroke-width:1\"/><line x1=\"325\" y1=\"80\" x2=\"326.0\" y2=\"80.0\" stroke-linecap=\"round\" style=\"stroke:red;stroke-width:5\"/><line x1=\"325\" y1=\"80\" x2=\"326.0\" y2=\"80.0\" stroke-linecap=\"round\" style=\"stroke:red;stroke-width:7\"/><line x1=\"325.0\" y1=\"80.0\" x2=\"275\" y2=\"180\" stroke-linecap=\"round\" style=\"stroke:red;stroke-width:1\"/><line x1=\"275\" y1=\"180\" x2=\"276.0\" y2=\"180.0\" stroke-linecap=\"round\" style=\"stroke:red;stroke-width:5\"/><line x1=\"275\" y1=\"180\" x2=\"276.0\" y2=\"180.0\" stroke-linecap=\"round\" style=\"stroke:red;stroke-width:7\"/><line x1=\"275.0\" y1=\"180.0\" x2=\"225\" y2=\"180\" stroke-linecap=\"round\" style=\"stroke:red;stroke-width:1\"/><line x1=\"225\" y1=\"180\" x2=\"226.0\" y2=\"180.0\" stroke-linecap=\"round\" style=\"stroke:red;stroke-width:5\"/><line x1=\"225\" y1=\"180\" x2=\"226.0\" y2=\"180.0\" stroke-linecap=\"round\" style=\"stroke:red;stroke-width:7\"/><line x1=\"225.0\" y1=\"180.0\" x2=\"275\" y2=\"80\" stroke-linecap=\"round\" style=\"stroke:red;stroke-width:1\"/><line x1=\"275\" y1=\"80\" x2=\"276.0\" y2=\"80.0\" stroke-linecap=\"round\" style=\"stroke:red;stroke-width:5\"/><line x1=\"275\" y1=\"80\" x2=\"276.0\" y2=\"80.0\" stroke-linecap=\"round\" style=\"stroke:red;stroke-width:7\"/><line x1=\"275.0\" y1=\"80.0\" x2=\"225\" y2=\"80\" stroke-linecap=\"round\" style=\"stroke:red;stroke-width:1\"/><line x1=\"225\" y1=\"80\" x2=\"226.0\" y2=\"80.0\" stroke-linecap=\"round\" style=\"stroke:red;stroke-width:5\"/><line x1=\"225\" y1=\"80\" x2=\"226.0\" y2=\"80.0\" stroke-linecap=\"round\" style=\"stroke:red;stroke-width:7\"/><line x1=\"225.0\" y1=\"80.0\" x2=\"225\" y2=\"30\" stroke-linecap=\"round\" style=\"stroke:red;stroke-width:1\"/><line x1=\"225\" y1=\"30\" x2=\"226.0\" y2=\"30.0\" stroke-linecap=\"round\" style=\"stroke:red;stroke-width:5\"/>\n",
              "        <g visibility=visible transform=\"rotate(90,225.0,30.0) translate(207.0, 12.0)\">\n",
              "<path style=\" stroke:none;fill-rule:evenodd;fill:red;fill-opacity:1;\" d=\"M 18.214844 0.632812 C 16.109375 1.800781 15.011719 4.074219 15.074219 7.132812 L 15.085938 7.652344 L 14.785156 7.496094 C 13.476562 6.824219 11.957031 6.671875 10.40625 7.066406 C 8.46875 7.550781 6.515625 9.15625 4.394531 11.992188 C 3.0625 13.777344 2.679688 14.636719 3.042969 15.027344 L 3.15625 15.152344 L 3.519531 15.152344 C 4.238281 15.152344 4.828125 14.886719 8.1875 13.039062 C 9.386719 12.378906 10.371094 11.839844 10.378906 11.839844 C 10.386719 11.839844 10.355469 11.929688 10.304688 12.035156 C 9.832031 13.09375 9.257812 14.820312 8.96875 16.078125 C 7.914062 20.652344 8.617188 24.53125 11.070312 27.660156 C 11.351562 28.015625 11.363281 27.914062 10.972656 28.382812 C 8.925781 30.84375 7.945312 33.28125 8.238281 35.1875 C 8.289062 35.527344 8.28125 35.523438 8.917969 35.523438 C 10.941406 35.523438 13.074219 34.207031 15.136719 31.6875 C 15.359375 31.417969 15.328125 31.425781 15.5625 31.574219 C 16.292969 32.042969 18.023438 32.964844 18.175781 32.964844 C 18.335938 32.964844 19.941406 32.210938 20.828125 31.71875 C 20.996094 31.625 21.136719 31.554688 21.136719 31.558594 C 21.203125 31.664062 21.898438 32.414062 22.222656 32.730469 C 23.835938 34.300781 25.5625 35.132812 27.582031 35.300781 C 27.90625 35.328125 27.9375 35.308594 28.007812 34.984375 C 28.382812 33.242188 27.625 30.925781 25.863281 28.425781 L 25.542969 27.96875 L 25.699219 27.785156 C 28.945312 23.960938 29.132812 18.699219 26.257812 11.96875 L 26.207031 11.84375 L 27.945312 12.703125 C 31.53125 14.476562 32.316406 14.800781 33.03125 14.800781 C 33.976562 14.800781 33.78125 13.9375 32.472656 12.292969 C 28.519531 7.355469 25.394531 5.925781 21.921875 7.472656 L 21.558594 7.636719 L 21.578125 7.542969 C 21.699219 6.992188 21.761719 5.742188 21.699219 5.164062 C 21.496094 3.296875 20.664062 1.964844 19.003906 0.855469 C 18.480469 0.503906 18.457031 0.5 18.214844 0.632812\"/>\n",
              "</g>\n",
              "      </svg>\n",
              "    "
            ],
            "text/plain": [
              "<IPython.core.display.HTML object>"
            ]
          },
          "metadata": {},
          "output_type": "display_data"
        }
      ],
      "source": [
        "# affichage des sommets visités\n",
        "showChemin(labyrinthe,chemin,50,4,8)"
      ]
    },
    {
      "cell_type": "markdown",
      "metadata": {
        "id": "pUWsd6nthbfU"
      },
      "source": [
        "BIen !!\n",
        "\n",
        "Mais bon, puisqu'on entre en (1,1) et que la sortie est en (4,8), autant s'arrêter dès qu'on a trouvé la sortie....\n",
        "\n",
        "Recopie le code précédent et modifie le pour qu'il s'arrête à la sortie..."
      ]
    },
    {
      "cell_type": "code",
      "execution_count": 33,
      "metadata": {
        "id": "s_lHtLfJbbcR"
      },
      "outputs": [
        {
          "name": "stdout",
          "output_type": "stream",
          "text": [
            "[((1, 1), (2, 1)), ((2, 1), (2, 2)), ((2, 2), (3, 2)), ((3, 2), (4, 2)), ((4, 2), (4, 3)), ((4, 3), (4, 4)), ((4, 4), (2, 3)), ((2, 3), (1, 3)), ((1, 3), (1, 4)), ((1, 4), (2, 4)), ((2, 4), (3, 4)), ((3, 4), (3, 5)), ((3, 5), (3, 6)), ((3, 6), (3, 7)), ((3, 7), (4, 7))]\n"
          ]
        }
      ],
      "source": [
        "# chemin\n",
        "def CHEM(start : str, exit: str) -> list  :\n",
        "   vus = []\n",
        "   aVoir = []\n",
        "   chemin = []\n",
        "   parent = start\n",
        "            \n",
        "   vus.append(start)\n",
        "   for voisin in lab[start]:\n",
        "      aVoir.append(voisin)\n",
        "      \n",
        "   while aVoir != []:\n",
        "      next = aVoir.pop()\n",
        "      if next == exit:\n",
        "        return chemin\n",
        "      vus.append(next)\n",
        "      chemin.append((parent, next))\n",
        "      parent = next\n",
        "      for voisin in lab[next]:\n",
        "         if voisin not in vus and voisin not in aVoir:\n",
        "            aVoir.append(voisin)\n",
        "         \n",
        "   return chemin\n",
        "\n",
        "chemin = CHEM((1,1), (4,8))\n",
        "print(chemin)"
      ]
    },
    {
      "cell_type": "code",
      "execution_count": 34,
      "metadata": {
        "id": "xuVXd-ww5qPW"
      },
      "outputs": [
        {
          "ename": "AssertionError",
          "evalue": "",
          "output_type": "error",
          "traceback": [
            "\u001b[1;31m---------------------------------------------------------------------------\u001b[0m",
            "\u001b[1;31mAssertionError\u001b[0m                            Traceback (most recent call last)",
            "\u001b[1;32mecnivtwelve\\cours_nsi\\Graphes\\TP2_sujet(1).ipynb Cell 28\u001b[0m line \u001b[0;36m2\n\u001b[0;32m      <a href='vscode-notebook-cell://github/ecnivtwelve/cours_nsi/Graphes/TP2_sujet%281%29.ipynb#X36sdnNjb2RlLXZmcw%3D%3D?line=0'>1</a>\u001b[0m \u001b[39m# vérification\u001b[39;00m\n\u001b[1;32m----> <a href='vscode-notebook-cell://github/ecnivtwelve/cours_nsi/Graphes/TP2_sujet%281%29.ipynb#X36sdnNjb2RlLXZmcw%3D%3D?line=1'>2</a>\u001b[0m \u001b[39massert\u001b[39;00m chemin \u001b[39m==\u001b[39m [((\u001b[39m1\u001b[39m, \u001b[39m1\u001b[39m), (\u001b[39m2\u001b[39m, \u001b[39m1\u001b[39m)), ((\u001b[39m2\u001b[39m, \u001b[39m1\u001b[39m), (\u001b[39m2\u001b[39m, \u001b[39m2\u001b[39m)), ((\u001b[39m2\u001b[39m, \u001b[39m2\u001b[39m), (\u001b[39m3\u001b[39m, \u001b[39m2\u001b[39m)), ((\u001b[39m3\u001b[39m, \u001b[39m2\u001b[39m), (\u001b[39m4\u001b[39m, \u001b[39m2\u001b[39m)), ((\u001b[39m4\u001b[39m, \u001b[39m2\u001b[39m), (\u001b[39m4\u001b[39m, \u001b[39m3\u001b[39m)), ((\u001b[39m4\u001b[39m, \u001b[39m3\u001b[39m), (\u001b[39m4\u001b[39m, \u001b[39m4\u001b[39m)), ((\u001b[39m2\u001b[39m, \u001b[39m2\u001b[39m), (\u001b[39m2\u001b[39m, \u001b[39m3\u001b[39m)), ((\u001b[39m2\u001b[39m, \u001b[39m3\u001b[39m), (\u001b[39m1\u001b[39m, \u001b[39m3\u001b[39m)), ((\u001b[39m1\u001b[39m, \u001b[39m3\u001b[39m), (\u001b[39m1\u001b[39m, \u001b[39m4\u001b[39m)), ((\u001b[39m1\u001b[39m, \u001b[39m4\u001b[39m), (\u001b[39m2\u001b[39m, \u001b[39m4\u001b[39m)), ((\u001b[39m2\u001b[39m, \u001b[39m4\u001b[39m), (\u001b[39m3\u001b[39m, \u001b[39m4\u001b[39m)), ((\u001b[39m3\u001b[39m, \u001b[39m4\u001b[39m), (\u001b[39m3\u001b[39m, \u001b[39m5\u001b[39m)), ((\u001b[39m3\u001b[39m, \u001b[39m5\u001b[39m), (\u001b[39m3\u001b[39m, \u001b[39m6\u001b[39m)), ((\u001b[39m3\u001b[39m, \u001b[39m6\u001b[39m), (\u001b[39m3\u001b[39m, \u001b[39m7\u001b[39m)), ((\u001b[39m3\u001b[39m, \u001b[39m7\u001b[39m), (\u001b[39m4\u001b[39m, \u001b[39m7\u001b[39m)), ((\u001b[39m4\u001b[39m, \u001b[39m7\u001b[39m), (\u001b[39m4\u001b[39m, \u001b[39m8\u001b[39m))]\n",
            "\u001b[1;31mAssertionError\u001b[0m: "
          ]
        }
      ],
      "source": [
        "# vérification\n",
        "assert chemin == [((1, 1), (2, 1)), ((2, 1), (2, 2)), ((2, 2), (3, 2)), ((3, 2), (4, 2)), ((4, 2), (4, 3)), ((4, 3), (4, 4)), ((2, 2), (2, 3)), ((2, 3), (1, 3)), ((1, 3), (1, 4)), ((1, 4), (2, 4)), ((2, 4), (3, 4)), ((3, 4), (3, 5)), ((3, 5), (3, 6)), ((3, 6), (3, 7)), ((3, 7), (4, 7)), ((4, 7), (4, 8))]\n"
      ]
    },
    {
      "cell_type": "code",
      "execution_count": 35,
      "metadata": {
        "id": "tKuFDAhIh0lF"
      },
      "outputs": [
        {
          "data": {
            "text/html": [
              "\n",
              "      <svg width=\"800\" height=\"500\">\n",
              "        <rect width=\"100%\" height=\"100%\" fill=\"black\"/>\n",
              "        <line x1=\"10\" y1=\"10\" x2=\"60.0\" y2=\"10.0\" stroke-linecap=\"round\" style=\"stroke:white;stroke-width:4\"/><line x1=\"60.0\" y1=\"10.0\" x2=\"110.0\" y2=\"10.0\" stroke-linecap=\"round\" style=\"stroke:white;stroke-width:4\"/><line x1=\"110.0\" y1=\"10.0\" x2=\"160.0\" y2=\"10.0\" stroke-linecap=\"round\" style=\"stroke:white;stroke-width:4\"/><line x1=\"160.0\" y1=\"10.0\" x2=\"210.0\" y2=\"10.0\" stroke-linecap=\"round\" style=\"stroke:white;stroke-width:4\"/><line x1=\"210.0\" y1=\"10.0\" x2=\"260.0\" y2=\"10.0\" stroke-linecap=\"round\" style=\"stroke:white;stroke-width:4\"/><line x1=\"260.0\" y1=\"10.0\" x2=\"310.0\" y2=\"10.0\" stroke-linecap=\"round\" style=\"stroke:white;stroke-width:4\"/><line x1=\"310.0\" y1=\"10.0\" x2=\"360.0\" y2=\"10.0\" stroke-linecap=\"round\" style=\"stroke:white;stroke-width:4\"/><line x1=\"360.0\" y1=\"10.0\" x2=\"410.0\" y2=\"10.0\" stroke-linecap=\"round\" style=\"stroke:white;stroke-width:4\"/><line x1=\"410.0\" y1=\"10.0\" x2=\"410.0\" y2=\"60.0\" stroke-linecap=\"round\" style=\"stroke:white;stroke-width:4\"/><line x1=\"410.0\" y1=\"60.0\" x2=\"410.0\" y2=\"110.0\" stroke-linecap=\"round\" style=\"stroke:white;stroke-width:4\"/><line x1=\"410.0\" y1=\"110.0\" x2=\"410.0\" y2=\"160.0\" stroke-linecap=\"round\" style=\"stroke:white;stroke-width:4\"/><line x1=\"410.0\" y1=\"160.0\" x2=\"410.0\" y2=\"210.0\" stroke-linecap=\"round\" style=\"stroke:white;stroke-width:4\"/><line x1=\"410.0\" y1=\"210.0\" x2=\"360.0\" y2=\"210.0\" stroke-linecap=\"round\" style=\"stroke:white;stroke-width:4\"/><line x1=\"360.0\" y1=\"210.0\" x2=\"310.0\" y2=\"210.0\" stroke-linecap=\"round\" style=\"stroke:white;stroke-width:4\"/><line x1=\"310.0\" y1=\"210.0\" x2=\"260.0\" y2=\"210.0\" stroke-linecap=\"round\" style=\"stroke:white;stroke-width:4\"/><line x1=\"260.0\" y1=\"210.0\" x2=\"210.0\" y2=\"210.0\" stroke-linecap=\"round\" style=\"stroke:white;stroke-width:4\"/><line x1=\"210.0\" y1=\"210.0\" x2=\"160.0\" y2=\"210.0\" stroke-linecap=\"round\" style=\"stroke:white;stroke-width:4\"/><line x1=\"160.0\" y1=\"210.0\" x2=\"110.0\" y2=\"210.0\" stroke-linecap=\"round\" style=\"stroke:white;stroke-width:4\"/><line x1=\"110.0\" y1=\"210.0\" x2=\"60.0\" y2=\"210.0\" stroke-linecap=\"round\" style=\"stroke:white;stroke-width:4\"/><line x1=\"60.0\" y1=\"210.0\" x2=\"10.0\" y2=\"210.0\" stroke-linecap=\"round\" style=\"stroke:white;stroke-width:4\"/><line x1=\"10.0\" y1=\"210.0\" x2=\"10.0\" y2=\"160.0\" stroke-linecap=\"round\" style=\"stroke:white;stroke-width:4\"/><line x1=\"10.0\" y1=\"160.0\" x2=\"10.0\" y2=\"110.0\" stroke-linecap=\"round\" style=\"stroke:white;stroke-width:4\"/><line x1=\"10.0\" y1=\"110.0\" x2=\"10.0\" y2=\"60.0\" stroke-linecap=\"round\" style=\"stroke:white;stroke-width:4\"/><line x1=\"10.0\" y1=\"60.0\" x2=\"10.0\" y2=\"10.0\" stroke-linecap=\"round\" style=\"stroke:white;stroke-width:4\"/><line x1=\"60.0\" y1=\"10.0\" x2=\"60.0\" y2=\"60.0\" stroke-linecap=\"round\" style=\"stroke:white;stroke-width:4\"/><line x1=\"60.0\" y1=\"60.0\" x2=\"60.0\" y2=\"10.0\" stroke-linecap=\"round\" style=\"stroke:white;stroke-width:4\"/><line x1=\"110.0\" y1=\"10.0\" x2=\"110.0\" y2=\"60.0\" stroke-linecap=\"round\" style=\"stroke:white;stroke-width:4\"/><line x1=\"110.0\" y1=\"60.0\" x2=\"110.0\" y2=\"10.0\" stroke-linecap=\"round\" style=\"stroke:white;stroke-width:4\"/><line x1=\"260.0\" y1=\"10.0\" x2=\"260.0\" y2=\"60.0\" stroke-linecap=\"round\" style=\"stroke:white;stroke-width:4\"/><line x1=\"260.0\" y1=\"60.0\" x2=\"260.0\" y2=\"10.0\" stroke-linecap=\"round\" style=\"stroke:white;stroke-width:4\"/><line x1=\"160.0\" y1=\"60.0\" x2=\"160.0\" y2=\"110.0\" stroke-linecap=\"round\" style=\"stroke:white;stroke-width:4\"/><line x1=\"160.0\" y1=\"110.0\" x2=\"160.0\" y2=\"60.0\" stroke-linecap=\"round\" style=\"stroke:white;stroke-width:4\"/><line x1=\"210.0\" y1=\"60.0\" x2=\"210.0\" y2=\"110.0\" stroke-linecap=\"round\" style=\"stroke:white;stroke-width:4\"/><line x1=\"210.0\" y1=\"110.0\" x2=\"210.0\" y2=\"60.0\" stroke-linecap=\"round\" style=\"stroke:white;stroke-width:4\"/><line x1=\"360.0\" y1=\"60.0\" x2=\"360.0\" y2=\"110.0\" stroke-linecap=\"round\" style=\"stroke:white;stroke-width:4\"/><line x1=\"360.0\" y1=\"110.0\" x2=\"360.0\" y2=\"60.0\" stroke-linecap=\"round\" style=\"stroke:white;stroke-width:4\"/><line x1=\"60.0\" y1=\"110.0\" x2=\"60.0\" y2=\"160.0\" stroke-linecap=\"round\" style=\"stroke:white;stroke-width:4\"/><line x1=\"60.0\" y1=\"160.0\" x2=\"60.0\" y2=\"110.0\" stroke-linecap=\"round\" style=\"stroke:white;stroke-width:4\"/><line x1=\"110.0\" y1=\"110.0\" x2=\"110.0\" y2=\"160.0\" stroke-linecap=\"round\" style=\"stroke:white;stroke-width:4\"/><line x1=\"110.0\" y1=\"160.0\" x2=\"110.0\" y2=\"110.0\" stroke-linecap=\"round\" style=\"stroke:white;stroke-width:4\"/><line x1=\"160.0\" y1=\"110.0\" x2=\"160.0\" y2=\"160.0\" stroke-linecap=\"round\" style=\"stroke:white;stroke-width:4\"/><line x1=\"160.0\" y1=\"160.0\" x2=\"160.0\" y2=\"110.0\" stroke-linecap=\"round\" style=\"stroke:white;stroke-width:4\"/><line x1=\"360.0\" y1=\"110.0\" x2=\"360.0\" y2=\"160.0\" stroke-linecap=\"round\" style=\"stroke:white;stroke-width:4\"/><line x1=\"360.0\" y1=\"160.0\" x2=\"360.0\" y2=\"110.0\" stroke-linecap=\"round\" style=\"stroke:white;stroke-width:4\"/><line x1=\"60.0\" y1=\"160.0\" x2=\"60.0\" y2=\"210.0\" stroke-linecap=\"round\" style=\"stroke:white;stroke-width:4\"/><line x1=\"60.0\" y1=\"210.0\" x2=\"60.0\" y2=\"160.0\" stroke-linecap=\"round\" style=\"stroke:white;stroke-width:4\"/><line x1=\"210.0\" y1=\"160.0\" x2=\"210.0\" y2=\"210.0\" stroke-linecap=\"round\" style=\"stroke:white;stroke-width:4\"/><line x1=\"210.0\" y1=\"210.0\" x2=\"210.0\" y2=\"160.0\" stroke-linecap=\"round\" style=\"stroke:white;stroke-width:4\"/><line x1=\"310.0\" y1=\"160.0\" x2=\"310.0\" y2=\"210.0\" stroke-linecap=\"round\" style=\"stroke:white;stroke-width:4\"/><line x1=\"310.0\" y1=\"210.0\" x2=\"310.0\" y2=\"160.0\" stroke-linecap=\"round\" style=\"stroke:white;stroke-width:4\"/><line x1=\"60.0\" y1=\"60.0\" x2=\"110.0\" y2=\"60.0\" stroke-linecap=\"round\" style=\"stroke:white;stroke-width:4\"/><line x1=\"310.0\" y1=\"60.0\" x2=\"360.0\" y2=\"60.0\" stroke-linecap=\"round\" style=\"stroke:white;stroke-width:4\"/><line x1=\"10\" y1=\"110\" x2=\"60.0\" y2=\"110.0\" stroke-linecap=\"round\" style=\"stroke:white;stroke-width:4\"/><line x1=\"110.0\" y1=\"110.0\" x2=\"160.0\" y2=\"110.0\" stroke-linecap=\"round\" style=\"stroke:white;stroke-width:4\"/><line x1=\"210.0\" y1=\"110.0\" x2=\"260.0\" y2=\"110.0\" stroke-linecap=\"round\" style=\"stroke:white;stroke-width:4\"/><line x1=\"10\" y1=\"160\" x2=\"60.0\" y2=\"160.0\" stroke-linecap=\"round\" style=\"stroke:white;stroke-width:4\"/><line x1=\"110.0\" y1=\"160.0\" x2=\"160.0\" y2=\"160.0\" stroke-linecap=\"round\" style=\"stroke:white;stroke-width:4\"/><line x1=\"160.0\" y1=\"160.0\" x2=\"210.0\" y2=\"160.0\" stroke-linecap=\"round\" style=\"stroke:white;stroke-width:4\"/><line x1=\"210.0\" y1=\"160.0\" x2=\"260.0\" y2=\"160.0\" stroke-linecap=\"round\" style=\"stroke:white;stroke-width:4\"/><line x1=\"25\" y1=\"30\" x2=\"26.0\" y2=\"30.0\" stroke-linecap=\"round\" style=\"stroke:red;stroke-width:7\"/><line x1=\"25.0\" y1=\"30.0\" x2=\"25\" y2=\"80\" stroke-linecap=\"round\" style=\"stroke:red;stroke-width:1\"/><line x1=\"25\" y1=\"80\" x2=\"26.0\" y2=\"80.0\" stroke-linecap=\"round\" style=\"stroke:red;stroke-width:5\"/><line x1=\"25\" y1=\"80\" x2=\"26.0\" y2=\"80.0\" stroke-linecap=\"round\" style=\"stroke:red;stroke-width:7\"/><line x1=\"25.0\" y1=\"80.0\" x2=\"75\" y2=\"80\" stroke-linecap=\"round\" style=\"stroke:red;stroke-width:1\"/><line x1=\"75\" y1=\"80\" x2=\"76.0\" y2=\"80.0\" stroke-linecap=\"round\" style=\"stroke:red;stroke-width:5\"/><line x1=\"75\" y1=\"80\" x2=\"76.0\" y2=\"80.0\" stroke-linecap=\"round\" style=\"stroke:red;stroke-width:7\"/><line x1=\"75.0\" y1=\"80.0\" x2=\"75\" y2=\"130\" stroke-linecap=\"round\" style=\"stroke:red;stroke-width:1\"/><line x1=\"75\" y1=\"130\" x2=\"76.0\" y2=\"130.0\" stroke-linecap=\"round\" style=\"stroke:red;stroke-width:5\"/><line x1=\"75\" y1=\"130\" x2=\"76.0\" y2=\"130.0\" stroke-linecap=\"round\" style=\"stroke:red;stroke-width:7\"/><line x1=\"75.0\" y1=\"130.0\" x2=\"75\" y2=\"180\" stroke-linecap=\"round\" style=\"stroke:red;stroke-width:1\"/><line x1=\"75\" y1=\"180\" x2=\"76.0\" y2=\"180.0\" stroke-linecap=\"round\" style=\"stroke:red;stroke-width:5\"/><line x1=\"75\" y1=\"180\" x2=\"76.0\" y2=\"180.0\" stroke-linecap=\"round\" style=\"stroke:red;stroke-width:7\"/><line x1=\"75.0\" y1=\"180.0\" x2=\"125\" y2=\"180\" stroke-linecap=\"round\" style=\"stroke:red;stroke-width:1\"/><line x1=\"125\" y1=\"180\" x2=\"126.0\" y2=\"180.0\" stroke-linecap=\"round\" style=\"stroke:red;stroke-width:5\"/><line x1=\"125\" y1=\"180\" x2=\"126.0\" y2=\"180.0\" stroke-linecap=\"round\" style=\"stroke:red;stroke-width:7\"/><line x1=\"125.0\" y1=\"180.0\" x2=\"175\" y2=\"180\" stroke-linecap=\"round\" style=\"stroke:red;stroke-width:1\"/><line x1=\"175\" y1=\"180\" x2=\"176.0\" y2=\"180.0\" stroke-linecap=\"round\" style=\"stroke:red;stroke-width:5\"/><line x1=\"175\" y1=\"180\" x2=\"176.0\" y2=\"180.0\" stroke-linecap=\"round\" style=\"stroke:red;stroke-width:7\"/><line x1=\"175.0\" y1=\"180.0\" x2=\"125\" y2=\"80\" stroke-linecap=\"round\" style=\"stroke:red;stroke-width:1\"/><line x1=\"125\" y1=\"80\" x2=\"126.0\" y2=\"80.0\" stroke-linecap=\"round\" style=\"stroke:red;stroke-width:5\"/><line x1=\"125\" y1=\"80\" x2=\"126.0\" y2=\"80.0\" stroke-linecap=\"round\" style=\"stroke:red;stroke-width:7\"/><line x1=\"125.0\" y1=\"80.0\" x2=\"125\" y2=\"30\" stroke-linecap=\"round\" style=\"stroke:red;stroke-width:1\"/><line x1=\"125\" y1=\"30\" x2=\"126.0\" y2=\"30.0\" stroke-linecap=\"round\" style=\"stroke:red;stroke-width:5\"/><line x1=\"125\" y1=\"30\" x2=\"126.0\" y2=\"30.0\" stroke-linecap=\"round\" style=\"stroke:red;stroke-width:7\"/><line x1=\"125.0\" y1=\"30.0\" x2=\"175\" y2=\"30\" stroke-linecap=\"round\" style=\"stroke:red;stroke-width:1\"/><line x1=\"175\" y1=\"30\" x2=\"176.0\" y2=\"30.0\" stroke-linecap=\"round\" style=\"stroke:red;stroke-width:5\"/><line x1=\"175\" y1=\"30\" x2=\"176.0\" y2=\"30.0\" stroke-linecap=\"round\" style=\"stroke:red;stroke-width:7\"/><line x1=\"175.0\" y1=\"30.0\" x2=\"175\" y2=\"80\" stroke-linecap=\"round\" style=\"stroke:red;stroke-width:1\"/><line x1=\"175\" y1=\"80\" x2=\"176.0\" y2=\"80.0\" stroke-linecap=\"round\" style=\"stroke:red;stroke-width:5\"/><line x1=\"175\" y1=\"80\" x2=\"176.0\" y2=\"80.0\" stroke-linecap=\"round\" style=\"stroke:red;stroke-width:7\"/><line x1=\"175.0\" y1=\"80.0\" x2=\"175\" y2=\"130\" stroke-linecap=\"round\" style=\"stroke:red;stroke-width:1\"/><line x1=\"175\" y1=\"130\" x2=\"176.0\" y2=\"130.0\" stroke-linecap=\"round\" style=\"stroke:red;stroke-width:5\"/><line x1=\"175\" y1=\"130\" x2=\"176.0\" y2=\"130.0\" stroke-linecap=\"round\" style=\"stroke:red;stroke-width:7\"/><line x1=\"175.0\" y1=\"130.0\" x2=\"225\" y2=\"130\" stroke-linecap=\"round\" style=\"stroke:red;stroke-width:1\"/><line x1=\"225\" y1=\"130\" x2=\"226.0\" y2=\"130.0\" stroke-linecap=\"round\" style=\"stroke:red;stroke-width:5\"/><line x1=\"225\" y1=\"130\" x2=\"226.0\" y2=\"130.0\" stroke-linecap=\"round\" style=\"stroke:red;stroke-width:7\"/><line x1=\"225.0\" y1=\"130.0\" x2=\"275\" y2=\"130\" stroke-linecap=\"round\" style=\"stroke:red;stroke-width:1\"/><line x1=\"275\" y1=\"130\" x2=\"276.0\" y2=\"130.0\" stroke-linecap=\"round\" style=\"stroke:red;stroke-width:5\"/><line x1=\"275\" y1=\"130\" x2=\"276.0\" y2=\"130.0\" stroke-linecap=\"round\" style=\"stroke:red;stroke-width:7\"/><line x1=\"275.0\" y1=\"130.0\" x2=\"325\" y2=\"130\" stroke-linecap=\"round\" style=\"stroke:red;stroke-width:1\"/><line x1=\"325\" y1=\"130\" x2=\"326.0\" y2=\"130.0\" stroke-linecap=\"round\" style=\"stroke:red;stroke-width:5\"/><line x1=\"325\" y1=\"130\" x2=\"326.0\" y2=\"130.0\" stroke-linecap=\"round\" style=\"stroke:red;stroke-width:7\"/><line x1=\"325.0\" y1=\"130.0\" x2=\"325\" y2=\"180\" stroke-linecap=\"round\" style=\"stroke:red;stroke-width:1\"/><line x1=\"325\" y1=\"180\" x2=\"326.0\" y2=\"180.0\" stroke-linecap=\"round\" style=\"stroke:red;stroke-width:5\"/>\n",
              "        <g visibility=visible transform=\"rotate(90,325.0,180.0) translate(307.0, 162.0)\">\n",
              "<path style=\" stroke:none;fill-rule:evenodd;fill:red;fill-opacity:1;\" d=\"M 18.214844 0.632812 C 16.109375 1.800781 15.011719 4.074219 15.074219 7.132812 L 15.085938 7.652344 L 14.785156 7.496094 C 13.476562 6.824219 11.957031 6.671875 10.40625 7.066406 C 8.46875 7.550781 6.515625 9.15625 4.394531 11.992188 C 3.0625 13.777344 2.679688 14.636719 3.042969 15.027344 L 3.15625 15.152344 L 3.519531 15.152344 C 4.238281 15.152344 4.828125 14.886719 8.1875 13.039062 C 9.386719 12.378906 10.371094 11.839844 10.378906 11.839844 C 10.386719 11.839844 10.355469 11.929688 10.304688 12.035156 C 9.832031 13.09375 9.257812 14.820312 8.96875 16.078125 C 7.914062 20.652344 8.617188 24.53125 11.070312 27.660156 C 11.351562 28.015625 11.363281 27.914062 10.972656 28.382812 C 8.925781 30.84375 7.945312 33.28125 8.238281 35.1875 C 8.289062 35.527344 8.28125 35.523438 8.917969 35.523438 C 10.941406 35.523438 13.074219 34.207031 15.136719 31.6875 C 15.359375 31.417969 15.328125 31.425781 15.5625 31.574219 C 16.292969 32.042969 18.023438 32.964844 18.175781 32.964844 C 18.335938 32.964844 19.941406 32.210938 20.828125 31.71875 C 20.996094 31.625 21.136719 31.554688 21.136719 31.558594 C 21.203125 31.664062 21.898438 32.414062 22.222656 32.730469 C 23.835938 34.300781 25.5625 35.132812 27.582031 35.300781 C 27.90625 35.328125 27.9375 35.308594 28.007812 34.984375 C 28.382812 33.242188 27.625 30.925781 25.863281 28.425781 L 25.542969 27.96875 L 25.699219 27.785156 C 28.945312 23.960938 29.132812 18.699219 26.257812 11.96875 L 26.207031 11.84375 L 27.945312 12.703125 C 31.53125 14.476562 32.316406 14.800781 33.03125 14.800781 C 33.976562 14.800781 33.78125 13.9375 32.472656 12.292969 C 28.519531 7.355469 25.394531 5.925781 21.921875 7.472656 L 21.558594 7.636719 L 21.578125 7.542969 C 21.699219 6.992188 21.761719 5.742188 21.699219 5.164062 C 21.496094 3.296875 20.664062 1.964844 19.003906 0.855469 C 18.480469 0.503906 18.457031 0.5 18.214844 0.632812\"/>\n",
              "</g>\n",
              "      </svg>\n",
              "    "
            ],
            "text/plain": [
              "<IPython.core.display.HTML object>"
            ]
          },
          "metadata": {},
          "output_type": "display_data"
        }
      ],
      "source": [
        "# affichage des sommets visités\n",
        "showChemin(labyrinthe,chemin,50,4,8)"
      ]
    },
    {
      "cell_type": "markdown",
      "metadata": {
        "id": "uh6hmljoaaa9"
      },
      "source": [
        "---\n",
        "\n",
        "---\n",
        "\n",
        "# License\n",
        "Ce document est publié sous license  [creative commons CC BY NC SA](https://https://creativecommons.org/licenses/by-nc-sa/4.0/)\n",
        "\n",
        "auteur : Jean-Louis THIROT - Lycée Bertrand d'Argentré - Vitré"
      ]
    }
  ],
  "metadata": {
    "colab": {
      "collapsed_sections": [],
      "name": "TP2 sujet.ipynb",
      "provenance": []
    },
    "kernelspec": {
      "display_name": "Python 3",
      "language": "python",
      "name": "python3"
    },
    "language_info": {
      "codemirror_mode": {
        "name": "ipython",
        "version": 3
      },
      "file_extension": ".py",
      "mimetype": "text/x-python",
      "name": "python",
      "nbconvert_exporter": "python",
      "pygments_lexer": "ipython3",
      "version": "3.9.5"
    }
  },
  "nbformat": 4,
  "nbformat_minor": 0
}
