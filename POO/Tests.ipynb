{
 "cells": [
  {
   "cell_type": "code",
   "execution_count": 6,
   "metadata": {},
   "outputs": [
    {
     "name": "stdout",
     "output_type": "stream",
     "text": [
      "0\n",
      "5\n",
      "10\n"
     ]
    }
   ],
   "source": [
    "class TableMultiplication:\n",
    "  def __init__(self, ent):\n",
    "    self.ent = ent\n",
    "    self.current = -1\n",
    "  def prochain(self):\n",
    "    self.current += 1\n",
    "    return self.ent * self.current\n",
    "\n",
    "cinq = TableMultiplication(5)\n",
    "print(cinq.prochain())\n",
    "print(cinq.prochain())\n",
    "print(cinq.prochain())"
   ]
  }
 ],
 "metadata": {
  "kernelspec": {
   "display_name": "Python 3",
   "language": "python",
   "name": "python3"
  },
  "language_info": {
   "codemirror_mode": {
    "name": "ipython",
    "version": 3
   },
   "file_extension": ".py",
   "mimetype": "text/x-python",
   "name": "python",
   "nbconvert_exporter": "python",
   "pygments_lexer": "ipython3",
   "version": "3.9.5"
  },
  "orig_nbformat": 4
 },
 "nbformat": 4,
 "nbformat_minor": 2
}
